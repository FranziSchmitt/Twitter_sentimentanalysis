{
 "cells": [
  {
   "cell_type": "code",
   "execution_count": 1,
   "metadata": {
    "collapsed": true
   },
   "outputs": [],
   "source": [
    "%load_ext autoreload\n",
    "%autoreload 2"
   ]
  },
  {
   "cell_type": "code",
   "execution_count": 3,
   "metadata": {
    "collapsed": true
   },
   "outputs": [],
   "source": [
    "## import pandas as pd\n",
    "import numpy as np\n",
    "\n",
    "import matplotlib.pyplot as plt\n",
    "%matplotlib inline\n",
    "import seaborn as sns\n",
    "sns.set()\n",
    "\n",
    "import os\n",
    "import json\n",
    "import pickle\n",
    "\n",
    "import re\n",
    "from collections import Counter\n",
    "\n",
    "# custom imports\n",
    "from data_handling import load_data, collapse_dfs, load_large\n",
    "from text_preprocessing import df_processing, party_remover"
   ]
  },
  {
   "cell_type": "code",
   "execution_count": 4,
   "metadata": {
    "collapsed": true
   },
   "outputs": [],
   "source": [
    "# pd.set_option(\"display.max_colwidth\", -1)\n",
    "pd.set_option(\"display.max_columns\", 20)"
   ]
  },
  {
   "cell_type": "code",
   "execution_count": 7,
   "metadata": {},
   "outputs": [
    {
     "name": "stderr",
     "output_type": "stream",
     "text": [
      "\r",
      "  0%|          | 0/3 [00:00<?, ?it/s]"
     ]
    },
    {
     "name": "stdout",
     "output_type": "stream",
     "text": [
      "Loading: ['08-02', '08-03', '08-04']\n"
     ]
    },
    {
     "name": "stderr",
     "output_type": "stream",
     "text": [
      "\r",
      " 33%|███▎      | 1/3 [00:10<00:20, 10.00s/it]\r",
      " 67%|██████▋   | 2/3 [00:18<00:09,  9.40s/it]\r",
      "100%|██████████| 3/3 [00:25<00:00,  8.64s/it]\n",
      "\r",
      "  0%|          | 0/3 [00:00<?, ?it/s]\r",
      " 33%|███▎      | 1/3 [00:03<00:07,  3.79s/it]\r",
      " 67%|██████▋   | 2/3 [00:08<00:04,  4.03s/it]\r",
      "100%|██████████| 3/3 [00:10<00:00,  3.60s/it]\n",
      "\r",
      "  0%|          | 0/3 [00:00<?, ?it/s]\r",
      " 33%|███▎      | 1/3 [00:01<00:02,  1.35s/it]\r",
      " 67%|██████▋   | 2/3 [00:03<00:01,  1.81s/it]\r",
      "100%|██████████| 3/3 [00:06<00:00,  2.13s/it]\n",
      "\r",
      "  0%|          | 0/3 [00:00<?, ?it/s]\r",
      " 33%|███▎      | 1/3 [00:01<00:03,  1.81s/it]\r",
      " 67%|██████▋   | 2/3 [00:04<00:02,  2.16s/it]\r",
      "100%|██████████| 3/3 [00:06<00:00,  2.16s/it]\n",
      "\r",
      "  0%|          | 0/3 [00:00<?, ?it/s]\r",
      " 33%|███▎      | 1/3 [00:11<00:22, 11.41s/it]\r",
      " 67%|██████▋   | 2/3 [00:20<00:10, 10.07s/it]\r",
      "100%|██████████| 3/3 [00:30<00:00, 10.31s/it]\n",
      "\r",
      "  0%|          | 0/3 [00:00<?, ?it/s]\r",
      " 33%|███▎      | 1/3 [00:02<00:04,  2.18s/it]\r",
      " 67%|██████▋   | 2/3 [00:04<00:02,  2.23s/it]\r",
      "100%|██████████| 3/3 [00:06<00:00,  2.17s/it]\n",
      "\r",
      "  0%|          | 0/3 [00:00<?, ?it/s]\r",
      " 33%|███▎      | 1/3 [00:00<00:01,  1.20it/s]\r",
      " 67%|██████▋   | 2/3 [00:02<00:01,  1.16s/it]\r",
      "100%|██████████| 3/3 [00:03<00:00,  1.33s/it]\n",
      "\r",
      "  0%|          | 0/3 [00:00<?, ?it/s]\r",
      " 33%|███▎      | 1/3 [00:00<00:01,  1.18it/s]\r",
      " 67%|██████▋   | 2/3 [00:02<00:01,  1.32s/it]\r",
      "100%|██████████| 3/3 [00:04<00:00,  1.40s/it]\n"
     ]
    }
   ],
   "source": [
    "read_in True\n",
    "# path = '/home/franzi/Git-DSR/Twitter_sentimentanalysis/Data/large_data.pickle'\n",
    "parties = ['AfD', 'SPD', 'CDU', 'CSU', 'FDP', 'LINKE', 'Gruene', 'Grüne']\n",
    "dates = ['08-{:02d}'.format(i) for i in range(2,5)]\n",
    "\n",
    "data = pd.DataFrame()\n",
    "print('Loading: {}'.format(dates))\n",
    "for party in parties:\n",
    "    load_list = ['../Data/{}/{}_2018-{}.json'.format(party, party, day) for day in dates]\n",
    "    data = load_large(load_list)"
   ]
  },
  {
   "cell_type": "code",
   "execution_count": 50,
   "metadata": {},
   "outputs": [
    {
     "data": {
      "text/plain": [
       "created_at\n",
       "2018-08-02 00:00:38    {'id': 21577947, 'id_str': '21577947', 'name': 'Lars', 'screen_name': 'Bildrauschen', 'location': 'Mayen-Koblenz, Rheinland-Pfalz', 'description': 'Arbeitet beruflich. Lebt privat. Quality since 1987.', 'url': None, 'entities': {'description': {'urls': []}}, 'protected': False, 'followers_count': 779, 'friends_count': 232, 'listed_count': 77, 'created_at': 'Sun Feb 22 16:56:24 +0000 2009', 'favourites_count': 4604, 'utc_offset': None, 'time_zone': None, 'geo_enabled': True, 'verified': False, 'statuses_count': 36256, 'lang': 'de', 'contributors_enabled': False, 'is_translator': False, 'is_translation_enabled': False, 'profile_background_color': 'FCFFFF', 'profile_background_image_url': 'http://abs.twimg.com/images/themes/theme4/bg.gif', 'profile_background_image_url_https': 'https://abs.twimg.com/images/themes/theme4/bg.gif', 'profile_background_tile': False, 'profile_image_url': 'http://pbs.twimg.com/profile_images/723879233542561793/dFsPRTQw_normal.jpg', 'profile_image_url_https': 'https://pbs.twimg.com/profile_images/723879233542561793/dFsPRTQw_normal.jpg', 'profile_banner_url': 'https://pbs.twimg.com/profile_banners/21577947/1450454513', 'profile_link_color': 'ABB8C2', 'profile_sidebar_border_color': '7E7F85', 'profile_sidebar_fill_color': 'DEDEDE', 'profile_text_color': '000000', 'profile_use_background_image': False, 'has_extended_profile': False, 'default_profile': False, 'default_profile_image': False, 'following': False, 'follow_request_sent': False, 'notifications': False, 'translator_type': 'none'}                                                                                                                                                                                                                    \n",
       "2018-08-02 00:02:10    {'id': 24892259, 'id_str': '24892259', 'name': 'DontSwitch', 'screen_name': 'DontSwitch', 'location': 'Lkr. Pfaffenhofen a.d.Ilm, BY', 'description': 'ITler, Anpacker + Antreiber, politisch, echter Rot-Kreuzler, Biker, Metaller, Linuxer. Own Tweets and Pics CC BY-NC-SA 4.0', 'url': None, 'entities': {'description': {'urls': []}}, 'protected': False, 'followers_count': 1518, 'friends_count': 2314, 'listed_count': 139, 'created_at': 'Tue Mar 17 14:50:59 +0000 2009', 'favourites_count': 45117, 'utc_offset': None, 'time_zone': None, 'geo_enabled': True, 'verified': False, 'statuses_count': 94748, 'lang': 'de', 'contributors_enabled': False, 'is_translator': False, 'is_translation_enabled': False, 'profile_background_color': '000000', 'profile_background_image_url': 'http://abs.twimg.com/images/themes/theme1/bg.png', 'profile_background_image_url_https': 'https://abs.twimg.com/images/themes/theme1/bg.png', 'profile_background_tile': False, 'profile_image_url': 'http://pbs.twimg.com/profile_images/472404753213689856/n5B9fFkj_normal.png', 'profile_image_url_https': 'https://pbs.twimg.com/profile_images/472404753213689856/n5B9fFkj_normal.png', 'profile_link_color': '000000', 'profile_sidebar_border_color': 'FFFFFF', 'profile_sidebar_fill_color': 'FF8800', 'profile_text_color': '333333', 'profile_use_background_image': False, 'has_extended_profile': False, 'default_profile': False, 'default_profile_image': False, 'following': False, 'follow_request_sent': False, 'notifications': False, 'translator_type': 'regular'}                                                                                                                                                                                                                       \n",
       "2018-08-02 00:03:57    {'id': 216558772, 'id_str': '216558772', 'name': 'Christof', 'screen_name': 'laxodontus', 'location': '', 'description': '', 'url': None, 'entities': {'description': {'urls': []}}, 'protected': False, 'followers_count': 17, 'friends_count': 210, 'listed_count': 0, 'created_at': 'Wed Nov 17 02:43:22 +0000 2010', 'favourites_count': 535, 'utc_offset': None, 'time_zone': None, 'geo_enabled': True, 'verified': False, 'statuses_count': 383, 'lang': 'en', 'contributors_enabled': False, 'is_translator': False, 'is_translation_enabled': False, 'profile_background_color': 'C0DEED', 'profile_background_image_url': 'http://abs.twimg.com/images/themes/theme1/bg.png', 'profile_background_image_url_https': 'https://abs.twimg.com/images/themes/theme1/bg.png', 'profile_background_tile': False, 'profile_image_url': 'http://pbs.twimg.com/profile_images/650787637968674816/Y5PfEM3U_normal.jpg', 'profile_image_url_https': 'https://pbs.twimg.com/profile_images/650787637968674816/Y5PfEM3U_normal.jpg', 'profile_link_color': '1DA1F2', 'profile_sidebar_border_color': 'C0DEED', 'profile_sidebar_fill_color': 'DDEEF6', 'profile_text_color': '333333', 'profile_use_background_image': True, 'has_extended_profile': False, 'default_profile': True, 'default_profile_image': False, 'following': False, 'follow_request_sent': False, 'notifications': False, 'translator_type': 'none'}                                                                                                                                                                                                                                                                                                                                                                                            \n",
       "2018-08-02 00:09:54    {'id': 2368916450, 'id_str': '2368916450', 'name': 'werner hellwich', 'screen_name': 'WernerHellwich', 'location': 'Sachsen Anhalt -  facebook', 'description': 'experimentelle Archäologie an Kunsttöpfereien zur Vorgeschichte #artist', 'url': 'http://t.co/rV6sdc3kNH', 'entities': {'url': {'urls': [{'url': 'http://t.co/rV6sdc3kNH', 'expanded_url': 'http://www.schnurkeramik.de', 'display_url': 'schnurkeramik.de', 'indices': [0, 22]}]}, 'description': {'urls': []}}, 'protected': False, 'followers_count': 876, 'friends_count': 1184, 'listed_count': 40, 'created_at': 'Sun Mar 02 13:56:40 +0000 2014', 'favourites_count': 63484, 'utc_offset': None, 'time_zone': None, 'geo_enabled': False, 'verified': False, 'statuses_count': 18608, 'lang': 'de', 'contributors_enabled': False, 'is_translator': False, 'is_translation_enabled': False, 'profile_background_color': 'C0DEED', 'profile_background_image_url': 'http://abs.twimg.com/images/themes/theme1/bg.png', 'profile_background_image_url_https': 'https://abs.twimg.com/images/themes/theme1/bg.png', 'profile_background_tile': False, 'profile_image_url': 'http://pbs.twimg.com/profile_images/739154748012646404/Bh3dfPfg_normal.jpg', 'profile_image_url_https': 'https://pbs.twimg.com/profile_images/739154748012646404/Bh3dfPfg_normal.jpg', 'profile_banner_url': 'https://pbs.twimg.com/profile_banners/2368916450/1499502474', 'profile_link_color': '0084B4', 'profile_sidebar_border_color': 'C0DEED', 'profile_sidebar_fill_color': 'DDEEF6', 'profile_text_color': '333333', 'profile_use_background_image': True, 'has_extended_profile': False, 'default_profile': False, 'default_profile_image': False, 'following': False, 'follow_request_sent': False, 'notifications': False, 'translator_type': 'none'}\n",
       "2018-08-02 00:12:05    {'id': 2975159537, 'id_str': '2975159537', 'name': 'Fickloch Babsi', 'screen_name': 'Fickloecher', 'location': '', 'description': 'Ich bin die Babsi und habe ein sehr schöne Muschi und zwei ganz tolle Bommel.', 'url': 'http://t.co/N4ooRtRGU7', 'entities': {'url': {'urls': [{'url': 'http://t.co/N4ooRtRGU7', 'expanded_url': 'http://tinyurl.com/Fickloecher', 'display_url': 'tinyurl.com/Fickloecher', 'indices': [0, 22]}]}, 'description': {'urls': []}}, 'protected': False, 'followers_count': 227, 'friends_count': 23, 'listed_count': 1, 'created_at': 'Mon Jan 12 19:12:19 +0000 2015', 'favourites_count': 2, 'utc_offset': None, 'time_zone': None, 'geo_enabled': False, 'verified': False, 'statuses_count': 35219, 'lang': 'en', 'contributors_enabled': False, 'is_translator': False, 'is_translation_enabled': False, 'profile_background_color': 'C0DEED', 'profile_background_image_url': 'http://abs.twimg.com/images/themes/theme1/bg.png', 'profile_background_image_url_https': 'https://abs.twimg.com/images/themes/theme1/bg.png', 'profile_background_tile': False, 'profile_image_url': 'http://pbs.twimg.com/profile_images/554718992250580993/ssM3u3s0_normal.jpeg', 'profile_image_url_https': 'https://pbs.twimg.com/profile_images/554718992250580993/ssM3u3s0_normal.jpeg', 'profile_link_color': '1DA1F2', 'profile_sidebar_border_color': 'C0DEED', 'profile_sidebar_fill_color': 'DDEEF6', 'profile_text_color': '333333', 'profile_use_background_image': True, 'has_extended_profile': False, 'default_profile': True, 'default_profile_image': False, 'following': False, 'follow_request_sent': False, 'notifications': False, 'translator_type': 'none'}                                                                                                         \n",
       "Name: user, dtype: object"
      ]
     },
     "execution_count": 50,
     "metadata": {},
     "output_type": "execute_result"
    }
   ],
   "source": [
    "data.loc[:, 'user'].head()"
   ]
  },
  {
   "cell_type": "code",
   "execution_count": 46,
   "metadata": {
    "collapsed": true
   },
   "outputs": [],
   "source": [
    "def extract_user_id(x):\n",
    "    return x['id_str']"
   ]
  },
  {
   "cell_type": "code",
   "execution_count": 51,
   "metadata": {
    "collapsed": true
   },
   "outputs": [],
   "source": [
    "data.loc[:, 'user_id'] = data.user.apply(extract_user_id)"
   ]
  },
  {
   "cell_type": "code",
   "execution_count": null,
   "metadata": {
    "collapsed": true
   },
   "outputs": [],
   "source": [
    "data.loc[]"
   ]
  },
  {
   "cell_type": "code",
   "execution_count": 8,
   "metadata": {},
   "outputs": [
    {
     "name": "stdout",
     "output_type": "stream",
     "text": [
      "Index(['contributors', 'coordinates', 'created_at', 'display_text_range',\n",
      "       'entities', 'extended_entities', 'favorite_count', 'favorited',\n",
      "       'full_text', 'geo', 'id', 'id_str', 'in_reply_to_screen_name',\n",
      "       'in_reply_to_status_id', 'in_reply_to_status_id_str',\n",
      "       'in_reply_to_user_id', 'in_reply_to_user_id_str', 'is_quote_status',\n",
      "       'lang', 'metadata', 'place', 'possibly_sensitive', 'quoted_status',\n",
      "       'quoted_status_id', 'quoted_status_id_str', 'retweet_count',\n",
      "       'retweeted', 'retweeted_status', 'source', 'truncated', 'user',\n",
      "       'withheld_in_countries', 'withheld_scope'],\n",
      "      dtype='object')\n"
     ]
    }
   ],
   "source": [
    "print(data.keys())"
   ]
  },
  {
   "cell_type": "code",
   "execution_count": 12,
   "metadata": {},
   "outputs": [
    {
     "name": "stdout",
     "output_type": "stream",
     "text": [
      "False    9153\n",
      "Name: favorited, dtype: int64\n"
     ]
    }
   ],
   "source": [
    "print(data.loc[:, 'favorited'].value_counts())"
   ]
  },
  {
   "cell_type": "code",
   "execution_count": 9,
   "metadata": {},
   "outputs": [
    {
     "name": "stdout",
     "output_type": "stream",
     "text": [
      "9153\n"
     ]
    }
   ],
   "source": [
    "print(len(data))"
   ]
  },
  {
   "cell_type": "code",
   "execution_count": 19,
   "metadata": {},
   "outputs": [
    {
     "name": "stdout",
     "output_type": "stream",
     "text": [
      "created_at\n",
      "2018-08-02 00:02:10                                                                RT @JLessat: In der #Feinstaub #Hauptstadt #Stuttgart soll Anteil #Radverkehr auf 20 Prozent steigen, sagt OB #Kuhn (#Gruene). Wie schafft…\n",
      "2018-08-02 00:20:47                                                                RT @JLessat: In der #Feinstaub #Hauptstadt #Stuttgart soll Anteil #Radverkehr auf 20 Prozent steigen, sagt OB #Kuhn (#Gruene). Wie schafft…\n",
      "2018-08-02 00:22:35                                                               RT @AndreasStraub: Grüne beschuldigen Landwirte an der Dürre! Dabei sind sie Rückgrat unserer Bodenkultur, wer sie angreift bestätigt wiede…\n",
      "2018-08-02 00:39:59                                                               RT @AndreasStraub: Grüne beschuldigen Landwirte an der Dürre! Dabei sind sie Rückgrat unserer Bodenkultur, wer sie angreift bestätigt wiede…\n",
      "2018-08-02 00:53:07                                                          RT @UdoHemmelgarn: Grüne-Göring-Eckhard🤮, Sie wollen\\nalso noch radikaler werden😠, frage\\nmich gerade, wie soll das ohne\\n\"Waffen\"😫 gehen? \\n\\nG…\n",
      "2018-08-02 00:56:22    Ein Afrikaner produziert im Jahr ca 0,5 t CO2. Ein Europäer im Schnitt ca 10 t. \\nWie kann man die Umsiedlung von Afrikanern nach Europa fördern und gleichzeitig die Bürger Europas dazu ermahnen, ...\n",
      "2018-08-02 00:58:50                                                              RT @Biberfeind: Ein Afrikaner produziert im Jahr ca 0,5 t CO2. Ein Europäer im Schnitt ca 10 t. \\nWie kann man die Umsiedlung von Afrikanern…\n",
      "2018-08-02 01:02:17                                                             RT @Guido_Markus: \"natürliche Lebensgrundlagen\", \"nachhaltiges sensibles Wachstum\", \"Elektromobilität\", ...\\n\\nKaum merkt Herr #Söder, dass s…\n",
      "2018-08-02 01:22:21                                                               RT @AndreasStraub: Grüne beschuldigen Landwirte an der Dürre! Dabei sind sie Rückgrat unserer Bodenkultur, wer sie angreift bestätigt wiede…\n",
      "2018-08-02 01:26:06                                                              RT @Biberfeind: Ein Afrikaner produziert im Jahr ca 0,5 t CO2. Ein Europäer im Schnitt ca 10 t. \\nWie kann man die Umsiedlung von Afrikanern…\n",
      "2018-08-02 01:53:09                                                               RT @AndreasStraub: Grüne beschuldigen Landwirte an der Dürre! Dabei sind sie Rückgrat unserer Bodenkultur, wer sie angreift bestätigt wiede…\n",
      "2018-08-02 02:05:50                                                               RT @RamazanAkbas37: Bei der #Bundestagswahl am 22. September 2002 hatten #SPD und #Grüne nur etwa 6027 Zweitstimmen mehr als #Union und #FD…\n",
      "2018-08-02 02:10:37                                                          RT @UdoHemmelgarn: Grüne-Göring-Eckhard🤮, Sie wollen\\nalso noch radikaler werden😠, frage\\nmich gerade, wie soll das ohne\\n\"Waffen\"😫 gehen? \\n\\nG…\n",
      "2018-08-02 02:23:37                                                               RT @WirtschaftDE: Mainstream-Medien hetzen gegen Beatrix von Storch, weil sie das grüne »Klimakrisen-Gekreische der Klimanazis« kritisiert:…\n",
      "2018-08-02 02:48:41                                                               RT @AndreasStraub: Grüne beschuldigen Landwirte an der Dürre! Dabei sind sie Rückgrat unserer Bodenkultur, wer sie angreift bestätigt wiede…\n",
      "2018-08-02 02:49:19                                                              RT @jane71z: #Bereicherung - Jagd auf Christliche Fahrradfahrer\\n\\nBin gespannt, wann Beteiligte des Netzwerks \"Asyl\" rufen und #Grüne diese…\n",
      "2018-08-02 03:02:57                                                               RT @Wahlrecht_de: Sonntagsfrage zur Landtagswahl in Bayern (#ltwby) • GMS für SAT.1 Bayern: CSU 39 % | GRÜNE 14 % | AfD 13 % | SPD 12 % | F…\n",
      "2018-08-02 03:06:52                                                               RT @AndreasStraub: Grüne beschuldigen Landwirte an der Dürre! Dabei sind sie Rückgrat unserer Bodenkultur, wer sie angreift bestätigt wiede…\n",
      "2018-08-02 03:10:09                                                               RT @Wahlrecht_de: Sonntagsfrage GMS zur Bundestagswahl • CDU/CSU 30 % | SPD 17 % | AfD 16 % | GRÜNE 13 % | FDP 10 % | DIE LINKE 10 % | Sons…\n",
      "2018-08-02 03:31:55                                                               RT @SilkeTerra: Wieder Milliarden für das bodenlose Fass Griechenland - und die Grünen natürlich dafür... #Grüne #Steuergeldveruntreuung #E…\n",
      "2018-08-02 03:40:47                                                               RT @Nicolaus_Fest: \"Deutschland wird sich ändern, und zwar drastisch\", meinte einst Kathrin Göring-Eckardt (GRÜNE). Wie wahr... https://t.c…\n",
      "2018-08-02 03:50:22                                                             RT @Guido_Markus: \"natürliche Lebensgrundlagen\", \"nachhaltiges sensibles Wachstum\", \"Elektromobilität\", ...\\n\\nKaum merkt Herr #Söder, dass s…\n",
      "2018-08-02 03:54:49                                                                RT @gruene_sachsen: 5 Jahre Rechtsanspruch auf #Betreuungsplatz, bei der Qualität hapert es mit schlechtem Betreuungsschlüssel in Sachsen.…\n",
      "2018-08-02 03:55:45                                                                RT @gruene_sachsen: 5 Jahre Rechtsanspruch auf #Betreuungsplatz, bei der Qualität hapert es mit schlechtem Betreuungsschlüssel in Sachsen.…\n",
      "2018-08-02 04:02:16                                                                RT @JLessat: In der #Feinstaub #Hauptstadt #Stuttgart soll Anteil #Radverkehr auf 20 Prozent steigen, sagt OB #Kuhn (#Gruene). Wie schafft…\n",
      "2018-08-02 04:21:57                                                               RT @AndreasStraub: Grüne beschuldigen Landwirte an der Dürre! Dabei sind sie Rückgrat unserer Bodenkultur, wer sie angreift bestätigt wiede…\n",
      "2018-08-02 04:25:42    #Merkel und ihre Genossen der #SPD, #Linke und #Grüne sind sich einig:\\n\\nDas deutsche Steuerzahler-Pack darf keinesfalls entlastet werden.\\n\\nJeder freie € muss in illegale Migration investiert w...\n",
      "2018-08-02 04:30:49                                                               RT @realMartinHagen: #Sonntagsfrage #Landtagswahl #Bayern von GMS/Sat1Bayern: #CSU 39, #Grüne 14, #AfD 13, #SPD 12, #FW 8, #FDP 6, #Linke 3.\n",
      "2018-08-02 04:33:47                                                               RT @WoSchBonn: Wenn der Rechtsstaat siegt: Finnische Grüne steht auf; Passagiere bleiben sitzen; Abschiebung findet statt; Grüne in Gewahrs…\n",
      "2018-08-02 04:44:42                                                             RT @willnurschreibn: #Merkel und ihre Genossen der #SPD, #Linke und #Grüne sind sich einig:\\n\\nDas deutsche Steuerzahler-Pack darf keinesfall…\n",
      "                                                                                                                        ...                                                                                                   \n",
      "2018-08-04 23:24:32                                                              RT @SteinbachErika: Ich finde es beschämend, dass immer noch mehr als 10% Grüne wählen. \\n‼️Eine Partei, die bis heute die Opfer ihrer  pädo…\n",
      "2018-08-04 23:24:52                                                               RT @UdoHemmelgarn: Grüne-Klimaschwätzer🤮, hier mal etwas Faktenbasiertes zum sogenannten \"Klimawandel\"😃! Wie konnte es im Jahr 1904 ohne Di…\n",
      "2018-08-04 23:25:26                                                                RT @Wahlrecht_de: Sonntagsfrage zur Bundestagswahl • Emnid/BamS: CDU/CSU 30 % | SPD 18 % | AfD 15 % | GRÜNE 15 % | DIE LINKE 9 % | FDP 8 %…\n",
      "2018-08-04 23:29:13                                                                RT @Wahlrecht_de: Sonntagsfrage zur Bundestagswahl • Emnid/BamS: CDU/CSU 30 % | SPD 18 % | AfD 15 % | GRÜNE 15 % | DIE LINKE 9 % | FDP 8 %…\n",
      "2018-08-04 23:31:26                                                               RT @Beatrix_vStorch: Klar. Ganz Kontinentaleuropa hat jetzt Anspruch auf Vollversorgung in Schottland und auf Island, oder wie? Die #Kliman…\n",
      "2018-08-04 23:31:39                                                               RT @Steinhoefel: Manches gefällt mir (#CDU sackt auf Allzeittief), manches nicht (#FDP schwach). Manches verstehe ich, anderes nicht. Was i…\n",
      "2018-08-04 23:31:44                                                              RT @SteinbachErika: Man stelle sich vor, solche Gewaltaufrufe gäbe es gegen Grüne, Linke, CDU, CSU usw. \\nSondersendungen in ARD und ZDF wär…\n",
      "2018-08-04 23:33:51                                                              RT @SteinbachErika: Ich finde es beschämend, dass immer noch mehr als 10% Grüne wählen. \\n‼️Eine Partei, die bis heute die Opfer ihrer  pädo…\n",
      "2018-08-04 23:34:26                                                               RT @AfD_HD: Erinnerung. \"Zu den Projekten der 68er gehörte die sexuelle Befreiung der Kinder, der Bruch aller Schamgrenzen [...] So entstan…\n",
      "2018-08-04 23:35:10                                                               RT @UdoHemmelgarn: Grüne-Klimaschwätzer🤮, hier mal etwas Faktenbasiertes zum sogenannten \"Klimawandel\"😃! Wie konnte es im Jahr 1904 ohne Di…\n",
      "2018-08-04 23:35:44                                                              RT @Leo27027232: @Beatrix_vStorch @welt Grüne reden eben Schwachsinn. 👇\\n\"Katrin Göring-Eckardt ist eine gute Rednerin. Sie spricht frei und…\n",
      "2018-08-04 23:36:01                                                              RT @SteinbachErika: Ich finde es beschämend, dass immer noch mehr als 10% Grüne wählen. \\n‼️Eine Partei, die bis heute die Opfer ihrer  pädo…\n",
      "2018-08-04 23:36:26                                                              RT @SteinbachErika: Man stelle sich vor, solche Gewaltaufrufe gäbe es gegen Grüne, Linke, CDU, CSU usw. \\nSondersendungen in ARD und ZDF wär…\n",
      "2018-08-04 23:36:41                                                              RT @SteinbachErika: Ich finde es beschämend, dass immer noch mehr als 10% Grüne wählen. \\n‼️Eine Partei, die bis heute die Opfer ihrer  pädo…\n",
      "2018-08-04 23:38:11                                                              RT @Leo27027232: @Beatrix_vStorch @welt Grüne reden eben Schwachsinn. 👇\\n\"Katrin Göring-Eckardt ist eine gute Rednerin. Sie spricht frei und…\n",
      "2018-08-04 23:38:43                                                               RT @AfD_HD: Erinnerung. \"Zu den Projekten der 68er gehörte die sexuelle Befreiung der Kinder, der Bruch aller Schamgrenzen [...] So entstan…\n",
      "2018-08-04 23:41:26                                                                          RT @BarbaraSteibl1: https://t.co/QrjlYYEVNJ\\n\\nDiese Partei ist eine Schande und gehören schon längst aus dem Parlament geworfen!\n",
      "2018-08-04 23:42:01                                                              RT @SteinbachErika: Ich finde es beschämend, dass immer noch mehr als 10% Grüne wählen. \\n‼️Eine Partei, die bis heute die Opfer ihrer  pädo…\n",
      "2018-08-04 23:42:10                                                              RT @SteinbachErika: Man stelle sich vor, solche Gewaltaufrufe gäbe es gegen Grüne, Linke, CDU, CSU usw. \\nSondersendungen in ARD und ZDF wär…\n",
      "2018-08-04 23:43:33                                                                RT @Wahlrecht_de: Sonntagsfrage zur Bundestagswahl • Emnid/BamS: CDU/CSU 30 % | SPD 18 % | AfD 15 % | GRÜNE 15 % | DIE LINKE 9 % | FDP 8 %…\n",
      "2018-08-04 23:45:19                                                              RT @SteinbachErika: Man stelle sich vor, solche Gewaltaufrufe gäbe es gegen Grüne, Linke, CDU, CSU usw. \\nSondersendungen in ARD und ZDF wär…\n",
      "2018-08-04 23:46:04                                                                RT @drpeternagel: Es gibt eigentlich nur zwei Optionen: Entweder (i) wir akzeptieren Klimakrisen als Fluchtgrund oder (II) wir warten, bis…\n",
      "2018-08-04 23:47:11                                                                RT @drpeternagel: Es gibt eigentlich nur zwei Optionen: Entweder (i) wir akzeptieren Klimakrisen als Fluchtgrund oder (II) wir warten, bis…\n",
      "2018-08-04 23:47:51                                                               RT @m_kormbaki: Die @gruene_jugend -Sprecherin @Ricarda_Lang hat bei uns @RNDnewsroom eine Idee zum Umgang mit der Tatsächlichkeit namens K…\n",
      "2018-08-04 23:47:57                                                               RT @jutta_ditfurth: Aufstehhilfe Antje Vollmer war zB als grüne Bundestagsabgeordnete wesentlich mitverantwortlich für die Installierung de…\n",
      "2018-08-04 23:50:15                                                               RT @MalteKaufmann: Dann soll sie doch gleich sagen: \"Alle sind nach 🇩🇪 eingeladen\"! (was ohnehin schon praktizierte Politik ist). Wer das n…\n",
      "2018-08-04 23:50:30                                                                RT @Wahlrecht_de: Sonntagsfrage zur Bundestagswahl • Emnid/BamS: CDU/CSU 30 % | SPD 18 % | AfD 15 % | GRÜNE 15 % | DIE LINKE 9 % | FDP 8 %…\n",
      "2018-08-04 23:54:36                                                              RT @SteinbachErika: Ich finde es beschämend, dass immer noch mehr als 10% Grüne wählen. \\n‼️Eine Partei, die bis heute die Opfer ihrer  pädo…\n",
      "2018-08-04 23:55:34                                                               RT @EuropeElects: Germany: GRÜNE (G/EFA) reaches 5 year record high in latest Emnid and Infratest dimap polls: 15% (last election: 8.9%). #…\n",
      "2018-08-04 23:57:50                                                               RT @aufklaerer2017: Hallo Frau @GoeringEckardt ich bin auch betroffener Klimaflüchtling, die 38 Grad hier sind kaum auszuhalten, würden sie…\n",
      "Name: full_text, Length: 4259, dtype: object\n"
     ]
    }
   ],
   "source": [
    "print(data.loc[:, 'full_text'][data.loc[:, 'retweet_count'] > 5])"
   ]
  },
  {
   "cell_type": "code",
   "execution_count": null,
   "metadata": {
    "collapsed": true
   },
   "outputs": [],
   "source": []
  }
 ],
 "metadata": {
  "kernelspec": {
   "display_name": "Python 3",
   "language": "python",
   "name": "python3"
  },
  "language_info": {
   "codemirror_mode": {
    "name": "ipython",
    "version": 3
   },
   "file_extension": ".py",
   "mimetype": "text/x-python",
   "name": "python",
   "nbconvert_exporter": "python",
   "pygments_lexer": "ipython3",
   "version": "3.6.3"
  }
 },
 "nbformat": 4,
 "nbformat_minor": 2
}
