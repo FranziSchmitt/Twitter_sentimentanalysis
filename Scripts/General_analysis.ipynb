{
 "cells": [
  {
   "cell_type": "code",
   "execution_count": 1,
   "metadata": {
    "collapsed": true
   },
   "outputs": [],
   "source": [
    "%load_ext autoreload\n",
<<<<<<< HEAD
    "%autoreload 2\n",
    "\n",
    "import pandas as pd\n",
=======
    "%autoreload 2"
   ]
  },
  {
   "cell_type": "code",
   "execution_count": 3,
   "metadata": {
    "collapsed": true
   },
   "outputs": [],
   "source": [
    "## import pandas as pd\n",
>>>>>>> refs/remotes/origin/master
    "import numpy as np\n",
    "\n",
    "import matplotlib.pyplot as plt\n",
    "%matplotlib inline\n",
    "import seaborn as sns\n",
    "sns.set()\n",
    "\n",
    "import os\n",
    "import json\n",
    "import pickle\n",
    "\n",
    "import re\n",
    "from collections import Counter\n",
    "\n",
    "# custom imports\n",
    "from data_handling import load_data, collapse_dfs, load_large\n",
<<<<<<< HEAD
    "from text_preprocessing import df_processing, party_remover\n",
    "\n",
=======
    "from text_preprocessing import df_processing, party_remover"
   ]
  },
  {
   "cell_type": "code",
   "execution_count": 4,
   "metadata": {
    "collapsed": true
   },
   "outputs": [],
   "source": [
>>>>>>> refs/remotes/origin/master
    "# pd.set_option(\"display.max_colwidth\", -1)\n",
    "pd.set_option(\"display.max_columns\", 20)"
   ]
  },
  {
   "cell_type": "code",
   "execution_count": 12,
   "metadata": {},
   "outputs": [
    {
     "name": "stdout",
     "output_type": "stream",
     "text": [
      "loading data from pickle\n",
      "data loaded\n"
     ]
    }
   ],
   "source": [
    "read_in = False\n",
    "path = '/home/franzi/Git-DSR/Twitter_sentimentanalysis/Data/lda_data.pickle'\n",
    "parties = ['AfD', 'SPD', 'CDU', 'CSU', 'FDP', 'LINKE', 'Gruene', 'Grüne']\n",
    "dates = ['08-{:02d}'.format(i) for i in range(2,10)]\n",
    "\n",
    "\n",
    "if read_in:\n",
    "    parties = parties\n",
    "    dates = dates\n",
    "    aug_data = {}\n",
    "    print('Loading: {}'.format(dates))\n",
    "    for party in parties:\n",
    "        load_list = ['../Data/{}/{}_2018-{}.json'.format(party, party, day) for day in dates]\n",
    "        aug_data[party] = load_data(load_list)\n",
    "        print('{} loaded'.format(party))\n",
    "    with open(path, 'wb') as fid:\n",
    "        pickle.dump(aug_data, fid)\n",
    "    print(\"Done\")\n",
    "else:\n",
    "    print('loading data from pickle')\n",
    "    with open(path, 'rb') as fid:\n",
    "        aug_data = pickle.load(fid)\n",
    "        print('data loaded')"
   ]
  },
  {
   "cell_type": "code",
   "execution_count": 2,
   "metadata": {},
   "outputs": [
    {
     "name": "stdout",
     "output_type": "stream",
     "text": [
      "loading data from pickle\n",
      "data loaded\n"
     ]
    }
   ],
   "source": [
<<<<<<< HEAD
    "collapse = False\n",
    "path_collapse = '/home/franzi/Git-DSR/Twitter_sentimentanalysis/Data/ga_data.pickle' # path where pickle file is saved\n",
    "\n",
    "if collapse:\n",
    "    all_data = collapse_dfs(aug_data)\n",
    "    df_processing(all_data)\n",
    "    all_data = all_data.drop_duplicates('clean_text')\n",
    "    all_data['user_id'] = all_data['user'].map(lambda x: x['id_str'])\n",
    "    print('dumping data to pickle')\n",
    "    with open(path_collapse, 'wb') as fid:\n",
    "        pickle.dump(all_data, fid)\n",
    "    print('data dumped')\n",
    "else: \n",
    "    print('loading data from pickle')\n",
    "    with open(path_collapse, 'rb') as fid:\n",
    "        all_data = pickle.load(fid)\n",
    "        print('data loaded')"
=======
    "data.loc[:, 'user'].head()"
   ]
  },
  {
   "cell_type": "code",
   "execution_count": 46,
   "metadata": {
    "collapsed": true
   },
   "outputs": [],
   "source": [
    "def extract_user_id(x):\n",
    "    return x['id_str']"
   ]
  },
  {
   "cell_type": "code",
   "execution_count": 51,
   "metadata": {
    "collapsed": true
   },
   "outputs": [],
   "source": [
    "data.loc[:, 'user_id'] = data.user.apply(extract_user_id)"
   ]
  },
  {
   "cell_type": "code",
   "execution_count": null,
   "metadata": {
    "collapsed": true
   },
   "outputs": [],
   "source": [
    "data.loc[]"
>>>>>>> refs/remotes/origin/master
   ]
  },
  {
   "cell_type": "code",
   "execution_count": 71,
   "metadata": {},
   "outputs": [
    {
     "data": {
      "image/png": "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\n",
      "text/plain": [
       "<Figure size 432x288 with 1 Axes>"
      ]
     },
     "metadata": {
      "needs_background": "light"
     },
     "output_type": "display_data"
    }
   ],
   "source": [
    "# Retweet count\n",
    "def retweet_plot(df):    \n",
    "    df['date'] = df['created_at'].dt.floor('d')\n",
    "    retweet_dic = {}\n",
    "    retweets = pd.DataFrame\n",
    "    \n",
    "    for day in df.date.unique():\n",
    "        sub_df = df[df.date == day].copy()\n",
    "        total_tweets = len(sub_df)\n",
    "        retweet_no = sub_df.loc[:, 'full_text'].apply(lambda x: x.count('RT')).sum()\n",
    "        rel_no_retweets = retweet_no/total_tweets\n",
    "        retweet_dic[day] = [total_tweets, retweet_no, rel_no_retweets]\n",
    "        \n",
    "    retweets = pd.DataFrame.from_dict(retweet_dic, orient='index', columns=('total_tweets','retweets','rel_no_retweets'))  \n",
    "\n",
    "\n",
    "    rt_plot = retweets.rel_no_retweets.plot.bar(color='b', rot=70, ylim=(0, 1), title='Retweet count per day')\n",
    "    rt_plot.set(ylabel='relative number of retweets')\n",
    "    rt_plot.set(xlabel='Date')\n",
    "    rt_plot.set_xticklabels(retweets.index.strftime(\"%m-%d\"))\n",
    "    \n",
    "    \n",
    "\n",
    "retweet_plot(all_data)"
   ]
  },
  {
   "cell_type": "code",
   "execution_count": 78,
   "metadata": {},
   "outputs": [],
   "source": [
    "def retweeting_users(df):\n",
    "    df['date'] = df['created_at'].dt.floor('d')\n",
    "    rel_tweeter = {}\n",
    "    rel_retweets = pd.DataFrame()\n",
    "\n",
    "    for day in df.date.unique():\n",
    "        sub_df = df[df.date == day].copy()\n",
    "        tweeted = sub_df.groupby('user_id')['full_text'].count()\n",
    "        sub_df['retweeted'] = sub_df['full_text'].apply(lambda x: x.count('RT'))\n",
    "        retweeting = sub_df.groupby('user_id')['retweeted'].sum()\n",
    "        rel_tweeting = tweeted.rtruediv(retweeting) \n",
    "        rel_tweeter[day] = rel_tweeting\n",
    "    \n",
    "    rel_retweets = pd.DataFrame(rel_tweeter)\n",
    "\n",
    "    return rel_retweets"
   ]
  },
  {
   "cell_type": "code",
   "execution_count": 79,
   "metadata": {},
   "outputs": [],
   "source": [
    "rel_retweets = retweeting_users(all_data)"
   ]
  },
  {
   "cell_type": "code",
   "execution_count": 82,
   "metadata": {},
   "outputs": [
    {
     "ename": "KeyboardInterrupt",
     "evalue": "",
     "output_type": "error",
     "traceback": [
      "\u001b[0;31m------------------------------------------------------------------------\u001b[0m",
      "\u001b[0;31mKeyboardInterrupt\u001b[0m                      Traceback (most recent call last)",
      "\u001b[0;32m<ipython-input-82-4c5227e6a7f9>\u001b[0m in \u001b[0;36m<module>\u001b[0;34m()\u001b[0m\n\u001b[0;32m----> 1\u001b[0;31m \u001b[0mrel_retweets\u001b[0m\u001b[0;34m.\u001b[0m\u001b[0mtranspose\u001b[0m\u001b[0;34m(\u001b[0m\u001b[0;34m)\u001b[0m\u001b[0;34m.\u001b[0m\u001b[0mplot\u001b[0m\u001b[0;34m.\u001b[0m\u001b[0mbar\u001b[0m\u001b[0;34m(\u001b[0m\u001b[0;34m)\u001b[0m\u001b[0;34m\u001b[0m\u001b[0m\n\u001b[0m",
      "\u001b[0;32m~/miniconda3/lib/python3.6/site-packages/pandas/plotting/_core.py\u001b[0m in \u001b[0;36mbar\u001b[0;34m(self, x, y, **kwds)\u001b[0m\n\u001b[1;32m   3088\u001b[0m             \u001b[0;34m>>\u001b[0m\u001b[0;34m>\u001b[0m \u001b[0max\u001b[0m \u001b[0;34m=\u001b[0m \u001b[0mdf\u001b[0m\u001b[0;34m.\u001b[0m\u001b[0mplot\u001b[0m\u001b[0;34m.\u001b[0m\u001b[0mbar\u001b[0m\u001b[0;34m(\u001b[0m\u001b[0mx\u001b[0m\u001b[0;34m=\u001b[0m\u001b[0;34m'lifespan'\u001b[0m\u001b[0;34m,\u001b[0m \u001b[0mrot\u001b[0m\u001b[0;34m=\u001b[0m\u001b[0;36m0\u001b[0m\u001b[0;34m)\u001b[0m\u001b[0;34m\u001b[0m\u001b[0m\n\u001b[1;32m   3089\u001b[0m         \"\"\"\n\u001b[0;32m-> 3090\u001b[0;31m         \u001b[0;32mreturn\u001b[0m \u001b[0mself\u001b[0m\u001b[0;34m(\u001b[0m\u001b[0mkind\u001b[0m\u001b[0;34m=\u001b[0m\u001b[0;34m'bar'\u001b[0m\u001b[0;34m,\u001b[0m \u001b[0mx\u001b[0m\u001b[0;34m=\u001b[0m\u001b[0mx\u001b[0m\u001b[0;34m,\u001b[0m \u001b[0my\u001b[0m\u001b[0;34m=\u001b[0m\u001b[0my\u001b[0m\u001b[0;34m,\u001b[0m \u001b[0;34m**\u001b[0m\u001b[0mkwds\u001b[0m\u001b[0;34m)\u001b[0m\u001b[0;34m\u001b[0m\u001b[0m\n\u001b[0m\u001b[1;32m   3091\u001b[0m \u001b[0;34m\u001b[0m\u001b[0m\n\u001b[1;32m   3092\u001b[0m     \u001b[0;32mdef\u001b[0m \u001b[0mbarh\u001b[0m\u001b[0;34m(\u001b[0m\u001b[0mself\u001b[0m\u001b[0;34m,\u001b[0m \u001b[0mx\u001b[0m\u001b[0;34m=\u001b[0m\u001b[0;32mNone\u001b[0m\u001b[0;34m,\u001b[0m \u001b[0my\u001b[0m\u001b[0;34m=\u001b[0m\u001b[0;32mNone\u001b[0m\u001b[0;34m,\u001b[0m \u001b[0;34m**\u001b[0m\u001b[0mkwds\u001b[0m\u001b[0;34m)\u001b[0m\u001b[0;34m:\u001b[0m\u001b[0;34m\u001b[0m\u001b[0m\n",
      "\u001b[0;32m~/miniconda3/lib/python3.6/site-packages/pandas/plotting/_core.py\u001b[0m in \u001b[0;36m__call__\u001b[0;34m(self, x, y, kind, ax, subplots, sharex, sharey, layout, figsize, use_index, title, grid, legend, style, logx, logy, loglog, xticks, yticks, xlim, ylim, rot, fontsize, colormap, table, yerr, xerr, secondary_y, sort_columns, **kwds)\u001b[0m\n\u001b[1;32m   2939\u001b[0m                           \u001b[0mfontsize\u001b[0m\u001b[0;34m=\u001b[0m\u001b[0mfontsize\u001b[0m\u001b[0;34m,\u001b[0m \u001b[0mcolormap\u001b[0m\u001b[0;34m=\u001b[0m\u001b[0mcolormap\u001b[0m\u001b[0;34m,\u001b[0m \u001b[0mtable\u001b[0m\u001b[0;34m=\u001b[0m\u001b[0mtable\u001b[0m\u001b[0;34m,\u001b[0m\u001b[0;34m\u001b[0m\u001b[0m\n\u001b[1;32m   2940\u001b[0m                           \u001b[0myerr\u001b[0m\u001b[0;34m=\u001b[0m\u001b[0myerr\u001b[0m\u001b[0;34m,\u001b[0m \u001b[0mxerr\u001b[0m\u001b[0;34m=\u001b[0m\u001b[0mxerr\u001b[0m\u001b[0;34m,\u001b[0m \u001b[0msecondary_y\u001b[0m\u001b[0;34m=\u001b[0m\u001b[0msecondary_y\u001b[0m\u001b[0;34m,\u001b[0m\u001b[0;34m\u001b[0m\u001b[0m\n\u001b[0;32m-> 2941\u001b[0;31m                           sort_columns=sort_columns, **kwds)\n\u001b[0m\u001b[1;32m   2942\u001b[0m     \u001b[0m__call__\u001b[0m\u001b[0;34m.\u001b[0m\u001b[0m__doc__\u001b[0m \u001b[0;34m=\u001b[0m \u001b[0mplot_frame\u001b[0m\u001b[0;34m.\u001b[0m\u001b[0m__doc__\u001b[0m\u001b[0;34m\u001b[0m\u001b[0m\n\u001b[1;32m   2943\u001b[0m \u001b[0;34m\u001b[0m\u001b[0m\n",
      "\u001b[0;32m~/miniconda3/lib/python3.6/site-packages/pandas/plotting/_core.py\u001b[0m in \u001b[0;36mplot_frame\u001b[0;34m(data, x, y, kind, ax, subplots, sharex, sharey, layout, figsize, use_index, title, grid, legend, style, logx, logy, loglog, xticks, yticks, xlim, ylim, rot, fontsize, colormap, table, yerr, xerr, secondary_y, sort_columns, **kwds)\u001b[0m\n\u001b[1;32m   1975\u001b[0m                  \u001b[0myerr\u001b[0m\u001b[0;34m=\u001b[0m\u001b[0myerr\u001b[0m\u001b[0;34m,\u001b[0m \u001b[0mxerr\u001b[0m\u001b[0;34m=\u001b[0m\u001b[0mxerr\u001b[0m\u001b[0;34m,\u001b[0m\u001b[0;34m\u001b[0m\u001b[0m\n\u001b[1;32m   1976\u001b[0m                  \u001b[0msecondary_y\u001b[0m\u001b[0;34m=\u001b[0m\u001b[0msecondary_y\u001b[0m\u001b[0;34m,\u001b[0m \u001b[0msort_columns\u001b[0m\u001b[0;34m=\u001b[0m\u001b[0msort_columns\u001b[0m\u001b[0;34m,\u001b[0m\u001b[0;34m\u001b[0m\u001b[0m\n\u001b[0;32m-> 1977\u001b[0;31m                  **kwds)\n\u001b[0m\u001b[1;32m   1978\u001b[0m \u001b[0;34m\u001b[0m\u001b[0m\n\u001b[1;32m   1979\u001b[0m \u001b[0;34m\u001b[0m\u001b[0m\n",
      "\u001b[0;32m~/miniconda3/lib/python3.6/site-packages/pandas/plotting/_core.py\u001b[0m in \u001b[0;36m_plot\u001b[0;34m(data, x, y, subplots, ax, kind, **kwds)\u001b[0m\n\u001b[1;32m   1802\u001b[0m         \u001b[0mplot_obj\u001b[0m \u001b[0;34m=\u001b[0m \u001b[0mklass\u001b[0m\u001b[0;34m(\u001b[0m\u001b[0mdata\u001b[0m\u001b[0;34m,\u001b[0m \u001b[0msubplots\u001b[0m\u001b[0;34m=\u001b[0m\u001b[0msubplots\u001b[0m\u001b[0;34m,\u001b[0m \u001b[0max\u001b[0m\u001b[0;34m=\u001b[0m\u001b[0max\u001b[0m\u001b[0;34m,\u001b[0m \u001b[0mkind\u001b[0m\u001b[0;34m=\u001b[0m\u001b[0mkind\u001b[0m\u001b[0;34m,\u001b[0m \u001b[0;34m**\u001b[0m\u001b[0mkwds\u001b[0m\u001b[0;34m)\u001b[0m\u001b[0;34m\u001b[0m\u001b[0m\n\u001b[1;32m   1803\u001b[0m \u001b[0;34m\u001b[0m\u001b[0m\n\u001b[0;32m-> 1804\u001b[0;31m     \u001b[0mplot_obj\u001b[0m\u001b[0;34m.\u001b[0m\u001b[0mgenerate\u001b[0m\u001b[0;34m(\u001b[0m\u001b[0;34m)\u001b[0m\u001b[0;34m\u001b[0m\u001b[0m\n\u001b[0m\u001b[1;32m   1805\u001b[0m     \u001b[0mplot_obj\u001b[0m\u001b[0;34m.\u001b[0m\u001b[0mdraw\u001b[0m\u001b[0;34m(\u001b[0m\u001b[0;34m)\u001b[0m\u001b[0;34m\u001b[0m\u001b[0m\n\u001b[1;32m   1806\u001b[0m     \u001b[0;32mreturn\u001b[0m \u001b[0mplot_obj\u001b[0m\u001b[0;34m.\u001b[0m\u001b[0mresult\u001b[0m\u001b[0;34m\u001b[0m\u001b[0m\n",
      "\u001b[0;32m~/miniconda3/lib/python3.6/site-packages/pandas/plotting/_core.py\u001b[0m in \u001b[0;36mgenerate\u001b[0;34m(self)\u001b[0m\n\u001b[1;32m    258\u001b[0m         \u001b[0mself\u001b[0m\u001b[0;34m.\u001b[0m\u001b[0m_compute_plot_data\u001b[0m\u001b[0;34m(\u001b[0m\u001b[0;34m)\u001b[0m\u001b[0;34m\u001b[0m\u001b[0m\n\u001b[1;32m    259\u001b[0m         \u001b[0mself\u001b[0m\u001b[0;34m.\u001b[0m\u001b[0m_setup_subplots\u001b[0m\u001b[0;34m(\u001b[0m\u001b[0;34m)\u001b[0m\u001b[0;34m\u001b[0m\u001b[0m\n\u001b[0;32m--> 260\u001b[0;31m         \u001b[0mself\u001b[0m\u001b[0;34m.\u001b[0m\u001b[0m_make_plot\u001b[0m\u001b[0;34m(\u001b[0m\u001b[0;34m)\u001b[0m\u001b[0;34m\u001b[0m\u001b[0m\n\u001b[0m\u001b[1;32m    261\u001b[0m         \u001b[0mself\u001b[0m\u001b[0;34m.\u001b[0m\u001b[0m_add_table\u001b[0m\u001b[0;34m(\u001b[0m\u001b[0;34m)\u001b[0m\u001b[0;34m\u001b[0m\u001b[0m\n\u001b[1;32m    262\u001b[0m         \u001b[0mself\u001b[0m\u001b[0;34m.\u001b[0m\u001b[0m_make_legend\u001b[0m\u001b[0;34m(\u001b[0m\u001b[0;34m)\u001b[0m\u001b[0;34m\u001b[0m\u001b[0m\n",
      "\u001b[0;32m~/miniconda3/lib/python3.6/site-packages/pandas/plotting/_core.py\u001b[0m in \u001b[0;36m_make_plot\u001b[0;34m(self)\u001b[0m\n\u001b[1;32m   1263\u001b[0m                 rect = self._plot(ax, self.ax_pos + (i + 0.5) * w, y, w,\n\u001b[1;32m   1264\u001b[0m                                   \u001b[0mstart\u001b[0m\u001b[0;34m=\u001b[0m\u001b[0mstart\u001b[0m\u001b[0;34m,\u001b[0m \u001b[0mlabel\u001b[0m\u001b[0;34m=\u001b[0m\u001b[0mlabel\u001b[0m\u001b[0;34m,\u001b[0m\u001b[0;34m\u001b[0m\u001b[0m\n\u001b[0;32m-> 1265\u001b[0;31m                                   log=self.log, **kwds)\n\u001b[0m\u001b[1;32m   1266\u001b[0m             \u001b[0mself\u001b[0m\u001b[0;34m.\u001b[0m\u001b[0m_add_legend_handle\u001b[0m\u001b[0;34m(\u001b[0m\u001b[0mrect\u001b[0m\u001b[0;34m,\u001b[0m \u001b[0mlabel\u001b[0m\u001b[0;34m,\u001b[0m \u001b[0mindex\u001b[0m\u001b[0;34m=\u001b[0m\u001b[0mi\u001b[0m\u001b[0;34m)\u001b[0m\u001b[0;34m\u001b[0m\u001b[0m\n\u001b[1;32m   1267\u001b[0m \u001b[0;34m\u001b[0m\u001b[0m\n",
      "\u001b[0;32m~/miniconda3/lib/python3.6/site-packages/pandas/plotting/_core.py\u001b[0m in \u001b[0;36m_plot\u001b[0;34m(cls, ax, x, y, w, start, log, **kwds)\u001b[0m\n\u001b[1;32m   1207\u001b[0m     \u001b[0;34m@\u001b[0m\u001b[0mclassmethod\u001b[0m\u001b[0;34m\u001b[0m\u001b[0m\n\u001b[1;32m   1208\u001b[0m     \u001b[0;32mdef\u001b[0m \u001b[0m_plot\u001b[0m\u001b[0;34m(\u001b[0m\u001b[0mcls\u001b[0m\u001b[0;34m,\u001b[0m \u001b[0max\u001b[0m\u001b[0;34m,\u001b[0m \u001b[0mx\u001b[0m\u001b[0;34m,\u001b[0m \u001b[0my\u001b[0m\u001b[0;34m,\u001b[0m \u001b[0mw\u001b[0m\u001b[0;34m,\u001b[0m \u001b[0mstart\u001b[0m\u001b[0;34m=\u001b[0m\u001b[0;36m0\u001b[0m\u001b[0;34m,\u001b[0m \u001b[0mlog\u001b[0m\u001b[0;34m=\u001b[0m\u001b[0;32mFalse\u001b[0m\u001b[0;34m,\u001b[0m \u001b[0;34m**\u001b[0m\u001b[0mkwds\u001b[0m\u001b[0;34m)\u001b[0m\u001b[0;34m:\u001b[0m\u001b[0;34m\u001b[0m\u001b[0m\n\u001b[0;32m-> 1209\u001b[0;31m         \u001b[0;32mreturn\u001b[0m \u001b[0max\u001b[0m\u001b[0;34m.\u001b[0m\u001b[0mbar\u001b[0m\u001b[0;34m(\u001b[0m\u001b[0mx\u001b[0m\u001b[0;34m,\u001b[0m \u001b[0my\u001b[0m\u001b[0;34m,\u001b[0m \u001b[0mw\u001b[0m\u001b[0;34m,\u001b[0m \u001b[0mbottom\u001b[0m\u001b[0;34m=\u001b[0m\u001b[0mstart\u001b[0m\u001b[0;34m,\u001b[0m \u001b[0mlog\u001b[0m\u001b[0;34m=\u001b[0m\u001b[0mlog\u001b[0m\u001b[0;34m,\u001b[0m \u001b[0;34m**\u001b[0m\u001b[0mkwds\u001b[0m\u001b[0;34m)\u001b[0m\u001b[0;34m\u001b[0m\u001b[0m\n\u001b[0m\u001b[1;32m   1210\u001b[0m \u001b[0;34m\u001b[0m\u001b[0m\n\u001b[1;32m   1211\u001b[0m     \u001b[0;34m@\u001b[0m\u001b[0mproperty\u001b[0m\u001b[0;34m\u001b[0m\u001b[0m\n",
      "\u001b[0;32m~/miniconda3/lib/python3.6/site-packages/matplotlib/__init__.py\u001b[0m in \u001b[0;36minner\u001b[0;34m(ax, *args, **kwargs)\u001b[0m\n\u001b[1;32m   1865\u001b[0m                         \u001b[0;34m\"the Matplotlib list!)\"\u001b[0m \u001b[0;34m%\u001b[0m \u001b[0;34m(\u001b[0m\u001b[0mlabel_namer\u001b[0m\u001b[0;34m,\u001b[0m \u001b[0mfunc\u001b[0m\u001b[0;34m.\u001b[0m\u001b[0m__name__\u001b[0m\u001b[0;34m)\u001b[0m\u001b[0;34m,\u001b[0m\u001b[0;34m\u001b[0m\u001b[0m\n\u001b[1;32m   1866\u001b[0m                         RuntimeWarning, stacklevel=2)\n\u001b[0;32m-> 1867\u001b[0;31m             \u001b[0;32mreturn\u001b[0m \u001b[0mfunc\u001b[0m\u001b[0;34m(\u001b[0m\u001b[0max\u001b[0m\u001b[0;34m,\u001b[0m \u001b[0;34m*\u001b[0m\u001b[0margs\u001b[0m\u001b[0;34m,\u001b[0m \u001b[0;34m**\u001b[0m\u001b[0mkwargs\u001b[0m\u001b[0;34m)\u001b[0m\u001b[0;34m\u001b[0m\u001b[0m\n\u001b[0m\u001b[1;32m   1868\u001b[0m \u001b[0;34m\u001b[0m\u001b[0m\n\u001b[1;32m   1869\u001b[0m         inner.__doc__ = _add_data_doc(inner.__doc__,\n",
      "\u001b[0;32m~/miniconda3/lib/python3.6/site-packages/matplotlib/axes/_axes.py\u001b[0m in \u001b[0;36mbar\u001b[0;34m(self, *args, **kwargs)\u001b[0m\n\u001b[1;32m   2331\u001b[0m             \u001b[0mymin\u001b[0m \u001b[0;34m=\u001b[0m \u001b[0mmax\u001b[0m\u001b[0;34m(\u001b[0m\u001b[0mymin\u001b[0m \u001b[0;34m*\u001b[0m \u001b[0;36m0.9\u001b[0m\u001b[0;34m,\u001b[0m \u001b[0;36m1e-100\u001b[0m\u001b[0;34m)\u001b[0m\u001b[0;34m\u001b[0m\u001b[0m\n\u001b[1;32m   2332\u001b[0m             \u001b[0mself\u001b[0m\u001b[0;34m.\u001b[0m\u001b[0mdataLim\u001b[0m\u001b[0;34m.\u001b[0m\u001b[0mintervaly\u001b[0m \u001b[0;34m=\u001b[0m \u001b[0;34m(\u001b[0m\u001b[0mymin\u001b[0m\u001b[0;34m,\u001b[0m \u001b[0mymax\u001b[0m\u001b[0;34m)\u001b[0m\u001b[0;34m\u001b[0m\u001b[0m\n\u001b[0;32m-> 2333\u001b[0;31m         \u001b[0mself\u001b[0m\u001b[0;34m.\u001b[0m\u001b[0mautoscale_view\u001b[0m\u001b[0;34m(\u001b[0m\u001b[0;34m)\u001b[0m\u001b[0;34m\u001b[0m\u001b[0m\n\u001b[0m\u001b[1;32m   2334\u001b[0m \u001b[0;34m\u001b[0m\u001b[0m\n\u001b[1;32m   2335\u001b[0m         \u001b[0mbar_container\u001b[0m \u001b[0;34m=\u001b[0m \u001b[0mBarContainer\u001b[0m\u001b[0;34m(\u001b[0m\u001b[0mpatches\u001b[0m\u001b[0;34m,\u001b[0m \u001b[0merrorbar\u001b[0m\u001b[0;34m,\u001b[0m \u001b[0mlabel\u001b[0m\u001b[0;34m=\u001b[0m\u001b[0mlabel\u001b[0m\u001b[0;34m)\u001b[0m\u001b[0;34m\u001b[0m\u001b[0m\n",
      "\u001b[0;32m~/miniconda3/lib/python3.6/site-packages/matplotlib/axes/_base.py\u001b[0m in \u001b[0;36mautoscale_view\u001b[0;34m(self, tight, scalex, scaley)\u001b[0m\n\u001b[1;32m   2476\u001b[0m             \u001b[0mstickies\u001b[0m \u001b[0;34m=\u001b[0m \u001b[0;34m[\u001b[0m\u001b[0martist\u001b[0m\u001b[0;34m.\u001b[0m\u001b[0msticky_edges\u001b[0m \u001b[0;32mfor\u001b[0m \u001b[0martist\u001b[0m \u001b[0;32min\u001b[0m \u001b[0mself\u001b[0m\u001b[0;34m.\u001b[0m\u001b[0mget_children\u001b[0m\u001b[0;34m(\u001b[0m\u001b[0;34m)\u001b[0m\u001b[0;34m]\u001b[0m\u001b[0;34m\u001b[0m\u001b[0m\n\u001b[1;32m   2477\u001b[0m             \u001b[0mx_stickies\u001b[0m \u001b[0;34m=\u001b[0m \u001b[0msum\u001b[0m\u001b[0;34m(\u001b[0m\u001b[0;34m[\u001b[0m\u001b[0msticky\u001b[0m\u001b[0;34m.\u001b[0m\u001b[0mx\u001b[0m \u001b[0;32mfor\u001b[0m \u001b[0msticky\u001b[0m \u001b[0;32min\u001b[0m \u001b[0mstickies\u001b[0m\u001b[0;34m]\u001b[0m\u001b[0;34m,\u001b[0m \u001b[0;34m[\u001b[0m\u001b[0;34m]\u001b[0m\u001b[0;34m)\u001b[0m\u001b[0;34m\u001b[0m\u001b[0m\n\u001b[0;32m-> 2478\u001b[0;31m             \u001b[0my_stickies\u001b[0m \u001b[0;34m=\u001b[0m \u001b[0msum\u001b[0m\u001b[0;34m(\u001b[0m\u001b[0;34m[\u001b[0m\u001b[0msticky\u001b[0m\u001b[0;34m.\u001b[0m\u001b[0my\u001b[0m \u001b[0;32mfor\u001b[0m \u001b[0msticky\u001b[0m \u001b[0;32min\u001b[0m \u001b[0mstickies\u001b[0m\u001b[0;34m]\u001b[0m\u001b[0;34m,\u001b[0m \u001b[0;34m[\u001b[0m\u001b[0;34m]\u001b[0m\u001b[0;34m)\u001b[0m\u001b[0;34m\u001b[0m\u001b[0m\n\u001b[0m\u001b[1;32m   2479\u001b[0m             \u001b[0;32mif\u001b[0m \u001b[0mself\u001b[0m\u001b[0;34m.\u001b[0m\u001b[0mget_xscale\u001b[0m\u001b[0;34m(\u001b[0m\u001b[0;34m)\u001b[0m\u001b[0;34m.\u001b[0m\u001b[0mlower\u001b[0m\u001b[0;34m(\u001b[0m\u001b[0;34m)\u001b[0m \u001b[0;34m==\u001b[0m \u001b[0;34m'log'\u001b[0m\u001b[0;34m:\u001b[0m\u001b[0;34m\u001b[0m\u001b[0m\n\u001b[1;32m   2480\u001b[0m                 \u001b[0mx_stickies\u001b[0m \u001b[0;34m=\u001b[0m \u001b[0;34m[\u001b[0m\u001b[0mxs\u001b[0m \u001b[0;32mfor\u001b[0m \u001b[0mxs\u001b[0m \u001b[0;32min\u001b[0m \u001b[0mx_stickies\u001b[0m \u001b[0;32mif\u001b[0m \u001b[0mxs\u001b[0m \u001b[0;34m>\u001b[0m \u001b[0;36m0\u001b[0m\u001b[0;34m]\u001b[0m\u001b[0;34m\u001b[0m\u001b[0m\n",
      "\u001b[0;31mKeyboardInterrupt\u001b[0m: "
     ]
    },
    {
     "data": {
      "image/png": "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\n",
      "text/plain": [
       "<Figure size 432x288 with 1 Axes>"
      ]
     },
     "metadata": {
      "needs_background": "light"
     },
     "output_type": "display_data"
    }
   ],
   "source": [
    "rel_retweets."
   ]
  },
  {
   "cell_type": "code",
   "execution_count": null,
   "metadata": {
    "collapsed": true
   },
   "outputs": [],
   "source": []
  }
 ],
 "metadata": {
  "kernelspec": {
   "display_name": "Python 3",
   "language": "python",
   "name": "python3"
  },
  "language_info": {
   "codemirror_mode": {
    "name": "ipython",
    "version": 3
   },
   "file_extension": ".py",
   "mimetype": "text/x-python",
   "name": "python",
   "nbconvert_exporter": "python",
   "pygments_lexer": "ipython3",
   "version": "3.6.5"
  }
 },
 "nbformat": 4,
 "nbformat_minor": 2
}
