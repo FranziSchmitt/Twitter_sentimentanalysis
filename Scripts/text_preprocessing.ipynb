{
 "cells": [
  {
   "cell_type": "code",
   "execution_count": 2,
   "metadata": {},
   "outputs": [
    {
     "data": {
      "text/html": [
       "<script>requirejs.config({paths: { 'plotly': ['https://cdn.plot.ly/plotly-latest.min']},});if(!window.Plotly) {{require(['plotly'],function(plotly) {window.Plotly=plotly;});}}</script>"
      ],
      "text/vnd.plotly.v1+html": [
       "<script>requirejs.config({paths: { 'plotly': ['https://cdn.plot.ly/plotly-latest.min']},});if(!window.Plotly) {{require(['plotly'],function(plotly) {window.Plotly=plotly;});}}</script>"
      ]
     },
     "metadata": {},
     "output_type": "display_data"
    }
   ],
   "source": [
    "import os\n",
    "import pandas as pd\n",
    "import numpy as np\n",
    "import re\n",
    "\n",
    "import time\n",
    "from tqdm import tqdm\n",
    "import datetime as dt\n",
    "\n",
    "import matplotlib.pyplot as plt\n",
    "import seaborn as sns\n",
    "import plotly as py\n",
    "py.offline.init_notebook_mode(connected=True)\n",
    "\n",
    "pd.set_option(\"display.max_colwidth\", 500)\n",
    "pd.set_option(\"display.max_columns\", 500)"
   ]
  },
  {
   "cell_type": "markdown",
   "metadata": {},
   "source": [
    "# Loading data from json and creating DataFrame"
   ]
  },
  {
   "cell_type": "code",
   "execution_count": 3,
   "metadata": {},
   "outputs": [],
   "source": [
    "def read_data(file = 'json_file_location.json'):\n",
    "    \"\"\"\n",
    "    Function to load single json files\n",
    "    \"\"\"\n",
    "    \n",
    "    data_frame = pd.read_json(file, \n",
    "                               orient='records', \n",
    "                               lines=True, \n",
    "                               convert_dates=True, \n",
    "                               keep_default_dates=True)\n",
    "    return data_frame"
   ]
  },
  {
   "cell_type": "code",
   "execution_count": 4,
   "metadata": {},
   "outputs": [],
   "source": [
    "def load_data(file_list):\n",
    "    \"\"\"\n",
    "    Function that loads json files from a list of files, using the read_data function,\n",
    "    and appends the resulting pandas DataFrames to each other\n",
    "    \"\"\"\n",
    "    \n",
    "    df = pd.DataFrame()\n",
    "    \n",
    "    for file in tqdm(file_list):\n",
    "        sub_df = read_data(file)\n",
    "        if df.empty:\n",
    "            df = sub_df\n",
    "        else:\n",
    "            df = df.append(sub_df)\n",
    "            \n",
    "    return df"
   ]
  },
  {
   "cell_type": "code",
   "execution_count": 140,
   "metadata": {},
   "outputs": [
    {
     "name": "stderr",
     "output_type": "stream",
     "text": [
      "\r",
      "  0%|          | 0/1 [00:00<?, ?it/s]\r",
      "100%|██████████| 1/1 [00:03<00:00,  3.01s/it]\n"
     ]
    }
   ],
   "source": [
    "files_list_AFD = [\"../Data_old/AfD/AfD_2018-08-04.json\" \n",
    "#                   \"../Data_old/AfD/AfD_2018-08-03.json\", \n",
    "#                   \"../Data_old/AfD/AfD_2018-08-02.json\", \n",
    "#                   \"../Data_old/AfD/AfD_2018-08-01.json\", \n",
    "#                   \"../Data_old/AfD/AfD_2018-07-31.json\", \n",
    "#                   \"../Data_old/AfD/AfD_2018-07-30.json\", \n",
    "#                   \"../Data_old/AfD/AfD_2018-07-29.json\"\n",
    "                 ]\n",
    "df_AFD = load_data(files_list_AFD)"
   ]
  },
  {
   "cell_type": "code",
   "execution_count": 141,
   "metadata": {},
   "outputs": [
    {
     "name": "stderr",
     "output_type": "stream",
     "text": [
      "\r",
      "  0%|          | 0/1 [00:00<?, ?it/s]\r",
      "100%|██████████| 1/1 [00:02<00:00,  2.98s/it]\n"
     ]
    }
   ],
   "source": [
    "files_list_SPD = [\"../Data_old/SPD/SPD_2018-08-04.json\", \n",
    "#                   \"../Data_old/SPD/SPD_2018-08-03.json\", \n",
    "#                   \"../Data_old/SPD/SPD_2018-08-02.json\", \n",
    "#                   \"../Data_old/SPD/SPD_2018-08-01.json\", \n",
    "#                   \"../Data_old/SPD/SPD_2018-07-31.json\", \n",
    "#                   \"../Data_old/SPD/SPD_2018-07-30.json\", \n",
    "#                   \"../Data_old/SPD/SPD_2018-07-29.json\"\n",
    "                 ]\n",
    "df_SPD = load_data(files_list_SPD)"
   ]
  },
  {
   "cell_type": "code",
   "execution_count": 142,
   "metadata": {},
   "outputs": [
    {
     "name": "stderr",
     "output_type": "stream",
     "text": [
      "\r",
      "  0%|          | 0/1 [00:00<?, ?it/s]\r",
      "100%|██████████| 1/1 [00:03<00:00,  3.43s/it]\n"
     ]
    }
   ],
   "source": [
    "files_list_CDU = [\"../Data_old/CDU/CDU_2018-08-04.json\", \n",
    "#                   \"../Data_old/CDU/CDU_2018-08-03.json\", \n",
    "#                   \"../Data_old/CDU/CDU_2018-08-02.json\"\n",
    "                 ]\n",
    "\n",
    "df_CDU = load_data(files_list_CDU)"
   ]
  },
  {
   "cell_type": "code",
   "execution_count": 143,
   "metadata": {},
   "outputs": [
    {
     "name": "stderr",
     "output_type": "stream",
     "text": [
      "\r",
      "  0%|          | 0/1 [00:00<?, ?it/s]\r",
      "100%|██████████| 1/1 [00:04<00:00,  4.97s/it]\n"
     ]
    }
   ],
   "source": [
    "files_list_CSU = [\"../Data_old/CSU/CSU_2018-08-04.json\", \n",
    "#                   \"../Data_old/CSU/CSU_2018-08-03.json\", \n",
    "#                   \"../Data_old/CSU/CSU_2018-08-02.json\"\n",
    "                 ]\n",
    "\n",
    "df_CSU = load_data(files_list_CSU)"
   ]
  },
  {
   "cell_type": "code",
   "execution_count": 144,
   "metadata": {},
   "outputs": [
    {
     "name": "stderr",
     "output_type": "stream",
     "text": [
      "\r",
      "  0%|          | 0/1 [00:00<?, ?it/s]\r",
      "100%|██████████| 1/1 [00:03<00:00,  3.43s/it]\n"
     ]
    }
   ],
   "source": [
    "files_list_FDP = [\"../Data_old/FDP/FDP_2018-08-04.json\", \n",
    "#                   \"../Data_old/FDP/FDP_2018-08-03.json\" \n",
    "#                   \"../Data_old/FDP/FDP_2018-08-02.json\"]\n",
    "                 ]\n",
    "\n",
    "df_FDP = load_data(files_list_FDP)"
   ]
  },
  {
   "cell_type": "code",
   "execution_count": 145,
   "metadata": {},
   "outputs": [
    {
     "name": "stderr",
     "output_type": "stream",
     "text": [
      "\r",
      "  0%|          | 0/1 [00:00<?, ?it/s]\r",
      "100%|██████████| 1/1 [00:00<00:00,  1.18it/s]\n"
     ]
    }
   ],
   "source": [
    "files_list_LINKE = [\"../Data_old/LINKE/LINKE_2018-08-04.json\", \n",
    "#                   \"../Data_old/LINKE/LINKE_2018-08-03.json\" \n",
    "#                   \"../Data_old/LINKE/LINKE_2018-08-02.json\"]\n",
    "                   ]\n",
    "\n",
    "df_LINKE = load_data(files_list_LINKE)"
   ]
  },
  {
   "cell_type": "code",
   "execution_count": 146,
   "metadata": {},
   "outputs": [
    {
     "name": "stderr",
     "output_type": "stream",
     "text": [
      "\r",
      "  0%|          | 0/1 [00:00<?, ?it/s]\r",
      "100%|██████████| 1/1 [00:01<00:00,  1.51s/it]\n"
     ]
    }
   ],
   "source": [
    "files_list_Gruene = [\"../Data_old/Gruene/Gruene_2018-08-04.json\", \n",
    "#                   \"../Data_old/Gruene/Gruene_2018-08-03.json\", \n",
    "#                   \"../Data_old/Gruene/Gruene_2018-08-02.json\"\n",
    "                    ]\n",
    "\n",
    "df_Gruene = load_data(files_list_Gruene)"
   ]
  },
  {
   "cell_type": "code",
   "execution_count": 97,
   "metadata": {},
   "outputs": [],
   "source": [
    "list_dfs = [df_AFD, df_SPD, df_CDU, df_CSU, df_FDP, df_LINKE, df_Gruene]"
   ]
  },
  {
   "cell_type": "markdown",
   "metadata": {},
   "source": [
    "# Creating a clean dataframe that only contains relevant columns and no duplicates\n",
    "\n",
    "New dataframe contains: Ascending datatime as index, user-id and the text of the tweet of only german tweets"
   ]
  },
  {
   "cell_type": "code",
   "execution_count": 7,
   "metadata": {},
   "outputs": [],
   "source": [
    "def cleaning(df):\n",
    "    \"\"\"\n",
    "    Creates a dataframe with distinct columns only and only german tweets; \n",
    "    defines a datetime index and sorts in an ascending manner; \n",
    "    also, deletes duplicates in the text column\n",
    "    \"\"\"\n",
    "    \n",
    "    \n",
    "    ger_df = df.loc[:, ['created_at', 'id_str', 'text']][df.lang == 'de']\n",
    "    ger_df = ger_df.set_index(pd.DatetimeIndex(ger_df['created_at'], inplace=True)).sort_values('created_at', ascending=True)\n",
    "    \n",
    "    clean_ger_df = ger_df.drop_duplicates('text')\n",
    "\n",
    "    assert len(clean_ger_df) == (len(ger_df) - ger_df.duplicated('text').sum())\n",
    "    \n",
    "    return ger_df"
   ]
  },
  {
   "cell_type": "code",
   "execution_count": 147,
   "metadata": {},
   "outputs": [],
   "source": [
    "clean_df_AFD = cleaning(df_AFD)"
   ]
  },
  {
   "cell_type": "code",
   "execution_count": 148,
   "metadata": {},
   "outputs": [],
   "source": [
    "clean_df_SPD = cleaning(df_SPD)"
   ]
  },
  {
   "cell_type": "code",
   "execution_count": 149,
   "metadata": {},
   "outputs": [],
   "source": [
    "clean_df_CDU = cleaning(df_CDU)"
   ]
  },
  {
   "cell_type": "code",
   "execution_count": 150,
   "metadata": {},
   "outputs": [],
   "source": [
    "clean_df_CSU = cleaning(df_CSU)"
   ]
  },
  {
   "cell_type": "code",
   "execution_count": 151,
   "metadata": {},
   "outputs": [],
   "source": [
    "clean_df_FDP = cleaning(df_FDP)"
   ]
  },
  {
   "cell_type": "code",
   "execution_count": 152,
   "metadata": {},
   "outputs": [],
   "source": [
    "clean_df_LINKE = cleaning(df_LINKE)"
   ]
  },
  {
   "cell_type": "code",
   "execution_count": 153,
   "metadata": {},
   "outputs": [],
   "source": [
    "clean_df_Gruene = cleaning(df_Gruene)"
   ]
  },
  {
   "cell_type": "markdown",
   "metadata": {},
   "source": [
    "# Quick excursion: Time series of tweets per minute\n",
    "\n",
    "Count all tweets per minute and plot the tweetcount against time"
   ]
  },
  {
   "cell_type": "code",
   "execution_count": 10,
   "metadata": {},
   "outputs": [],
   "source": [
    "# def plot_timeseries(df):\n",
    "#     tweetcount_df = df.loc[:, 'text'].resample('min').count()\n",
    "    \n",
    "#     tweetcount_df.plot(figsize=(30, 7.5), color='b', )\n",
    "#     print('hurray, first plot')"
   ]
  },
  {
   "cell_type": "code",
   "execution_count": 81,
   "metadata": {},
   "outputs": [],
   "source": [
    "def tweetcount(df):\n",
    "    tweetcount_df = pd.DataFrame(df.loc[:, 'text'].resample('h').count())\n",
    "    return tweetcount_df"
   ]
  },
  {
   "cell_type": "code",
   "execution_count": 154,
   "metadata": {},
   "outputs": [],
   "source": [
    "tweetcount_AFD = tweetcount(clean_df_AFD)"
   ]
  },
  {
   "cell_type": "code",
   "execution_count": 155,
   "metadata": {},
   "outputs": [],
   "source": [
    "tweetcount_SPD = tweetcount(clean_df_SPD)"
   ]
  },
  {
   "cell_type": "code",
   "execution_count": 156,
   "metadata": {},
   "outputs": [],
   "source": [
    "tweetcount_CDU = tweetcount(clean_df_CDU)"
   ]
  },
  {
   "cell_type": "code",
   "execution_count": 157,
   "metadata": {},
   "outputs": [],
   "source": [
    "tweetcount_CSU = tweetcount(clean_df_CSU)"
   ]
  },
  {
   "cell_type": "code",
   "execution_count": 158,
   "metadata": {},
   "outputs": [],
   "source": [
    "tweetcount_FDP = tweetcount(clean_df_FDP)"
   ]
  },
  {
   "cell_type": "code",
   "execution_count": 159,
   "metadata": {},
   "outputs": [],
   "source": [
    "tweetcount_LINKE = tweetcount(clean_df_LINKE)"
   ]
  },
  {
   "cell_type": "code",
   "execution_count": 160,
   "metadata": {},
   "outputs": [],
   "source": [
    "tweetcount_Gruene = tweetcount(clean_df_Gruene)"
   ]
  },
  {
   "cell_type": "code",
   "execution_count": 161,
   "metadata": {},
   "outputs": [],
   "source": [
    "# Make data and layout objects\n",
    "import plotly.graph_objs as go\n",
    "\n",
    "AFD = go.Scatter(   # Initialize the scatter trace object                         \n",
    "        y = tweetcount_AFD.loc[:, 'text'],    # Reference between trace's x coord. and x axis\n",
    "        x = tweetcount_AFD.index,    # Reference between trace's y coord. and y axis\n",
    "        line = dict(\n",
    "        color = ('rgb(26, 124, 199)')),\n",
    "        name = 'AfD') # Mode of the scatter trace object (lines, text)\n",
    "\n",
    "SPD = go.Scatter(   \n",
    "       y = tweetcount_SPD.loc[:, 'text'],    \n",
    "       x = tweetcount_SPD.index,    \n",
    "       line = dict(\n",
    "       color = ('rgb(210, 0, 0)')),\n",
    "        name = 'SPD')    \n",
    "\n",
    "CDU = go.Scatter(  \n",
    "       y = tweetcount_CDU.loc[:, 'text'],    \n",
    "       x = tweetcount_CDU.index,    \n",
    "       line = dict(\n",
    "       color = ('rgb(0, 29, 77)')),\n",
    "       name = 'CDU')\n",
    "\n",
    "CSU = go.Scatter(   \n",
    "       y = tweetcount_CSU.loc[:, 'text'],   \n",
    "       x = tweetcount_CSU.index,   \n",
    "       line = dict(\n",
    "       color = ('rgb(26, 117, 255)')),\n",
    "        name = 'CSU')\n",
    "\n",
    "LINKE = go.Scatter(   \n",
    "       y = tweetcount_LINKE.loc[:, 'text'],    \n",
    "       x = tweetcount_LINKE.index,    \n",
    "       line = dict(\n",
    "       color = ('rgb(204, 0, 102)')),\n",
    "        name = 'Linke')\n",
    "\n",
    "FDP = go.Scatter(   \n",
    "       y = tweetcount_FDP.loc[:, 'text'],    \n",
    "       x = tweetcount_FDP.index,    \n",
    "       line = dict(\n",
    "       color = ('rgb(255, 204, 0)')),\n",
    "       name = 'FDP')\n",
    "\n",
    "Gruene = go.Scatter(  \n",
    "       y = tweetcount_Gruene.loc[:, 'text'],   \n",
    "       x = tweetcount_Gruene.index,   \n",
    "       line = dict(\n",
    "       color = ('rgb(0, 204, 0)')),\n",
    "        name = 'Grüne')\n",
    "\n",
    "\n",
    "data = [AFD, SPD, CDU, CSU, LINKE, FDP, Gruene] # Create data list-like object of 2 traces\n",
    " \n",
    "layout = go.Layout(title='Party tweet-count per hour',\n",
    "                  yaxis = dict(title='Tweets per hour'),\n",
    "                  xaxis = dict(title='Time'),\n",
    "                  ) # Set the figures title"
   ]
  },
  {
   "cell_type": "code",
   "execution_count": 165,
   "metadata": {},
   "outputs": [],
   "source": [
    "hourly_tweetcount = go.Figure(data=data, layout=layout)"
   ]
  },
  {
   "cell_type": "code",
   "execution_count": 166,
   "metadata": {},
   "outputs": [
    {
     "data": {
      "0": {
       "line": {
        "color": "rgb(26, 124, 199)"
       },
       "name": "AfD",
       "type": "scatter",
       "uid": "f0c52aae-9ca8-11e8-bd8b-4c34883f0a07",
       "x": [
        "2018-08-04 14:00:00",
        "2018-08-04 15:00:00",
        "2018-08-04 16:00:00",
        "2018-08-04 17:00:00",
        "2018-08-04 18:00:00",
        "2018-08-04 19:00:00",
        "2018-08-04 20:00:00",
        "2018-08-04 21:00:00",
        "2018-08-04 22:00:00",
        "2018-08-04 23:00:00"
       ],
       "y": [
        381,
        818,
        791,
        777,
        766,
        882,
        871,
        685,
        529,
        342
       ]
      },
      "1": {
       "line": {
        "color": "rgb(210, 0, 0)"
       },
       "name": "SPD",
       "type": "scatter",
       "uid": "f0c52aaf-9ca8-11e8-bd8b-4c34883f0a07",
       "x": [
        "2018-08-04",
        "2018-08-04 01:00:00",
        "2018-08-04 02:00:00",
        "2018-08-04 03:00:00",
        "2018-08-04 04:00:00",
        "2018-08-04 05:00:00",
        "2018-08-04 06:00:00",
        "2018-08-04 07:00:00",
        "2018-08-04 08:00:00",
        "2018-08-04 09:00:00",
        "2018-08-04 10:00:00",
        "2018-08-04 11:00:00",
        "2018-08-04 12:00:00",
        "2018-08-04 13:00:00",
        "2018-08-04 14:00:00",
        "2018-08-04 15:00:00",
        "2018-08-04 16:00:00",
        "2018-08-04 17:00:00",
        "2018-08-04 18:00:00",
        "2018-08-04 19:00:00",
        "2018-08-04 20:00:00",
        "2018-08-04 21:00:00",
        "2018-08-04 22:00:00",
        "2018-08-04 23:00:00"
       ],
       "y": [
        27,
        25,
        16,
        28,
        55,
        114,
        202,
        200,
        225,
        287,
        291,
        331,
        268,
        281,
        295,
        341,
        343,
        302,
        330,
        304,
        299,
        274,
        149,
        104
       ]
      },
      "2": {
       "line": {
        "color": "rgb(0, 29, 77)"
       },
       "name": "CDU",
       "type": "scatter",
       "uid": "f0c52ab0-9ca8-11e8-bd8b-4c34883f0a07",
       "x": [
        "2018-08-04",
        "2018-08-04 01:00:00",
        "2018-08-04 02:00:00",
        "2018-08-04 03:00:00",
        "2018-08-04 04:00:00",
        "2018-08-04 05:00:00",
        "2018-08-04 06:00:00",
        "2018-08-04 07:00:00",
        "2018-08-04 08:00:00",
        "2018-08-04 09:00:00",
        "2018-08-04 10:00:00",
        "2018-08-04 11:00:00",
        "2018-08-04 12:00:00",
        "2018-08-04 13:00:00",
        "2018-08-04 14:00:00",
        "2018-08-04 15:00:00",
        "2018-08-04 16:00:00",
        "2018-08-04 17:00:00",
        "2018-08-04 18:00:00",
        "2018-08-04 19:00:00",
        "2018-08-04 20:00:00",
        "2018-08-04 21:00:00",
        "2018-08-04 22:00:00",
        "2018-08-04 23:00:00"
       ],
       "y": [
        25,
        31,
        12,
        29,
        67,
        127,
        246,
        321,
        326,
        380,
        336,
        401,
        455,
        468,
        464,
        410,
        400,
        364,
        370,
        359,
        359,
        286,
        181,
        112
       ]
      },
      "3": {
       "line": {
        "color": "rgb(26, 117, 255)"
       },
       "name": "CSU",
       "type": "scatter",
       "uid": "f0c52ab1-9ca8-11e8-bd8b-4c34883f0a07",
       "x": [
        "2018-08-04",
        "2018-08-04 01:00:00",
        "2018-08-04 02:00:00",
        "2018-08-04 03:00:00",
        "2018-08-04 04:00:00",
        "2018-08-04 05:00:00",
        "2018-08-04 06:00:00",
        "2018-08-04 07:00:00",
        "2018-08-04 08:00:00",
        "2018-08-04 09:00:00",
        "2018-08-04 10:00:00",
        "2018-08-04 11:00:00",
        "2018-08-04 12:00:00",
        "2018-08-04 13:00:00",
        "2018-08-04 14:00:00",
        "2018-08-04 15:00:00",
        "2018-08-04 16:00:00",
        "2018-08-04 17:00:00",
        "2018-08-04 18:00:00",
        "2018-08-04 19:00:00",
        "2018-08-04 20:00:00",
        "2018-08-04 21:00:00",
        "2018-08-04 22:00:00",
        "2018-08-04 23:00:00"
       ],
       "y": [
        19,
        19,
        14,
        25,
        59,
        96,
        170,
        146,
        163,
        182,
        223,
        158,
        205,
        197,
        180,
        206,
        192,
        195,
        187,
        223,
        231,
        177,
        100,
        76
       ]
      },
      "4": {
       "line": {
        "color": "rgb(204, 0, 102)"
       },
       "name": "Linke",
       "type": "scatter",
       "uid": "f0c52ab2-9ca8-11e8-bd8b-4c34883f0a07",
       "x": [
        "2018-08-04 14:00:00",
        "2018-08-04 15:00:00",
        "2018-08-04 16:00:00",
        "2018-08-04 17:00:00",
        "2018-08-04 18:00:00",
        "2018-08-04 19:00:00",
        "2018-08-04 20:00:00",
        "2018-08-04 21:00:00",
        "2018-08-04 22:00:00",
        "2018-08-04 23:00:00"
       ],
       "y": [
        19,
        284,
        341,
        247,
        277,
        266,
        278,
        200,
        132,
        104
       ]
      },
      "5": {
       "line": {
        "color": "rgb(255, 204, 0)"
       },
       "name": "FDP",
       "type": "scatter",
       "uid": "f0c52ab3-9ca8-11e8-bd8b-4c34883f0a07",
       "x": [
        "2018-08-04 20:00:00",
        "2018-08-04 21:00:00",
        "2018-08-04 22:00:00",
        "2018-08-04 23:00:00"
       ],
       "y": [
        25,
        91,
        54,
        51
       ]
      },
      "6": {
       "line": {
        "color": "rgb(0, 204, 0)"
       },
       "name": "Grüne",
       "type": "scatter",
       "uid": "f0c52ab4-9ca8-11e8-bd8b-4c34883f0a07",
       "x": [
        "2018-08-04",
        "2018-08-04 01:00:00",
        "2018-08-04 02:00:00",
        "2018-08-04 03:00:00",
        "2018-08-04 04:00:00",
        "2018-08-04 05:00:00",
        "2018-08-04 06:00:00",
        "2018-08-04 07:00:00",
        "2018-08-04 08:00:00",
        "2018-08-04 09:00:00",
        "2018-08-04 10:00:00",
        "2018-08-04 11:00:00",
        "2018-08-04 12:00:00",
        "2018-08-04 13:00:00",
        "2018-08-04 14:00:00",
        "2018-08-04 15:00:00",
        "2018-08-04 16:00:00",
        "2018-08-04 17:00:00",
        "2018-08-04 18:00:00",
        "2018-08-04 19:00:00",
        "2018-08-04 20:00:00",
        "2018-08-04 21:00:00",
        "2018-08-04 22:00:00",
        "2018-08-04 23:00:00"
       ],
       "y": [
        27,
        9,
        9,
        14,
        19,
        93,
        97,
        124,
        148,
        161,
        138,
        150,
        296,
        285,
        304,
        266,
        244,
        223,
        202,
        190,
        251,
        196,
        128,
        62
       ]
      },
      "image/png": "[encoded data removed]"
     },
     "metadata": {},
     "output_type": "display_data"
    }
   ],
   "source": [
    "py.offline.iplot(fig)"
   ]
  },
  {
   "cell_type": "code",
   "execution_count": 167,
   "metadata": {},
   "outputs": [],
   "source": [
    "config = dict(modeBarButtonsToRemove=['sendDataToCloud'],\n",
    "              displaylogo=False,\n",
    "              fillFrame=True)  \n",
    "\n",
    "div_str = py.offline.plot(hourly_tweetcount,\n",
    "                          output_type='div', \n",
    "                          include_plotlyjs=False,\n",
    "                          show_link=False,\n",
    "                          config=config)"
   ]
  },
  {
   "cell_type": "code",
   "execution_count": 168,
   "metadata": {},
   "outputs": [],
   "source": [
    "# Insert the code in the page template\n",
    "html_str = '''<!DOCTYPE html>\n",
    "                <html>\n",
    "                \n",
    "                <head>\n",
    "                  <script src=\"https://d3js.org/d3.v3.min.js\"></script>\n",
    "                  <script src='https://cdn.plot.ly/plotly-latest.min.js'></script>\n",
    "                </head>\n",
    "                \n",
    "                \n",
    "                <body>\n",
    "                  <h1>Simple Dashboard</h1>\n",
    "                  <p>The following plot is static and interactive at the same time ;)</p>\n",
    "                \n",
    "                  {}\n",
    "                \n",
    "                </body>\n",
    "                \n",
    "                </html>\n",
    "                '''.format(div_str)\n",
    "\n",
    "# The resulting string can be saved in a file\n",
    "with open('simple_dashboard.html', 'w') as f:\n",
    "    f.write(html_str)"
   ]
  },
  {
   "cell_type": "markdown",
   "metadata": {},
   "source": [
    "# Feature extraction and first clustering - 'quick and dirty'\n",
    "1. Vectorize the raw tweets\n",
    "2. Clustering\n",
    "3. Reduce the dimension (PCA)"
   ]
  },
  {
   "cell_type": "code",
   "execution_count": 15,
   "metadata": {},
   "outputs": [],
   "source": [
    "from sklearn.feature_extraction.text import CountVectorizer\n",
    "from sklearn.cluster import KMeans\n",
    "from sklearn.decomposition import PCA"
   ]
  },
  {
   "cell_type": "code",
   "execution_count": 16,
   "metadata": {},
   "outputs": [],
   "source": [
    "vectorizer  = CountVectorizer()\n",
    "text = (clean_df_AFD.loc[:, 'text']).tolist()\n",
    "X = vectorizer.fit_transform(text)"
   ]
  },
  {
   "cell_type": "code",
   "execution_count": 19,
   "metadata": {},
   "outputs": [],
   "source": [
    "clsf = KMeans(n_clusters=2, random_state=123).fit(X)"
   ]
  },
  {
   "cell_type": "code",
   "execution_count": 20,
   "metadata": {},
   "outputs": [
    {
     "data": {
      "text/plain": [
       "array([1, 0, 1, ..., 1, 1, 1], dtype=int32)"
      ]
     },
     "execution_count": 20,
     "metadata": {},
     "output_type": "execute_result"
    }
   ],
   "source": []
  },
  {
   "cell_type": "markdown",
   "metadata": {},
   "source": [
    "# Extract hashtags and party mentions"
   ]
  },
  {
   "cell_type": "code",
   "execution_count": 15,
   "metadata": {},
   "outputs": [],
   "source": [
    "text_cleaner = lambda x: \" \".join(re.findall(r\"[A-Za-z0-9üäöÜÄÖß#@ ]*\", x))    "
   ]
  },
  {
   "cell_type": "code",
   "execution_count": 16,
   "metadata": {},
   "outputs": [
    {
     "name": "stdout",
     "output_type": "stream",
     "text": [
      "<class 'pandas.core.frame.DataFrame'>\n",
      "DatetimeIndex: 46999 entries, 2018-07-29 15:26:38 to 2018-08-04 23:59:42\n",
      "Data columns (total 4 columns):\n",
      "created_at    46999 non-null datetime64[ns]\n",
      "id_str        46999 non-null int64\n",
      "text          46999 non-null object\n",
      "clean_text    46999 non-null object\n",
      "dtypes: datetime64[ns](1), int64(1), object(2)\n",
      "memory usage: 3.0+ MB\n"
     ]
    },
    {
     "data": {
      "text/plain": [
       "created_at\n",
       "2018-07-29 15:26:38                                                                                              @Joerg  Meuthen @tagesschau @AfD  Fraktion  HH die haben ja auch einen knall \n",
       "2018-07-29 15:26:40                       @Vyacheslav777   @AfD @realDonaldTrump das kommt auch alles OHNE das jetzige Part  Eien System   Die AfD gehört voll m   https    t  co  kqJ6mtxhAe \n",
       "2018-07-29 15:26:41                     RT @KokoLores20   Eine   Insiderin    von der zuvor noch nie jemand etwas gehört hat   packt aus      Gähn    Totaaaal glaubwürdig      Die Propagan  \n",
       "2018-07-29 15:26:41                           RT @Eckleben   Aus d spanischen Exklave #CEUTA hört man von den #illegalen #afrika  nischen Eindringlingen    Eroberern immer wieder den Ausru  \n",
       "2018-07-29 15:26:43                        RT @MalteKaufmann   Na endlich   Im #Sonntagstrend von #Emnid fallen #CDU #CSU erstmals seit   06 auf 29    Die pol   Hasardeure #Merkel   #Seeho  \n",
       "2018-07-29 15:26:45                        RT @pr  morty   @ErStaatlich @AfD    Die  Alternative für Deutschland   AfD  darf ganz offiziell als rechtsextremistische Partei bezeichnet werde  \n",
       "2018-07-29 15:26:45                       RT @Alice  Weidel          Waldbrandgefahr   Deutschland muss nun handeln und endlich Löschflugzeuge anschaffen       Während europaweit viele Wäl  \n",
       "2018-07-29 15:26:45                         RT @AliTHaydar   Ekelhafte AfD  ler   Sich scheinheilig über eine Ungerechtigkeit aufregen   nur um Geflüchtete und deren Unterstützer  Innen be  \n",
       "2018-07-29 15:26:49                      RT @AfD  Bv  HH  Nord   RUHE IN FRIEDEN   v 1 Jahr starb Matthias P    weil ein i d #Assahaba  #Moschee in #Hamburg  #Barmbek radikalisierter Paläs  \n",
       "2018-07-29 15:27:03                           RT @PoggenburgAndre   Franziska Schreiber kam in der #AfD nicht weiter   konnte keine Karriere machen   arbeitete 2016 nur einige Monate in un  \n",
       "2018-07-29 15:27:11                   RT @Beatrix  vStorch   Christian   ich  klau  am  liebsten  bei  der  AfD   Lindner schreibt eine weitere Forderung aus unserem Wahlprogramm ab   Dies  \n",
       "2018-07-29 15:27:13                           RT @Eckleben   Aus d spanischen Exklave #CEUTA hört man von den #illegalen #afrika  nischen Eindringlingen    Eroberern immer wieder den Ausru  \n",
       "2018-07-29 15:27:16                         RT @Frank  Pasemann     @Twitter nimmt EINEN prominenten Republikaner in #shadowban   Präsident @realDonaldTrump kündigt an   diese diskriminier  \n",
       "2018-07-29 15:27:21                        RT @Ingolstadt  01   Ach ja   eine in der Versenkung verschwundene Prominente   Um Schlagzeilen zu machen   tun vermeintliche Z  Prominente viel   \n",
       "2018-07-29 15:27:21                          RT @GtzFrmming   Selbst das islamische Saudi  Arabien schützt sich mit einer Hightech  Grenze vor unerwünschten muslimischen Eindringlingen   U  \n",
       "2018-07-29 15:27:23                                                       RT @Petraziegler4   @Gunnhilde   @welt Wenn immer mehr Leute die AFD wählen ist der Spuk mit EUCH bald vorbei       \n",
       "2018-07-29 15:27:26                         @RogerBeckamp Die Afd sollte stärker vermitteln wie stark die Steuern gesenkt werden können  wenn die Flüchtlingskos   https    t  co  Wdxy45lXbV \n",
       "2018-07-29 15:27:26                          RT @Farlion   @sebh1995 @MTaege Nur ganz kurz   So brandaktuell ist das aber nicht   @SPIEGELONLINE hat da schon 2016 drüber geschrieben   http  \n",
       "2018-07-29 15:27:28                       das ist kein betrug  doch ein ausnutzen ihrer empathie    darum sollte man immer  den ganzen bullshit hier im internet   https    t  co  iVE184nz8H \n",
       "2018-07-29 15:27:28                          RT @PeterBurtchen   Das sollten sich die Ewiggestrigen der Kopie der NSDAP  der AfD   hinter den Spiegel stecken  Dieser Dreckshaufen gehört au  \n",
       "2018-07-29 15:27:29                        RT @Art  79  Abs  3  GG   @BILD @Lindnereien @BILDamSONNTAG Sie leugnen also   dass Rassismus in Deutschland von Ihrer Zeitung und von der AfD ge  \n",
       "2018-07-29 15:27:32                   RT @AfD       Kulturelle Bereicherungen Alltag in     Freibädern     Zurück bleiben traumatisierte Opfer   amp   ratlose Betreiber   denn viele Bürger  \n",
       "2018-07-29 15:27:33                        RT @AfD  Bayern   #Merkel vernichtet     Wohlstand     Flüchtlingsjahr 2015 kostet 1500 Mrd    Energiewende verschlingt 1000 Mrd    Deutsche Spar  \n",
       "2018-07-29 15:27:35                                                                        @KreuzAcht @KommandoMensch Die #afd ist der deutsche arm des internationalen terrors is  al kaida  \n",
       "2018-07-29 15:27:52                       @JohannesNormann @Her  Of  Twin @mooksberlin @AfD @CSU Eines beweisen Sie hier immer wieder aufs Neue   Sie leben tats   https    t  co  jAIlDQLaMG \n",
       "2018-07-29 15:27:56                                                         @RambaZamba161 @KillarNBathy Interessante Partei   einer lügt mehr als der andere   #AfD ler haben kein Rückgrat  \n",
       "2018-07-29 15:27:58                        RT @Mica4711   Unter https    t  co  LG68lyPXLY gibt es eine umfangreiche Zitatesammlung   nach der niemand   aber auch wirklich niemand jemals m  \n",
       "2018-07-29 15:28:01                            RT @MTyson3131   Habe Firmenwagen in der Werkstatt abgegeben und werde vom Werkstattmitarbeiter ins Büro gefahren  Werde auf der Fahrt gefrag  \n",
       "2018-07-29 15:28:02                           RT @Eckleben   Aus d spanischen Exklave #CEUTA hört man von den #illegalen #afrika  nischen Eindringlingen    Eroberern immer wieder den Ausru  \n",
       "2018-07-29 15:28:04                        @JohannesNormann @Her  Of  Twin @mooksberlin @AfD @CSU Übrigens in Deutschland gibt es noch immer keinen Staatsrundfu   https    t  co  gjJSfZh7zL \n",
       "                                                                                                        ...                                                                                   \n",
       "2018-08-04 23:52:01                         RT @ErStaatlich   1  3 So liebe Damen und Herren der #AfD   Ich wiederhole das so lange   bis es Euch zu den Ohren raus kommt und alle   die nic  \n",
       "2018-08-04 23:52:20                          RT @FuerOpferschutz   Unfassbar   Heißt das nächste Opfer #Jara    Wie der Staatsfunk junge Mädchen verführt statt vorwarnt   unverantwortlich   \n",
       "2018-08-04 23:52:50                         RT @St  Gemmel   Gerade kam eine unserer regionalen @afd  Befürworterinnen aus einem Solarium heraus und ich dachte nur     Interessant zu sehen  \n",
       "2018-08-04 23:52:59                                                                                                 RT @cornyderewige   #afd ist keine alternative https    t  co  JknVpJKbzB \n",
       "2018-08-04 23:53:02                        Die AfD kann nicht mit anderen kooperieren   denn keiner will mit ihnen zusammenarbeiten   Hinzu kommt   dass es blöd   https    t  co  FEjxSCQxgK \n",
       "2018-08-04 23:53:11                          RT @Steinhoefel   Den Ekel und Abscheu vor einem Individuum   das derartiges von sich gibt   vermag ich kaum in Worte zu fassen   Wer diesen Po  \n",
       "2018-08-04 23:53:36    RT @dawum  de   #Wahltrend   Min   Max    Bundestagswahl   04  08  18    CDU  CSU   29  31    SPD   17  18    AfD   14  17  5    Grüne   12  15    Linke   9  11    F  \n",
       "2018-08-04 23:53:37             An alle verfickten Nazis   AFD  ler   CSU  ler   Rassisten   PKK  ler   FetO  s   Grünen   Linken   Özdemeier  s und Regenbogen    https    t  co  1EQ6UZgElv \n",
       "2018-08-04 23:53:48                            RT @KokoLores20   In Schweden rollt das schwedische Pendant zur #AfD das Feld von hinten auf   In einem Monat ist Wahl und die migrationskrit  \n",
       "2018-08-04 23:54:01                       @Gauland1510 Warte   Bist du jetzt ironisch Afd Anhänger oder unironisch   Ich blick da nicht mehr ganz durch   Mich i   https    t  co  5AA2dYtvAz \n",
       "2018-08-04 23:54:04                          RT @BlondJedi   Tagesthemen Kommentator findet beschämend   dass  jeder 5   Deutsche @AfD wählen würde    ich finde eher beschämend dass die @t  \n",
       "2018-08-04 23:54:26                             @spdbt @COMPACTMagazin @IBDeutschland @Beatrix  vStorch @Germans  4Trump @Alice  Weidel @CDU @AFD @maxotte  says   https    t  co  aJzCS1QtNC \n",
       "2018-08-04 23:54:55                       @IchBinRene   Kann dir in den Punkten nur zustimmen   Man muss aber dennoch berücksichtigen   dass die AfD nicht die e   https    t  co  kMHVH1FYVB \n",
       "2018-08-04 23:55:12                       RT @Beatrix  vStorch   Abdul D    der Mörder der 15  jährigen Mia   hat den deutschen Steuerzahler bis zu seiner Tat 100  000 Euro gekostet   Nebe  \n",
       "2018-08-04 23:55:29                         @Kittypunk7 Nur richtige Fragen zu stellen führt nicht zum Erfolg   Man muss schon die richtigen Antworten finden un   https    t  co  JNdKQsKLOp \n",
       "2018-08-04 23:56:20                      AfD   Putin   Trump   Erdogan kommen bei der jetzigen Presse komplett schlecht weg     warum wohl   Hm weil es so dumme   https    t  co  5UeYWnFlDh \n",
       "2018-08-04 23:56:41                          RT @MalteKaufmann   15        von 16 Bundesländern schieben nicht ordentlich nach #Afghanistan ab   Wird Zeit   dass die #Innenminister der Län  \n",
       "2018-08-04 23:56:55                            RT @PoggenburgAndre   Extreme Parallelstrukturen    Erschütternd und vorhersehbar zugleich ist die Entwicklung ausländischer Clans in Deutsch  \n",
       "2018-08-04 23:56:57                            RT @KokoLores20   In Schweden rollt das schwedische Pendant zur #AfD das Feld von hinten auf   In einem Monat ist Wahl und die migrationskrit  \n",
       "2018-08-04 23:57:20                         @tagesthemen @c  nitsche Wir erleben den Werteverfall der Altparteien und kehren im Gänsemarsch zur Demokratischen B   https    t  co  gMgo6hJUcF \n",
       "2018-08-04 23:57:33                                                         @Beatrix  vStorch Hoffnungslosigkeit war gestern   Wir haben die AfD   Endlich Zuversicht bei so einer Regierung  \n",
       "2018-08-04 23:57:35                                                                     @datHartmann Etikettenschwindel ist eine Stärke der Rechten   Die AfD ist ja auch keine Alternative   \n",
       "2018-08-04 23:57:59                          RT @BlondJedi   Tagesthemen Kommentator findet beschämend   dass  jeder 5   Deutsche @AfD wählen würde    ich finde eher beschämend dass die @t  \n",
       "2018-08-04 23:57:59                          RT @tagesthemen     Beinahe jeder Fünfte würde der #AfD derzeit seine Stimme schenken        Was für ein historischer Aberwitz   wenn eine poli  \n",
       "2018-08-04 23:58:21                        @marcelmanriquez @onyx0815 Die AfD hat es geschafft   daß auch die letzten Idioten nun glauben   daß das   was sie da   https    t  co  lrGh3PfXir \n",
       "2018-08-04 23:58:23                     RT @AliCologne   Wenn   Vorzeigelinke   #Aufstehen so diffamieren   als hätte sie die AfD gegründet    Es gibt also die   echten   Linken   die   wa  \n",
       "2018-08-04 23:58:31                 Die Hölle geht auf    für    #AFD  #AFDimBundestag  #AliceWeidel  #Gauland  #Meuthen  #Storch  #MalteKaufmann  und Konsorten   https    t  co  QoRkEHy5rA \n",
       "2018-08-04 23:58:37                          RT @BlondJedi   Tagesthemen Kommentator findet beschämend   dass  jeder 5   Deutsche @AfD wählen würde    ich finde eher beschämend dass die @t  \n",
       "2018-08-04 23:58:39                    RT @OpaPiepenbrink   Die Hölle geht auf    für    #AFD  #AFDimBundestag  #AliceWeidel  #Gauland  #Meuthen  #Storch  #MalteKaufmann  und Konsorten nat  \n",
       "2018-08-04 23:59:42                       RT @Beatrix  vStorch   Abdul D    der Mörder der 15  jährigen Mia   hat den deutschen Steuerzahler bis zu seiner Tat 100  000 Euro gekostet   Nebe  \n",
       "Name: clean_text, Length: 46999, dtype: object"
      ]
     },
     "execution_count": 16,
     "metadata": {},
     "output_type": "execute_result"
    }
   ],
   "source": [
    "clean_df_AFD['clean_text'] = clean_df_AFD['text'].apply(text_cleaner)\n",
    "\n",
    "clean_df_AFD.info()\n",
    "clean_df_AFD['clean_text'].astype('str')"
   ]
  },
  {
   "cell_type": "code",
   "execution_count": 26,
   "metadata": {},
   "outputs": [],
   "source": [
    "tag_finder = lambda x: re.findall(r\"#(\\w+)\", x)\n",
    "tag_remover = lambda x: re.sub(\"#(\\w+)\", '', x)"
   ]
  },
  {
   "cell_type": "code",
   "execution_count": 38,
   "metadata": {},
   "outputs": [],
   "source": [
    "clean_df_AFD['tags'] = clean_df_AFD['text'].apply(tag_finder)\n",
    "clean_df_AFD['clean_text'] = clean_df_AFD['text'].apply(text_cleaner).apply(tag_remover)"
   ]
  },
  {
   "cell_type": "code",
   "execution_count": 39,
   "metadata": {},
   "outputs": [
    {
     "data": {
      "text/html": [
       "<div>\n",
       "<style>\n",
       "    .dataframe thead tr:only-child th {\n",
       "        text-align: right;\n",
       "    }\n",
       "\n",
       "    .dataframe thead th {\n",
       "        text-align: left;\n",
       "    }\n",
       "\n",
       "    .dataframe tbody tr th {\n",
       "        vertical-align: top;\n",
       "    }\n",
       "</style>\n",
       "<table border=\"1\" class=\"dataframe\">\n",
       "  <thead>\n",
       "    <tr style=\"text-align: right;\">\n",
       "      <th></th>\n",
       "      <th>created_at</th>\n",
       "      <th>id_str</th>\n",
       "      <th>text</th>\n",
       "      <th>clean_text</th>\n",
       "      <th>tags</th>\n",
       "      <th>parties</th>\n",
       "    </tr>\n",
       "    <tr>\n",
       "      <th>created_at</th>\n",
       "      <th></th>\n",
       "      <th></th>\n",
       "      <th></th>\n",
       "      <th></th>\n",
       "      <th></th>\n",
       "      <th></th>\n",
       "    </tr>\n",
       "  </thead>\n",
       "  <tbody>\n",
       "    <tr>\n",
       "      <th>2018-07-29 15:26:38</th>\n",
       "      <td>2018-07-29 15:26:38</td>\n",
       "      <td>1023590632684748800</td>\n",
       "      <td>@Joerg_Meuthen @tagesschau @AfD_Fraktion_HH die haben ja auch einen knall</td>\n",
       "      <td>@Joerg  Meuthen @tagesschau @AfD  Fraktion  HH die haben ja auch einen knall</td>\n",
       "      <td>[]</td>\n",
       "      <td>[AfD]</td>\n",
       "    </tr>\n",
       "    <tr>\n",
       "      <th>2018-07-29 15:26:40</th>\n",
       "      <td>2018-07-29 15:26:40</td>\n",
       "      <td>1023590639714414592</td>\n",
       "      <td>@Vyacheslav777_ @AfD @realDonaldTrump das kommt auch alles OHNE das jetzige Part-Eien System! Die AfD gehört voll m… https://t.co/kqJ6mtxhAe</td>\n",
       "      <td>@Vyacheslav777   @AfD @realDonaldTrump das kommt auch alles OHNE das jetzige Part  Eien System   Die AfD gehört voll m   https    t  co  kqJ6mtxhAe</td>\n",
       "      <td>[]</td>\n",
       "      <td>[AfD, AfD]</td>\n",
       "    </tr>\n",
       "    <tr>\n",
       "      <th>2018-07-29 15:26:41</th>\n",
       "      <td>2018-07-29 15:26:41</td>\n",
       "      <td>1023590643627696128</td>\n",
       "      <td>RT @KokoLores20: Eine \"Insiderin\", von der zuvor noch nie jemand etwas gehört hat, packt aus. \\n*Gähn*. Totaaaal glaubwürdig. 🤡\\nDie Propagan…</td>\n",
       "      <td>RT @KokoLores20   Eine   Insiderin    von der zuvor noch nie jemand etwas gehört hat   packt aus      Gähn    Totaaaal glaubwürdig      Die Propagan</td>\n",
       "      <td>[]</td>\n",
       "      <td>[]</td>\n",
       "    </tr>\n",
       "    <tr>\n",
       "      <th>2018-07-29 15:26:41</th>\n",
       "      <td>2018-07-29 15:26:41</td>\n",
       "      <td>1023590642663006208</td>\n",
       "      <td>RT @Eckleben: Aus d spanischen Exklave #CEUTA hört man von den #illegalen #afrika|nischen Eindringlingen + Eroberern immer wieder den Ausru…</td>\n",
       "      <td>RT @Eckleben   Aus d spanischen Exklave  hört man von den    nischen Eindringlingen    Eroberern immer wieder den Ausru</td>\n",
       "      <td>[CEUTA, illegalen, afrika]</td>\n",
       "      <td>[]</td>\n",
       "    </tr>\n",
       "    <tr>\n",
       "      <th>2018-07-29 15:26:43</th>\n",
       "      <td>2018-07-29 15:26:43</td>\n",
       "      <td>1023590651710136320</td>\n",
       "      <td>RT @MalteKaufmann: Na endlich! Im #Sonntagstrend von #Emnid fallen #CDU #CSU erstmals seit '06 auf 29%. Die pol. Hasardeure #Merkel, #Seeho…</td>\n",
       "      <td>RT @MalteKaufmann   Na endlich   Im  von  fallen   erstmals seit   06 auf 29    Die pol   Hasardeure</td>\n",
       "      <td>[Sonntagstrend, Emnid, CDU, CSU, Merkel, Seeho]</td>\n",
       "      <td>[]</td>\n",
       "    </tr>\n",
       "  </tbody>\n",
       "</table>\n",
       "</div>"
      ],
      "text/plain": [
       "                             created_at               id_str  \\\n",
       "created_at                                                     \n",
       "2018-07-29 15:26:38 2018-07-29 15:26:38  1023590632684748800   \n",
       "2018-07-29 15:26:40 2018-07-29 15:26:40  1023590639714414592   \n",
       "2018-07-29 15:26:41 2018-07-29 15:26:41  1023590643627696128   \n",
       "2018-07-29 15:26:41 2018-07-29 15:26:41  1023590642663006208   \n",
       "2018-07-29 15:26:43 2018-07-29 15:26:43  1023590651710136320   \n",
       "\n",
       "                                                                                                                                                               text  \\\n",
       "created_at                                                                                                                                                            \n",
       "2018-07-29 15:26:38                                                                       @Joerg_Meuthen @tagesschau @AfD_Fraktion_HH die haben ja auch einen knall   \n",
       "2018-07-29 15:26:40    @Vyacheslav777_ @AfD @realDonaldTrump das kommt auch alles OHNE das jetzige Part-Eien System! Die AfD gehört voll m… https://t.co/kqJ6mtxhAe   \n",
       "2018-07-29 15:26:41  RT @KokoLores20: Eine \"Insiderin\", von der zuvor noch nie jemand etwas gehört hat, packt aus. \\n*Gähn*. Totaaaal glaubwürdig. 🤡\\nDie Propagan…   \n",
       "2018-07-29 15:26:41    RT @Eckleben: Aus d spanischen Exklave #CEUTA hört man von den #illegalen #afrika|nischen Eindringlingen + Eroberern immer wieder den Ausru…   \n",
       "2018-07-29 15:26:43    RT @MalteKaufmann: Na endlich! Im #Sonntagstrend von #Emnid fallen #CDU #CSU erstmals seit '06 auf 29%. Die pol. Hasardeure #Merkel, #Seeho…   \n",
       "\n",
       "                                                                                                                                                                 clean_text  \\\n",
       "created_at                                                                                                                                                                    \n",
       "2018-07-29 15:26:38                                                                           @Joerg  Meuthen @tagesschau @AfD  Fraktion  HH die haben ja auch einen knall    \n",
       "2018-07-29 15:26:40    @Vyacheslav777   @AfD @realDonaldTrump das kommt auch alles OHNE das jetzige Part  Eien System   Die AfD gehört voll m   https    t  co  kqJ6mtxhAe    \n",
       "2018-07-29 15:26:41  RT @KokoLores20   Eine   Insiderin    von der zuvor noch nie jemand etwas gehört hat   packt aus      Gähn    Totaaaal glaubwürdig      Die Propagan     \n",
       "2018-07-29 15:26:41                               RT @Eckleben   Aus d spanischen Exklave  hört man von den    nischen Eindringlingen    Eroberern immer wieder den Ausru     \n",
       "2018-07-29 15:26:43                                              RT @MalteKaufmann   Na endlich   Im  von  fallen   erstmals seit   06 auf 29    Die pol   Hasardeure         \n",
       "\n",
       "                                                                tags  \\\n",
       "created_at                                                             \n",
       "2018-07-29 15:26:38                                               []   \n",
       "2018-07-29 15:26:40                                               []   \n",
       "2018-07-29 15:26:41                                               []   \n",
       "2018-07-29 15:26:41                       [CEUTA, illegalen, afrika]   \n",
       "2018-07-29 15:26:43  [Sonntagstrend, Emnid, CDU, CSU, Merkel, Seeho]   \n",
       "\n",
       "                        parties  \n",
       "created_at                       \n",
       "2018-07-29 15:26:38       [AfD]  \n",
       "2018-07-29 15:26:40  [AfD, AfD]  \n",
       "2018-07-29 15:26:41          []  \n",
       "2018-07-29 15:26:41          []  \n",
       "2018-07-29 15:26:43          []  "
      ]
     },
     "execution_count": 39,
     "metadata": {},
     "output_type": "execute_result"
    }
   ],
   "source": [
    "clean_df_AFD.head(5) #e.g. afrikanischen - look at this again!"
   ]
  },
  {
   "cell_type": "code",
   "execution_count": 43,
   "metadata": {},
   "outputs": [],
   "source": [
    "parties = ['CDU', 'CSU', 'afd', 'SPD', 'Grüne', 'Linke', 'FDP', 'Gruene'] \n",
    "            \n",
    "party_finder = lambda x: re.findall((parties[2]), x, re.IGNORECASE) # does not yet work as planned"
   ]
  },
  {
   "cell_type": "code",
   "execution_count": 44,
   "metadata": {},
   "outputs": [],
   "source": [
    "clean_df_AFD['parties'] = clean_df_AFD['clean_text'].apply(party_finder)"
   ]
  },
  {
   "cell_type": "code",
   "execution_count": 45,
   "metadata": {},
   "outputs": [
    {
     "data": {
      "text/html": [
       "<div>\n",
       "<style>\n",
       "    .dataframe thead tr:only-child th {\n",
       "        text-align: right;\n",
       "    }\n",
       "\n",
       "    .dataframe thead th {\n",
       "        text-align: left;\n",
       "    }\n",
       "\n",
       "    .dataframe tbody tr th {\n",
       "        vertical-align: top;\n",
       "    }\n",
       "</style>\n",
       "<table border=\"1\" class=\"dataframe\">\n",
       "  <thead>\n",
       "    <tr style=\"text-align: right;\">\n",
       "      <th></th>\n",
       "      <th>created_at</th>\n",
       "      <th>id_str</th>\n",
       "      <th>text</th>\n",
       "      <th>clean_text</th>\n",
       "      <th>tags</th>\n",
       "      <th>parties</th>\n",
       "    </tr>\n",
       "    <tr>\n",
       "      <th>created_at</th>\n",
       "      <th></th>\n",
       "      <th></th>\n",
       "      <th></th>\n",
       "      <th></th>\n",
       "      <th></th>\n",
       "      <th></th>\n",
       "    </tr>\n",
       "  </thead>\n",
       "  <tbody>\n",
       "    <tr>\n",
       "      <th>2018-07-29 15:26:38</th>\n",
       "      <td>2018-07-29 15:26:38</td>\n",
       "      <td>1023590632684748800</td>\n",
       "      <td>@Joerg_Meuthen @tagesschau @AfD_Fraktion_HH die haben ja auch einen knall</td>\n",
       "      <td>@Joerg  Meuthen @tagesschau @AfD  Fraktion  HH die haben ja auch einen knall</td>\n",
       "      <td>[]</td>\n",
       "      <td>[AfD]</td>\n",
       "    </tr>\n",
       "    <tr>\n",
       "      <th>2018-07-29 15:26:40</th>\n",
       "      <td>2018-07-29 15:26:40</td>\n",
       "      <td>1023590639714414592</td>\n",
       "      <td>@Vyacheslav777_ @AfD @realDonaldTrump das kommt auch alles OHNE das jetzige Part-Eien System! Die AfD gehört voll m… https://t.co/kqJ6mtxhAe</td>\n",
       "      <td>@Vyacheslav777   @AfD @realDonaldTrump das kommt auch alles OHNE das jetzige Part  Eien System   Die AfD gehört voll m   https    t  co  kqJ6mtxhAe</td>\n",
       "      <td>[]</td>\n",
       "      <td>[AfD, AfD]</td>\n",
       "    </tr>\n",
       "    <tr>\n",
       "      <th>2018-07-29 15:26:41</th>\n",
       "      <td>2018-07-29 15:26:41</td>\n",
       "      <td>1023590643627696128</td>\n",
       "      <td>RT @KokoLores20: Eine \"Insiderin\", von der zuvor noch nie jemand etwas gehört hat, packt aus. \\n*Gähn*. Totaaaal glaubwürdig. 🤡\\nDie Propagan…</td>\n",
       "      <td>RT @KokoLores20   Eine   Insiderin    von der zuvor noch nie jemand etwas gehört hat   packt aus      Gähn    Totaaaal glaubwürdig      Die Propagan</td>\n",
       "      <td>[]</td>\n",
       "      <td>[]</td>\n",
       "    </tr>\n",
       "    <tr>\n",
       "      <th>2018-07-29 15:26:41</th>\n",
       "      <td>2018-07-29 15:26:41</td>\n",
       "      <td>1023590642663006208</td>\n",
       "      <td>RT @Eckleben: Aus d spanischen Exklave #CEUTA hört man von den #illegalen #afrika|nischen Eindringlingen + Eroberern immer wieder den Ausru…</td>\n",
       "      <td>RT @Eckleben   Aus d spanischen Exklave  hört man von den    nischen Eindringlingen    Eroberern immer wieder den Ausru</td>\n",
       "      <td>[CEUTA, illegalen, afrika]</td>\n",
       "      <td>[]</td>\n",
       "    </tr>\n",
       "    <tr>\n",
       "      <th>2018-07-29 15:26:43</th>\n",
       "      <td>2018-07-29 15:26:43</td>\n",
       "      <td>1023590651710136320</td>\n",
       "      <td>RT @MalteKaufmann: Na endlich! Im #Sonntagstrend von #Emnid fallen #CDU #CSU erstmals seit '06 auf 29%. Die pol. Hasardeure #Merkel, #Seeho…</td>\n",
       "      <td>RT @MalteKaufmann   Na endlich   Im  von  fallen   erstmals seit   06 auf 29    Die pol   Hasardeure</td>\n",
       "      <td>[Sonntagstrend, Emnid, CDU, CSU, Merkel, Seeho]</td>\n",
       "      <td>[]</td>\n",
       "    </tr>\n",
       "  </tbody>\n",
       "</table>\n",
       "</div>"
      ],
      "text/plain": [
       "                             created_at               id_str  \\\n",
       "created_at                                                     \n",
       "2018-07-29 15:26:38 2018-07-29 15:26:38  1023590632684748800   \n",
       "2018-07-29 15:26:40 2018-07-29 15:26:40  1023590639714414592   \n",
       "2018-07-29 15:26:41 2018-07-29 15:26:41  1023590643627696128   \n",
       "2018-07-29 15:26:41 2018-07-29 15:26:41  1023590642663006208   \n",
       "2018-07-29 15:26:43 2018-07-29 15:26:43  1023590651710136320   \n",
       "\n",
       "                                                                                                                                                               text  \\\n",
       "created_at                                                                                                                                                            \n",
       "2018-07-29 15:26:38                                                                       @Joerg_Meuthen @tagesschau @AfD_Fraktion_HH die haben ja auch einen knall   \n",
       "2018-07-29 15:26:40    @Vyacheslav777_ @AfD @realDonaldTrump das kommt auch alles OHNE das jetzige Part-Eien System! Die AfD gehört voll m… https://t.co/kqJ6mtxhAe   \n",
       "2018-07-29 15:26:41  RT @KokoLores20: Eine \"Insiderin\", von der zuvor noch nie jemand etwas gehört hat, packt aus. \\n*Gähn*. Totaaaal glaubwürdig. 🤡\\nDie Propagan…   \n",
       "2018-07-29 15:26:41    RT @Eckleben: Aus d spanischen Exklave #CEUTA hört man von den #illegalen #afrika|nischen Eindringlingen + Eroberern immer wieder den Ausru…   \n",
       "2018-07-29 15:26:43    RT @MalteKaufmann: Na endlich! Im #Sonntagstrend von #Emnid fallen #CDU #CSU erstmals seit '06 auf 29%. Die pol. Hasardeure #Merkel, #Seeho…   \n",
       "\n",
       "                                                                                                                                                                 clean_text  \\\n",
       "created_at                                                                                                                                                                    \n",
       "2018-07-29 15:26:38                                                                           @Joerg  Meuthen @tagesschau @AfD  Fraktion  HH die haben ja auch einen knall    \n",
       "2018-07-29 15:26:40    @Vyacheslav777   @AfD @realDonaldTrump das kommt auch alles OHNE das jetzige Part  Eien System   Die AfD gehört voll m   https    t  co  kqJ6mtxhAe    \n",
       "2018-07-29 15:26:41  RT @KokoLores20   Eine   Insiderin    von der zuvor noch nie jemand etwas gehört hat   packt aus      Gähn    Totaaaal glaubwürdig      Die Propagan     \n",
       "2018-07-29 15:26:41                               RT @Eckleben   Aus d spanischen Exklave  hört man von den    nischen Eindringlingen    Eroberern immer wieder den Ausru     \n",
       "2018-07-29 15:26:43                                              RT @MalteKaufmann   Na endlich   Im  von  fallen   erstmals seit   06 auf 29    Die pol   Hasardeure         \n",
       "\n",
       "                                                                tags  \\\n",
       "created_at                                                             \n",
       "2018-07-29 15:26:38                                               []   \n",
       "2018-07-29 15:26:40                                               []   \n",
       "2018-07-29 15:26:41                                               []   \n",
       "2018-07-29 15:26:41                       [CEUTA, illegalen, afrika]   \n",
       "2018-07-29 15:26:43  [Sonntagstrend, Emnid, CDU, CSU, Merkel, Seeho]   \n",
       "\n",
       "                        parties  \n",
       "created_at                       \n",
       "2018-07-29 15:26:38       [AfD]  \n",
       "2018-07-29 15:26:40  [AfD, AfD]  \n",
       "2018-07-29 15:26:41          []  \n",
       "2018-07-29 15:26:41          []  \n",
       "2018-07-29 15:26:43          []  "
      ]
     },
     "execution_count": 45,
     "metadata": {},
     "output_type": "execute_result"
    }
   ],
   "source": [
    "clean_df_AFD.head(5)"
   ]
  },
  {
   "cell_type": "code",
   "execution_count": null,
   "metadata": {},
   "outputs": [],
   "source": []
  }
 ],
 "metadata": {
  "kernelspec": {
   "display_name": "Python 3",
   "language": "python",
   "name": "python3"
  },
  "language_info": {
   "codemirror_mode": {
    "name": "ipython",
    "version": 3
   },
   "file_extension": ".py",
   "mimetype": "text/x-python",
   "name": "python",
   "nbconvert_exporter": "python",
   "pygments_lexer": "ipython3",
   "version": "3.6.3"
  }
 },
 "nbformat": 4,
 "nbformat_minor": 2
}
