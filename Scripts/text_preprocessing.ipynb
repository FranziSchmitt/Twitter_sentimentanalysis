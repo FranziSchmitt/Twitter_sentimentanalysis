{
 "cells": [
  {
   "cell_type": "code",
   "execution_count": 16,
   "metadata": {},
   "outputs": [
    {
     "data": {
      "text/html": [
       "<script>requirejs.config({paths: { 'plotly': ['https://cdn.plot.ly/plotly-latest.min']},});if(!window.Plotly) {{require(['plotly'],function(plotly) {window.Plotly=plotly;});}}</script>"
      ],
      "text/vnd.plotly.v1+html": [
       "<script>requirejs.config({paths: { 'plotly': ['https://cdn.plot.ly/plotly-latest.min']},});if(!window.Plotly) {{require(['plotly'],function(plotly) {window.Plotly=plotly;});}}</script>"
      ]
     },
     "metadata": {},
     "output_type": "display_data"
    }
   ],
   "source": [
    "import os\n",
    "import pandas as pd\n",
    "import numpy as np\n",
    "import re\n",
    "\n",
    "import time\n",
    "from tqdm import tqdm\n",
    "import datetime as dt\n",
    "import pickle\n",
    "\n",
    "import matplotlib.pyplot as plt\n",
    "import seaborn as sns\n",
    "import plotly as py\n",
    "py.offline.init_notebook_mode(connected=True)\n",
    "\n",
    "pd.set_option(\"display.max_colwidth\", 500)\n",
    "pd.set_option(\"display.max_columns\", 500)"
   ]
  },
  {
   "cell_type": "markdown",
   "metadata": {},
   "source": [
    "# Loading data from json and creating DataFrame"
   ]
  },
  {
   "cell_type": "code",
   "execution_count": 10,
   "metadata": {},
   "outputs": [],
   "source": [
    "def read_data(file = 'json_file_location.json'):\n",
    "    \"\"\"\n",
    "    Function to load single json files\n",
    "    \"\"\"\n",
    "    \n",
    "    data_frame = pd.read_json(file, \n",
    "                               orient='records', \n",
    "                               lines=True, \n",
    "                               convert_dates=True, \n",
    "                               keep_default_dates=True)\n",
    "    return data_frame\n",
    "\n",
    "\n",
    "\n",
    "def cleaning(df):\n",
    "    \"\"\"\n",
    "    Creates a dataframe with distinct columns only and only german tweets; \n",
    "    defines a datetime index and sorts in an ascending manner; \n",
    "    also, deletes duplicates in the text column\n",
    "    \"\"\"\n",
    "    \n",
    "    \n",
    "    ger_df = df.loc[:, ['created_at', 'id_str', 'full_text']][df.lang == 'de']\n",
    "    ger_df = ger_df.set_index(pd.DatetimeIndex(ger_df['created_at'], inplace=True)).sort_values('created_at', ascending=True)\n",
    "    \n",
    "    clean_ger_df = ger_df.drop_duplicates('full_text')\n",
    "\n",
    "    assert len(clean_ger_df) == (len(ger_df) - ger_df.duplicated('full_text').sum())\n",
    "    \n",
    "    return ger_df"
   ]
  },
  {
   "cell_type": "code",
   "execution_count": 11,
   "metadata": {},
   "outputs": [],
   "source": [
    "def load_data(file_list):\n",
    "    \"\"\"\n",
    "    Function that loads json files from a list of files, using the read_data function,\n",
    "    and appends the resulting pandas DataFrames to each other\n",
    "    \"\"\"\n",
    "    \n",
    "    df = pd.DataFrame()\n",
    "    \n",
    "    for file in tqdm(file_list):\n",
    "        if os.path.isfile(file):\n",
    "            sub_df = cleaning(read_data(file))\n",
    "        else:\n",
    "            print('File {} not found'.format(file))\n",
    "            continue\n",
    "        if df.empty:\n",
    "            df = sub_df\n",
    "        else:\n",
    "            df = df.append(sub_df)\n",
    "            \n",
    "    return df"
   ]
  },
  {
   "cell_type": "code",
   "execution_count": 21,
   "metadata": {},
   "outputs": [],
   "source": [
    "df = read_data('/home/franzi/Git-DSR/Twitter_sentimentanalysis/Data_test/AfD/AfD_2018-08-08.json')"
   ]
  },
  {
   "cell_type": "code",
   "execution_count": 22,
   "metadata": {},
   "outputs": [
    {
     "name": "stdout",
     "output_type": "stream",
     "text": [
      "   contributors  coordinates          created_at display_text_range  \\\n",
      "0           NaN          NaN 2018-08-08 23:59:43           [0, 140]   \n",
      "\n",
      "                                                                                                                                                                                      entities  \\\n",
      "0  {'hashtags': [], 'symbols': [], 'user_mentions': [{'screen_name': 'AfD', 'name': 'Alternative für 🇩🇪 Deutschland', 'id': 844081278, 'id_str': '844081278', 'indices': [3, 7]}], 'urls': []}   \n",
      "\n",
      "  extended_entities  favorite_count  favorited  \\\n",
      "0               NaN               0      False   \n",
      "\n",
      "                                                                                                                                       full_text  \\\n",
      "0  RT @AfD: ++ Appell an alle Landsleute: Syrer kehrt nun heim! ++\\nIn weiten Teilen Syriens herrscht Frieden. Zeit, die 🧳Koffer zu packen. Die…   \n",
      "\n",
      "   geo                   id               id_str in_reply_to_screen_name  \\\n",
      "0  NaN  1027343632028848135  1027343632028848128                    None   \n",
      "\n",
      "   in_reply_to_status_id  in_reply_to_status_id_str  in_reply_to_user_id  \\\n",
      "0                    NaN                        NaN                  NaN   \n",
      "\n",
      "   in_reply_to_user_id_str  is_quote_status lang  \\\n",
      "0                      NaN            False   de   \n",
      "\n",
      "                                               metadata place  \\\n",
      "0  {'iso_language_code': 'de', 'result_type': 'recent'}  None   \n",
      "\n",
      "   possibly_sensitive quoted_status  quoted_status_id  quoted_status_id_str  \\\n",
      "0                 NaN           NaN               NaN                   NaN   \n",
      "\n",
      "   retweet_count  retweeted  \\\n",
      "0            381      False   \n",
      "\n",
      "                                                                                                                                                                                                                                                                                                                                                                                                                                                                                                      retweeted_status  \\\n",
      "0  {'created_at': 'Wed Aug 08 16:00:00 +0000 2018', 'id': 1027222908559548416, 'id_str': '1027222908559548416', 'full_text': '++ Appell an alle Landsleute: Syrer kehrt nun heim! ++\n",
      "In weiten Teilen Syriens herrscht Frieden. Zeit, die 🧳Koffer zu packen. Die Regierung in Damaskus stellt klar, dass man die eigenen Landsleute wieder zurück möchte. Richtig so!\n",
      "#AfD\n",
      "➡️ https://t.co/26M7BbxQ2d https://t.co/M6uzK8czOW', 'truncated': False, 'display_text_range': [0, 263], 'entities': {'hashtags': [{'tex...   \n",
      "\n",
      "                                                                               source  \\\n",
      "0  <a href=\"http://twitter.com/download/iphone\" rel=\"nofollow\">Twitter for iPhone</a>   \n",
      "\n",
      "   truncated  \\\n",
      "0      False   \n",
      "\n",
      "                                                                                                                                                                                                                                                                                                                                                                                                                                                                                                                  user  \\\n",
      "0  {'id': 918809457056010240, 'id_str': '918809457056010240', 'name': 'gab.ai/Clavelina 🇩🇪 ❌', 'screen_name': 'Clavelina18', 'location': 'Absurdistan', 'description': '25% Migrationshintergrund von Oma, 50% von Mutti aus Dunkel🇩🇪. Sprachpuristin mit Allergie gegen Gender-Gaga und PC-Ver(w)irrungen. Informatikerin.', 'url': 'https://t.co/a49NqKZdip', 'entities': {'url': {'urls': [{'url': 'https://t.co/a49NqKZdip', 'expanded_url': 'https://paten.achgut.com/', 'display_url': 'paten.achgut.com', 'i...   \n",
      "\n",
      "  withheld_in_countries withheld_scope  \n",
      "0                   NaN            NaN  \n",
      "      contributors  coordinates          created_at display_text_range  \\\n",
      "9575           NaN          NaN 2018-08-08 15:49:10           [0, 140]   \n",
      "\n",
      "                                                                                                                                                                                                                                                                entities  \\\n",
      "9575  {'hashtags': [{'text': 'AfD', 'indices': [26, 30]}, {'text': 'Sachsen', 'indices': [31, 39]}], 'symbols': [], 'user_mentions': [{'screen_name': 'AVorrath', 'name': 'Andreas Vorrath', 'id': 1246258255, 'id_str': '1246258255', 'indices': [3, 12]}], 'urls': []}   \n",
      "\n",
      "     extended_entities  favorite_count  favorited  \\\n",
      "9575               NaN               0      False   \n",
      "\n",
      "                                                                                                                                          full_text  \\\n",
      "9575  RT @AVorrath: Herr Zwerg, #AfD #Sachsen\\nDas ist schlicht Bullshit und ich stufe sie nach diesem Text als gefährlichen Neonazi ein. https://…   \n",
      "\n",
      "      geo                   id               id_str in_reply_to_screen_name  \\\n",
      "9575  NaN  1027220181305700353  1027220181305700352                    None   \n",
      "\n",
      "      in_reply_to_status_id  in_reply_to_status_id_str  in_reply_to_user_id  \\\n",
      "9575                    NaN                        NaN                  NaN   \n",
      "\n",
      "      in_reply_to_user_id_str  is_quote_status lang  \\\n",
      "9575                      NaN            False   de   \n",
      "\n",
      "                                                  metadata place  \\\n",
      "9575  {'iso_language_code': 'de', 'result_type': 'recent'}  None   \n",
      "\n",
      "      possibly_sensitive quoted_status  quoted_status_id  \\\n",
      "9575                 NaN           NaN               NaN   \n",
      "\n",
      "      quoted_status_id_str  retweet_count  retweeted  \\\n",
      "9575                   NaN             54      False   \n",
      "\n",
      "                                                                                                                                                                                                                                                                                                                                                                                                                                                                                                         retweeted_status  \\\n",
      "9575  {'created_at': 'Tue Aug 07 13:37:11 +0000 2018', 'id': 1026824576443940870, 'id_str': '1026824576443940870', 'full_text': 'Herr Zwerg, #AfD #Sachsen\n",
      "Das ist schlicht Bullshit und ich stufe sie nach diesem Text als gefährlichen Neonazi ein. https://t.co/k9AfOs1ZR4', 'truncated': False, 'display_text_range': [0, 116], 'entities': {'hashtags': [{'text': 'AfD', 'indices': [12, 16]}, {'text': 'Sachsen', 'indices': [17, 25]}], 'symbols': [], 'user_mentions': [], 'urls': [], 'media': [{'id': 102682...   \n",
      "\n",
      "                                                                                    source  \\\n",
      "9575  <a href=\"http://twitter.com/download/android\" rel=\"nofollow\">Twitter for Android</a>   \n",
      "\n",
      "      truncated  \\\n",
      "9575      False   \n",
      "\n",
      "                                                                                                                                                                                                                                                                                                                                                                                                                                                                                                                     user  \\\n",
      "9575  {'id': 958546907990720512, 'id_str': '958546907990720512', 'name': 'RechtsDruck ©', 'screen_name': 'Rechts_Druck', 'location': 'Görlitz, Deutschland', 'description': 'Rechts_Druck by [Sascha R]', 'url': 'https://t.co/0revOR0Je2', 'entities': {'url': {'urls': [{'url': 'https://t.co/0revOR0Je2', 'expanded_url': 'https://www.facebook.com/Rechts_Druck-190214768295234/', 'display_url': 'facebook.com/Rechts_Druck-1…', 'indices': [0, 23]}]}, 'description': {'urls': []}}, 'protected': False, 'follow...   \n",
      "\n",
      "     withheld_in_countries withheld_scope  \n",
      "9575                   NaN            NaN  \n",
      "(9576, 33)\n"
     ]
    }
   ],
   "source": [
    "print(df.head(1))\n",
    "print(df.tail(1))\n",
    "print(df.shape)"
   ]
  },
  {
   "cell_type": "code",
   "execution_count": 14,
   "metadata": {},
   "outputs": [
    {
     "name": "stdout",
     "output_type": "stream",
     "text": [
      "loading data from pickle\n",
      "data loaded\n"
     ]
    }
   ],
   "source": [
    "read_in = False\n",
    "path = '/home/franzi/Git-DSR/Twitter_sentimentanalysis/Data/all_data_c.pickle'\n",
    "if read_in:\n",
    "    parties = ['AfD', 'SPD', 'CDU', 'CSU', 'FDP', 'LINKE', 'Gruene']\n",
    "    dates = ['08-03', '08-04']\n",
    "    data = {}\n",
    "    print('Loading: {}'.format(dates))\n",
    "    for party in parties:\n",
    "        load_list = ['../Data_old/{}/{}_2018-{}.json'.format(party, party, day) for day in dates]\n",
    "        data[party] = load_data(load_list)\n",
    "        print('{} loaded'.format(party))\n",
    "    with open(path, 'wb') as fid:\n",
    "        pickle.dump(data, fid)\n",
    "else:\n",
    "    print('loading data from pickle')\n",
    "    with open(path, 'rb') as fid:\n",
    "        data = pickle.load(fid)\n",
    "        print('data loaded')"
   ]
  },
  {
   "cell_type": "code",
   "execution_count": 15,
   "metadata": {},
   "outputs": [
    {
     "data": {
      "text/html": [
       "<div>\n",
       "<style>\n",
       "    .dataframe thead tr:only-child th {\n",
       "        text-align: right;\n",
       "    }\n",
       "\n",
       "    .dataframe thead th {\n",
       "        text-align: left;\n",
       "    }\n",
       "\n",
       "    .dataframe tbody tr th {\n",
       "        vertical-align: top;\n",
       "    }\n",
       "</style>\n",
       "<table border=\"1\" class=\"dataframe\">\n",
       "  <thead>\n",
       "    <tr style=\"text-align: right;\">\n",
       "      <th></th>\n",
       "      <th>created_at</th>\n",
       "      <th>id_str</th>\n",
       "      <th>text</th>\n",
       "    </tr>\n",
       "    <tr>\n",
       "      <th>created_at</th>\n",
       "      <th></th>\n",
       "      <th></th>\n",
       "      <th></th>\n",
       "    </tr>\n",
       "  </thead>\n",
       "  <tbody>\n",
       "    <tr>\n",
       "      <th>2018-08-03 15:37:51</th>\n",
       "      <td>2018-08-03 15:37:51</td>\n",
       "      <td>1025405391642025984</td>\n",
       "      <td>RT @Eckleben: #Aufstehen? von Sarah #Wagenknecht|s #Sammlungsbewegung macht mich frösteln. Da fischt doch jemand an allen Rändern diese Lan…</td>\n",
       "    </tr>\n",
       "    <tr>\n",
       "      <th>2018-08-03 15:37:53</th>\n",
       "      <td>2018-08-03 15:37:53</td>\n",
       "      <td>1025405401637052416</td>\n",
       "      <td>RT @bandee_de: \"Ein Großteil der Befragten ist mit der Gesundheits-, Renten- und #Sozialpolitik unzufrieden. Die Union fällt unter 30 Proze…</td>\n",
       "    </tr>\n",
       "    <tr>\n",
       "      <th>2018-08-03 15:38:01</th>\n",
       "      <td>2018-08-03 15:38:01</td>\n",
       "      <td>1025405436038733824</td>\n",
       "      <td>RT @antifa_catering: #Seehofer will twittern? Der Typ soll sich mal warmlaufen, damit er den Shitstorms entkommen kann. Kleiner Hinweis: Re…</td>\n",
       "    </tr>\n",
       "    <tr>\n",
       "      <th>2018-08-03 15:38:01</th>\n",
       "      <td>2018-08-03 15:38:01</td>\n",
       "      <td>1025405434587480064</td>\n",
       "      <td>RT @Joerg_Meuthen: War das schon vor 5, 10 oder 20 Jahren nötig?\\nWer hatte in den letzten 13 Jahren die Kanzlerschaft und damit die Verantw…</td>\n",
       "    </tr>\n",
       "    <tr>\n",
       "      <th>2018-08-03 15:38:06</th>\n",
       "      <td>2018-08-03 15:38:06</td>\n",
       "      <td>1025405457161244672</td>\n",
       "      <td>@DirkSpaniel @DerSPIEGEL Hm, vielleicht schauen wir uns mal die Anzahl der Vorstrafen von mittigen AfD Politiker an?!?</td>\n",
       "    </tr>\n",
       "  </tbody>\n",
       "</table>\n",
       "</div>"
      ],
      "text/plain": [
       "                             created_at               id_str  \\\n",
       "created_at                                                     \n",
       "2018-08-03 15:37:51 2018-08-03 15:37:51  1025405391642025984   \n",
       "2018-08-03 15:37:53 2018-08-03 15:37:53  1025405401637052416   \n",
       "2018-08-03 15:38:01 2018-08-03 15:38:01  1025405436038733824   \n",
       "2018-08-03 15:38:01 2018-08-03 15:38:01  1025405434587480064   \n",
       "2018-08-03 15:38:06 2018-08-03 15:38:06  1025405457161244672   \n",
       "\n",
       "                                                                                                                                                              text  \n",
       "created_at                                                                                                                                                          \n",
       "2018-08-03 15:37:51   RT @Eckleben: #Aufstehen? von Sarah #Wagenknecht|s #Sammlungsbewegung macht mich frösteln. Da fischt doch jemand an allen Rändern diese Lan…  \n",
       "2018-08-03 15:37:53   RT @bandee_de: \"Ein Großteil der Befragten ist mit der Gesundheits-, Renten- und #Sozialpolitik unzufrieden. Die Union fällt unter 30 Proze…  \n",
       "2018-08-03 15:38:01   RT @antifa_catering: #Seehofer will twittern? Der Typ soll sich mal warmlaufen, damit er den Shitstorms entkommen kann. Kleiner Hinweis: Re…  \n",
       "2018-08-03 15:38:01  RT @Joerg_Meuthen: War das schon vor 5, 10 oder 20 Jahren nötig?\\nWer hatte in den letzten 13 Jahren die Kanzlerschaft und damit die Verantw…  \n",
       "2018-08-03 15:38:06                         @DirkSpaniel @DerSPIEGEL Hm, vielleicht schauen wir uns mal die Anzahl der Vorstrafen von mittigen AfD Politiker an?!?  "
      ]
     },
     "execution_count": 15,
     "metadata": {},
     "output_type": "execute_result"
    }
   ],
   "source": [
    "data['AfD'].head()"
   ]
  },
  {
   "cell_type": "code",
   "execution_count": null,
   "metadata": {},
   "outputs": [],
   "source": [
    "colors = ['b', 'r', 'g']\n",
    "for party, color in zip(parties, colors):\n",
    "    print(data[party].iloc[0].text, color)"
   ]
  },
  {
   "cell_type": "markdown",
   "metadata": {},
   "source": [
    "# Quick excursion: Time series of tweets per minute\n",
    "\n",
    "Count all tweets per minute and plot the tweetcount against time"
   ]
  },
  {
   "cell_type": "code",
   "execution_count": null,
   "metadata": {},
   "outputs": [],
   "source": [
    "# def plot_timeseries(df):\n",
    "#     tweetcount_df = df.loc[:, 'text'].resample('min').count()\n",
    "    \n",
    "#     tweetcount_df.plot(figsize=(30, 7.5), color='b', )\n",
    "#     print('hurray, first plot')"
   ]
  },
  {
   "cell_type": "code",
   "execution_count": 21,
   "metadata": {},
   "outputs": [
    {
     "data": {
      "text/plain": [
       "<matplotlib.figure.Figure at 0x7f3d01818fd0>"
      ]
     },
     "metadata": {},
     "output_type": "display_data"
    },
    {
     "data": {
      "image/png": "[encoded data removed]",
      "text/plain": [
       "<matplotlib.figure.Figure at 0x7f3c8d6bfa20>"
      ]
     },
     "metadata": {},
     "output_type": "display_data"
    }
   ],
   "source": [
    "plt.figure()\n",
    "ax = plt.axes()\n",
    "for party in parties:\n",
    "    data[party].loc[:, 'text'].resample('h').count().plot(ax=ax)\n",
    "plt.show()"
   ]
  },
  {
   "cell_type": "code",
   "execution_count": null,
   "metadata": {},
   "outputs": [],
   "source": [
    "def tweetcount(df):\n",
    "    tweetcount_df = pd.DataFrame(df.loc[:, 'text'].resample('h').count())\n",
    "    return tweetcount_df"
   ]
  },
  {
   "cell_type": "code",
   "execution_count": null,
   "metadata": {},
   "outputs": [],
   "source": [
    "tweetcount_AFD = tweetcount(clean_df_AFD)"
   ]
  },
  {
   "cell_type": "code",
   "execution_count": null,
   "metadata": {},
   "outputs": [],
   "source": [
    "tweetcount_SPD = tweetcount(clean_df_SPD)"
   ]
  },
  {
   "cell_type": "code",
   "execution_count": null,
   "metadata": {},
   "outputs": [],
   "source": [
    "tweetcount_CDU = tweetcount(clean_df_CDU)"
   ]
  },
  {
   "cell_type": "code",
   "execution_count": null,
   "metadata": {},
   "outputs": [],
   "source": [
    "tweetcount_CSU = tweetcount(clean_df_CSU)"
   ]
  },
  {
   "cell_type": "code",
   "execution_count": null,
   "metadata": {},
   "outputs": [],
   "source": [
    "tweetcount_FDP = tweetcount(clean_df_FDP)"
   ]
  },
  {
   "cell_type": "code",
   "execution_count": null,
   "metadata": {},
   "outputs": [],
   "source": [
    "tweetcount_LINKE = tweetcount(clean_df_LINKE)"
   ]
  },
  {
   "cell_type": "code",
   "execution_count": null,
   "metadata": {},
   "outputs": [],
   "source": [
    "tweetcount_Gruene = tweetcount(clean_df_Gruene)\n"
   ]
  },
  {
   "cell_type": "code",
   "execution_count": null,
   "metadata": {},
   "outputs": [],
   "source": [
    "# Make data and layout objects\n",
    "import plotly.graph_objs as go\n",
    "\n",
    "AFD = go.Scatter(   # Initialize the scatter trace object                         \n",
    "        y = tweetcount_AFD.loc[:, 'text'],    # Reference between trace's x coord. and x axis\n",
    "        x = tweetcount_AFD.index,    # Reference between trace's y coord. and y axis\n",
    "        line = dict(\n",
    "        color = ('rgb(26, 124, 199)')),\n",
    "        name = 'AfD') # Mode of the scatter trace object (lines, text)\n",
    "\n",
    "SPD = go.Scatter(   \n",
    "       y = tweetcount_SPD.loc[:, 'text'],    \n",
    "       x = tweetcount_SPD.index,    \n",
    "       line = dict(\n",
    "       color = ('rgb(210, 0, 0)')),\n",
    "        name = 'SPD')    \n",
    "\n",
    "CDU = go.Scatter(  \n",
    "       y = tweetcount_CDU.loc[:, 'text'],    \n",
    "       x = tweetcount_CDU.index,    \n",
    "       line = dict(\n",
    "       color = ('rgb(0, 29, 77)')),\n",
    "       name = 'CDU')\n",
    "\n",
    "CSU = go.Scatter(   \n",
    "       y = tweetcount_CSU.loc[:, 'text'],   \n",
    "       x = tweetcount_CSU.index,   \n",
    "       line = dict(\n",
    "       color = ('rgb(26, 117, 255)')),\n",
    "        name = 'CSU')\n",
    "\n",
    "LINKE = go.Scatter(   \n",
    "       y = tweetcount_LINKE.loc[:, 'text'],    \n",
    "       x = tweetcount_LINKE.index,    \n",
    "       line = dict(\n",
    "       color = ('rgb(204, 0, 102)')),\n",
    "        name = 'Linke')\n",
    "\n",
    "FDP = go.Scatter(   \n",
    "       y = tweetcount_FDP.loc[:, 'text'],    \n",
    "       x = tweetcount_FDP.index,    \n",
    "       line = dict(\n",
    "       color = ('rgb(255, 204, 0)')),\n",
    "       name = 'FDP')\n",
    "\n",
    "Gruene = go.Scatter(  \n",
    "       y = tweetcount_Gruene.loc[:, 'text'],   \n",
    "       x = tweetcount_Gruene.index,   \n",
    "       line = dict(\n",
    "       color = ('rgb(0, 204, 0)')),\n",
    "        name = 'Grüne')\n",
    "\n",
    "\n",
    "data = [AFD, SPD, CDU, CSU, LINKE, FDP, Gruene] # Create data list-like object of 2 traces\n",
    " \n",
    "layout = go.Layout(title='Party tweet-count per hour',\n",
    "                  yaxis = dict(title='Tweets per hour'),\n",
    "                  xaxis = dict(title='Time'),\n",
    "                  ) # Set the figures title"
   ]
  },
  {
   "cell_type": "code",
   "execution_count": null,
   "metadata": {},
   "outputs": [],
   "source": [
    "hourly_tweetcount = go.Figure(data=data, layout=layout)"
   ]
  },
  {
   "cell_type": "code",
   "execution_count": null,
   "metadata": {},
   "outputs": [],
   "source": [
    "py.offline.iplot(hourly_tweetcount)"
   ]
  },
  {
   "cell_type": "code",
   "execution_count": null,
   "metadata": {},
   "outputs": [],
   "source": [
    "config = dict(modeBarButtonsToRemove=['sendDataToCloud'],\n",
    "              displaylogo=False,\n",
    "              fillFrame=True)  \n",
    "\n",
    "div_str = py.offline.plot(hourly_tweetcount,\n",
    "                          output_type='div', \n",
    "                          include_plotlyjs=False,\n",
    "                          show_link=False,\n",
    "                          config=config)"
   ]
  },
  {
   "cell_type": "code",
   "execution_count": null,
   "metadata": {},
   "outputs": [],
   "source": [
    "# Insert the code in the page template\n",
    "html_str = '''<!DOCTYPE html>\n",
    "                <html>\n",
    "                \n",
    "                <head>\n",
    "                  <script src=\"https://d3js.org/d3.v3.min.js\"></script>\n",
    "                  <script src='https://cdn.plot.ly/plotly-latest.min.js'></script>\n",
    "                </head>\n",
    "                \n",
    "                \n",
    "                <body>\n",
    "                  <h1>Simple Dashboard</h1>\n",
    "                  <p>The following plot is static and interactive at the same time ;)</p>\n",
    "                \n",
    "                  {}\n",
    "                \n",
    "                </body>\n",
    "                \n",
    "                </html>\n",
    "                '''.format(div_str)\n",
    "\n",
    "# The resulting string can be saved in a file\n",
    "with open('simple_dashboard.html', 'w') as f:\n",
    "    f.write(html_str)"
   ]
  },
  {
   "cell_type": "markdown",
   "metadata": {},
   "source": [
    "# Feature extraction and first clustering - 'quick and dirty'\n",
    "1. Vectorize the raw tweets\n",
    "2. Clustering\n",
    "3. Reduce the dimension (PCA)"
   ]
  },
  {
   "cell_type": "code",
   "execution_count": null,
   "metadata": {},
   "outputs": [],
   "source": [
    "from sklearn.feature_extraction.text import CountVectorizer\n",
    "from sklearn.cluster import KMeans\n",
    "from sklearn.decomposition import PCA"
   ]
  },
  {
   "cell_type": "code",
   "execution_count": null,
   "metadata": {},
   "outputs": [],
   "source": [
    "vectorizer  = CountVectorizer()\n",
    "text = (clean_df_AFD.loc[:, 'text']).tolist()\n",
    "X = vectorizer.fit_transform(text)"
   ]
  },
  {
   "cell_type": "code",
   "execution_count": null,
   "metadata": {},
   "outputs": [],
   "source": [
    "clsf = KMeans(n_clusters=2, random_state=123).fit(X)"
   ]
  },
  {
   "cell_type": "code",
   "execution_count": null,
   "metadata": {},
   "outputs": [],
   "source": []
  },
  {
   "cell_type": "markdown",
   "metadata": {},
   "source": [
    "# Extract hashtags and party mentions"
   ]
  },
  {
   "cell_type": "code",
   "execution_count": null,
   "metadata": {},
   "outputs": [],
   "source": [
    "text_cleaner = lambda x: \" \".join(re.findall(r\"[A-Za-z0-9üäöÜÄÖß#@ ]*\", x))    "
   ]
  },
  {
   "cell_type": "code",
   "execution_count": null,
   "metadata": {},
   "outputs": [],
   "source": [
    "clean_df_AFD['clean_text'] = clean_df_AFD['text'].apply(text_cleaner)\n",
    "\n",
    "clean_df_AFD.info()\n",
    "clean_df_AFD['clean_text'].astype('str')"
   ]
  },
  {
   "cell_type": "code",
   "execution_count": null,
   "metadata": {},
   "outputs": [],
   "source": [
    "tag_finder = lambda x: re.findall(r\"#(\\w+)\", x)\n",
    "tag_remover = lambda x: re.sub(\"#(\\w+)\", '', x)"
   ]
  },
  {
   "cell_type": "code",
   "execution_count": null,
   "metadata": {},
   "outputs": [],
   "source": [
    "clean_df_AFD['tags'] = clean_df_AFD['text'].apply(tag_finder)\n",
    "clean_df_AFD['clean_text'] = clean_df_AFD['text'].apply(text_cleaner).apply(tag_remover)"
   ]
  },
  {
   "cell_type": "code",
   "execution_count": null,
   "metadata": {},
   "outputs": [],
   "source": [
    "clean_df_AFD.head(5) #e.g. afrikanischen - look at this again!"
   ]
  },
  {
   "cell_type": "code",
   "execution_count": null,
   "metadata": {},
   "outputs": [],
   "source": [
    "parties = ['CDU', 'CSU', 'afd', 'SPD', 'Grüne', 'Linke', 'FDP', 'Gruene'] \n",
    "            \n",
    "party_finder = lambda x: re.findall((parties[2]), x, re.IGNORECASE) # does not yet work as planned"
   ]
  },
  {
   "cell_type": "code",
   "execution_count": null,
   "metadata": {},
   "outputs": [],
   "source": [
    "clean_df_AFD['parties'] = clean_df_AFD['clean_text'].apply(party_finder)"
   ]
  },
  {
   "cell_type": "code",
   "execution_count": null,
   "metadata": {},
   "outputs": [],
   "source": [
    "clean_df_AFD.head(5)"
   ]
  },
  {
   "cell_type": "code",
   "execution_count": null,
   "metadata": {},
   "outputs": [],
   "source": []
  }
 ],
 "metadata": {
  "kernelspec": {
   "display_name": "Python 3",
   "language": "python",
   "name": "python3"
  },
  "language_info": {
   "codemirror_mode": {
    "name": "ipython",
    "version": 3
   },
   "file_extension": ".py",
   "mimetype": "text/x-python",
   "name": "python",
   "nbconvert_exporter": "python",
   "pygments_lexer": "ipython3",
   "version": "3.6.3"
  }
 },
 "nbformat": 4,
 "nbformat_minor": 2
}
