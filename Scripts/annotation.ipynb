{
 "cells": [
  {
   "cell_type": "code",
   "execution_count": 48,
   "metadata": {},
   "outputs": [],
   "source": [
    "import os\n",
    "import pandas as pd"
   ]
  },
  {
   "cell_type": "code",
   "execution_count": 2,
   "metadata": {},
   "outputs": [],
   "source": [
    "path = \"../Data/AfD/AfD_2018-08-04.json\""
   ]
  },
  {
   "cell_type": "code",
   "execution_count": 3,
   "metadata": {},
   "outputs": [],
   "source": [
    "def read_twitter_data(file = 'json_file_location.json'):\n",
    "    data_frame = pd.read_json(file, \n",
    "                               orient='records', \n",
    "                               lines=True, \n",
    "                               convert_dates=True, \n",
    "                               keep_default_dates=True)\n",
    "    return data_frame"
   ]
  },
  {
   "cell_type": "code",
   "execution_count": 4,
   "metadata": {},
   "outputs": [],
   "source": [
    "df = read_twitter_data(path)"
   ]
  },
  {
   "cell_type": "code",
   "execution_count": 95,
   "metadata": {},
   "outputs": [
    {
     "name": "stdout",
     "output_type": "stream",
     "text": [
      "(8813, 31)\n"
     ]
    },
    {
     "data": {
      "text/html": [
       "<div>\n",
       "<style>\n",
       "    .dataframe thead tr:only-child th {\n",
       "        text-align: right;\n",
       "    }\n",
       "\n",
       "    .dataframe thead th {\n",
       "        text-align: left;\n",
       "    }\n",
       "\n",
       "    .dataframe tbody tr th {\n",
       "        vertical-align: top;\n",
       "    }\n",
       "</style>\n",
       "<table border=\"1\" class=\"dataframe\">\n",
       "  <thead>\n",
       "    <tr style=\"text-align: right;\">\n",
       "      <th></th>\n",
       "      <th>contributors</th>\n",
       "      <th>coordinates</th>\n",
       "      <th>created_at</th>\n",
       "      <th>entities</th>\n",
       "      <th>extended_entities</th>\n",
       "      <th>favorite_count</th>\n",
       "      <th>favorited</th>\n",
       "      <th>geo</th>\n",
       "      <th>id</th>\n",
       "      <th>id_str</th>\n",
       "      <th>in_reply_to_screen_name</th>\n",
       "      <th>in_reply_to_status_id</th>\n",
       "      <th>in_reply_to_status_id_str</th>\n",
       "      <th>in_reply_to_user_id</th>\n",
       "      <th>in_reply_to_user_id_str</th>\n",
       "      <th>is_quote_status</th>\n",
       "      <th>lang</th>\n",
       "      <th>metadata</th>\n",
       "      <th>place</th>\n",
       "      <th>possibly_sensitive</th>\n",
       "      <th>quoted_status</th>\n",
       "      <th>quoted_status_id</th>\n",
       "      <th>quoted_status_id_str</th>\n",
       "      <th>retweet_count</th>\n",
       "      <th>retweeted</th>\n",
       "      <th>retweeted_status</th>\n",
       "      <th>source</th>\n",
       "      <th>text</th>\n",
       "      <th>truncated</th>\n",
       "      <th>user</th>\n",
       "      <th>withheld_in_countries</th>\n",
       "    </tr>\n",
       "  </thead>\n",
       "  <tbody>\n",
       "    <tr>\n",
       "      <th>0</th>\n",
       "      <td>NaN</td>\n",
       "      <td>NaN</td>\n",
       "      <td>2018-08-04 23:59:42</td>\n",
       "      <td>{'user_mentions': [{'name': 'Beatrix von Storch', 'indices': [3, 19], 'id': 805308596, 'screen_name': 'Beatrix_vStorch', 'id_str': '805308596'}], 'hashtags': [], 'symbols': [], 'urls': []}</td>\n",
       "      <td>NaN</td>\n",
       "      <td>0</td>\n",
       "      <td>False</td>\n",
       "      <td>NaN</td>\n",
       "      <td>1025894074392436741</td>\n",
       "      <td>1025894074392436736</td>\n",
       "      <td>None</td>\n",
       "      <td>NaN</td>\n",
       "      <td>NaN</td>\n",
       "      <td>NaN</td>\n",
       "      <td>NaN</td>\n",
       "      <td>False</td>\n",
       "      <td>de</td>\n",
       "      <td>{'result_type': 'recent', 'iso_language_code': 'de'}</td>\n",
       "      <td>None</td>\n",
       "      <td>NaN</td>\n",
       "      <td>NaN</td>\n",
       "      <td>NaN</td>\n",
       "      <td>NaN</td>\n",
       "      <td>418</td>\n",
       "      <td>False</td>\n",
       "      <td>{'in_reply_to_user_id': None, 'id': 1025420700872523776, 'geo': None, 'possibly_sensitive': False, 'user': {'profile_image_url': 'http://pbs.twimg.com/profile_images/865668428572446722/MdEqCwZ8_normal.jpg', 'contributors_enabled': False, 'id': 805308596, 'followers_count': 37654, 'geo_enabled': False, 'name': 'Beatrix von Storch', 'profile_sidebar_border_color': 'FFFFFF', 'profile_banner_url': 'https://pbs.twimg.com/profile_banners/805308596/1533234847', 'profile_text_color': '333333', 'crea...</td>\n",
       "      <td>&lt;a href=\"http://twitter.com/download/iphone\" rel=\"nofollow\"&gt;Twitter for iPhone&lt;/a&gt;</td>\n",
       "      <td>RT @Beatrix_vStorch: Abdul D., der Mörder der 15-jährigen Mia, hat den deutschen Steuerzahler bis zu seiner Tat 100.000 Euro gekostet. Nebe…</td>\n",
       "      <td>False</td>\n",
       "      <td>{'profile_image_url': 'http://pbs.twimg.com/profile_images/896459171704524800/6I4BO19q_normal.jpg', 'contributors_enabled': False, 'id': 857946215278923776, 'followers_count': 193, 'geo_enabled': True, 'name': '⚓️ HANSEAT  🤫', 'profile_sidebar_border_color': 'C0DEED', 'profile_banner_url': 'https://pbs.twimg.com/profile_banners/857946215278923776/1502567760', 'profile_text_color': '333333', 'created_at': 'Fri Apr 28 13:14:52 +0000 2017', 'statuses_count': 16798, 'screen_name': 'AhoiHanseat',...</td>\n",
       "      <td>NaN</td>\n",
       "    </tr>\n",
       "    <tr>\n",
       "      <th>1</th>\n",
       "      <td>NaN</td>\n",
       "      <td>NaN</td>\n",
       "      <td>2018-08-04 23:58:39</td>\n",
       "      <td>{'user_mentions': [{'name': 'Voice of Europe 🌐', 'indices': [3, 15], 'id': 4717892303, 'screen_name': 'V_of_Europe', 'id_str': '4717892303'}], 'hashtags': [], 'symbols': [], 'urls': [{'url': 'https://t.co/a951PPoneh', 'expanded_url': 'https://voiceofeurope.com/2018/08/support-for-germanys-right-wing-afd-party-reaches-new-record-high/#.W2WewZt16F8.twitter', 'indices': [86, 109], 'display_url': 'voiceofeurope.com/2018/08/suppor…'}]}</td>\n",
       "      <td>NaN</td>\n",
       "      <td>0</td>\n",
       "      <td>False</td>\n",
       "      <td>NaN</td>\n",
       "      <td>1025893813305401344</td>\n",
       "      <td>1025893813305401344</td>\n",
       "      <td>None</td>\n",
       "      <td>NaN</td>\n",
       "      <td>NaN</td>\n",
       "      <td>NaN</td>\n",
       "      <td>NaN</td>\n",
       "      <td>False</td>\n",
       "      <td>en</td>\n",
       "      <td>{'result_type': 'recent', 'iso_language_code': 'en'}</td>\n",
       "      <td>None</td>\n",
       "      <td>0.0</td>\n",
       "      <td>NaN</td>\n",
       "      <td>NaN</td>\n",
       "      <td>NaN</td>\n",
       "      <td>570</td>\n",
       "      <td>False</td>\n",
       "      <td>{'in_reply_to_user_id': None, 'id': 1025724004584353792, 'geo': None, 'possibly_sensitive': False, 'user': {'profile_image_url': 'http://pbs.twimg.com/profile_images/905902631708758017/so3lTEtE_normal.jpg', 'contributors_enabled': False, 'id': 4717892303, 'followers_count': 206666, 'geo_enabled': False, 'name': 'Voice of Europe 🌐', 'profile_sidebar_border_color': '000000', 'profile_banner_url': 'https://pbs.twimg.com/profile_banners/4717892303/1528615987', 'profile_text_color': '000000', 'cr...</td>\n",
       "      <td>&lt;a href=\"http://twitter.com/download/android\" rel=\"nofollow\"&gt;Twitter for Android&lt;/a&gt;</td>\n",
       "      <td>RT @V_of_Europe: Support for Germany's right-wing AfD party reaches new record high \\n\\nhttps://t.co/a951PPoneh</td>\n",
       "      <td>False</td>\n",
       "      <td>{'profile_image_url': 'http://pbs.twimg.com/profile_images/693666900249686016/s97YwDQd_normal.jpg', 'contributors_enabled': False, 'id': 339489278, 'followers_count': 267, 'geo_enabled': True, 'name': 'G. M.', 'profile_sidebar_border_color': 'C0DEED', 'profile_text_color': '333333', 'created_at': 'Thu Jul 21 05:34:47 +0000 2011', 'statuses_count': 16453, 'screen_name': '1_GEM', 'location': '', 'profile_link_color': '1DA1F2', 'description': '', 'entities': {'description': {'urls': []}}, 'id_s...</td>\n",
       "      <td>NaN</td>\n",
       "    </tr>\n",
       "    <tr>\n",
       "      <th>2</th>\n",
       "      <td>NaN</td>\n",
       "      <td>NaN</td>\n",
       "      <td>2018-08-04 23:58:39</td>\n",
       "      <td>{'user_mentions': [{'name': 'Kampf-Katzen', 'indices': [3, 18], 'id': 861726044063248384, 'screen_name': 'OpaPiepenbrink', 'id_str': '861726044063248384'}], 'hashtags': [{'text': 'AFD', 'indices': [47, 51]}, {'text': 'AFDimBundestag', 'indices': [52, 67]}, {'text': 'AliceWeidel', 'indices': [68, 80]}, {'text': 'Gauland', 'indices': [81, 89]}, {'text': 'Meuthen', 'indices': [90, 98]}, {'text': 'Storch', 'indices': [99, 106]}, {'text': 'MalteKaufmann', 'indices': [107, 121]}], 'symbols': [], '...</td>\n",
       "      <td>NaN</td>\n",
       "      <td>0</td>\n",
       "      <td>False</td>\n",
       "      <td>NaN</td>\n",
       "      <td>1025893812718252032</td>\n",
       "      <td>1025893812718252032</td>\n",
       "      <td>None</td>\n",
       "      <td>NaN</td>\n",
       "      <td>NaN</td>\n",
       "      <td>NaN</td>\n",
       "      <td>NaN</td>\n",
       "      <td>False</td>\n",
       "      <td>de</td>\n",
       "      <td>{'result_type': 'recent', 'iso_language_code': 'de'}</td>\n",
       "      <td>None</td>\n",
       "      <td>NaN</td>\n",
       "      <td>NaN</td>\n",
       "      <td>NaN</td>\n",
       "      <td>NaN</td>\n",
       "      <td>1</td>\n",
       "      <td>False</td>\n",
       "      <td>{'in_reply_to_user_id': None, 'id': 1025893778253643777, 'geo': None, 'possibly_sensitive': False, 'user': {'profile_image_url': 'http://pbs.twimg.com/profile_images/1011781343024381952/BSHC5bVq_normal.jpg', 'contributors_enabled': False, 'id': 861726044063248384, 'followers_count': 121, 'geo_enabled': False, 'name': 'Kampf-Katzen', 'profile_sidebar_border_color': '000000', 'profile_banner_url': 'https://pbs.twimg.com/profile_banners/861726044063248384/1530125344', 'profile_text_color': '000...</td>\n",
       "      <td>&lt;a href=\"https://mobile.twitter.com\" rel=\"nofollow\"&gt;Twitter Lite&lt;/a&gt;</td>\n",
       "      <td>RT @OpaPiepenbrink: Die Hölle geht auf...für:\\n #AFD\\n#AFDimBundestag\\n#AliceWeidel\\n#Gauland\\n#Meuthen\\n#Storch\\n#MalteKaufmann\\nund Konsorten nat…</td>\n",
       "      <td>False</td>\n",
       "      <td>{'profile_image_url': 'http://pbs.twimg.com/profile_images/1011781343024381952/BSHC5bVq_normal.jpg', 'contributors_enabled': False, 'id': 861726044063248384, 'followers_count': 121, 'geo_enabled': False, 'name': 'Kampf-Katzen', 'profile_sidebar_border_color': '000000', 'profile_banner_url': 'https://pbs.twimg.com/profile_banners/861726044063248384/1530125344', 'profile_text_color': '000000', 'created_at': 'Mon May 08 23:34:33 +0000 2017', 'statuses_count': 2773, 'screen_name': 'OpaPiepenbrin...</td>\n",
       "      <td>NaN</td>\n",
       "    </tr>\n",
       "    <tr>\n",
       "      <th>3</th>\n",
       "      <td>NaN</td>\n",
       "      <td>NaN</td>\n",
       "      <td>2018-08-04 23:58:37</td>\n",
       "      <td>{'user_mentions': [{'name': 'Julia 🌴', 'indices': [3, 13], 'id': 435389605, 'screen_name': 'BlondJedi', 'id_str': '435389605'}, {'name': 'Alternative für Deutschland 🇩🇪', 'indices': [82, 86], 'id': 844081278, 'screen_name': 'AfD', 'id_str': '844081278'}], 'hashtags': [], 'symbols': [], 'urls': []}</td>\n",
       "      <td>NaN</td>\n",
       "      <td>0</td>\n",
       "      <td>False</td>\n",
       "      <td>NaN</td>\n",
       "      <td>1025893803725664256</td>\n",
       "      <td>1025893803725664256</td>\n",
       "      <td>None</td>\n",
       "      <td>NaN</td>\n",
       "      <td>NaN</td>\n",
       "      <td>NaN</td>\n",
       "      <td>NaN</td>\n",
       "      <td>False</td>\n",
       "      <td>de</td>\n",
       "      <td>{'result_type': 'recent', 'iso_language_code': 'de'}</td>\n",
       "      <td>None</td>\n",
       "      <td>NaN</td>\n",
       "      <td>NaN</td>\n",
       "      <td>NaN</td>\n",
       "      <td>NaN</td>\n",
       "      <td>165</td>\n",
       "      <td>False</td>\n",
       "      <td>{'in_reply_to_user_id': None, 'id': 1025734522648899584, 'geo': None, 'possibly_sensitive': False, 'user': {'profile_image_url': 'http://pbs.twimg.com/profile_images/865840671428575232/9WVmDqSy_normal.jpg', 'contributors_enabled': False, 'id': 435389605, 'followers_count': 11792, 'geo_enabled': False, 'name': 'Julia 🌴', 'profile_sidebar_border_color': 'FFFFFF', 'profile_banner_url': 'https://pbs.twimg.com/profile_banners/435389605/1515022977', 'profile_text_color': '3C3940', 'created_at': 'T...</td>\n",
       "      <td>&lt;a href=\"http://twitter.com\" rel=\"nofollow\"&gt;Twitter Web Client&lt;/a&gt;</td>\n",
       "      <td>RT @BlondJedi: Tagesthemen Kommentator findet beschämend, dass  jeder 5. Deutsche @AfD wählen würde - ich finde eher beschämend dass die @t…</td>\n",
       "      <td>False</td>\n",
       "      <td>{'profile_image_url': 'http://pbs.twimg.com/profile_images/378800000559251185/4690dd0a5b7ac0155fad71fa48320860_normal.jpeg', 'contributors_enabled': False, 'id': 183642388, 'followers_count': 307, 'geo_enabled': False, 'name': 'Hauptstadt-Büro Gab.', 'profile_sidebar_border_color': 'FFFFFF', 'profile_banner_url': 'https://pbs.twimg.com/profile_banners/183642388/1496588951', 'profile_text_color': '3D1957', 'created_at': 'Fri Aug 27 14:32:45 +0000 2010', 'statuses_count': 23856, 'screen_name':...</td>\n",
       "      <td>NaN</td>\n",
       "    </tr>\n",
       "    <tr>\n",
       "      <th>4</th>\n",
       "      <td>NaN</td>\n",
       "      <td>NaN</td>\n",
       "      <td>2018-08-04 23:58:31</td>\n",
       "      <td>{'user_mentions': [], 'hashtags': [{'text': 'AFD', 'indices': [27, 31]}, {'text': 'AFDimBundestag', 'indices': [32, 47]}, {'text': 'AliceWeidel', 'indices': [48, 60]}, {'text': 'Gauland', 'indices': [61, 69]}, {'text': 'Meuthen', 'indices': [70, 78]}, {'text': 'Storch', 'indices': [79, 86]}, {'text': 'MalteKaufmann', 'indices': [87, 101]}], 'symbols': [], 'urls': [{'url': 'https://t.co/QoRkEHy5rA', 'expanded_url': 'https://twitter.com/i/web/status/1025893778253643777', 'indices': [117, 140],...</td>\n",
       "      <td>NaN</td>\n",
       "      <td>0</td>\n",
       "      <td>False</td>\n",
       "      <td>NaN</td>\n",
       "      <td>1025893778253643777</td>\n",
       "      <td>1025893778253643776</td>\n",
       "      <td>None</td>\n",
       "      <td>NaN</td>\n",
       "      <td>NaN</td>\n",
       "      <td>NaN</td>\n",
       "      <td>NaN</td>\n",
       "      <td>False</td>\n",
       "      <td>de</td>\n",
       "      <td>{'result_type': 'recent', 'iso_language_code': 'de'}</td>\n",
       "      <td>None</td>\n",
       "      <td>0.0</td>\n",
       "      <td>NaN</td>\n",
       "      <td>NaN</td>\n",
       "      <td>NaN</td>\n",
       "      <td>1</td>\n",
       "      <td>False</td>\n",
       "      <td>NaN</td>\n",
       "      <td>&lt;a href=\"https://mobile.twitter.com\" rel=\"nofollow\"&gt;Twitter Lite&lt;/a&gt;</td>\n",
       "      <td>Die Hölle geht auf...für:\\n #AFD\\n#AFDimBundestag\\n#AliceWeidel\\n#Gauland\\n#Meuthen\\n#Storch\\n#MalteKaufmann\\nund Konsorten… https://t.co/QoRkEHy5rA</td>\n",
       "      <td>True</td>\n",
       "      <td>{'profile_image_url': 'http://pbs.twimg.com/profile_images/1011781343024381952/BSHC5bVq_normal.jpg', 'contributors_enabled': False, 'id': 861726044063248384, 'followers_count': 121, 'geo_enabled': False, 'name': 'Kampf-Katzen', 'profile_sidebar_border_color': '000000', 'profile_banner_url': 'https://pbs.twimg.com/profile_banners/861726044063248384/1530125344', 'profile_text_color': '000000', 'created_at': 'Mon May 08 23:34:33 +0000 2017', 'statuses_count': 2773, 'screen_name': 'OpaPiepenbrin...</td>\n",
       "      <td>NaN</td>\n",
       "    </tr>\n",
       "  </tbody>\n",
       "</table>\n",
       "</div>"
      ],
      "text/plain": [
       "   contributors  coordinates          created_at  \\\n",
       "0           NaN          NaN 2018-08-04 23:59:42   \n",
       "1           NaN          NaN 2018-08-04 23:58:39   \n",
       "2           NaN          NaN 2018-08-04 23:58:39   \n",
       "3           NaN          NaN 2018-08-04 23:58:37   \n",
       "4           NaN          NaN 2018-08-04 23:58:31   \n",
       "\n",
       "                                                                                                                                                                                                                                                                                                                                                                                                                                                                                                              entities  \\\n",
       "0                                                                                                                                                                                                                                                                                                                         {'user_mentions': [{'name': 'Beatrix von Storch', 'indices': [3, 19], 'id': 805308596, 'screen_name': 'Beatrix_vStorch', 'id_str': '805308596'}], 'hashtags': [], 'symbols': [], 'urls': []}   \n",
       "1                                                                   {'user_mentions': [{'name': 'Voice of Europe 🌐', 'indices': [3, 15], 'id': 4717892303, 'screen_name': 'V_of_Europe', 'id_str': '4717892303'}], 'hashtags': [], 'symbols': [], 'urls': [{'url': 'https://t.co/a951PPoneh', 'expanded_url': 'https://voiceofeurope.com/2018/08/support-for-germanys-right-wing-afd-party-reaches-new-record-high/#.W2WewZt16F8.twitter', 'indices': [86, 109], 'display_url': 'voiceofeurope.com/2018/08/suppor…'}]}   \n",
       "2  {'user_mentions': [{'name': 'Kampf-Katzen', 'indices': [3, 18], 'id': 861726044063248384, 'screen_name': 'OpaPiepenbrink', 'id_str': '861726044063248384'}], 'hashtags': [{'text': 'AFD', 'indices': [47, 51]}, {'text': 'AFDimBundestag', 'indices': [52, 67]}, {'text': 'AliceWeidel', 'indices': [68, 80]}, {'text': 'Gauland', 'indices': [81, 89]}, {'text': 'Meuthen', 'indices': [90, 98]}, {'text': 'Storch', 'indices': [99, 106]}, {'text': 'MalteKaufmann', 'indices': [107, 121]}], 'symbols': [], '...   \n",
       "3                                                                                                                                                                                                           {'user_mentions': [{'name': 'Julia 🌴', 'indices': [3, 13], 'id': 435389605, 'screen_name': 'BlondJedi', 'id_str': '435389605'}, {'name': 'Alternative für Deutschland 🇩🇪', 'indices': [82, 86], 'id': 844081278, 'screen_name': 'AfD', 'id_str': '844081278'}], 'hashtags': [], 'symbols': [], 'urls': []}   \n",
       "4  {'user_mentions': [], 'hashtags': [{'text': 'AFD', 'indices': [27, 31]}, {'text': 'AFDimBundestag', 'indices': [32, 47]}, {'text': 'AliceWeidel', 'indices': [48, 60]}, {'text': 'Gauland', 'indices': [61, 69]}, {'text': 'Meuthen', 'indices': [70, 78]}, {'text': 'Storch', 'indices': [79, 86]}, {'text': 'MalteKaufmann', 'indices': [87, 101]}], 'symbols': [], 'urls': [{'url': 'https://t.co/QoRkEHy5rA', 'expanded_url': 'https://twitter.com/i/web/status/1025893778253643777', 'indices': [117, 140],...   \n",
       "\n",
       "  extended_entities  favorite_count  favorited  geo                   id  \\\n",
       "0               NaN               0      False  NaN  1025894074392436741   \n",
       "1               NaN               0      False  NaN  1025893813305401344   \n",
       "2               NaN               0      False  NaN  1025893812718252032   \n",
       "3               NaN               0      False  NaN  1025893803725664256   \n",
       "4               NaN               0      False  NaN  1025893778253643777   \n",
       "\n",
       "                id_str in_reply_to_screen_name  in_reply_to_status_id  \\\n",
       "0  1025894074392436736                    None                    NaN   \n",
       "1  1025893813305401344                    None                    NaN   \n",
       "2  1025893812718252032                    None                    NaN   \n",
       "3  1025893803725664256                    None                    NaN   \n",
       "4  1025893778253643776                    None                    NaN   \n",
       "\n",
       "   in_reply_to_status_id_str  in_reply_to_user_id  in_reply_to_user_id_str  \\\n",
       "0                        NaN                  NaN                      NaN   \n",
       "1                        NaN                  NaN                      NaN   \n",
       "2                        NaN                  NaN                      NaN   \n",
       "3                        NaN                  NaN                      NaN   \n",
       "4                        NaN                  NaN                      NaN   \n",
       "\n",
       "   is_quote_status lang                                              metadata  \\\n",
       "0            False   de  {'result_type': 'recent', 'iso_language_code': 'de'}   \n",
       "1            False   en  {'result_type': 'recent', 'iso_language_code': 'en'}   \n",
       "2            False   de  {'result_type': 'recent', 'iso_language_code': 'de'}   \n",
       "3            False   de  {'result_type': 'recent', 'iso_language_code': 'de'}   \n",
       "4            False   de  {'result_type': 'recent', 'iso_language_code': 'de'}   \n",
       "\n",
       "  place  possibly_sensitive quoted_status  quoted_status_id  \\\n",
       "0  None                 NaN           NaN               NaN   \n",
       "1  None                 0.0           NaN               NaN   \n",
       "2  None                 NaN           NaN               NaN   \n",
       "3  None                 NaN           NaN               NaN   \n",
       "4  None                 0.0           NaN               NaN   \n",
       "\n",
       "   quoted_status_id_str  retweet_count  retweeted  \\\n",
       "0                   NaN            418      False   \n",
       "1                   NaN            570      False   \n",
       "2                   NaN              1      False   \n",
       "3                   NaN            165      False   \n",
       "4                   NaN              1      False   \n",
       "\n",
       "                                                                                                                                                                                                                                                                                                                                                                                                                                                                                                      retweeted_status  \\\n",
       "0  {'in_reply_to_user_id': None, 'id': 1025420700872523776, 'geo': None, 'possibly_sensitive': False, 'user': {'profile_image_url': 'http://pbs.twimg.com/profile_images/865668428572446722/MdEqCwZ8_normal.jpg', 'contributors_enabled': False, 'id': 805308596, 'followers_count': 37654, 'geo_enabled': False, 'name': 'Beatrix von Storch', 'profile_sidebar_border_color': 'FFFFFF', 'profile_banner_url': 'https://pbs.twimg.com/profile_banners/805308596/1533234847', 'profile_text_color': '333333', 'crea...   \n",
       "1  {'in_reply_to_user_id': None, 'id': 1025724004584353792, 'geo': None, 'possibly_sensitive': False, 'user': {'profile_image_url': 'http://pbs.twimg.com/profile_images/905902631708758017/so3lTEtE_normal.jpg', 'contributors_enabled': False, 'id': 4717892303, 'followers_count': 206666, 'geo_enabled': False, 'name': 'Voice of Europe 🌐', 'profile_sidebar_border_color': '000000', 'profile_banner_url': 'https://pbs.twimg.com/profile_banners/4717892303/1528615987', 'profile_text_color': '000000', 'cr...   \n",
       "2  {'in_reply_to_user_id': None, 'id': 1025893778253643777, 'geo': None, 'possibly_sensitive': False, 'user': {'profile_image_url': 'http://pbs.twimg.com/profile_images/1011781343024381952/BSHC5bVq_normal.jpg', 'contributors_enabled': False, 'id': 861726044063248384, 'followers_count': 121, 'geo_enabled': False, 'name': 'Kampf-Katzen', 'profile_sidebar_border_color': '000000', 'profile_banner_url': 'https://pbs.twimg.com/profile_banners/861726044063248384/1530125344', 'profile_text_color': '000...   \n",
       "3  {'in_reply_to_user_id': None, 'id': 1025734522648899584, 'geo': None, 'possibly_sensitive': False, 'user': {'profile_image_url': 'http://pbs.twimg.com/profile_images/865840671428575232/9WVmDqSy_normal.jpg', 'contributors_enabled': False, 'id': 435389605, 'followers_count': 11792, 'geo_enabled': False, 'name': 'Julia 🌴', 'profile_sidebar_border_color': 'FFFFFF', 'profile_banner_url': 'https://pbs.twimg.com/profile_banners/435389605/1515022977', 'profile_text_color': '3C3940', 'created_at': 'T...   \n",
       "4                                                                                                                                                                                                                                                                                                                                                                                                                                                                                                                  NaN   \n",
       "\n",
       "                                                                                 source  \\\n",
       "0    <a href=\"http://twitter.com/download/iphone\" rel=\"nofollow\">Twitter for iPhone</a>   \n",
       "1  <a href=\"http://twitter.com/download/android\" rel=\"nofollow\">Twitter for Android</a>   \n",
       "2                  <a href=\"https://mobile.twitter.com\" rel=\"nofollow\">Twitter Lite</a>   \n",
       "3                    <a href=\"http://twitter.com\" rel=\"nofollow\">Twitter Web Client</a>   \n",
       "4                  <a href=\"https://mobile.twitter.com\" rel=\"nofollow\">Twitter Lite</a>   \n",
       "\n",
       "                                                                                                                                                   text  \\\n",
       "0          RT @Beatrix_vStorch: Abdul D., der Mörder der 15-jährigen Mia, hat den deutschen Steuerzahler bis zu seiner Tat 100.000 Euro gekostet. Nebe…   \n",
       "1                                       RT @V_of_Europe: Support for Germany's right-wing AfD party reaches new record high \\n\\nhttps://t.co/a951PPoneh   \n",
       "2  RT @OpaPiepenbrink: Die Hölle geht auf...für:\\n #AFD\\n#AFDimBundestag\\n#AliceWeidel\\n#Gauland\\n#Meuthen\\n#Storch\\n#MalteKaufmann\\nund Konsorten nat…   \n",
       "3          RT @BlondJedi: Tagesthemen Kommentator findet beschämend, dass  jeder 5. Deutsche @AfD wählen würde - ich finde eher beschämend dass die @t…   \n",
       "4  Die Hölle geht auf...für:\\n #AFD\\n#AFDimBundestag\\n#AliceWeidel\\n#Gauland\\n#Meuthen\\n#Storch\\n#MalteKaufmann\\nund Konsorten… https://t.co/QoRkEHy5rA   \n",
       "\n",
       "   truncated  \\\n",
       "0      False   \n",
       "1      False   \n",
       "2      False   \n",
       "3      False   \n",
       "4       True   \n",
       "\n",
       "                                                                                                                                                                                                                                                                                                                                                                                                                                                                                                                  user  \\\n",
       "0  {'profile_image_url': 'http://pbs.twimg.com/profile_images/896459171704524800/6I4BO19q_normal.jpg', 'contributors_enabled': False, 'id': 857946215278923776, 'followers_count': 193, 'geo_enabled': True, 'name': '⚓️ HANSEAT  🤫', 'profile_sidebar_border_color': 'C0DEED', 'profile_banner_url': 'https://pbs.twimg.com/profile_banners/857946215278923776/1502567760', 'profile_text_color': '333333', 'created_at': 'Fri Apr 28 13:14:52 +0000 2017', 'statuses_count': 16798, 'screen_name': 'AhoiHanseat',...   \n",
       "1  {'profile_image_url': 'http://pbs.twimg.com/profile_images/693666900249686016/s97YwDQd_normal.jpg', 'contributors_enabled': False, 'id': 339489278, 'followers_count': 267, 'geo_enabled': True, 'name': 'G. M.', 'profile_sidebar_border_color': 'C0DEED', 'profile_text_color': '333333', 'created_at': 'Thu Jul 21 05:34:47 +0000 2011', 'statuses_count': 16453, 'screen_name': '1_GEM', 'location': '', 'profile_link_color': '1DA1F2', 'description': '', 'entities': {'description': {'urls': []}}, 'id_s...   \n",
       "2  {'profile_image_url': 'http://pbs.twimg.com/profile_images/1011781343024381952/BSHC5bVq_normal.jpg', 'contributors_enabled': False, 'id': 861726044063248384, 'followers_count': 121, 'geo_enabled': False, 'name': 'Kampf-Katzen', 'profile_sidebar_border_color': '000000', 'profile_banner_url': 'https://pbs.twimg.com/profile_banners/861726044063248384/1530125344', 'profile_text_color': '000000', 'created_at': 'Mon May 08 23:34:33 +0000 2017', 'statuses_count': 2773, 'screen_name': 'OpaPiepenbrin...   \n",
       "3  {'profile_image_url': 'http://pbs.twimg.com/profile_images/378800000559251185/4690dd0a5b7ac0155fad71fa48320860_normal.jpeg', 'contributors_enabled': False, 'id': 183642388, 'followers_count': 307, 'geo_enabled': False, 'name': 'Hauptstadt-Büro Gab.', 'profile_sidebar_border_color': 'FFFFFF', 'profile_banner_url': 'https://pbs.twimg.com/profile_banners/183642388/1496588951', 'profile_text_color': '3D1957', 'created_at': 'Fri Aug 27 14:32:45 +0000 2010', 'statuses_count': 23856, 'screen_name':...   \n",
       "4  {'profile_image_url': 'http://pbs.twimg.com/profile_images/1011781343024381952/BSHC5bVq_normal.jpg', 'contributors_enabled': False, 'id': 861726044063248384, 'followers_count': 121, 'geo_enabled': False, 'name': 'Kampf-Katzen', 'profile_sidebar_border_color': '000000', 'profile_banner_url': 'https://pbs.twimg.com/profile_banners/861726044063248384/1530125344', 'profile_text_color': '000000', 'created_at': 'Mon May 08 23:34:33 +0000 2017', 'statuses_count': 2773, 'screen_name': 'OpaPiepenbrin...   \n",
       "\n",
       "  withheld_in_countries  \n",
       "0                   NaN  \n",
       "1                   NaN  \n",
       "2                   NaN  \n",
       "3                   NaN  \n",
       "4                   NaN  "
      ]
     },
     "execution_count": 95,
     "metadata": {},
     "output_type": "execute_result"
    }
   ],
   "source": [
    "print(df.shape)\n",
    "df.head()"
   ]
  },
  {
   "cell_type": "code",
   "execution_count": 54,
   "metadata": {},
   "outputs": [],
   "source": [
    "def annotate(dfin, old_annotations=None):\n",
    "    old_text = []\n",
    "    \n",
    "    if old_annotations:\n",
    "        results = old_annotations\n",
    "        old_text = [elements[0] for elements in old_annotations]\n",
    "    else:\n",
    "        results = []\n",
    "        \n",
    "    for i, text in enumerate(df.loc[:5, 'text']):\n",
    "        if text in old_text:\n",
    "            print(\"text already known\")\n",
    "            continue\n",
    "        else:\n",
    "            print(i)\n",
    "            a = input(text)\n",
    "            if a == \"p\":\n",
    "                out = \"pro\"\n",
    "            elif a == \"c\":\n",
    "                out = \"contra\"\n",
    "            elif a == \"n\":\n",
    "                out = \"neutral\"\n",
    "            else:\n",
    "                print(\"result not found\")\n",
    "            results.append([text, out])\n",
    "    return results"
   ]
  },
  {
   "cell_type": "code",
   "execution_count": 51,
   "metadata": {},
   "outputs": [
    {
     "name": "stdout",
     "output_type": "stream",
     "text": [
      "0\n",
      "1\n",
      "2\n"
     ]
    }
   ],
   "source": [
    "annotations = annotate(df)"
   ]
  },
  {
   "cell_type": "code",
   "execution_count": 52,
   "metadata": {},
   "outputs": [
    {
     "name": "stdout",
     "output_type": "stream",
     "text": [
      "[['RT @Beatrix_vStorch: Abdul D., der Mörder der 15-jährigen Mia, hat den deutschen Steuerzahler bis zu seiner Tat 100.000 Euro gekostet. Nebe…', 'pro'], [\"RT @V_of_Europe: Support for Germany's right-wing AfD party reaches new record high \\n\\nhttps://t.co/a951PPoneh\", 'pro'], ['RT @OpaPiepenbrink: Die Hölle geht auf...für:\\n #AFD\\n#AFDimBundestag\\n#AliceWeidel\\n#Gauland\\n#Meuthen\\n#Storch\\n#MalteKaufmann\\nund Konsorten nat…', 'contra']]\n"
     ]
    }
   ],
   "source": [
    "print(annotations)"
   ]
  },
  {
   "cell_type": "code",
   "execution_count": 46,
   "metadata": {},
   "outputs": [],
   "source": [
    "first_test = annotations.copy()"
   ]
  },
  {
   "cell_type": "code",
   "execution_count": 55,
   "metadata": {},
   "outputs": [
    {
     "name": "stdout",
     "output_type": "stream",
     "text": [
      "text already known\n",
      "text already known\n",
      "text already known\n",
      "3\n",
      "4\n",
      "5\n"
     ]
    }
   ],
   "source": [
    "new_annotations = annotate(df, old_annotations=first_test)"
   ]
  },
  {
   "cell_type": "code",
   "execution_count": 78,
   "metadata": {},
   "outputs": [
    {
     "data": {
      "text/plain": [
       "5184"
      ]
     },
     "execution_count": 78,
     "metadata": {},
     "output_type": "execute_result"
    }
   ],
   "source": [
    "df.text.map(lambda x: x.endswith(\"\\u2026\")).sum()"
   ]
  },
  {
   "cell_type": "code",
   "execution_count": 75,
   "metadata": {},
   "outputs": [
    {
     "data": {
      "text/plain": [
       "0            RT @Beatrix_vStorch: Abdul D., der Mörder der 15-jährigen Mia, hat den deutschen Steuerzahler bis zu seiner Tat 100.000 Euro gekostet. Nebe…\n",
       "1                                         RT @V_of_Europe: Support for Germany's right-wing AfD party reaches new record high \\n\\nhttps://t.co/a951PPoneh\n",
       "2    RT @OpaPiepenbrink: Die Hölle geht auf...für:\\n #AFD\\n#AFDimBundestag\\n#AliceWeidel\\n#Gauland\\n#Meuthen\\n#Storch\\n#MalteKaufmann\\nund Konsorten nat…\n",
       "3            RT @BlondJedi: Tagesthemen Kommentator findet beschämend, dass  jeder 5. Deutsche @AfD wählen würde - ich finde eher beschämend dass die @t…\n",
       "4    Die Hölle geht auf...für:\\n #AFD\\n#AFDimBundestag\\n#AliceWeidel\\n#Gauland\\n#Meuthen\\n#Storch\\n#MalteKaufmann\\nund Konsorten… https://t.co/QoRkEHy5rA\n",
       "5          RT @AliCologne: Wenn \"Vorzeigelinke\" #Aufstehen so diffamieren, als hätte sie die AfD gegründet.\\n\\nEs gibt also die 'echten' Linken, die 'wa…\n",
       "Name: text, dtype: object"
      ]
     },
     "execution_count": 75,
     "metadata": {},
     "output_type": "execute_result"
    }
   ],
   "source": [
    "df.loc[0:5, \"text\"]"
   ]
  },
  {
   "cell_type": "code",
   "execution_count": 94,
   "metadata": {},
   "outputs": [],
   "source": [
    "pd.set_option(\"display.max_colwidth\", 500)\n",
    "pd.set_option(\"display.max_columns\", 500)"
   ]
  },
  {
   "cell_type": "code",
   "execution_count": 86,
   "metadata": {},
   "outputs": [],
   "source": [
    "from time import time\n",
    "from tqdm import tqdm"
   ]
  },
  {
   "cell_type": "code",
   "execution_count": 87,
   "metadata": {},
   "outputs": [
    {
     "name": "stderr",
     "output_type": "stream",
     "text": [
      "\r",
      "  0%|          | 0/29 [00:00<?, ?it/s]\r",
      "  3%|▎         | 1/29 [00:05<02:40,  5.74s/it]\r",
      "  7%|▋         | 2/29 [00:09<02:05,  4.63s/it]\r",
      " 10%|█         | 3/29 [00:12<01:47,  4.15s/it]\r",
      " 14%|█▍        | 4/29 [00:16<01:41,  4.04s/it]\r",
      " 17%|█▋        | 5/29 [00:19<01:32,  3.87s/it]\r",
      " 21%|██        | 6/29 [00:21<01:23,  3.62s/it]\r",
      " 24%|██▍       | 7/29 [00:24<01:17,  3.52s/it]\r",
      " 28%|██▊       | 8/29 [00:28<01:13,  3.51s/it]\r",
      " 31%|███       | 9/29 [00:31<01:09,  3.48s/it]\r",
      " 34%|███▍      | 10/29 [00:34<01:06,  3.48s/it]\r",
      " 38%|███▊      | 11/29 [00:35<00:57,  3.21s/it]\r",
      " 41%|████▏     | 12/29 [00:38<00:54,  3.18s/it]\r",
      " 45%|████▍     | 13/29 [00:41<00:50,  3.16s/it]\r",
      " 48%|████▊     | 14/29 [00:44<00:47,  3.15s/it]\r",
      " 52%|█████▏    | 15/29 [00:46<00:43,  3.11s/it]\r",
      " 55%|█████▌    | 16/29 [00:49<00:40,  3.09s/it]\r",
      " 59%|█████▊    | 17/29 [00:52<00:37,  3.11s/it]\r",
      " 62%|██████▏   | 18/29 [00:55<00:34,  3.11s/it]\r",
      " 66%|██████▌   | 19/29 [00:57<00:30,  3.01s/it]\r",
      " 69%|██████▉   | 20/29 [01:00<00:27,  3.02s/it]\r",
      " 72%|███████▏  | 21/29 [01:03<00:24,  3.03s/it]\r",
      " 76%|███████▌  | 22/29 [01:07<00:21,  3.07s/it]\r",
      " 79%|███████▉  | 23/29 [01:10<00:18,  3.07s/it]\r",
      " 83%|████████▎ | 24/29 [01:14<00:15,  3.09s/it]\r",
      " 86%|████████▌ | 25/29 [01:17<00:12,  3.09s/it]\r",
      " 90%|████████▉ | 26/29 [01:20<00:09,  3.08s/it]\r",
      " 93%|█████████▎| 27/29 [01:22<00:06,  3.07s/it]\r",
      " 97%|█████████▋| 28/29 [01:26<00:03,  3.09s/it]\r",
      "100%|██████████| 29/29 [01:29<00:00,  3.07s/it]"
     ]
    },
    {
     "name": "stdout",
     "output_type": "stream",
     "text": [
      "this took 89.15473008155823s\n"
     ]
    },
    {
     "name": "stderr",
     "output_type": "stream",
     "text": [
      "\n"
     ]
    }
   ],
   "source": [
    "path_afd = '../Data/AfD/'\n",
    "tic = time()\n",
    "files = [x for x in os.listdir(path_afd) if x.endswith('.json')]\n",
    "for file in tqdm(files):\n",
    "    path_in = os.path.join(path_afd, file)\n",
    "    temp = read_twitter_data(path_in)\n",
    "print(\"this took {}s\".format(time() - tic))"
   ]
  },
  {
   "cell_type": "code",
   "execution_count": 97,
   "metadata": {},
   "outputs": [],
   "source": [
    "foo = df.loc[:, ['text', 'user']]"
   ]
  },
  {
   "cell_type": "code",
   "execution_count": 99,
   "metadata": {},
   "outputs": [],
   "source": [
    "foo.to_pickle('../Data/test.pickle')"
   ]
  },
  {
   "cell_type": "code",
   "execution_count": null,
   "metadata": {},
   "outputs": [],
   "source": []
  }
 ],
 "metadata": {
  "kernelspec": {
   "display_name": "Python 3",
   "language": "python",
   "name": "python3"
  },
  "language_info": {
   "codemirror_mode": {
    "name": "ipython",
    "version": 3
   },
   "file_extension": ".py",
   "mimetype": "text/x-python",
   "name": "python",
   "nbconvert_exporter": "python",
   "pygments_lexer": "ipython3",
   "version": "3.6.3"
  }
 },
 "nbformat": 4,
 "nbformat_minor": 2
}
