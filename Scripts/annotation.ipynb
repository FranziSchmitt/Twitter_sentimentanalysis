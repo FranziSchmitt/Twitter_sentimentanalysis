{
 "cells": [
  {
   "cell_type": "code",
   "execution_count": 1,
   "metadata": {
    "collapsed": true
   },
   "outputs": [],
   "source": [
    "import os\n",
    "import pandas as pd\n",
    "import pickle\n",
    "from time import time\n",
    "from tqdm import tqdm\n",
    "\n",
    "pd.set_option(\"display.max_colwidth\", 500)\n",
    "pd.set_option(\"display.max_columns\", 500)\n",
    "\n",
    "# custom imports\n",
    "from data_handling import load_data, collapse_dfs\n",
    "from text_preprocessing import df_processing"
   ]
  },
  {
   "cell_type": "code",
   "execution_count": 2,
   "metadata": {},
   "outputs": [
    {
     "name": "stdout",
     "output_type": "stream",
     "text": [
      "loading data from pickle\n",
      "data loaded\n"
     ]
    }
   ],
   "source": [
    "read_in = False\n",
    "path = '/home/franzi/Git-DSR/Twitter_sentimentanalysis/Data/annotation_data.pickle'\n",
    "parties = ['AfD', 'SPD', 'CDU', 'CSU', 'FDP', 'LINKE', 'Gruene', 'Grüne']\n",
    "dates = ['08-{:02d}'.format(i) for i in range(2,3)]\n",
    "\n",
    "\n",
    "if read_in:\n",
    "    parties = parties\n",
    "    dates = dates\n",
    "    aug_data = {}\n",
    "    print('Loading: {}'.format(dates))\n",
    "    for party in parties:\n",
    "        load_list = ['../Data/{}/{}_2018-{}.json'.format(party, party, day) for day in dates]\n",
    "        aug_data[party] = load_data(load_list)\n",
    "        print('{} loaded'.format(party))\n",
    "    with open(path, 'wb') as fid:\n",
    "        pickle.dump(aug_data, fid)\n",
    "    print(\"Done\")\n",
    "else:\n",
    "    print('loading data from pickle')\n",
    "    with open(path, 'rb') as fid:\n",
    "        aug_data = pickle.load(fid)\n",
    "        print('data loaded')"
   ]
  },
  {
   "cell_type": "code",
   "execution_count": 3,
   "metadata": {},
   "outputs": [
    {
     "name": "stdout",
     "output_type": "stream",
     "text": [
      "loading data from pickle\n",
      "data loaded\n"
     ]
    }
   ],
   "source": [
    "collapse = False\n",
    "path_collapse = '/home/franzi/Git-DSR/Twitter_sentimentanalysis/Data/all_data_annotation.pickle' # path where pickle file is saved\n",
    "\n",
    "if collapse:\n",
    "    all_data = collapse_dfs(aug_data)\n",
    "    df_processing(all_data)\n",
    "    all_data = all_data.drop_duplicates('clean_text')\n",
    "    all_data['user_id'] = all_data.loc[:, 'user'].map(lambda x: x['id_str'])\n",
    "    all_data.drop('user', inplace=True, axis=1)\n",
    "    print('dumping data to pickle')\n",
    "    with open(path_collapse, 'wb') as fid:\n",
    "        pickle.dump(all_data, fid)\n",
    "    print('data dumped')\n",
    "else: \n",
    "    print('loading data from pickle')\n",
    "    with open(path_collapse, 'rb') as fid:\n",
    "        all_data = pickle.load(fid)\n",
    "        print('data loaded')"
   ]
  },
  {
   "cell_type": "code",
   "execution_count": 6,
   "metadata": {
    "collapsed": true
   },
   "outputs": [],
   "source": [
    "def annotate(dfin, no_annotations=10, old_annotations=pd.DataFrame()):\n",
    "    old_text = []\n",
    "    \n",
    "    if not old_annotations.empty:\n",
    "        old_text = old_annotations.iloc[:,[1,2]].values.tolist()\n",
    "#         print(type(old_text))\n",
    "#         print(old_text[1])\n",
    "        results = list(old_text)\n",
    "    else:\n",
    "        results = []\n",
    "        \n",
    "    for i, text in enumerate(dfin.iloc[:no_annotations, 4]):\n",
    "        if text in [e[0] for e in old_text]:\n",
    "            if(i%10 == 0):\n",
    "                  print (i)\n",
    "            continue\n",
    "        else:\n",
    "            print(i)\n",
    "            a = input(text)\n",
    "            if a == \"a\":\n",
    "                out = \"pro AfD\"\n",
    "            elif a == \"s\":\n",
    "                out = \"contra AfD\"\n",
    "            elif a == \"d\":\n",
    "                out = \"contra Alles\"\n",
    "            elif a == \"f\":\n",
    "                out = \"unknown\"\n",
    "            elif a == \"e\":\n",
    "                out = \"not German\"\n",
    "            else:\n",
    "                print(\"result not found\")\n",
    "            results.append([text, out])\n",
    "    return results"
   ]
  },
  {
   "cell_type": "code",
   "execution_count": 11,
   "metadata": {},
   "outputs": [
    {
     "name": "stdout",
     "output_type": "stream",
     "text": [
      "0\n",
      "10\n",
      "20\n",
      "30\n",
      "40\n",
      "50\n",
      "AfD  BW   mit  Dr   Marc  Jongen   Thomas  Seitz   MdB   Marc  Bernhard  MdB  und  Ma     einLink  via  f\n",
      "51\n",
      "   Sein  Anwalt  erklaerte  nun  gegenueber  dem  ZDF   dass  der  Islamist   SamiA  nur  noch  auf  die  Ausstellung  seines  neuen  Reisepass  f\n",
      "52\n",
      "   WAS   ZUM  FICK  IST  DAS  FUeR  EINE  FRAGE    Diese  Frage  kommt  auf   weil  die  AfD      faelschlicherweise      behauptet  hat  in  eine  s\n",
      "53\n",
      "   Herr   Erdogan  hat  keinen  Staatsbesuch  in  Deutschland  zu   planen   wie  ein  Sultan   der  eine  osmanische  Provinz  visitiert   d\n",
      "54\n",
      "Der  Landesvorsitzende  der  niedersaechsischen   AfD  Jugendorganisation  Junge  Alternative   Lars  Steinke   hat  den  Hitler  Attentaeter  Claus  Schenk  Graf  von  Stauffenberg  in  einem  Facebook  Post  als   Verraeter   und   Feigling   bezeichnet    fckafd   fcknzs  einLink  via  f\n",
      "55\n",
      "   Wenn  wir  die  EZB  nicht  zwingen  koennen   die  Regeln  einzuhalten   dann  muessen   wir  die  Notbremse  ziehen   amp   raus  aus  dem     An  d\n",
      "56\n",
      "  Geh  kacken    Tobias   Oder  kuemmert  euch  um  die  Witzfiguren  in  der  eigenen   Partei    Gute  Besserung  noch  d\n",
      "57\n",
      "      Eine  offene  Kampfansage  an  den  Rechtsstaat      Was  das  fuer  unser  Vaterland  bedeutet   kann  sich  jeder  ausmalen   der  no  d\n",
      "58\n",
      "   Bla  bla   der   AfD  ler  schon  wieder           So  lame  my  friend     So  lame    NoAfD s\n",
      "59\n",
      "   Ihre  Feststelltaste  steht  fest   Was  mir  auffaellt   also  wohl  auch  feststeht    Fans  der  afd  faellt  es  oftmals  schwer   einfache  Gesetze  zu  beachten    Die  parteieigene  Typhografie   amp   Corporate  Identity  zum  Beispiel  oder  das  Urheberrecht   Mit  der  Interpunktion  komm  ich  auch  nicht  mit  s\n",
      "60\n",
      " Die  gesitigen  Verwandten  der   Afd  von   DieGruenen  groelen  wieder  gemeinsam  ihre  Parolen   einLink f\n",
      "61\n",
      "       Kriminelle    Islamisten    Ausreisepflichtige  und  aus  dem  Gefaengnis  Ausgebrochene  sind  auf  der  Flucht  und  bedroh  f\n",
      "62\n",
      "   Immer  mehr  Kinderehen  in   Bayern   obwohl  diese  seit  gut  einem  Jahr  verboten  sind   Es  gibt    Verdachtsfaelle    die  auf  eine  f\n",
      "63\n",
      "Ich  mag  das   Video   einLink  Nico  Semsrott  vergleicht  sein  Kaninchen  mit  der  AfD    heute  show  vom       f\n",
      "64\n",
      "Verzweifelter  CSU  Wahlkampf  in  Bayern   CSU  ueberklebt  AfD  Plakate  einLink f\n",
      "65\n",
      "    Rees   NRW   Inder  bietet    jaehrigem  Maedchen  spontan  Geld  fuer  Sex   fasst  sie  taetlich  an   Die  Staatsanwaltschaft  laesst  ihn  f\n",
      "66\n",
      "   Super  Syrer  geben  gefundene  Geldboerse  zurueck   Was  fuer  ein  ruehrseliges  Propagandastueck     Dann  sind  ja  alle  unsere  Problem  f\n",
      "67\n",
      "Boehringer   Erneute  Griechenland   Rettung   ueber      Milliarden  Euro  gegen  die  Stimmen  der  AfD  beschlossen  einLink f\n",
      "68\n",
      "    AfD  Waehler   hoert  auf  Euch  etwas  vorzumachen   Die   AfD  ist  voll  von  Nazis   amp   Staatsgefaehrdern   Wer  nach  wie  vor  zu  dieser  BAND  s\n",
      "69\n",
      "  Alles  was  nicht   Afd  ist   ist  Antifa   Ausser  NPD  vielleicht  noch    auch  wenn  deren  Politik  ja  noch  links  von  der  afd  anzusiedeln  ist   weil  sie  noch  mehr  fuer  die  kleinen  Leute  machen  wollen  als  die  AFD   deren  Wirtschaftspolitik  ja  eher  den  wohlhab   Unternehmern  zu  Gute  koemmen  wuerde s\n",
      "70\n",
      "  Das  Bild  an  sich  ist  einfach  nur  eine  Statue  und  in  keinster  Weise  rassistisch   Im  Gegenteil  man  koennte  eher  dir  Rassismus  vorwerfen   weil  du  Fotos  von  Schwarzen  ablehnst    AfD   NeinzuRassismus a\n",
      "71\n",
      "    AfD    Sozial  ohne  rot  zu  werden   Das   Rentenkonzept  der  AfD  Fraktion  im  Thueringer  Landtag   einLink  https  a\n",
      "72\n",
      "   Das  ist  das   worueber  ich  geschrieben  habe   und  was  Ralf  Stegner  nicht  sehen  will   Die  SPD  schafft  es  durchaus   in  Muenchen  f\n",
      "73\n",
      "   Ich  hoffe   die  Deutschen  werden  es  tagtaeglich  sehen   wie  diese  Gruppen  in  Ihren  Staedten  mehr  und  mehr  werden   und  ihre  Reviere  Markieren    Die  Deutschen  sollten  darauf  auch  iher  Wahlzettel  entsprechend  Markieren   f\n",
      "74\n",
      "     Dr   Christian  Blex     AfD  Landtag   Stuttgart      nachweislich  zu  dumm  um  Wetter  von  Klima  zu  unterscheiden      kusche  s\n",
      "75\n",
      "    Was  willst  denn  du  jetzt  schon  wieder     f\n",
      "76\n",
      "     Dieser  Mann  ist  einfach  nur  Wiederlich    ein  Hetzter  par  Excellence          ich  meine  diesen  Steff  oder  wie  heisst  der  Kasper   f\n",
      "77\n",
      "    Stauffenberg  war  nicht  nur  ein  Verraeter   sondern  vor  allem  ein  feiger  Nazi   der     als  der  Krieg  schon  absehbar  verloren  war    versucht  hat  seine  Haut  zu  retten   So  jemand  ist  weder  ein  Held  noch  ein  Zeichen  des  Wiederstands    LarsSteinke   Afd   NoNazis f\n",
      "78\n",
      "       Stauffenberg  war  nicht  nur  ein  Verraeter   sondern  vor  allem  ein  feiger  Nazi   der     a  f\n",
      "79\n",
      " Mission  Lifeline    Propaganda  statt  Dialog    AfD  Abgeordneter  Bystron  unerwuenscht  an  Bord  des  NGO  Schiffs  einLink f\n",
      "80\n",
      " Mission  Lifeline    Propaganda  statt  Dialog    AfD  Abgeordneter  Bystron  unerwuenscht  an  Bord  des  NGO  Schiffs  einLink  via  f\n",
      "81\n",
      "     Koennte  diesen  Hetzer  bitte  mal  jemand  bei  TW  melden   das  diese  Elendige  Type  jetzt  endlich  mal  gesperrt  wird   f\n",
      "82\n",
      "      Herzlichen  Glueckwunsch  zum     Geburtstag   Herr   Buschkowsky      Seine  Abrechnung  mit  der  ehemaligen  Volkspartei  SPD   Wir  f\n",
      "83\n",
      "        veraendert  sich   aber  nicht  zum  Guten     Waehrend  sich  die  Verantwortlichen  mit  Panzerlimousinen   amp   Leibwaechtern  umg  f\n",
      "84\n",
      "     Dieser  Nutzer  gehoert  gemeldet   und  gesperrt      d\n",
      "85\n",
      "   wer  sitzt  in  kuratorium  und  vorstand  der   afd   nahen  erasmus  stiftung   lesenswert  und  informativ   spoiler   schlimme  leute   f\n",
      "86\n",
      "   In      in  einem  Land   in  dem  wir  gut  und  gerne  leben   wirst  du  als  Frau  vom  Fahrrad  gezogen   vergewaltigt  und  liegengelasse  d\n",
      "87\n",
      "Niedersachsen    AfD  Jugend  Chef  bezeichnet  Hitler  Attentaeter  Stauffenberg  als  seinen  Feind  einLink f\n",
      "88\n",
      "   Die   AfD  Grundsaetze  in  Kuerze      Auslaender  sind  Scheisse   ausser  Putin  und  Trump      Alleinerziehende  Frauen   Gutmensche  s\n",
      "89\n",
      "   In  Osthessen  eskaliert  ein  interner  Streit  in  der   AfD   Fulda   Die  Kaliber   die  aufgefahren  werden   werden  immer  groesser  h  f\n",
      "90\n",
      "    Laut   AfD  ist  der   Wolf  nicht  schuetzenswert   weil  er  im  uebertragenen  Sinne  ein   Einwanderer   sei     einLink s\n",
      "91\n",
      " AfD   JA   Steinke   Stauffenberg   FCKAfD   NoAfD   NoH   Niedersachsens  AfD  Jugend  Chef  nennt  Hitler  Attentaeter   Verraeter   einLink s\n",
      "92\n",
      "   Hochbezahlte  Politiker   und  man  hoert  immer  und  immer  wieder  Keine  Auskuenfte   wenn  die  Fragen  unangenehm  sind      Regierung  d\n",
      "93\n",
      "          die  CSU  wird  der  Afd  immer  aehnlicher              ich  hoffe  sehr   dass  ihnen  das  bei  den  Wahlen  richtig  um  die  Ohren  fl  d\n",
      "94\n",
      "AfD    Illegalitaet  darf  nicht  legalisiert  werden    Einwanderung  muss  nach  klaren  Regeln  erfolgen   einLink a\n",
      "95\n",
      "AfD    Illegalitaet  darf  nicht  legalisiert  werden    Einwanderung  muss  nach  klaren  Regeln  erfolgen   einLink  via  a\n",
      "96\n",
      "    AfD   JA   Steinke   Stauffenberg   FCKAfD   NoAfD   NoH   Niedersachsens  AfD  Jugend  Chef  nennt  Hitler  Attentaeter   Verraeter   s\n",
      "97\n",
      "Er  wird  sicher  nicht   Kanzler    Die  Sozen  koennen  froh  sein  wenn  es  noch  fuer    o     Prozent  reicht      AfD  und   SPD  ringen  ja  um  Platz    einLink d\n",
      "98\n",
      "   Niedersachsen    AfD  Jugend  Chef  bezeichnet  Hitler  Attentaeter  Stauffenberg  als  seinen  Feind  einLink f\n",
      "99\n",
      "   Wenn  mal  ein  Staatsrechtler  viel  Zeit  hat   gebe  er  bitte  als  Grundgesetzliebhaber  einen  VHS  Kurs   Rechtsstaat  for  dummies    F  f\n"
     ]
    }
   ],
   "source": [
    "annotations = annotate(all_data, no_annotations=100, old_annotations=old_annotations)"
   ]
  },
  {
   "cell_type": "code",
   "execution_count": 12,
   "metadata": {
    "collapsed": true
   },
   "outputs": [],
   "source": [
    "annotations = pd.DataFrame(annotations)"
   ]
  },
  {
   "cell_type": "code",
   "execution_count": 13,
   "metadata": {
    "collapsed": true
   },
   "outputs": [],
   "source": [
    "annotations.to_csv(\"../Data/annotation.csv\")"
   ]
  },
  {
   "cell_type": "code",
   "execution_count": 14,
   "metadata": {},
   "outputs": [],
   "source": [
    "old_annotations = pd.read_csv(\"../Data/annotation.csv\")"
   ]
  },
  {
   "cell_type": "code",
   "execution_count": 4,
   "metadata": {},
   "outputs": [],
   "source": [
    "# old_annotations.to_csv(\"../Data/.csv\")"
   ]
  },
  {
   "cell_type": "code",
   "execution_count": null,
   "metadata": {
    "collapsed": true
   },
   "outputs": [],
   "source": []
  }
 ],
 "metadata": {
  "kernelspec": {
   "display_name": "Python 3",
   "language": "python",
   "name": "python3"
  },
  "language_info": {
   "codemirror_mode": {
    "name": "ipython",
    "version": 3
   },
   "file_extension": ".py",
   "mimetype": "text/x-python",
   "name": "python",
   "nbconvert_exporter": "python",
   "pygments_lexer": "ipython3",
   "version": "3.6.3"
  }
 },
 "nbformat": 4,
 "nbformat_minor": 2
}
