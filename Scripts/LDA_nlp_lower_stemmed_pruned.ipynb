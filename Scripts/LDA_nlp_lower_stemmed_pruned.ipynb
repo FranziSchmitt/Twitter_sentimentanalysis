{
 "cells": [
  {
   "cell_type": "code",
   "execution_count": 1,
   "metadata": {},
   "outputs": [
    {
     "data": {
      "text/html": [
       "<script>requirejs.config({paths: { 'plotly': ['https://cdn.plot.ly/plotly-latest.min']},});if(!window.Plotly) {{require(['plotly'],function(plotly) {window.Plotly=plotly;});}}</script>"
      ],
      "text/vnd.plotly.v1+html": [
       "<script>requirejs.config({paths: { 'plotly': ['https://cdn.plot.ly/plotly-latest.min']},});if(!window.Plotly) {{require(['plotly'],function(plotly) {window.Plotly=plotly;});}}</script>"
      ]
     },
     "metadata": {},
     "output_type": "display_data"
    }
   ],
   "source": [
    "%load_ext autoreload\n",
    "%autoreload 2\n",
    "\n",
    "# standard stuff\n",
    "import os\n",
    "import pandas as pd\n",
    "import numpy as np\n",
    "np.random.seed(123)\n",
    "import json\n",
    "import pickle \n",
    "import time\n",
    "from tqdm import tqdm\n",
    "import datetime as dt\n",
    "from collections import Counter\n",
    "from time import time\n",
    "\n",
    "\n",
    "# text processing\n",
    "import re\n",
    "with open('stopwords-de_no-parties.json', 'r') as file:\n",
    "    stopwords_de = json.load(file)\n",
    "from  nltk.stem.snowball import SnowballStemmer\n",
    "stemmer = SnowballStemmer(\"german\")\n",
    "import spacy\n",
    "nlp = spacy.load('de')\n",
    "\n",
    "\n",
    "# visualization \n",
    "%matplotlib inline\n",
    "import matplotlib.pyplot as plt\n",
    "from matplotlib import cm\n",
    "from mpl_toolkits.mplot3d import Axes3D\n",
    "import seaborn as sns\n",
    "sns.set()\n",
    "import plotly as py\n",
    "import plotly.graph_objs as go\n",
    "py.offline.init_notebook_mode(connected=True)\n",
    "\n",
    "# SK-LDA\n",
    "from sklearn.feature_extraction.text import CountVectorizer\n",
    "from sklearn.decomposition import LatentDirichletAllocation\n",
    "\n",
    "\n",
    "# Gensim LDA\n",
    "from gensim import corpora\n",
    "from gensim.models import LdaModel, CoherenceModel\n",
    "import pyLDAvis.gensim\n",
    "pyLDAvis.enable_notebook()\n",
    "\n",
    "# custom imports\n",
    "from data_handling import load_data, collapse_dfs\n",
    "from text_preprocessing import df_processing, party_remover\n",
    "from lda_functions import party_substituter, sparse_text"
   ]
  },
  {
   "cell_type": "code",
   "execution_count": 80,
   "metadata": {},
   "outputs": [
    {
     "name": "stderr",
     "output_type": "stream",
     "text": [
      "\n",
      "  0%|          | 0/8 [00:00<?, ?it/s]\u001b[A"
     ]
    },
    {
     "name": "stdout",
     "output_type": "stream",
     "text": [
      "Loading: ['08-02', '08-03', '08-04', '08-05', '08-06', '08-07', '08-08', '08-09']\n"
     ]
    },
    {
     "name": "stderr",
     "output_type": "stream",
     "text": [
      "\n",
      " 12%|█▎        | 1/8 [00:09<01:08,  9.73s/it]\u001b[A\n",
      " 25%|██▌       | 2/8 [00:18<00:56,  9.38s/it]\u001b[A\n",
      " 38%|███▊      | 3/8 [00:26<00:43,  8.72s/it]\u001b[A\n",
      " 50%|█████     | 4/8 [00:33<00:33,  8.46s/it]\u001b[A\n",
      " 62%|██████▎   | 5/8 [00:40<00:24,  8.01s/it]\u001b[A\n",
      " 75%|███████▌  | 6/8 [00:46<00:15,  7.77s/it]\u001b[A\n",
      " 88%|████████▊ | 7/8 [00:56<00:08,  8.09s/it]\u001b[A\n",
      "100%|██████████| 8/8 [01:06<00:00,  8.26s/it]\u001b[A\n",
      "\u001b[A\n",
      "  0%|          | 0/8 [00:00<?, ?it/s]\u001b[A"
     ]
    },
    {
     "name": "stdout",
     "output_type": "stream",
     "text": [
      "AfD loaded\n"
     ]
    },
    {
     "name": "stderr",
     "output_type": "stream",
     "text": [
      "\n",
      " 12%|█▎        | 1/8 [00:03<00:26,  3.74s/it]\u001b[A\n",
      " 25%|██▌       | 2/8 [00:07<00:23,  3.94s/it]\u001b[A\n",
      " 38%|███▊      | 3/8 [00:11<00:19,  3.83s/it]\u001b[A\n",
      " 50%|█████     | 4/8 [00:12<00:12,  3.24s/it]\u001b[A\n",
      " 62%|██████▎   | 5/8 [00:15<00:09,  3.05s/it]\u001b[A\n",
      " 75%|███████▌  | 6/8 [00:16<00:05,  2.80s/it]\u001b[A\n",
      " 88%|████████▊ | 7/8 [00:18<00:02,  2.71s/it]\u001b[A\n",
      "100%|██████████| 8/8 [00:20<00:00,  2.55s/it]\u001b[A\n",
      "\u001b[A\n",
      "  0%|          | 0/8 [00:00<?, ?it/s]\u001b[A"
     ]
    },
    {
     "name": "stdout",
     "output_type": "stream",
     "text": [
      "SPD loaded\n"
     ]
    },
    {
     "name": "stderr",
     "output_type": "stream",
     "text": [
      "\n",
      " 12%|█▎        | 1/8 [00:02<00:16,  2.39s/it]\u001b[A\n",
      " 25%|██▌       | 2/8 [00:04<00:12,  2.11s/it]\u001b[A\n",
      " 38%|███▊      | 3/8 [00:07<00:12,  2.53s/it]\u001b[A\n",
      " 50%|█████     | 4/8 [00:09<00:09,  2.38s/it]\u001b[A\n",
      " 62%|██████▎   | 5/8 [00:12<00:07,  2.46s/it]\u001b[A\n",
      " 75%|███████▌  | 6/8 [00:13<00:04,  2.28s/it]\u001b[A\n",
      " 88%|████████▊ | 7/8 [00:15<00:02,  2.15s/it]\u001b[A\n",
      "100%|██████████| 8/8 [00:17<00:00,  2.21s/it]\u001b[A\n",
      "\u001b[A\n",
      "  0%|          | 0/8 [00:00<?, ?it/s]\u001b[A"
     ]
    },
    {
     "name": "stdout",
     "output_type": "stream",
     "text": [
      "CDU loaded\n"
     ]
    },
    {
     "name": "stderr",
     "output_type": "stream",
     "text": [
      "\n",
      " 12%|█▎        | 1/8 [00:01<00:13,  1.87s/it]\u001b[A\n",
      " 25%|██▌       | 2/8 [00:05<00:15,  2.60s/it]\u001b[A\n",
      " 38%|███▊      | 3/8 [00:06<00:11,  2.31s/it]\u001b[A\n",
      " 50%|█████     | 4/8 [00:09<00:09,  2.36s/it]\u001b[A\n",
      " 62%|██████▎   | 5/8 [00:10<00:06,  2.17s/it]\u001b[A\n",
      " 75%|███████▌  | 6/8 [00:11<00:03,  1.98s/it]\u001b[A\n",
      " 88%|████████▊ | 7/8 [00:14<00:02,  2.01s/it]\u001b[A\n",
      "100%|██████████| 8/8 [00:15<00:00,  1.90s/it]\u001b[A\n",
      "\u001b[A\n",
      "  0%|          | 0/8 [00:00<?, ?it/s]\u001b[A"
     ]
    },
    {
     "name": "stdout",
     "output_type": "stream",
     "text": [
      "CSU loaded\n"
     ]
    },
    {
     "name": "stderr",
     "output_type": "stream",
     "text": [
      "\n",
      " 12%|█▎        | 1/8 [00:18<02:07, 18.23s/it]\u001b[A\n",
      " 25%|██▌       | 2/8 [00:29<01:29, 14.92s/it]\u001b[A\n",
      " 38%|███▊      | 3/8 [00:41<01:09, 13.97s/it]\u001b[A\n",
      " 50%|█████     | 4/8 [00:42<00:42, 10.71s/it]\u001b[A\n",
      " 62%|██████▎   | 5/8 [00:43<00:26,  8.70s/it]\u001b[A\n",
      " 75%|███████▌  | 6/8 [00:44<00:14,  7.41s/it]\u001b[A\n",
      " 88%|████████▊ | 7/8 [00:45<00:06,  6.45s/it]\u001b[A\n",
      "100%|██████████| 8/8 [00:47<00:00,  5.89s/it]\u001b[A\n",
      "\u001b[A\n",
      "  0%|          | 0/8 [00:00<?, ?it/s]\u001b[A"
     ]
    },
    {
     "name": "stdout",
     "output_type": "stream",
     "text": [
      "FDP loaded\n"
     ]
    },
    {
     "name": "stderr",
     "output_type": "stream",
     "text": [
      "\n",
      " 12%|█▎        | 1/8 [00:01<00:12,  1.79s/it]\u001b[A\n",
      " 25%|██▌       | 2/8 [00:05<00:15,  2.61s/it]\u001b[A\n",
      " 38%|███▊      | 3/8 [00:06<00:11,  2.32s/it]\u001b[A\n",
      " 50%|█████     | 4/8 [00:08<00:08,  2.04s/it]\u001b[A\n",
      " 62%|██████▎   | 5/8 [00:09<00:05,  1.85s/it]\u001b[A\n",
      " 75%|███████▌  | 6/8 [00:11<00:03,  1.95s/it]\u001b[A\n",
      " 88%|████████▊ | 7/8 [00:12<00:01,  1.81s/it]\u001b[A\n",
      "100%|██████████| 8/8 [00:13<00:00,  1.72s/it]\u001b[A\n",
      "\u001b[A\n",
      "  0%|          | 0/8 [00:00<?, ?it/s]\u001b[A"
     ]
    },
    {
     "name": "stdout",
     "output_type": "stream",
     "text": [
      "LINKE loaded\n"
     ]
    },
    {
     "name": "stderr",
     "output_type": "stream",
     "text": [
      "\n",
      " 12%|█▎        | 1/8 [00:00<00:05,  1.20it/s]\u001b[A\n",
      " 25%|██▌       | 2/8 [00:01<00:05,  1.03it/s]\u001b[A\n",
      " 38%|███▊      | 3/8 [00:04<00:07,  1.55s/it]\u001b[A\n",
      " 50%|█████     | 4/8 [00:05<00:05,  1.40s/it]\u001b[A\n",
      " 62%|██████▎   | 5/8 [00:06<00:03,  1.29s/it]\u001b[A\n",
      " 75%|███████▌  | 6/8 [00:07<00:02,  1.23s/it]\u001b[A\n",
      " 88%|████████▊ | 7/8 [00:08<00:01,  1.18s/it]\u001b[A\n",
      "100%|██████████| 8/8 [00:09<00:00,  1.13s/it]\u001b[A\n",
      "\u001b[A\n",
      "  0%|          | 0/8 [00:00<?, ?it/s]\u001b[A"
     ]
    },
    {
     "name": "stdout",
     "output_type": "stream",
     "text": [
      "Gruene loaded\n"
     ]
    },
    {
     "name": "stderr",
     "output_type": "stream",
     "text": [
      "\n",
      " 12%|█▎        | 1/8 [00:02<00:16,  2.37s/it]\u001b[A\n",
      " 25%|██▌       | 2/8 [00:03<00:10,  1.74s/it]\u001b[A\n",
      " 38%|███▊      | 3/8 [00:04<00:07,  1.53s/it]\u001b[A\n",
      " 50%|█████     | 4/8 [00:05<00:05,  1.38s/it]\u001b[A\n",
      " 62%|██████▎   | 5/8 [00:06<00:03,  1.27s/it]\u001b[A\n",
      " 75%|███████▌  | 6/8 [00:07<00:02,  1.21s/it]\u001b[A\n",
      " 88%|████████▊ | 7/8 [00:09<00:01,  1.40s/it]\u001b[A\n",
      "100%|██████████| 8/8 [00:10<00:00,  1.32s/it]\u001b[A\n",
      "\u001b[A"
     ]
    },
    {
     "name": "stdout",
     "output_type": "stream",
     "text": [
      "Grüne loaded\n",
      "Done\n"
     ]
    }
   ],
   "source": [
    "read_in = False\n",
    "path = '/home/franzi/Git-DSR/Twitter_sentimentanalysis/Data/lda_data.pickle'\n",
    "parties = ['AfD', 'SPD', 'CDU', 'CSU', 'FDP', 'LINKE', 'Gruene', 'Grüne']\n",
    "dates = ['08-{:02d}'.format(i) for i in range(2,10)]\n",
    "\n",
    "\n",
    "if read_in:\n",
    "    parties = parties\n",
    "    dates = dates\n",
    "    aug_data = {}\n",
    "    print('Loading: {}'.format(dates))\n",
    "    for party in parties:\n",
    "        load_list = ['../Data/{}/{}_2018-{}.json'.format(party, party, day) for day in dates]\n",
    "        aug_data[party] = load_data(load_list)\n",
    "        print('{} loaded'.format(party))\n",
    "    with open(path, 'wb') as fid:\n",
    "        pickle.dump(aug_data, fid)\n",
    "    print(\"Done\")\n",
    "else:\n",
    "    print('loading data from pickle')\n",
    "    with open(path, 'rb') as fid:\n",
    "        aug_data = pickle.load(fid)\n",
    "        print('data loaded')"
   ]
  },
  {
   "cell_type": "code",
   "execution_count": 2,
   "metadata": {},
   "outputs": [
    {
     "name": "stdout",
     "output_type": "stream",
     "text": [
      "loading data from pickle\n",
      "data loaded\n"
     ]
    }
   ],
   "source": [
    "collapse = False\n",
    "path_collapse = '/home/franzi/Git-DSR/Twitter_sentimentanalysis/Data/all_data_lda.pickle' # path where pickle file is saved\n",
    "\n",
    "if collapse:\n",
    "    all_data = collapse_dfs(aug_data)\n",
    "    df_processing(all_data)\n",
    "    all_data = all_data.drop_duplicates('clean_text')\n",
    "    all_data['user_id'] = all_data.loc[:, 'user'].map(lambda x: x['id_str'])\n",
    "    all_data.drop('user', inplace=True, axis=1)\n",
    "    print('dumping data to pickle')\n",
    "    with open(path_collapse, 'wb') as fid:\n",
    "        pickle.dump(all_data, fid)\n",
    "    print('data dumped')\n",
    "else: \n",
    "    print('loading data from pickle')\n",
    "    with open(path_collapse, 'rb') as fid:\n",
    "        all_data = pickle.load(fid)\n",
    "        print('data loaded')"
   ]
  },
  {
   "cell_type": "markdown",
   "metadata": {},
   "source": [
    "# LDA using the scikit-learn package"
   ]
  },
  {
   "cell_type": "code",
   "execution_count": 4,
   "metadata": {
    "collapsed": true
   },
   "outputs": [],
   "source": [
    "cv = CountVectorizer(stop_words=stopwords_de,\n",
    "                    max_df=.1,\n",
    "                    max_features=5000)\n",
    "\n",
    "X = cv.fit_transform(all_data.loc[:, 'clean_text'])"
   ]
  },
  {
   "cell_type": "code",
   "execution_count": 5,
   "metadata": {
    "collapsed": true
   },
   "outputs": [],
   "source": [
    "lda = LatentDirichletAllocation(n_components=5,\n",
    "                               random_state=123,\n",
    "                               learning_method='batch')\n",
    "\n",
    "X_topics = lda.fit_transform(X)"
   ]
  },
  {
   "cell_type": "code",
   "execution_count": 6,
   "metadata": {},
   "outputs": [
    {
     "data": {
      "text/plain": [
       "(5, 5000)"
      ]
     },
     "execution_count": 6,
     "metadata": {},
     "output_type": "execute_result"
    }
   ],
   "source": [
    "lda.components_.shape"
   ]
  },
  {
   "cell_type": "code",
   "execution_count": 7,
   "metadata": {},
   "outputs": [
    {
     "name": "stdout",
     "output_type": "stream",
     "text": [
      "Topic 1\n",
      "aufstehen partei sammlungsbewegung linken wagenknecht\n",
      "Topic 2\n",
      "ueber nazis partei waehler rechts\n",
      "Topic 3\n",
      "cdu fdp csu wehrpflicht merkel\n",
      "Topic 4\n",
      "gruene politik einfach leute muessen\n",
      "Topic 5\n",
      "gruene deutschland csu seehofer bayern\n"
     ]
    }
   ],
   "source": [
    "n_top_words = 5\n",
    "feature_names = cv.get_feature_names()\n",
    "for topic_idx, topic in enumerate(lda.components_):\n",
    "    print('Topic {}'.format(topic_idx + 1))\n",
    "    print(' '.join([feature_names[i] for i in topic.argsort()[:-n_top_words -1:-1]]))"
   ]
  },
  {
   "cell_type": "code",
   "execution_count": 47,
   "metadata": {
    "collapsed": true
   },
   "outputs": [],
   "source": [
    "def daily_topifier(df, cv_features, n_topics, n_top_words):\n",
    "    dates = ['2018-08-{:02d}'.format(i) for i in range(2,10)]\n",
    "    topics = {}\n",
    "    \n",
    "    for date in dates:\n",
    "        cv = CountVectorizer(stop_words=stopwords_de, max_df=.1, max_features=cv_features)\n",
    "        lda = LatentDirichletAllocation(n_components=n_topics, random_state=123, learning_method='batch')\n",
    "        X = cv.fit_transform(df.loc['{}'.format(date), 'clean_text'])\n",
    "        X_topics = lda.fit_transform(X)\n",
    "        feature_names = cv.get_feature_names()\n",
    "        for topic_idx, topic in enumerate(lda.components_):\n",
    "            topics['{}, {}'.format(date, topic_idx + 1)] = [' '.join([feature_names[i] for i in topic.argsort()[:-n_top_words -1:-1]])]\n",
    "            \n",
    "    return topics"
   ]
  },
  {
   "cell_type": "code",
   "execution_count": 51,
   "metadata": {
    "collapsed": true
   },
   "outputs": [],
   "source": [
    "topics = daily_topifier(all_data, cv_features=5000, n_topics=5, n_top_words=5)\n",
    "\n",
    "topics\n",
    "# interesting: afd is very common but does not appear to be a topic"
   ]
  },
  {
   "cell_type": "markdown",
   "metadata": {},
   "source": [
    "# LDA using gensim \n",
    "\n",
    "- take only words with certain tags from the cleaned text (tags in this context referring to word tags = nouns, adjectives, ect.)\n",
    "- prepare a common dictionary\n",
    "- prepare common corpus with vectorized (bow) words\n",
    "- run lda on corpus and evaluate coherence using the coherence model and visualizations"
   ]
  },
  {
   "cell_type": "code",
   "execution_count": 3,
   "metadata": {},
   "outputs": [],
   "source": [
    "def sparse_text(text, nlp):\n",
    "    \"\"\"\n",
    "    Keep only verbs, nouns, adjectives and advers that are not in the list of stopwords and longer than two letters\n",
    "    \n",
    "    Parameters:\n",
    "    text: string\n",
    "    nlp: spacy function loaded in the preamble\n",
    "    \"\"\"\n",
    "    text_out = []\n",
    "    wanted_tags = keep_tags(text, nlp)\n",
    "    \n",
    "    for word in wanted_tags:\n",
    "        if ((word.lower() not in stopwords_de)\n",
    "            and (len(word) > 2)):\n",
    "            word = stemmer.stem(word)\n",
    "            text_out.append(word)\n",
    "    \n",
    "    return text_out\n",
    "            \n",
    "            \n",
    "def keep_tags(text, nlp):\n",
    "    \"\"\"\n",
    "    Only keep nouns (NN), verbs('VERB'), adverbs('ADV') and adjectives(ADJA) from a string\n",
    "    \n",
    "    Parameters:\n",
    "    text: string\n",
    "    nlp: spacy function loaded in the preamble\n",
    "    \"\"\"\n",
    "    nlp_text = nlp(text)\n",
    "    wanted = [\"ADJA\", \"NN\", 'ADV', 'VERB']\n",
    "    wanted_words = [word.text for word in nlp_text if word.tag_ in wanted]\n",
    "    return wanted_words"
   ]
  },
  {
   "cell_type": "code",
   "execution_count": 5,
   "metadata": {},
   "outputs": [],
   "source": [
    "def filter_function(corpus, cutoff):\n",
    "    flat_corpus = [item for sublist in corpus for item in sublist]\n",
    "    counter = Counter(flat_corpus)\n",
    "    \n",
    "    few_list = []\n",
    "    many_list = []\n",
    "    \n",
    "    for key, value in counter.items():\n",
    "        if value < cutoff:\n",
    "            few_list.append(key)\n",
    "        else:\n",
    "            many_list.append(key)\n",
    "    \n",
    "    use_many = True if (len(many_list) < len(few_list)) else False\n",
    "    new_corpus = []\n",
    "    \n",
    "    for tweet in corpus:\n",
    "        new_tweet = []\n",
    "        for word in tweet:\n",
    "            if use_many:\n",
    "                if word in many_list:\n",
    "                    new_tweet.append(word)\n",
    "            else:\n",
    "                if word not in few_list:\n",
    "                    new_tweet.append(word)\n",
    "        new_corpus.append(new_tweet.copy())\n",
    "    \n",
    "    return new_corpus"
   ]
  },
  {
   "cell_type": "code",
   "execution_count": 8,
   "metadata": {},
   "outputs": [
    {
     "name": "stdout",
     "output_type": "stream",
     "text": [
      "Took 0.00 min for 0 loops\n",
      "343/115745\r"
     ]
    },
    {
     "ename": "KeyboardInterrupt",
     "evalue": "",
     "output_type": "error",
     "traceback": [
      "\u001b[0;31m-------------------------------------------------------------------------\u001b[0m",
      "\u001b[0;31mKeyboardInterrupt\u001b[0m                       Traceback (most recent call last)",
      "\u001b[0;32m<ipython-input-8-3b69be68f569>\u001b[0m in \u001b[0;36m<module>\u001b[0;34m()\u001b[0m\n\u001b[1;32m     18\u001b[0m     \u001b[0mtick\u001b[0m \u001b[0;34m=\u001b[0m \u001b[0mtime\u001b[0m\u001b[0;34m(\u001b[0m\u001b[0;34m)\u001b[0m\u001b[0;34m\u001b[0m\u001b[0m\n\u001b[1;32m     19\u001b[0m     \u001b[0;32mfor\u001b[0m \u001b[0mi\u001b[0m\u001b[0;34m,\u001b[0m \u001b[0mterm\u001b[0m \u001b[0;32min\u001b[0m \u001b[0menumerate\u001b[0m\u001b[0;34m(\u001b[0m\u001b[0mdocument\u001b[0m\u001b[0;34m)\u001b[0m\u001b[0;34m:\u001b[0m\u001b[0;34m\u001b[0m\u001b[0m\n\u001b[0;32m---> 20\u001b[0;31m         \u001b[0mcorpus_full\u001b[0m\u001b[0;34m.\u001b[0m\u001b[0mappend\u001b[0m\u001b[0;34m(\u001b[0m\u001b[0msparse_text\u001b[0m\u001b[0;34m(\u001b[0m\u001b[0mterm\u001b[0m\u001b[0;34m,\u001b[0m \u001b[0mnlp\u001b[0m\u001b[0;34m)\u001b[0m\u001b[0;34m)\u001b[0m\u001b[0;34m\u001b[0m\u001b[0m\n\u001b[0m\u001b[1;32m     21\u001b[0m         \u001b[0mprint\u001b[0m\u001b[0;34m(\u001b[0m\u001b[0;34m'{}/{}'\u001b[0m\u001b[0;34m.\u001b[0m\u001b[0mformat\u001b[0m\u001b[0;34m(\u001b[0m\u001b[0mi\u001b[0m\u001b[0;34m,\u001b[0m \u001b[0mlengths\u001b[0m\u001b[0;34m)\u001b[0m\u001b[0;34m,\u001b[0m \u001b[0mend\u001b[0m\u001b[0;34m=\u001b[0m\u001b[0;34m'\\r'\u001b[0m\u001b[0;34m)\u001b[0m\u001b[0;34m\u001b[0m\u001b[0m\n\u001b[1;32m     22\u001b[0m         \u001b[0;32mif\u001b[0m \u001b[0mi\u001b[0m \u001b[0;34m%\u001b[0m \u001b[0;36m5000\u001b[0m \u001b[0;34m==\u001b[0m \u001b[0;36m0\u001b[0m\u001b[0;34m:\u001b[0m\u001b[0;34m\u001b[0m\u001b[0m\n",
      "\u001b[0;32m<ipython-input-3-787ecce22297>\u001b[0m in \u001b[0;36msparse_text\u001b[0;34m(text, nlp)\u001b[0m\n\u001b[1;32m      8\u001b[0m     \"\"\"\n\u001b[1;32m      9\u001b[0m     \u001b[0mtext_out\u001b[0m \u001b[0;34m=\u001b[0m \u001b[0;34m[\u001b[0m\u001b[0;34m]\u001b[0m\u001b[0;34m\u001b[0m\u001b[0m\n\u001b[0;32m---> 10\u001b[0;31m     \u001b[0mwanted_tags\u001b[0m \u001b[0;34m=\u001b[0m \u001b[0mkeep_tags\u001b[0m\u001b[0;34m(\u001b[0m\u001b[0mtext\u001b[0m\u001b[0;34m,\u001b[0m \u001b[0mnlp\u001b[0m\u001b[0;34m)\u001b[0m\u001b[0;34m\u001b[0m\u001b[0m\n\u001b[0m\u001b[1;32m     11\u001b[0m \u001b[0;34m\u001b[0m\u001b[0m\n\u001b[1;32m     12\u001b[0m     \u001b[0;32mfor\u001b[0m \u001b[0mword\u001b[0m \u001b[0;32min\u001b[0m \u001b[0mwanted_tags\u001b[0m\u001b[0;34m:\u001b[0m\u001b[0;34m\u001b[0m\u001b[0m\n",
      "\u001b[0;32m<ipython-input-3-787ecce22297>\u001b[0m in \u001b[0;36mkeep_tags\u001b[0;34m(text, nlp)\u001b[0m\n\u001b[1;32m     27\u001b[0m     \u001b[0mnlp\u001b[0m\u001b[0;34m:\u001b[0m \u001b[0mspacy\u001b[0m \u001b[0mfunction\u001b[0m \u001b[0mloaded\u001b[0m \u001b[0;32min\u001b[0m \u001b[0mthe\u001b[0m \u001b[0mpreamble\u001b[0m\u001b[0;34m\u001b[0m\u001b[0m\n\u001b[1;32m     28\u001b[0m     \"\"\"\n\u001b[0;32m---> 29\u001b[0;31m     \u001b[0mnlp_text\u001b[0m \u001b[0;34m=\u001b[0m \u001b[0mnlp\u001b[0m\u001b[0;34m(\u001b[0m\u001b[0mtext\u001b[0m\u001b[0;34m)\u001b[0m\u001b[0;34m\u001b[0m\u001b[0m\n\u001b[0m\u001b[1;32m     30\u001b[0m     \u001b[0mwanted\u001b[0m \u001b[0;34m=\u001b[0m \u001b[0;34m[\u001b[0m\u001b[0;34m\"ADJA\"\u001b[0m\u001b[0;34m,\u001b[0m \u001b[0;34m\"NN\"\u001b[0m\u001b[0;34m,\u001b[0m \u001b[0;34m'ADV'\u001b[0m\u001b[0;34m,\u001b[0m \u001b[0;34m'VERB'\u001b[0m\u001b[0;34m]\u001b[0m\u001b[0;34m\u001b[0m\u001b[0m\n\u001b[1;32m     31\u001b[0m     \u001b[0mwanted_words\u001b[0m \u001b[0;34m=\u001b[0m \u001b[0;34m[\u001b[0m\u001b[0mword\u001b[0m\u001b[0;34m.\u001b[0m\u001b[0mtext\u001b[0m \u001b[0;32mfor\u001b[0m \u001b[0mword\u001b[0m \u001b[0;32min\u001b[0m \u001b[0mnlp_text\u001b[0m \u001b[0;32mif\u001b[0m \u001b[0mword\u001b[0m\u001b[0;34m.\u001b[0m\u001b[0mtag_\u001b[0m \u001b[0;32min\u001b[0m \u001b[0mwanted\u001b[0m\u001b[0;34m]\u001b[0m\u001b[0;34m\u001b[0m\u001b[0m\n",
      "\u001b[0;32m~/miniconda3/lib/python3.6/site-packages/spacy/language.py\u001b[0m in \u001b[0;36m__call__\u001b[0;34m(self, text, disable)\u001b[0m\n\u001b[1;32m    350\u001b[0m             \u001b[0;32mif\u001b[0m \u001b[0;32mnot\u001b[0m \u001b[0mhasattr\u001b[0m\u001b[0;34m(\u001b[0m\u001b[0mproc\u001b[0m\u001b[0;34m,\u001b[0m \u001b[0;34m'__call__'\u001b[0m\u001b[0;34m)\u001b[0m\u001b[0;34m:\u001b[0m\u001b[0;34m\u001b[0m\u001b[0m\n\u001b[1;32m    351\u001b[0m                 \u001b[0;32mraise\u001b[0m \u001b[0mValueError\u001b[0m\u001b[0;34m(\u001b[0m\u001b[0mErrors\u001b[0m\u001b[0;34m.\u001b[0m\u001b[0mE003\u001b[0m\u001b[0;34m.\u001b[0m\u001b[0mformat\u001b[0m\u001b[0;34m(\u001b[0m\u001b[0mcomponent\u001b[0m\u001b[0;34m=\u001b[0m\u001b[0mtype\u001b[0m\u001b[0;34m(\u001b[0m\u001b[0mproc\u001b[0m\u001b[0;34m)\u001b[0m\u001b[0;34m,\u001b[0m \u001b[0mname\u001b[0m\u001b[0;34m=\u001b[0m\u001b[0mname\u001b[0m\u001b[0;34m)\u001b[0m\u001b[0;34m)\u001b[0m\u001b[0;34m\u001b[0m\u001b[0m\n\u001b[0;32m--> 352\u001b[0;31m             \u001b[0mdoc\u001b[0m \u001b[0;34m=\u001b[0m \u001b[0mproc\u001b[0m\u001b[0;34m(\u001b[0m\u001b[0mdoc\u001b[0m\u001b[0;34m)\u001b[0m\u001b[0;34m\u001b[0m\u001b[0m\n\u001b[0m\u001b[1;32m    353\u001b[0m             \u001b[0;32mif\u001b[0m \u001b[0mdoc\u001b[0m \u001b[0;32mis\u001b[0m \u001b[0;32mNone\u001b[0m\u001b[0;34m:\u001b[0m\u001b[0;34m\u001b[0m\u001b[0m\n\u001b[1;32m    354\u001b[0m                 \u001b[0;32mraise\u001b[0m \u001b[0mValueError\u001b[0m\u001b[0;34m(\u001b[0m\u001b[0mErrors\u001b[0m\u001b[0;34m.\u001b[0m\u001b[0mE005\u001b[0m\u001b[0;34m.\u001b[0m\u001b[0mformat\u001b[0m\u001b[0;34m(\u001b[0m\u001b[0mname\u001b[0m\u001b[0;34m=\u001b[0m\u001b[0mname\u001b[0m\u001b[0;34m)\u001b[0m\u001b[0;34m)\u001b[0m\u001b[0;34m\u001b[0m\u001b[0m\n",
      "\u001b[0;32mpipeline.pyx\u001b[0m in \u001b[0;36mspacy.pipeline.Tagger.__call__\u001b[0;34m()\u001b[0m\n",
      "\u001b[0;32mpipeline.pyx\u001b[0m in \u001b[0;36mspacy.pipeline.Tagger.predict\u001b[0;34m()\u001b[0m\n",
      "\u001b[0;32m~/miniconda3/lib/python3.6/site-packages/thinc/neural/_classes/model.py\u001b[0m in \u001b[0;36m__call__\u001b[0;34m(self, x)\u001b[0m\n\u001b[1;32m    159\u001b[0m             \u001b[0mMust\u001b[0m \u001b[0mmatch\u001b[0m \u001b[0mexpected\u001b[0m \u001b[0mshape\u001b[0m\u001b[0;34m\u001b[0m\u001b[0m\n\u001b[1;32m    160\u001b[0m         '''\n\u001b[0;32m--> 161\u001b[0;31m         \u001b[0;32mreturn\u001b[0m \u001b[0mself\u001b[0m\u001b[0;34m.\u001b[0m\u001b[0mpredict\u001b[0m\u001b[0;34m(\u001b[0m\u001b[0mx\u001b[0m\u001b[0;34m)\u001b[0m\u001b[0;34m\u001b[0m\u001b[0m\n\u001b[0m\u001b[1;32m    162\u001b[0m \u001b[0;34m\u001b[0m\u001b[0m\n\u001b[1;32m    163\u001b[0m     \u001b[0;32mdef\u001b[0m \u001b[0mpipe\u001b[0m\u001b[0;34m(\u001b[0m\u001b[0mself\u001b[0m\u001b[0;34m,\u001b[0m \u001b[0mstream\u001b[0m\u001b[0;34m,\u001b[0m \u001b[0mbatch_size\u001b[0m\u001b[0;34m=\u001b[0m\u001b[0;36m128\u001b[0m\u001b[0;34m)\u001b[0m\u001b[0;34m:\u001b[0m\u001b[0;34m\u001b[0m\u001b[0m\n",
      "\u001b[0;32m~/miniconda3/lib/python3.6/site-packages/thinc/api.py\u001b[0m in \u001b[0;36mpredict\u001b[0;34m(self, X)\u001b[0m\n\u001b[1;32m     53\u001b[0m     \u001b[0;32mdef\u001b[0m \u001b[0mpredict\u001b[0m\u001b[0;34m(\u001b[0m\u001b[0mself\u001b[0m\u001b[0;34m,\u001b[0m \u001b[0mX\u001b[0m\u001b[0;34m)\u001b[0m\u001b[0;34m:\u001b[0m\u001b[0;34m\u001b[0m\u001b[0m\n\u001b[1;32m     54\u001b[0m         \u001b[0;32mfor\u001b[0m \u001b[0mlayer\u001b[0m \u001b[0;32min\u001b[0m \u001b[0mself\u001b[0m\u001b[0;34m.\u001b[0m\u001b[0m_layers\u001b[0m\u001b[0;34m:\u001b[0m\u001b[0;34m\u001b[0m\u001b[0m\n\u001b[0;32m---> 55\u001b[0;31m             \u001b[0mX\u001b[0m \u001b[0;34m=\u001b[0m \u001b[0mlayer\u001b[0m\u001b[0;34m(\u001b[0m\u001b[0mX\u001b[0m\u001b[0;34m)\u001b[0m\u001b[0;34m\u001b[0m\u001b[0m\n\u001b[0m\u001b[1;32m     56\u001b[0m         \u001b[0;32mreturn\u001b[0m \u001b[0mX\u001b[0m\u001b[0;34m\u001b[0m\u001b[0m\n\u001b[1;32m     57\u001b[0m \u001b[0;34m\u001b[0m\u001b[0m\n",
      "\u001b[0;32m~/miniconda3/lib/python3.6/site-packages/thinc/neural/_classes/model.py\u001b[0m in \u001b[0;36m__call__\u001b[0;34m(self, x)\u001b[0m\n\u001b[1;32m    159\u001b[0m             \u001b[0mMust\u001b[0m \u001b[0mmatch\u001b[0m \u001b[0mexpected\u001b[0m \u001b[0mshape\u001b[0m\u001b[0;34m\u001b[0m\u001b[0m\n\u001b[1;32m    160\u001b[0m         '''\n\u001b[0;32m--> 161\u001b[0;31m         \u001b[0;32mreturn\u001b[0m \u001b[0mself\u001b[0m\u001b[0;34m.\u001b[0m\u001b[0mpredict\u001b[0m\u001b[0;34m(\u001b[0m\u001b[0mx\u001b[0m\u001b[0;34m)\u001b[0m\u001b[0;34m\u001b[0m\u001b[0m\n\u001b[0m\u001b[1;32m    162\u001b[0m \u001b[0;34m\u001b[0m\u001b[0m\n\u001b[1;32m    163\u001b[0m     \u001b[0;32mdef\u001b[0m \u001b[0mpipe\u001b[0m\u001b[0;34m(\u001b[0m\u001b[0mself\u001b[0m\u001b[0;34m,\u001b[0m \u001b[0mstream\u001b[0m\u001b[0;34m,\u001b[0m \u001b[0mbatch_size\u001b[0m\u001b[0;34m=\u001b[0m\u001b[0;36m128\u001b[0m\u001b[0;34m)\u001b[0m\u001b[0;34m:\u001b[0m\u001b[0;34m\u001b[0m\u001b[0m\n",
      "\u001b[0;32m~/miniconda3/lib/python3.6/site-packages/thinc/api.py\u001b[0m in \u001b[0;36mpredict\u001b[0;34m(seqs_in)\u001b[0m\n\u001b[1;32m    291\u001b[0m     \u001b[0;32mdef\u001b[0m \u001b[0mpredict\u001b[0m\u001b[0;34m(\u001b[0m\u001b[0mseqs_in\u001b[0m\u001b[0;34m)\u001b[0m\u001b[0;34m:\u001b[0m\u001b[0;34m\u001b[0m\u001b[0m\n\u001b[1;32m    292\u001b[0m         \u001b[0mlengths\u001b[0m \u001b[0;34m=\u001b[0m \u001b[0mlayer\u001b[0m\u001b[0;34m.\u001b[0m\u001b[0mops\u001b[0m\u001b[0;34m.\u001b[0m\u001b[0masarray\u001b[0m\u001b[0;34m(\u001b[0m\u001b[0;34m[\u001b[0m\u001b[0mlen\u001b[0m\u001b[0;34m(\u001b[0m\u001b[0mseq\u001b[0m\u001b[0;34m)\u001b[0m \u001b[0;32mfor\u001b[0m \u001b[0mseq\u001b[0m \u001b[0;32min\u001b[0m \u001b[0mseqs_in\u001b[0m\u001b[0;34m]\u001b[0m\u001b[0;34m)\u001b[0m\u001b[0;34m\u001b[0m\u001b[0m\n\u001b[0;32m--> 293\u001b[0;31m         \u001b[0mX\u001b[0m \u001b[0;34m=\u001b[0m \u001b[0mlayer\u001b[0m\u001b[0;34m(\u001b[0m\u001b[0mlayer\u001b[0m\u001b[0;34m.\u001b[0m\u001b[0mops\u001b[0m\u001b[0;34m.\u001b[0m\u001b[0mflatten\u001b[0m\u001b[0;34m(\u001b[0m\u001b[0mseqs_in\u001b[0m\u001b[0;34m,\u001b[0m \u001b[0mpad\u001b[0m\u001b[0;34m=\u001b[0m\u001b[0mpad\u001b[0m\u001b[0;34m)\u001b[0m\u001b[0;34m)\u001b[0m\u001b[0;34m\u001b[0m\u001b[0m\n\u001b[0m\u001b[1;32m    294\u001b[0m         \u001b[0;32mreturn\u001b[0m \u001b[0mlayer\u001b[0m\u001b[0;34m.\u001b[0m\u001b[0mops\u001b[0m\u001b[0;34m.\u001b[0m\u001b[0munflatten\u001b[0m\u001b[0;34m(\u001b[0m\u001b[0mX\u001b[0m\u001b[0;34m,\u001b[0m \u001b[0mlengths\u001b[0m\u001b[0;34m,\u001b[0m \u001b[0mpad\u001b[0m\u001b[0;34m=\u001b[0m\u001b[0mpad\u001b[0m\u001b[0;34m)\u001b[0m\u001b[0;34m\u001b[0m\u001b[0m\n\u001b[1;32m    295\u001b[0m \u001b[0;34m\u001b[0m\u001b[0m\n",
      "\u001b[0;32m~/miniconda3/lib/python3.6/site-packages/thinc/neural/_classes/model.py\u001b[0m in \u001b[0;36m__call__\u001b[0;34m(self, x)\u001b[0m\n\u001b[1;32m    159\u001b[0m             \u001b[0mMust\u001b[0m \u001b[0mmatch\u001b[0m \u001b[0mexpected\u001b[0m \u001b[0mshape\u001b[0m\u001b[0;34m\u001b[0m\u001b[0m\n\u001b[1;32m    160\u001b[0m         '''\n\u001b[0;32m--> 161\u001b[0;31m         \u001b[0;32mreturn\u001b[0m \u001b[0mself\u001b[0m\u001b[0;34m.\u001b[0m\u001b[0mpredict\u001b[0m\u001b[0;34m(\u001b[0m\u001b[0mx\u001b[0m\u001b[0;34m)\u001b[0m\u001b[0;34m\u001b[0m\u001b[0m\n\u001b[0m\u001b[1;32m    162\u001b[0m \u001b[0;34m\u001b[0m\u001b[0m\n\u001b[1;32m    163\u001b[0m     \u001b[0;32mdef\u001b[0m \u001b[0mpipe\u001b[0m\u001b[0;34m(\u001b[0m\u001b[0mself\u001b[0m\u001b[0;34m,\u001b[0m \u001b[0mstream\u001b[0m\u001b[0;34m,\u001b[0m \u001b[0mbatch_size\u001b[0m\u001b[0;34m=\u001b[0m\u001b[0;36m128\u001b[0m\u001b[0;34m)\u001b[0m\u001b[0;34m:\u001b[0m\u001b[0;34m\u001b[0m\u001b[0m\n",
      "\u001b[0;32m~/miniconda3/lib/python3.6/site-packages/thinc/api.py\u001b[0m in \u001b[0;36mpredict\u001b[0;34m(self, X)\u001b[0m\n\u001b[1;32m     53\u001b[0m     \u001b[0;32mdef\u001b[0m \u001b[0mpredict\u001b[0m\u001b[0;34m(\u001b[0m\u001b[0mself\u001b[0m\u001b[0;34m,\u001b[0m \u001b[0mX\u001b[0m\u001b[0;34m)\u001b[0m\u001b[0;34m:\u001b[0m\u001b[0;34m\u001b[0m\u001b[0m\n\u001b[1;32m     54\u001b[0m         \u001b[0;32mfor\u001b[0m \u001b[0mlayer\u001b[0m \u001b[0;32min\u001b[0m \u001b[0mself\u001b[0m\u001b[0;34m.\u001b[0m\u001b[0m_layers\u001b[0m\u001b[0;34m:\u001b[0m\u001b[0;34m\u001b[0m\u001b[0m\n\u001b[0;32m---> 55\u001b[0;31m             \u001b[0mX\u001b[0m \u001b[0;34m=\u001b[0m \u001b[0mlayer\u001b[0m\u001b[0;34m(\u001b[0m\u001b[0mX\u001b[0m\u001b[0;34m)\u001b[0m\u001b[0;34m\u001b[0m\u001b[0m\n\u001b[0m\u001b[1;32m     56\u001b[0m         \u001b[0;32mreturn\u001b[0m \u001b[0mX\u001b[0m\u001b[0;34m\u001b[0m\u001b[0m\n\u001b[1;32m     57\u001b[0m \u001b[0;34m\u001b[0m\u001b[0m\n",
      "\u001b[0;32m~/miniconda3/lib/python3.6/site-packages/thinc/neural/_classes/resnet.py\u001b[0m in \u001b[0;36m__call__\u001b[0;34m(self, X)\u001b[0m\n\u001b[1;32m     13\u001b[0m \u001b[0;34m\u001b[0m\u001b[0m\n\u001b[1;32m     14\u001b[0m     \u001b[0;32mdef\u001b[0m \u001b[0m__call__\u001b[0m\u001b[0;34m(\u001b[0m\u001b[0mself\u001b[0m\u001b[0;34m,\u001b[0m \u001b[0mX\u001b[0m\u001b[0;34m)\u001b[0m\u001b[0;34m:\u001b[0m\u001b[0;34m\u001b[0m\u001b[0m\n\u001b[0;32m---> 15\u001b[0;31m         \u001b[0;32mreturn\u001b[0m \u001b[0mX\u001b[0m \u001b[0;34m+\u001b[0m \u001b[0mself\u001b[0m\u001b[0;34m.\u001b[0m\u001b[0m_layers\u001b[0m\u001b[0;34m[\u001b[0m\u001b[0;36m0\u001b[0m\u001b[0;34m]\u001b[0m\u001b[0;34m(\u001b[0m\u001b[0mX\u001b[0m\u001b[0;34m)\u001b[0m\u001b[0;34m\u001b[0m\u001b[0m\n\u001b[0m\u001b[1;32m     16\u001b[0m \u001b[0;34m\u001b[0m\u001b[0m\n\u001b[1;32m     17\u001b[0m     \u001b[0;32mdef\u001b[0m \u001b[0mbegin_update\u001b[0m\u001b[0;34m(\u001b[0m\u001b[0mself\u001b[0m\u001b[0;34m,\u001b[0m \u001b[0mX\u001b[0m\u001b[0;34m,\u001b[0m \u001b[0mdrop\u001b[0m\u001b[0;34m=\u001b[0m\u001b[0;36m0.\u001b[0m\u001b[0;34m)\u001b[0m\u001b[0;34m:\u001b[0m\u001b[0;34m\u001b[0m\u001b[0m\n",
      "\u001b[0;32m~/miniconda3/lib/python3.6/site-packages/thinc/neural/_classes/model.py\u001b[0m in \u001b[0;36m__call__\u001b[0;34m(self, x)\u001b[0m\n\u001b[1;32m    159\u001b[0m             \u001b[0mMust\u001b[0m \u001b[0mmatch\u001b[0m \u001b[0mexpected\u001b[0m \u001b[0mshape\u001b[0m\u001b[0;34m\u001b[0m\u001b[0m\n\u001b[1;32m    160\u001b[0m         '''\n\u001b[0;32m--> 161\u001b[0;31m         \u001b[0;32mreturn\u001b[0m \u001b[0mself\u001b[0m\u001b[0;34m.\u001b[0m\u001b[0mpredict\u001b[0m\u001b[0;34m(\u001b[0m\u001b[0mx\u001b[0m\u001b[0;34m)\u001b[0m\u001b[0;34m\u001b[0m\u001b[0m\n\u001b[0m\u001b[1;32m    162\u001b[0m \u001b[0;34m\u001b[0m\u001b[0m\n\u001b[1;32m    163\u001b[0m     \u001b[0;32mdef\u001b[0m \u001b[0mpipe\u001b[0m\u001b[0;34m(\u001b[0m\u001b[0mself\u001b[0m\u001b[0;34m,\u001b[0m \u001b[0mstream\u001b[0m\u001b[0;34m,\u001b[0m \u001b[0mbatch_size\u001b[0m\u001b[0;34m=\u001b[0m\u001b[0;36m128\u001b[0m\u001b[0;34m)\u001b[0m\u001b[0;34m:\u001b[0m\u001b[0;34m\u001b[0m\u001b[0m\n",
      "\u001b[0;32m~/miniconda3/lib/python3.6/site-packages/thinc/api.py\u001b[0m in \u001b[0;36mpredict\u001b[0;34m(self, X)\u001b[0m\n\u001b[1;32m     53\u001b[0m     \u001b[0;32mdef\u001b[0m \u001b[0mpredict\u001b[0m\u001b[0;34m(\u001b[0m\u001b[0mself\u001b[0m\u001b[0;34m,\u001b[0m \u001b[0mX\u001b[0m\u001b[0;34m)\u001b[0m\u001b[0;34m:\u001b[0m\u001b[0;34m\u001b[0m\u001b[0m\n\u001b[1;32m     54\u001b[0m         \u001b[0;32mfor\u001b[0m \u001b[0mlayer\u001b[0m \u001b[0;32min\u001b[0m \u001b[0mself\u001b[0m\u001b[0;34m.\u001b[0m\u001b[0m_layers\u001b[0m\u001b[0;34m:\u001b[0m\u001b[0;34m\u001b[0m\u001b[0m\n\u001b[0;32m---> 55\u001b[0;31m             \u001b[0mX\u001b[0m \u001b[0;34m=\u001b[0m \u001b[0mlayer\u001b[0m\u001b[0;34m(\u001b[0m\u001b[0mX\u001b[0m\u001b[0;34m)\u001b[0m\u001b[0;34m\u001b[0m\u001b[0m\n\u001b[0m\u001b[1;32m     56\u001b[0m         \u001b[0;32mreturn\u001b[0m \u001b[0mX\u001b[0m\u001b[0;34m\u001b[0m\u001b[0m\n\u001b[1;32m     57\u001b[0m \u001b[0;34m\u001b[0m\u001b[0m\n",
      "\u001b[0;32m~/miniconda3/lib/python3.6/site-packages/thinc/neural/_classes/model.py\u001b[0m in \u001b[0;36m__call__\u001b[0;34m(self, x)\u001b[0m\n\u001b[1;32m    159\u001b[0m             \u001b[0mMust\u001b[0m \u001b[0mmatch\u001b[0m \u001b[0mexpected\u001b[0m \u001b[0mshape\u001b[0m\u001b[0;34m\u001b[0m\u001b[0m\n\u001b[1;32m    160\u001b[0m         '''\n\u001b[0;32m--> 161\u001b[0;31m         \u001b[0;32mreturn\u001b[0m \u001b[0mself\u001b[0m\u001b[0;34m.\u001b[0m\u001b[0mpredict\u001b[0m\u001b[0;34m(\u001b[0m\u001b[0mx\u001b[0m\u001b[0;34m)\u001b[0m\u001b[0;34m\u001b[0m\u001b[0m\n\u001b[0m\u001b[1;32m    162\u001b[0m \u001b[0;34m\u001b[0m\u001b[0m\n\u001b[1;32m    163\u001b[0m     \u001b[0;32mdef\u001b[0m \u001b[0mpipe\u001b[0m\u001b[0;34m(\u001b[0m\u001b[0mself\u001b[0m\u001b[0;34m,\u001b[0m \u001b[0mstream\u001b[0m\u001b[0;34m,\u001b[0m \u001b[0mbatch_size\u001b[0m\u001b[0;34m=\u001b[0m\u001b[0;36m128\u001b[0m\u001b[0;34m)\u001b[0m\u001b[0;34m:\u001b[0m\u001b[0;34m\u001b[0m\u001b[0m\n",
      "\u001b[0;32m~/miniconda3/lib/python3.6/site-packages/thinc/neural/_classes/layernorm.py\u001b[0m in \u001b[0;36mpredict\u001b[0;34m(self, X)\u001b[0m\n\u001b[1;32m     42\u001b[0m \u001b[0;34m\u001b[0m\u001b[0m\n\u001b[1;32m     43\u001b[0m     \u001b[0;32mdef\u001b[0m \u001b[0mpredict\u001b[0m\u001b[0;34m(\u001b[0m\u001b[0mself\u001b[0m\u001b[0;34m,\u001b[0m \u001b[0mX\u001b[0m\u001b[0;34m)\u001b[0m\u001b[0;34m:\u001b[0m\u001b[0;34m\u001b[0m\u001b[0m\n\u001b[0;32m---> 44\u001b[0;31m         \u001b[0mX\u001b[0m \u001b[0;34m=\u001b[0m \u001b[0mself\u001b[0m\u001b[0;34m.\u001b[0m\u001b[0mchild\u001b[0m\u001b[0;34m.\u001b[0m\u001b[0mpredict\u001b[0m\u001b[0;34m(\u001b[0m\u001b[0mX\u001b[0m\u001b[0;34m)\u001b[0m\u001b[0;34m\u001b[0m\u001b[0m\n\u001b[0m\u001b[1;32m     45\u001b[0m         \u001b[0mN\u001b[0m\u001b[0;34m,\u001b[0m \u001b[0mmu\u001b[0m\u001b[0;34m,\u001b[0m \u001b[0mvar\u001b[0m \u001b[0;34m=\u001b[0m \u001b[0m_get_moments\u001b[0m\u001b[0;34m(\u001b[0m\u001b[0mself\u001b[0m\u001b[0;34m.\u001b[0m\u001b[0mops\u001b[0m\u001b[0;34m,\u001b[0m \u001b[0mX\u001b[0m\u001b[0;34m)\u001b[0m\u001b[0;34m\u001b[0m\u001b[0m\n\u001b[1;32m     46\u001b[0m         \u001b[0mXh\u001b[0m \u001b[0;34m=\u001b[0m \u001b[0m_forward\u001b[0m\u001b[0;34m(\u001b[0m\u001b[0mself\u001b[0m\u001b[0;34m.\u001b[0m\u001b[0mops\u001b[0m\u001b[0;34m,\u001b[0m \u001b[0mX\u001b[0m\u001b[0;34m,\u001b[0m \u001b[0mmu\u001b[0m\u001b[0;34m,\u001b[0m \u001b[0mvar\u001b[0m\u001b[0;34m)\u001b[0m\u001b[0;34m\u001b[0m\u001b[0m\n",
      "\u001b[0;32m~/miniconda3/lib/python3.6/site-packages/thinc/neural/_classes/maxout.py\u001b[0m in \u001b[0;36mpredict\u001b[0;34m(self, X__BI)\u001b[0m\n\u001b[1;32m     58\u001b[0m     \u001b[0;32mdef\u001b[0m \u001b[0mpredict\u001b[0m\u001b[0;34m(\u001b[0m\u001b[0mself\u001b[0m\u001b[0;34m,\u001b[0m \u001b[0mX__BI\u001b[0m\u001b[0;34m)\u001b[0m\u001b[0;34m:\u001b[0m\u001b[0;34m\u001b[0m\u001b[0m\n\u001b[1;32m     59\u001b[0m         \u001b[0mW\u001b[0m \u001b[0;34m=\u001b[0m \u001b[0mself\u001b[0m\u001b[0;34m.\u001b[0m\u001b[0mW\u001b[0m\u001b[0;34m.\u001b[0m\u001b[0mreshape\u001b[0m\u001b[0;34m(\u001b[0m\u001b[0;34m(\u001b[0m\u001b[0mself\u001b[0m\u001b[0;34m.\u001b[0m\u001b[0mnO\u001b[0m \u001b[0;34m*\u001b[0m \u001b[0mself\u001b[0m\u001b[0;34m.\u001b[0m\u001b[0mnP\u001b[0m\u001b[0;34m,\u001b[0m \u001b[0mself\u001b[0m\u001b[0;34m.\u001b[0m\u001b[0mnI\u001b[0m\u001b[0;34m)\u001b[0m\u001b[0;34m)\u001b[0m\u001b[0;34m\u001b[0m\u001b[0m\n\u001b[0;32m---> 60\u001b[0;31m         \u001b[0mX__BOP\u001b[0m \u001b[0;34m=\u001b[0m \u001b[0mself\u001b[0m\u001b[0;34m.\u001b[0m\u001b[0mops\u001b[0m\u001b[0;34m.\u001b[0m\u001b[0mbatch_dot\u001b[0m\u001b[0;34m(\u001b[0m\u001b[0mX__BI\u001b[0m\u001b[0;34m,\u001b[0m \u001b[0mW\u001b[0m\u001b[0;34m)\u001b[0m\u001b[0;34m\u001b[0m\u001b[0m\n\u001b[0m\u001b[1;32m     61\u001b[0m         \u001b[0mX__BOP\u001b[0m \u001b[0;34m+=\u001b[0m \u001b[0mself\u001b[0m\u001b[0;34m.\u001b[0m\u001b[0mb\u001b[0m\u001b[0;34m.\u001b[0m\u001b[0mreshape\u001b[0m\u001b[0;34m(\u001b[0m\u001b[0;34m(\u001b[0m\u001b[0mself\u001b[0m\u001b[0;34m.\u001b[0m\u001b[0mnO\u001b[0m\u001b[0;34m*\u001b[0m\u001b[0mself\u001b[0m\u001b[0;34m.\u001b[0m\u001b[0mnP\u001b[0m\u001b[0;34m,\u001b[0m\u001b[0;34m)\u001b[0m\u001b[0;34m)\u001b[0m\u001b[0;34m\u001b[0m\u001b[0m\n\u001b[1;32m     62\u001b[0m         \u001b[0mX__BOP\u001b[0m \u001b[0;34m=\u001b[0m \u001b[0mX__BOP\u001b[0m\u001b[0;34m.\u001b[0m\u001b[0mreshape\u001b[0m\u001b[0;34m(\u001b[0m\u001b[0;34m(\u001b[0m\u001b[0mX__BOP\u001b[0m\u001b[0;34m.\u001b[0m\u001b[0mshape\u001b[0m\u001b[0;34m[\u001b[0m\u001b[0;36m0\u001b[0m\u001b[0;34m]\u001b[0m\u001b[0;34m,\u001b[0m \u001b[0mself\u001b[0m\u001b[0;34m.\u001b[0m\u001b[0mnO\u001b[0m\u001b[0;34m,\u001b[0m \u001b[0mself\u001b[0m\u001b[0;34m.\u001b[0m\u001b[0mnP\u001b[0m\u001b[0;34m)\u001b[0m\u001b[0;34m)\u001b[0m\u001b[0;34m\u001b[0m\u001b[0m\n",
      "\u001b[0;31mKeyboardInterrupt\u001b[0m: "
     ]
    }
   ],
   "source": [
    "save = False\n",
    "\n",
    "path_com_corpus = '../Data/lda_nop-low-stem-prun_ccorpus.pkl'\n",
    "path_corpus = '../Data/lda_nop-low-stem-prun_corpus'\n",
    "path_dic = '../Data/lda_nop-low-stem-prun_dic.pkl'\n",
    "\n",
    "if save:\n",
    "    text = all_data.loc[:, 'clean_text'].map(lambda x: x.lower()).map(party_substituter)\n",
    "\n",
    "    document = []\n",
    "\n",
    "    for row in text.iteritems():\n",
    "        index, data = row\n",
    "        document.append(data)\n",
    "    \n",
    "    lengths = len(document)\n",
    "    corpus_full = []\n",
    "    tick = time()\n",
    "    for i, term in enumerate(document):\n",
    "        corpus_full.append(sparse_text(term, nlp))\n",
    "        print('{}/{}'.format(i, lengths), end='\\r')\n",
    "        if i % 5000 == 0:\n",
    "            t1 = (time() - tick)/60\n",
    "            print('Took {:.2f} min for {} loops'.format(t1, i))\n",
    "    print('The entire process took {:.2f} min'.format((time() - tick)/60))\n",
    "    \n",
    "\n",
    "    corpus = filter_function(corpus_full, 10)\n",
    "\n",
    "    common_dictionary = corpora.Dictionary(corpus, prune_at=100000)\n",
    "\n",
    "    common_corpus = [common_dictionary.doc2bow(row) for row in corpus]\n",
    "\n",
    "    \n",
    "    with open(path_com_corpus, 'wb') as fid:\n",
    "        pickle.dump(common_corpus, fid)\n",
    "    with open(path_dic, 'wb') as fid:\n",
    "        pickle.dump(common_dictionary, fid)\n",
    "    with open(path_corpus, 'wb') as fid:\n",
    "        pickle.dump(corpus, fid)       \n",
    "\n",
    "else:\n",
    "    with open(path_com_corpus, 'rb') as fid:\n",
    "        common_corpus = pickle.load(fid)\n",
    "    with open(path_dic, 'rb') as fid:\n",
    "        common_dictionary = pickle.load(fid)\n",
    "    with open(path_corpus, 'rb') as fid:\n",
    "        corpus = pickle.load(fid)"
   ]
  },
  {
   "cell_type": "code",
   "execution_count": 13,
   "metadata": {},
   "outputs": [
    {
     "name": "stdout",
     "output_type": "stream",
     "text": [
      "Process took 3.083738684654236 min\n"
     ]
    },
    {
     "data": {
      "image/png": "[encoded data removed]",
      "text/plain": [
       "<Figure size 432x288 with 1 Axes>"
      ]
     },
     "metadata": {
      "needs_background": "light"
     },
     "output_type": "display_data"
    },
    {
     "data": {
      "image/png": "[encoded data removed]",
      "text/plain": [
       "<Figure size 432x288 with 1 Axes>"
      ]
     },
     "metadata": {
      "needs_background": "light"
     },
     "output_type": "display_data"
    }
   ],
   "source": [
    "def compute_coherence_values(dictionary, corpus, texts, limit, start=2, step=3):\n",
    "    \"\"\"\n",
    "    Compute coherence for various number of topics\n",
    "\n",
    "    Parameters:\n",
    "    dictionary : Gensim dictionary\n",
    "    corpus : Gensim corpus\n",
    "    texts : List of input texts\n",
    "    limit : Max num of topics\n",
    "\n",
    "    Plots coherence score over number of topics\n",
    "    \"\"\"\n",
    "    tick = time()\n",
    "    coherence_values = []\n",
    "    model_list = []\n",
    "    perplexity_values = []\n",
    "    for num_topics in range(start, limit, step):\n",
    "        model=LdaModel(corpus=corpus, \n",
    "                       id2word=dictionary, \n",
    "                       num_topics=num_topics, \n",
    "                       alpha=0.001, \n",
    "                       minimum_probability=0.2,\n",
    "                       iterations=10)\n",
    "        model_list.append(model)\n",
    "        coherencemodel = CoherenceModel(model=model, texts=texts, dictionary=dictionary, coherence='c_v')\n",
    "        coherence_values.append(coherencemodel.get_coherence())\n",
    "        perplexity_values.append(model.log_perplexity(common_corpus))\n",
    "        print('At {} of {}'.format(num_topics, limit))\n",
    "    print('Process took {} min'.format((time()-tick)/60))\n",
    "        \n",
    "    x = range(start, limit, step)\n",
    "    plt.plot(x, coherence_values)\n",
    "    plt.xlabel(\"Num Topics\")\n",
    "    plt.ylabel(\"Coherence score\")\n",
    "    plt.legend((\"coherence_values\"), loc='best')\n",
    "    plt.show()\n",
    "\n",
    "    plt.plot(x, perplexity_values)\n",
    "    plt.xlabel(\"Num Topics\")\n",
    "    plt.ylabel(\"Perplexity\")\n",
    "    plt.legend((\"perplexity\"), loc='best')\n",
    "    plt.show()\n",
    "\n",
    "compute_coherence_values(common_dictionary, common_corpus, corpus, limit=120, start=20, step=10)"
   ]
  },
  {
   "cell_type": "markdown",
   "metadata": {},
   "source": [
    "Following from coherence score curve\n",
    "- choose 22 topics: highest coherence score before curve flattens out \n",
    "- given the corpus 20 topics make more sense than 80 - this can also be seen in the LDA visualization: with 80 topics, most of them cluster in the lower-right corner\n",
    "\n",
    "Following from LDA visualization\n",
    "- comparing topic-bubbles of different numbers of topics: chosing 17 topics results in nicely distributed, hardly overlapping clusters"
   ]
  },
  {
   "cell_type": "code",
   "execution_count": 17,
   "metadata": {},
   "outputs": [
    {
     "name": "stdout",
     "output_type": "stream",
     "text": [
      "Coherence Score c_v:  0.6060565977186101\n",
      "Coherence Score u-mass:  -17.148579805304557\n",
      "Model perplexity:  -9.00634709799003\n"
     ]
    },
    {
     "name": "stderr",
     "output_type": "stream",
     "text": [
      "/home/franzi/miniconda3/lib/python3.6/site-packages/pyLDAvis/_prepare.py:257: FutureWarning:\n",
      "\n",
      "Sorting because non-concatenation axis is not aligned. A future version\n",
      "of pandas will change to not sort by default.\n",
      "\n",
      "To accept the future behavior, pass 'sort=False'.\n",
      "\n",
      "To retain the current behavior and silence the warning, pass 'sort=True'.\n",
      "\n",
      "\n"
     ]
    },
    {
     "data": {
      "text/html": [
       "\n",
       "<link rel=\"stylesheet\" type=\"text/css\" href=\"https://cdn.rawgit.com/bmabey/pyLDAvis/files/ldavis.v1.0.0.css\">\n",
       "\n",
       "\n",
       "<div id=\"ldavis_el158551399327788467521285024187\"></div>\n",
       "<script type=\"text/javascript\">\n",
       "\n",
       "var ldavis_el158551399327788467521285024187_data = {\"mdsDat\": {\"x\": [0.38839714002688264, 0.1270295754883072, 0.2779677956475976, 0.0025253513113229348, -0.0012980450992380792, 0.0073280446961314204, -0.03130505816709849, -0.01090497681002112, -0.013831863490872856, -0.006776237613520326, -0.021165420407669173, -0.017111234374611928, -0.011811595955444388, -0.020193239479830555, -0.011032722901811969, -0.02132112132607193, -0.017353872906015033, -0.01685839543135123, -0.019216527342653552, -0.025051646206836257, -0.024088086424140072, -0.02016725215348316, -0.02572446936132441, -0.02604954858783745, -0.017314305652915255, -0.018212429271472583, -0.026063826877191852, -0.02031478257489105, -0.021336328352531103, -0.02566641356001492, -0.02138412997875908, -0.02885483472729389, -0.03121447114928836, -0.029266555529819334, -0.0338909636918518, -0.015254112963406863, -0.03645420201726389, -0.035832288623993826, -0.05572165477663114, -0.0452052933830865], \"y\": [-0.017009390036462957, -0.04690699209601315, -0.03412405436128088, 0.3640910606335318, 0.12197437303663881, 0.16831112830524136, -0.03445927217176163, 0.05273514105604633, 0.046307073816001465, -0.001760541312648436, -0.01618131927227628, -0.018884108040332286, -0.026420614994326193, -0.028968961873005298, 0.0452608427455495, 0.046855423753279724, 0.044024870696285474, 0.007268542161876633, 0.037985034545153194, 0.008300844904892591, -0.030404713487688334, -0.026227009593799196, -0.019515716986694524, -0.0002783284611962153, 0.01334886785153737, -0.051987532986942024, -0.06008586991783823, -0.044048862312478794, -0.043995333982006286, -0.03366879360426525, -0.026247118727308946, 0.008460741322871473, -0.043629471778947576, -0.05067824205601586, 0.004490723106956456, -0.044979787415553425, -0.05051879246690293, -0.08296283096420548, -0.05290058950849445, -0.0825704195274172], \"topics\": [1, 2, 3, 4, 5, 6, 7, 8, 9, 10, 11, 12, 13, 14, 15, 16, 17, 18, 19, 20, 21, 22, 23, 24, 25, 26, 27, 28, 29, 30, 31, 32, 33, 34, 35, 36, 37, 38, 39, 40], \"cluster\": [1, 1, 1, 1, 1, 1, 1, 1, 1, 1, 1, 1, 1, 1, 1, 1, 1, 1, 1, 1, 1, 1, 1, 1, 1, 1, 1, 1, 1, 1, 1, 1, 1, 1, 1, 1, 1, 1, 1, 1], \"Freq\": [13.223883628845215, 6.285198211669922, 4.879610061645508, 3.3326773643493652, 3.2556869983673096, 3.0173163414001465, 2.5765466690063477, 2.51680064201355, 2.505291700363159, 2.502659320831299, 2.456751585006714, 2.245898723602295, 2.2428643703460693, 2.2301061153411865, 2.213186264038086, 2.179003953933716, 2.1606273651123047, 2.056952953338623, 1.9292999505996704, 1.9270349740982056, 1.9252939224243164, 1.9117504358291626, 1.8678773641586304, 1.8670165538787842, 1.8567280769348145, 1.8325265645980835, 1.8321266174316406, 1.803074836730957, 1.783921718597412, 1.7712578773498535, 1.763380527496338, 1.7247425317764282, 1.7102669477462769, 1.7067608833312988, 1.6452280282974243, 1.6135057210922241, 1.6107293367385864, 1.4632357358932495, 1.336063027381897, 1.237123966217041]}, \"tinfo\": {\"Category\": [\"Default\", \"Default\", \"Default\", \"Default\", \"Default\", \"Default\", \"Default\", \"Default\", \"Default\", \"Default\", \"Default\", \"Default\", \"Default\", \"Default\", \"Default\", \"Default\", \"Default\", \"Default\", \"Default\", \"Default\", \"Default\", \"Default\", \"Default\", \"Default\", \"Default\", \"Default\", \"Default\", \"Default\", \"Default\", \"Default\", \"Topic1\", \"Topic1\", \"Topic1\", \"Topic1\", \"Topic1\", \"Topic1\", \"Topic1\", \"Topic1\", \"Topic1\", \"Topic1\", \"Topic1\", \"Topic1\", \"Topic1\", \"Topic1\", \"Topic1\", \"Topic1\", \"Topic1\", \"Topic1\", \"Topic1\", \"Topic1\", \"Topic1\", \"Topic1\", \"Topic1\", \"Topic1\", \"Topic1\", \"Topic1\", \"Topic1\", \"Topic1\", \"Topic1\", \"Topic1\", \"Topic1\", \"Topic1\", \"Topic1\", \"Topic2\", \"Topic2\", \"Topic2\", \"Topic2\", \"Topic2\", \"Topic2\", \"Topic2\", \"Topic2\", \"Topic2\", \"Topic2\", \"Topic2\", \"Topic2\", \"Topic2\", \"Topic2\", \"Topic2\", \"Topic2\", \"Topic2\", \"Topic2\", \"Topic2\", \"Topic2\", \"Topic2\", \"Topic2\", \"Topic2\", \"Topic2\", \"Topic2\", \"Topic2\", \"Topic2\", \"Topic2\", \"Topic2\", \"Topic2\", \"Topic2\", \"Topic3\", \"Topic3\", \"Topic3\", \"Topic3\", \"Topic3\", \"Topic3\", \"Topic3\", \"Topic3\", \"Topic3\", \"Topic3\", \"Topic3\", \"Topic3\", \"Topic3\", \"Topic3\", \"Topic3\", \"Topic3\", \"Topic3\", \"Topic3\", \"Topic3\", \"Topic3\", \"Topic3\", \"Topic3\", \"Topic3\", \"Topic3\", \"Topic3\", \"Topic3\", \"Topic3\", \"Topic3\", \"Topic3\", \"Topic3\", \"Topic3\", \"Topic4\", \"Topic4\", \"Topic4\", \"Topic4\", \"Topic4\", \"Topic4\", \"Topic4\", \"Topic4\", \"Topic4\", \"Topic4\", \"Topic4\", \"Topic4\", \"Topic4\", \"Topic4\", \"Topic4\", \"Topic4\", \"Topic4\", \"Topic4\", \"Topic4\", \"Topic4\", \"Topic4\", \"Topic4\", \"Topic4\", \"Topic4\", \"Topic4\", \"Topic4\", \"Topic4\", \"Topic4\", \"Topic4\", \"Topic4\", \"Topic4\", \"Topic5\", \"Topic5\", \"Topic5\", \"Topic5\", \"Topic5\", \"Topic5\", \"Topic5\", \"Topic5\", \"Topic5\", \"Topic5\", \"Topic5\", \"Topic5\", \"Topic5\", \"Topic5\", \"Topic5\", \"Topic5\", \"Topic5\", \"Topic5\", \"Topic5\", \"Topic5\", \"Topic5\", \"Topic5\", \"Topic5\", \"Topic5\", \"Topic5\", \"Topic5\", \"Topic5\", \"Topic5\", \"Topic5\", \"Topic5\", \"Topic6\", \"Topic6\", \"Topic6\", \"Topic6\", \"Topic6\", \"Topic6\", \"Topic6\", \"Topic6\", \"Topic6\", \"Topic6\", \"Topic6\", \"Topic6\", \"Topic6\", \"Topic6\", \"Topic6\", \"Topic6\", \"Topic6\", \"Topic6\", \"Topic6\", \"Topic6\", \"Topic6\", \"Topic6\", \"Topic6\", \"Topic6\", \"Topic6\", \"Topic6\", \"Topic6\", \"Topic6\", \"Topic6\", \"Topic6\", \"Topic7\", \"Topic7\", \"Topic7\", \"Topic7\", \"Topic7\", \"Topic7\", \"Topic7\", \"Topic7\", \"Topic7\", \"Topic7\", \"Topic7\", \"Topic7\", \"Topic7\", \"Topic7\", \"Topic7\", \"Topic7\", \"Topic7\", \"Topic7\", \"Topic7\", \"Topic7\", \"Topic7\", \"Topic7\", \"Topic7\", \"Topic7\", \"Topic7\", \"Topic7\", \"Topic7\", \"Topic7\", \"Topic7\", \"Topic7\", \"Topic7\", \"Topic8\", \"Topic8\", \"Topic8\", \"Topic8\", \"Topic8\", \"Topic8\", \"Topic8\", \"Topic8\", \"Topic8\", \"Topic8\", \"Topic8\", \"Topic8\", \"Topic8\", \"Topic8\", \"Topic8\", \"Topic8\", \"Topic8\", \"Topic8\", \"Topic8\", \"Topic8\", \"Topic8\", \"Topic8\", \"Topic8\", \"Topic8\", \"Topic8\", \"Topic8\", \"Topic8\", \"Topic8\", \"Topic8\", \"Topic8\", \"Topic9\", \"Topic9\", \"Topic9\", \"Topic9\", \"Topic9\", \"Topic9\", \"Topic9\", \"Topic9\", \"Topic9\", \"Topic9\", \"Topic9\", \"Topic9\", \"Topic9\", \"Topic9\", \"Topic9\", \"Topic9\", \"Topic9\", \"Topic9\", \"Topic9\", \"Topic9\", \"Topic9\", \"Topic9\", \"Topic9\", \"Topic9\", \"Topic9\", \"Topic9\", \"Topic9\", \"Topic9\", \"Topic9\", \"Topic9\", \"Topic10\", \"Topic10\", \"Topic10\", \"Topic10\", \"Topic10\", \"Topic10\", \"Topic10\", \"Topic10\", \"Topic10\", \"Topic10\", \"Topic10\", \"Topic10\", \"Topic10\", \"Topic10\", \"Topic10\", \"Topic10\", \"Topic10\", \"Topic10\", \"Topic10\", \"Topic10\", \"Topic10\", \"Topic10\", \"Topic10\", \"Topic10\", \"Topic10\", \"Topic10\", \"Topic10\", \"Topic10\", \"Topic10\", \"Topic10\", \"Topic11\", \"Topic11\", \"Topic11\", \"Topic11\", \"Topic11\", \"Topic11\", \"Topic11\", \"Topic11\", \"Topic11\", \"Topic11\", \"Topic11\", \"Topic11\", \"Topic11\", \"Topic11\", \"Topic11\", \"Topic11\", \"Topic11\", \"Topic11\", \"Topic11\", \"Topic11\", \"Topic11\", \"Topic11\", \"Topic11\", \"Topic11\", \"Topic11\", \"Topic11\", \"Topic11\", \"Topic11\", \"Topic11\", \"Topic11\", \"Topic12\", \"Topic12\", \"Topic12\", \"Topic12\", \"Topic12\", \"Topic12\", \"Topic12\", \"Topic12\", \"Topic12\", \"Topic12\", \"Topic12\", \"Topic12\", \"Topic12\", \"Topic12\", \"Topic12\", \"Topic12\", \"Topic12\", \"Topic12\", \"Topic12\", \"Topic12\", \"Topic12\", \"Topic12\", \"Topic12\", \"Topic12\", \"Topic12\", \"Topic12\", \"Topic12\", \"Topic12\", \"Topic12\", \"Topic12\", \"Topic13\", \"Topic13\", \"Topic13\", \"Topic13\", \"Topic13\", \"Topic13\", \"Topic13\", \"Topic13\", \"Topic13\", \"Topic13\", \"Topic13\", \"Topic13\", \"Topic13\", \"Topic13\", \"Topic13\", \"Topic13\", \"Topic13\", \"Topic13\", \"Topic13\", \"Topic13\", \"Topic13\", \"Topic13\", \"Topic13\", \"Topic13\", \"Topic13\", \"Topic13\", \"Topic13\", \"Topic13\", \"Topic13\", \"Topic13\", \"Topic14\", \"Topic14\", \"Topic14\", \"Topic14\", \"Topic14\", \"Topic14\", \"Topic14\", \"Topic14\", \"Topic14\", \"Topic14\", \"Topic14\", \"Topic14\", \"Topic14\", \"Topic14\", \"Topic14\", \"Topic14\", \"Topic14\", \"Topic14\", \"Topic14\", \"Topic14\", \"Topic14\", \"Topic14\", \"Topic14\", \"Topic14\", \"Topic14\", \"Topic14\", \"Topic14\", \"Topic14\", \"Topic14\", \"Topic14\", \"Topic15\", \"Topic15\", \"Topic15\", \"Topic15\", \"Topic15\", \"Topic15\", \"Topic15\", \"Topic15\", \"Topic15\", \"Topic15\", \"Topic15\", \"Topic15\", \"Topic15\", \"Topic15\", \"Topic15\", \"Topic15\", \"Topic15\", \"Topic15\", \"Topic15\", \"Topic15\", \"Topic15\", \"Topic15\", \"Topic15\", \"Topic15\", \"Topic15\", \"Topic15\", \"Topic15\", \"Topic15\", \"Topic15\", \"Topic15\", \"Topic16\", \"Topic16\", \"Topic16\", \"Topic16\", \"Topic16\", \"Topic16\", \"Topic16\", \"Topic16\", \"Topic16\", \"Topic16\", \"Topic16\", \"Topic16\", \"Topic16\", \"Topic16\", \"Topic16\", \"Topic16\", \"Topic16\", \"Topic16\", \"Topic16\", \"Topic16\", \"Topic16\", \"Topic16\", \"Topic16\", \"Topic16\", \"Topic16\", \"Topic16\", \"Topic16\", \"Topic16\", \"Topic16\", \"Topic16\", \"Topic17\", \"Topic17\", \"Topic17\", \"Topic17\", \"Topic17\", \"Topic17\", \"Topic17\", \"Topic17\", \"Topic17\", \"Topic17\", \"Topic17\", \"Topic17\", \"Topic17\", \"Topic17\", \"Topic17\", \"Topic17\", \"Topic17\", \"Topic17\", \"Topic17\", \"Topic17\", \"Topic17\", \"Topic17\", \"Topic17\", \"Topic17\", \"Topic17\", \"Topic17\", \"Topic17\", \"Topic17\", \"Topic17\", \"Topic17\", \"Topic17\", \"Topic18\", \"Topic18\", \"Topic18\", \"Topic18\", \"Topic18\", \"Topic18\", \"Topic18\", \"Topic18\", \"Topic18\", \"Topic18\", \"Topic18\", \"Topic18\", \"Topic18\", \"Topic18\", \"Topic18\", \"Topic18\", \"Topic18\", \"Topic18\", \"Topic18\", \"Topic18\", \"Topic18\", \"Topic18\", \"Topic18\", \"Topic18\", \"Topic18\", \"Topic18\", \"Topic18\", \"Topic18\", \"Topic18\", \"Topic18\", \"Topic19\", \"Topic19\", \"Topic19\", \"Topic19\", \"Topic19\", \"Topic19\", \"Topic19\", \"Topic19\", \"Topic19\", \"Topic19\", \"Topic19\", \"Topic19\", \"Topic19\", \"Topic19\", \"Topic19\", \"Topic19\", \"Topic19\", \"Topic19\", \"Topic19\", \"Topic19\", \"Topic19\", \"Topic19\", \"Topic19\", \"Topic19\", \"Topic19\", \"Topic19\", \"Topic19\", \"Topic19\", \"Topic19\", \"Topic19\", \"Topic20\", \"Topic20\", \"Topic20\", \"Topic20\", \"Topic20\", \"Topic20\", \"Topic20\", \"Topic20\", \"Topic20\", \"Topic20\", \"Topic20\", \"Topic20\", \"Topic20\", \"Topic20\", \"Topic20\", \"Topic20\", \"Topic20\", \"Topic20\", \"Topic20\", \"Topic20\", \"Topic20\", \"Topic20\", \"Topic20\", \"Topic20\", \"Topic20\", \"Topic20\", \"Topic20\", \"Topic20\", \"Topic20\", \"Topic20\", \"Topic21\", \"Topic21\", \"Topic21\", \"Topic21\", \"Topic21\", \"Topic21\", \"Topic21\", \"Topic21\", \"Topic21\", \"Topic21\", \"Topic21\", \"Topic21\", \"Topic21\", \"Topic21\", \"Topic21\", \"Topic21\", \"Topic21\", \"Topic21\", \"Topic21\", \"Topic21\", \"Topic21\", \"Topic21\", \"Topic21\", \"Topic21\", \"Topic21\", \"Topic21\", \"Topic21\", \"Topic21\", \"Topic21\", \"Topic21\", \"Topic22\", \"Topic22\", \"Topic22\", \"Topic22\", \"Topic22\", \"Topic22\", \"Topic22\", \"Topic22\", \"Topic22\", \"Topic22\", \"Topic22\", \"Topic22\", \"Topic22\", \"Topic22\", \"Topic22\", \"Topic22\", \"Topic22\", \"Topic22\", \"Topic22\", \"Topic22\", \"Topic22\", \"Topic22\", \"Topic22\", \"Topic22\", \"Topic22\", \"Topic22\", \"Topic22\", \"Topic22\", \"Topic22\", \"Topic22\", \"Topic22\", \"Topic23\", \"Topic23\", \"Topic23\", \"Topic23\", \"Topic23\", \"Topic23\", \"Topic23\", \"Topic23\", \"Topic23\", \"Topic23\", \"Topic23\", \"Topic23\", \"Topic23\", \"Topic23\", \"Topic23\", \"Topic23\", \"Topic23\", \"Topic23\", \"Topic23\", \"Topic23\", \"Topic23\", \"Topic23\", \"Topic23\", \"Topic23\", \"Topic23\", \"Topic23\", \"Topic23\", \"Topic23\", \"Topic23\", \"Topic23\", \"Topic23\", \"Topic24\", \"Topic24\", \"Topic24\", \"Topic24\", \"Topic24\", \"Topic24\", \"Topic24\", \"Topic24\", \"Topic24\", \"Topic24\", \"Topic24\", \"Topic24\", \"Topic24\", \"Topic24\", \"Topic24\", \"Topic24\", \"Topic24\", \"Topic24\", \"Topic24\", \"Topic24\", \"Topic24\", \"Topic24\", \"Topic24\", \"Topic24\", \"Topic24\", \"Topic24\", \"Topic24\", \"Topic24\", \"Topic24\", \"Topic24\", \"Topic25\", \"Topic25\", \"Topic25\", \"Topic25\", \"Topic25\", \"Topic25\", \"Topic25\", \"Topic25\", \"Topic25\", \"Topic25\", \"Topic25\", \"Topic25\", \"Topic25\", \"Topic25\", \"Topic25\", \"Topic25\", \"Topic25\", \"Topic25\", \"Topic25\", \"Topic25\", \"Topic25\", \"Topic25\", \"Topic25\", \"Topic25\", \"Topic25\", \"Topic25\", \"Topic25\", \"Topic25\", \"Topic25\", \"Topic25\", \"Topic26\", \"Topic26\", \"Topic26\", \"Topic26\", \"Topic26\", \"Topic26\", \"Topic26\", \"Topic26\", \"Topic26\", \"Topic26\", \"Topic26\", \"Topic26\", \"Topic26\", \"Topic26\", \"Topic26\", \"Topic26\", \"Topic26\", \"Topic26\", \"Topic26\", \"Topic26\", \"Topic26\", \"Topic26\", \"Topic26\", \"Topic26\", \"Topic26\", \"Topic26\", \"Topic26\", \"Topic26\", \"Topic26\", \"Topic26\", \"Topic27\", \"Topic27\", \"Topic27\", \"Topic27\", \"Topic27\", \"Topic27\", \"Topic27\", \"Topic27\", \"Topic27\", \"Topic27\", \"Topic27\", \"Topic27\", \"Topic27\", \"Topic27\", \"Topic27\", \"Topic27\", \"Topic27\", \"Topic27\", \"Topic27\", \"Topic27\", \"Topic27\", \"Topic27\", \"Topic27\", \"Topic27\", \"Topic27\", \"Topic27\", \"Topic27\", \"Topic27\", \"Topic27\", \"Topic27\", \"Topic28\", \"Topic28\", \"Topic28\", \"Topic28\", \"Topic28\", \"Topic28\", \"Topic28\", \"Topic28\", \"Topic28\", \"Topic28\", \"Topic28\", \"Topic28\", \"Topic28\", \"Topic28\", \"Topic28\", \"Topic28\", \"Topic28\", \"Topic28\", \"Topic28\", \"Topic28\", \"Topic28\", \"Topic28\", \"Topic28\", \"Topic28\", \"Topic28\", \"Topic28\", \"Topic28\", \"Topic28\", \"Topic28\", \"Topic28\", \"Topic29\", \"Topic29\", \"Topic29\", \"Topic29\", \"Topic29\", \"Topic29\", \"Topic29\", \"Topic29\", \"Topic29\", \"Topic29\", \"Topic29\", \"Topic29\", \"Topic29\", \"Topic29\", \"Topic29\", \"Topic29\", \"Topic29\", \"Topic29\", \"Topic29\", \"Topic29\", \"Topic29\", \"Topic29\", \"Topic29\", \"Topic29\", \"Topic29\", \"Topic29\", \"Topic29\", \"Topic29\", \"Topic29\", \"Topic29\", \"Topic30\", \"Topic30\", \"Topic30\", \"Topic30\", \"Topic30\", \"Topic30\", \"Topic30\", \"Topic30\", \"Topic30\", \"Topic30\", \"Topic30\", \"Topic30\", \"Topic30\", \"Topic30\", \"Topic30\", \"Topic30\", \"Topic30\", \"Topic30\", \"Topic30\", \"Topic30\", \"Topic30\", \"Topic30\", \"Topic30\", \"Topic30\", \"Topic30\", \"Topic30\", \"Topic30\", \"Topic30\", \"Topic30\", \"Topic30\", \"Topic31\", \"Topic31\", \"Topic31\", \"Topic31\", \"Topic31\", \"Topic31\", \"Topic31\", \"Topic31\", \"Topic31\", \"Topic31\", \"Topic31\", \"Topic31\", \"Topic31\", \"Topic31\", \"Topic31\", \"Topic31\", \"Topic31\", \"Topic31\", \"Topic31\", \"Topic31\", \"Topic31\", \"Topic31\", \"Topic31\", \"Topic31\", \"Topic31\", \"Topic31\", \"Topic31\", \"Topic31\", \"Topic31\", \"Topic31\", \"Topic32\", \"Topic32\", \"Topic32\", \"Topic32\", \"Topic32\", \"Topic32\", \"Topic32\", \"Topic32\", \"Topic32\", \"Topic32\", \"Topic32\", \"Topic32\", \"Topic32\", \"Topic32\", \"Topic32\", \"Topic32\", \"Topic32\", \"Topic32\", \"Topic32\", \"Topic32\", \"Topic32\", \"Topic32\", \"Topic32\", \"Topic32\", \"Topic32\", \"Topic32\", \"Topic32\", \"Topic32\", \"Topic32\", \"Topic32\", \"Topic33\", \"Topic33\", \"Topic33\", \"Topic33\", \"Topic33\", \"Topic33\", \"Topic33\", \"Topic33\", \"Topic33\", \"Topic33\", \"Topic33\", \"Topic33\", \"Topic33\", \"Topic33\", \"Topic33\", \"Topic33\", \"Topic33\", \"Topic33\", \"Topic33\", \"Topic33\", \"Topic33\", \"Topic33\", \"Topic33\", \"Topic33\", \"Topic33\", \"Topic33\", \"Topic33\", \"Topic33\", \"Topic33\", \"Topic33\", \"Topic34\", \"Topic34\", \"Topic34\", \"Topic34\", \"Topic34\", \"Topic34\", \"Topic34\", \"Topic34\", \"Topic34\", \"Topic34\", \"Topic34\", \"Topic34\", \"Topic34\", \"Topic34\", \"Topic34\", \"Topic34\", \"Topic34\", \"Topic34\", \"Topic34\", \"Topic34\", \"Topic34\", \"Topic34\", \"Topic34\", \"Topic34\", \"Topic34\", \"Topic34\", \"Topic34\", \"Topic34\", \"Topic34\", \"Topic34\", \"Topic35\", \"Topic35\", \"Topic35\", \"Topic35\", \"Topic35\", \"Topic35\", \"Topic35\", \"Topic35\", \"Topic35\", \"Topic35\", \"Topic35\", \"Topic35\", \"Topic35\", \"Topic35\", \"Topic35\", \"Topic35\", \"Topic35\", \"Topic35\", \"Topic35\", \"Topic35\", \"Topic35\", \"Topic35\", \"Topic35\", \"Topic35\", \"Topic35\", \"Topic35\", \"Topic35\", \"Topic35\", \"Topic35\", \"Topic35\", \"Topic36\", \"Topic36\", \"Topic36\", \"Topic36\", \"Topic36\", \"Topic36\", \"Topic36\", \"Topic36\", \"Topic36\", \"Topic36\", \"Topic36\", \"Topic36\", \"Topic36\", \"Topic36\", \"Topic36\", \"Topic36\", \"Topic36\", \"Topic36\", \"Topic36\", \"Topic36\", \"Topic36\", \"Topic36\", \"Topic36\", \"Topic36\", \"Topic36\", \"Topic36\", \"Topic36\", \"Topic36\", \"Topic36\", \"Topic36\", \"Topic36\", \"Topic37\", \"Topic37\", \"Topic37\", \"Topic37\", \"Topic37\", \"Topic37\", \"Topic37\", \"Topic37\", \"Topic37\", \"Topic37\", \"Topic37\", \"Topic37\", \"Topic37\", \"Topic37\", \"Topic37\", \"Topic37\", \"Topic37\", \"Topic37\", \"Topic37\", \"Topic37\", \"Topic37\", \"Topic37\", \"Topic37\", \"Topic37\", \"Topic37\", \"Topic37\", \"Topic37\", \"Topic37\", \"Topic37\", \"Topic37\", \"Topic38\", \"Topic38\", \"Topic38\", \"Topic38\", \"Topic38\", \"Topic38\", \"Topic38\", \"Topic38\", \"Topic38\", \"Topic38\", \"Topic38\", \"Topic38\", \"Topic38\", \"Topic38\", \"Topic38\", \"Topic38\", \"Topic38\", \"Topic38\", \"Topic38\", \"Topic38\", \"Topic38\", \"Topic38\", \"Topic38\", \"Topic38\", \"Topic38\", \"Topic38\", \"Topic38\", \"Topic38\", \"Topic38\", \"Topic38\", \"Topic38\", \"Topic39\", \"Topic39\", \"Topic39\", \"Topic39\", \"Topic39\", \"Topic39\", \"Topic39\", \"Topic39\", \"Topic39\", \"Topic39\", \"Topic39\", \"Topic39\", \"Topic39\", \"Topic39\", \"Topic39\", \"Topic39\", \"Topic39\", \"Topic39\", \"Topic39\", \"Topic39\", \"Topic39\", \"Topic39\", \"Topic39\", \"Topic39\", \"Topic39\", \"Topic39\", \"Topic39\", \"Topic39\", \"Topic39\", \"Topic39\", \"Topic40\", \"Topic40\", \"Topic40\", \"Topic40\", \"Topic40\", \"Topic40\", \"Topic40\", \"Topic40\", \"Topic40\", \"Topic40\", \"Topic40\", \"Topic40\", \"Topic40\", \"Topic40\", \"Topic40\", \"Topic40\", \"Topic40\", \"Topic40\", \"Topic40\", \"Topic40\", \"Topic40\", \"Topic40\", \"Topic40\", \"Topic40\", \"Topic40\", \"Topic40\", \"Topic40\", \"Topic40\", \"Topic40\", \"Topic40\", \"Topic40\"], \"Freq\": [19243.0, 16885.0, 6764.0, 5470.0, 3785.0, 3300.0, 2057.0, 1770.0, 1606.0, 1454.0, 2846.0, 1433.0, 1418.0, 1476.0, 1359.0, 1254.0, 1232.0, 1207.0, 1201.0, 1518.0, 1137.0, 1382.0, 1007.0, 1066.0, 1036.0, 1005.0, 1144.0, 913.0, 1007.0, 1292.0, 19241.986328125, 16884.513671875, 2844.839111328125, 936.9696655273438, 129.1150665283203, 101.4290771484375, 100.90335845947266, 77.29467010498047, 64.33273315429688, 60.42680740356445, 46.02471923828125, 45.89252853393555, 45.357826232910156, 42.352874755859375, 35.75874710083008, 34.01911163330078, 33.127410888671875, 31.25636863708496, 30.367279052734375, 30.177783966064453, 30.079713821411133, 29.349262237548828, 29.01309585571289, 26.313339233398438, 25.326461791992188, 24.89832305908203, 24.12755584716797, 23.72321128845215, 20.97220230102539, 20.415138244628906, 739.1237182617188, 307.6344299316406, 24.138402938842773, 1290.9083251953125, 812.100830078125, 753.9090576171875, 692.0546264648438, 505.83294677734375, 429.0772705078125, 362.511474609375, 349.29693603515625, 329.8550720214844, 325.5240478515625, 313.31878662109375, 294.5069274902344, 262.8656311035156, 255.05029296875, 239.58714294433594, 239.0691680908203, 220.43411254882812, 215.75953674316406, 207.09007263183594, 200.4418487548828, 192.5306396484375, 182.3557586669922, 180.47744750976562, 169.49127197265625, 164.8839874267578, 160.54164123535156, 157.37548828125, 155.1228485107422, 147.05130004882812, 142.7799072265625, 6455.38037109375, 1517.0137939453125, 1381.04345703125, 995.431884765625, 502.705078125, 306.2522277832031, 290.3520812988281, 277.30523681640625, 249.0877685546875, 236.6914825439453, 212.38311767578125, 208.2512664794922, 194.84280395507812, 185.44757080078125, 164.30760192871094, 161.52345275878906, 148.1311798095703, 142.94442749023438, 142.87782287597656, 138.65924072265625, 138.24258422851562, 131.1723175048828, 129.27053833007812, 117.19815063476562, 112.3519515991211, 105.8104019165039, 90.1236572265625, 85.67403411865234, 82.30301666259766, 81.06568908691406, 80.21672821044922, 4713.88671875, 842.387939453125, 696.7522583007812, 623.7172241210938, 399.41778564453125, 398.4742431640625, 383.2198181152344, 330.6116943359375, 292.7030029296875, 270.8463134765625, 257.6966857910156, 203.14195251464844, 174.52481079101562, 158.68177795410156, 150.4480743408203, 145.7227325439453, 138.58009338378906, 121.30623626708984, 118.54674530029297, 109.6407241821289, 107.80841827392578, 105.10519409179688, 99.12255096435547, 99.04486083984375, 96.84960174560547, 96.55770874023438, 93.45588684082031, 92.47624969482422, 92.27550506591797, 87.72940063476562, 82.32447814941406, 82.37615966796875, 3299.7841796875, 1474.8236083984375, 698.9397583007812, 369.9638366699219, 298.13018798828125, 295.0070495605469, 289.3968200683594, 272.8071594238281, 248.7306365966797, 236.9708251953125, 175.0443572998047, 161.16151428222656, 155.2252960205078, 152.97694396972656, 149.7649688720703, 146.18914794921875, 124.17254638671875, 118.77519989013672, 118.73157501220703, 117.3239517211914, 113.42479705810547, 104.2694320678711, 81.97689056396484, 75.33014678955078, 66.95745849609375, 64.95462799072266, 63.17205810546875, 51.646812438964844, 51.63288879394531, 48.44471740722656, 3784.131103515625, 1143.227783203125, 676.7499389648438, 290.9613037109375, 278.9677429199219, 258.8008728027344, 243.25961303710938, 189.51243591308594, 173.67942810058594, 136.2089385986328, 135.64849853515625, 121.38613891601562, 117.8210220336914, 104.2483901977539, 100.82791137695312, 93.3609619140625, 72.28748321533203, 70.39545440673828, 69.76688385009766, 68.66870880126953, 67.08132934570312, 62.36070251464844, 59.93655014038086, 55.52698516845703, 53.79451370239258, 53.606136322021484, 51.735774993896484, 51.2387580871582, 47.50548553466797, 47.348304748535156, 1006.7432250976562, 452.550048828125, 426.477783203125, 368.0078125, 348.37677001953125, 335.02880859375, 292.1147155761719, 214.61328125, 182.61590576171875, 177.51504516601562, 175.39881896972656, 164.94320678710938, 160.13771057128906, 150.91233825683594, 150.86671447753906, 133.70025634765625, 125.8350830078125, 126.69961547851562, 106.15557098388672, 96.84173583984375, 95.9779052734375, 95.72216033935547, 92.7608871459961, 84.1566162109375, 76.2510986328125, 75.12635803222656, 72.90278625488281, 66.35250854492188, 65.7868423461914, 64.43302917480469, 115.94866943359375, 953.5838012695312, 771.2251586914062, 756.8951416015625, 752.8755493164062, 640.823486328125, 389.6384582519531, 307.9452209472656, 253.9596405029297, 203.15843200683594, 200.84893798828125, 189.1963348388672, 176.83692932128906, 175.73643493652344, 123.38237762451172, 119.48285675048828, 110.86581420898438, 103.2705307006836, 80.16145324707031, 77.98934173583984, 73.36256408691406, 69.23670959472656, 64.32085418701172, 61.55097198486328, 55.706180572509766, 49.86933898925781, 48.23666763305664, 46.449337005615234, 46.01331329345703, 44.0344352722168, 43.812255859375, 838.5880737304688, 748.7346801757812, 593.4962768554688, 531.5986328125, 458.9387512207031, 366.60150146484375, 345.38433837890625, 256.16015625, 241.48556518554688, 198.02450561523438, 195.66818237304688, 184.25619506835938, 161.4514617919922, 156.73477172851562, 143.73391723632812, 140.8759002685547, 131.60800170898438, 130.3346710205078, 116.94110107421875, 101.49027252197266, 98.5184097290039, 87.37187194824219, 84.97576904296875, 62.95502471923828, 60.32649612426758, 58.01186752319336, 55.15809631347656, 50.921688079833984, 49.10954284667969, 48.24105453491211, 2056.602294921875, 812.9411010742188, 733.8953857421875, 474.3330078125, 388.25128173828125, 230.783203125, 221.79627990722656, 198.18350219726562, 163.8462371826172, 143.62380981445312, 135.82469177246094, 122.94203186035156, 119.10574340820312, 116.98577117919922, 108.25916290283203, 106.69708251953125, 103.0143814086914, 87.47279357910156, 74.96599578857422, 73.34877014160156, 62.3320198059082, 59.259765625, 59.533809661865234, 57.41728210449219, 57.052268981933594, 56.4878044128418, 54.863277435302734, 51.8438835144043, 45.73460006713867, 41.71435546875, 1358.4437255859375, 702.0078735351562, 639.3919067382812, 383.1366882324219, 380.84906005859375, 375.6654968261719, 369.5086669921875, 325.47747802734375, 247.42922973632812, 189.99737548828125, 184.06259155273438, 163.42852783203125, 148.20120239257812, 127.91301727294922, 121.8866958618164, 117.24121856689453, 96.65020751953125, 95.66278076171875, 67.68930053710938, 63.767696380615234, 61.667240142822266, 60.664676666259766, 61.84115982055664, 58.494686126708984, 55.20439147949219, 53.880462646484375, 52.850982666015625, 52.636837005615234, 50.50928497314453, 50.08934783935547, 1769.3564453125, 1605.2530517578125, 379.41448974609375, 215.29501342773438, 200.57366943359375, 186.7914581298828, 172.00364685058594, 155.59225463867188, 151.2122344970703, 145.3929443359375, 144.84205627441406, 126.8544692993164, 125.38845825195312, 91.89032745361328, 65.75768280029297, 64.39022064208984, 63.30101776123047, 63.13335037231445, 60.05218505859375, 59.26866149902344, 57.188514709472656, 45.95998001098633, 45.10453414916992, 43.967254638671875, 40.07133102416992, 39.37470626831055, 38.91154861450195, 38.06214141845703, 38.05417251586914, 36.55226135253906, 1432.46240234375, 557.0831298828125, 389.7798767089844, 381.4374084472656, 272.287109375, 221.46925354003906, 220.91555786132812, 212.18685913085938, 192.23292541503906, 164.20880126953125, 133.7001495361328, 132.08822631835938, 114.50460815429688, 109.59228515625, 105.80242156982422, 97.5333480834961, 91.833251953125, 88.65132904052734, 84.9415512084961, 79.9306869506836, 72.59578704833984, 71.14354705810547, 68.76261901855469, 68.31694793701172, 67.2933349609375, 63.83418655395508, 63.84077453613281, 61.254329681396484, 56.171897888183594, 48.03211975097656, 838.0228271484375, 571.697509765625, 550.1713256835938, 408.6925354003906, 307.3832702636719, 288.7262878417969, 284.15283203125, 280.97552490234375, 216.80018615722656, 211.2215118408203, 198.1403045654297, 170.93820190429688, 154.93780517578125, 149.09841918945312, 144.09469604492188, 137.09800720214844, 128.22190856933594, 115.07627868652344, 106.04103088378906, 79.5606689453125, 78.0626449584961, 70.54714965820312, 69.14681243896484, 63.59870910644531, 59.79954147338867, 46.708316802978516, 45.89860534667969, 45.21714782714844, 44.31035614013672, 43.326087951660156, 1200.6478271484375, 614.5477905273438, 479.6898498535156, 456.7303771972656, 279.5099182128906, 256.2224426269531, 239.4709014892578, 219.30722045898438, 188.198486328125, 166.2838592529297, 156.5867156982422, 143.80087280273438, 128.5235137939453, 120.39507293701172, 109.49951171875, 96.69985961914062, 95.73262023925781, 93.21768951416016, 92.8343276977539, 81.72847747802734, 79.72795104980469, 73.8270263671875, 65.88977813720703, 64.54328918457031, 62.08917999267578, 61.566551208496094, 61.4243278503418, 60.61690139770508, 51.87534713745117, 45.737667083740234, 1136.14208984375, 655.5106811523438, 350.03118896484375, 265.8876037597656, 232.3091278076172, 210.34765625, 194.4718475341797, 187.7942352294922, 172.6020965576172, 168.93930053710938, 154.03720092773438, 151.20411682128906, 143.63125610351562, 139.9994659423828, 135.59178161621094, 133.25070190429688, 127.70248413085938, 104.80350494384766, 103.13911437988281, 95.29476165771484, 82.84073638916016, 79.04385375976562, 75.03329467773438, 73.59028625488281, 70.81159210205078, 67.75360870361328, 67.23607635498047, 64.98413848876953, 64.3297119140625, 61.09028244018555, 1417.6143798828125, 1064.5902099609375, 693.7531127929688, 213.6035919189453, 186.741943359375, 172.45750427246094, 171.93832397460938, 153.7564697265625, 153.0494384765625, 143.07662963867188, 123.81825256347656, 104.8438491821289, 103.93344116210938, 103.94210815429688, 91.6666488647461, 91.06507110595703, 82.52920532226562, 78.8220443725586, 75.8808822631836, 75.11640930175781, 71.66085052490234, 68.09452056884766, 66.24678802490234, 66.1433334350586, 57.23554992675781, 52.9056510925293, 49.869102478027344, 47.53242492675781, 43.37815856933594, 42.83830642700195, 57.48033142089844, 1035.59619140625, 504.44195556640625, 485.0137634277344, 466.89984130859375, 223.05027770996094, 197.9943389892578, 196.53912353515625, 187.5054931640625, 181.012939453125, 145.4205780029297, 117.45630645751953, 107.00358581542969, 106.13017272949219, 101.30802917480469, 98.3243179321289, 98.1953125, 89.88407897949219, 76.05824279785156, 69.40850067138672, 68.53626251220703, 67.04789733886719, 64.16889953613281, 61.025978088378906, 58.43174362182617, 57.926795959472656, 57.0574836730957, 56.23249435424805, 55.64120101928711, 51.98612976074219, 51.70314025878906, 810.5765380859375, 663.5580444335938, 343.6341247558594, 303.04296875, 268.34588623046875, 254.47984313964844, 206.04063415527344, 192.97705078125, 190.6790313720703, 181.82469177246094, 174.59751892089844, 126.96929931640625, 109.76129913330078, 108.92498779296875, 107.38978576660156, 93.37511444091797, 88.8467025756836, 79.60002136230469, 74.3074722290039, 70.50239562988281, 63.8834114074707, 56.342350006103516, 52.764808654785156, 52.58402633666992, 50.17734909057617, 49.84440994262695, 49.38292694091797, 48.80730438232422, 44.12491226196289, 41.46748352050781, 650.9180297851562, 526.4384155273438, 360.53070068359375, 336.8044128417969, 266.7491149902344, 224.80873107910156, 174.8320770263672, 167.12005615234375, 151.5701446533203, 131.63487243652344, 127.39501953125, 117.1703109741211, 117.04830932617188, 111.72527313232422, 103.18594360351562, 102.58160400390625, 95.30892181396484, 86.56920623779297, 85.81055450439453, 75.91060638427734, 76.62699127197266, 68.27362823486328, 64.35002899169922, 63.68239974975586, 59.74820327758789, 59.42210388183594, 59.09759521484375, 58.807621002197266, 58.238468170166016, 57.52406311035156, 419.0345458984375, 395.9263916015625, 332.8499755859375, 304.75732421875, 295.0347900390625, 235.4099884033203, 230.6538543701172, 205.2039337158203, 165.81275939941406, 124.4232406616211, 119.97283935546875, 115.92749786376953, 115.76451873779297, 115.71134185791016, 113.51483154296875, 109.18984985351562, 106.90531158447266, 103.55338287353516, 96.44588470458984, 93.80326843261719, 87.993408203125, 87.7719955444336, 81.77873229980469, 78.19072723388672, 69.21934509277344, 69.15972137451172, 67.1014175415039, 65.65019989013672, 59.9586067199707, 50.42023849487305, 768.1414794921875, 752.2301025390625, 552.8657836914062, 430.8120422363281, 217.14146423339844, 195.63226318359375, 188.38900756835938, 178.33799743652344, 127.46598052978516, 113.00516510009766, 110.12100982666016, 109.76773071289062, 109.31673431396484, 97.70479583740234, 97.64619445800781, 89.37773895263672, 89.11293029785156, 77.10140228271484, 72.42784118652344, 66.79998016357422, 62.826297760009766, 59.93142318725586, 59.10968017578125, 56.89331817626953, 55.83770751953125, 54.990543365478516, 53.94864273071289, 49.54674530029297, 49.36139678955078, 49.00185775756836, 61.209720611572266, 1004.2689208984375, 741.015625, 502.1622314453125, 404.6246337890625, 336.32012939453125, 228.63052368164062, 221.90512084960938, 189.03065490722656, 181.67050170898438, 151.51744079589844, 116.03014373779297, 103.92857360839844, 96.75543975830078, 93.42520904541016, 83.27655029296875, 78.9348373413086, 75.29119873046875, 72.14778900146484, 69.7942886352539, 60.819271087646484, 55.02539825439453, 54.486854553222656, 51.26401901245117, 50.853633880615234, 50.569244384765625, 50.21088790893555, 44.033119201660156, 39.96039962768555, 39.5192985534668, 39.330238342285156, 113.81855010986328, 1231.4903564453125, 597.879150390625, 429.3531799316406, 411.7125244140625, 373.00250244140625, 234.87350463867188, 226.7718963623047, 206.6964111328125, 199.77635192871094, 178.11874389648438, 168.32717895507812, 166.2192840576172, 120.8317642211914, 112.11666107177734, 103.86451721191406, 102.41525268554688, 91.14070129394531, 76.94477844238281, 46.720611572265625, 44.43705749511719, 35.65057373046875, 34.23381805419922, 33.42111587524414, 30.606531143188477, 30.57583999633789, 30.336326599121094, 29.614423751831055, 28.733844757080078, 26.625919342041016, 26.52662467956543, 1206.37109375, 447.473876953125, 338.3756408691406, 331.1332702636719, 169.7481689453125, 158.96556091308594, 146.4737548828125, 145.91839599609375, 140.9974822998047, 138.96295166015625, 119.54650115966797, 111.28763580322266, 106.99703979492188, 101.10104370117188, 93.6399917602539, 92.56122589111328, 92.55362701416016, 92.1843490600586, 87.6904296875, 86.90357971191406, 77.40689086914062, 60.12671661376953, 53.838294982910156, 53.496280670166016, 53.346214294433594, 52.251548767089844, 46.70326232910156, 46.39380645751953, 45.773521423339844, 44.65847396850586, 1253.415283203125, 607.1266479492188, 418.43231201171875, 364.1708984375, 213.6630401611328, 153.37411499023438, 152.33828735351562, 149.65719604492188, 128.10671997070312, 121.64794921875, 108.05815124511719, 100.90850067138672, 88.62146759033203, 86.17655181884766, 83.60791778564453, 81.84258270263672, 71.0283203125, 66.83384704589844, 55.83108139038086, 55.20176696777344, 51.5572624206543, 47.02466583251953, 44.808650970458984, 42.67473220825195, 40.99887466430664, 36.0277214050293, 35.99622344970703, 35.72794723510742, 38.80498123168945, 33.798831939697266, 391.59344482421875, 293.5777587890625, 275.3954162597656, 241.3732147216797, 237.30368041992188, 210.7968292236328, 196.42137145996094, 190.9280548095703, 188.2830047607422, 182.40142822265625, 175.03086853027344, 173.93911743164062, 167.14453125, 165.9370880126953, 162.9312286376953, 128.69027709960938, 126.6669921875, 119.1134262084961, 119.07833862304688, 116.98648071289062, 104.98431396484375, 85.90023040771484, 82.16014862060547, 81.83063507080078, 67.52147674560547, 63.60826110839844, 53.83404541015625, 50.54910659790039, 50.49695587158203, 50.332157135009766, 666.3989868164062, 398.2144470214844, 368.35284423828125, 340.7901611328125, 289.6746520996094, 242.07147216796875, 231.2552032470703, 150.65396118164062, 149.25254821777344, 142.39341735839844, 137.7708740234375, 121.4342041015625, 107.34851837158203, 83.83859252929688, 81.89791870117188, 79.17777252197266, 75.56270599365234, 73.19087982177734, 64.64534759521484, 63.16724395751953, 59.21717834472656, 58.590694427490234, 57.2910041809082, 53.80472946166992, 52.812496185302734, 51.07862091064453, 48.86935806274414, 46.78934097290039, 50.82407760620117, 44.467987060546875, 1452.8743896484375, 287.1810302734375, 275.6086120605469, 231.03054809570312, 219.39283752441406, 197.4586944580078, 193.59112548828125, 188.66514587402344, 170.543212890625, 157.06802368164062, 145.830810546875, 127.41445922851562, 101.02366638183594, 88.32720184326172, 74.3660888671875, 57.87621307373047, 53.58994674682617, 51.113006591796875, 47.82211685180664, 46.91762161254883, 46.695068359375, 41.67394256591797, 39.306793212890625, 38.795475006103516, 36.69989013671875, 36.41133117675781, 35.06806945800781, 34.74531936645508, 33.33929443359375, 32.78238296508789, 912.4266357421875, 389.8236083984375, 350.6922607421875, 275.1468811035156, 268.7762756347656, 245.3727569580078, 151.41659545898438, 135.8450164794922, 122.7140884399414, 104.6596908569336, 99.05360412597656, 96.63134002685547, 93.98246002197266, 93.802490234375, 91.70066833496094, 90.42076873779297, 86.32028198242188, 90.67733001708984, 73.1732177734375, 73.03105926513672, 72.2392349243164, 71.00826263427734, 59.01004409790039, 55.70041275024414, 53.32332992553711, 53.26290512084961, 51.90522766113281, 50.89784240722656, 47.63673400878906, 45.22196578979492, 392.6421813964844, 383.7006530761719, 287.4753723144531, 256.64312744140625, 198.2040252685547, 172.39662170410156, 153.0209503173828, 150.92686462402344, 146.8986358642578, 138.79579162597656, 135.36708068847656, 134.2996063232422, 131.70404052734375, 121.44584655761719, 111.9864501953125, 99.24851989746094, 91.44940185546875, 90.7353744506836, 88.2857437133789, 86.3467025756836, 83.95484161376953, 82.78862762451172, 78.01004791259766, 76.20845794677734, 69.14752197265625, 68.89655303955078, 67.1966323852539, 65.5908203125, 58.82933807373047, 55.21815490722656, 1006.754638671875, 450.4451904296875, 369.47906494140625, 211.41400146484375, 202.31202697753906, 160.4281005859375, 160.1224365234375, 135.94024658203125, 122.05530548095703, 115.49433135986328, 111.4834213256836, 109.2375259399414, 109.25375366210938, 105.9098892211914, 95.37974548339844, 90.83997344970703, 87.51776885986328, 82.41544342041016, 75.8787612915039, 72.94549560546875, 70.36341094970703, 66.1400146484375, 65.09503936767578, 64.89686584472656, 59.591548919677734, 58.923702239990234, 57.185302734375, 52.4844970703125, 46.34156036376953, 46.24593734741211, 330.3968811035156, 288.6690368652344, 268.2580871582031, 230.08187866210938, 194.32049560546875, 169.1482391357422, 146.67868041992188, 144.7690887451172, 120.64292907714844, 117.10983276367188, 113.79151153564453, 111.89872741699219, 104.37915802001953, 95.92613220214844, 94.64591217041016, 93.61388397216797, 91.82574462890625, 83.91912078857422, 83.18048858642578, 79.7054214477539, 79.35623168945312, 79.32597351074219, 67.81685638427734, 64.56877136230469, 64.00532531738281, 57.01619338989258, 55.70253372192383, 52.819976806640625, 49.63291549682617, 48.37689971923828, 775.7127075195312, 385.27203369140625, 201.9508819580078, 201.7928009033203, 196.15675354003906, 186.99778747558594, 186.8668975830078, 180.46690368652344, 146.1500701904297, 144.17730712890625, 138.52996826171875, 134.4964599609375, 105.1905746459961, 97.22347259521484, 96.05033874511719, 87.60659790039062, 70.68116760253906, 68.77810668945312, 66.39306640625, 65.56330871582031, 64.81859588623047, 63.723934173583984, 60.12165451049805, 53.212074279785156, 52.19069290161133, 51.10332107543945, 48.93645095825195, 46.17302703857422, 42.27753448486328, 44.718318939208984, 791.8492431640625, 274.0546569824219, 246.3769073486328, 232.72898864746094, 190.77882385253906, 178.34922790527344, 175.74208068847656, 159.2987518310547, 138.9016571044922, 122.34728240966797, 122.16311645507812, 106.94734191894531, 95.9000244140625, 87.55156707763672, 88.16415405273438, 81.19071960449219, 80.62257385253906, 79.7200698852539, 73.90341186523438, 73.14655303955078, 71.12107849121094, 66.94393157958984, 63.87124252319336, 58.89993667602539, 55.74147415161133, 55.641414642333984, 54.309837341308594, 51.466819763183594, 45.695838928222656, 44.394012451171875, 385.9951171875, 225.8861541748047, 207.41842651367188, 196.13546752929688, 164.22683715820312, 155.6031036376953, 163.6968231201172, 152.12770080566406, 137.49563598632812, 118.14720153808594, 117.59181213378906, 117.83592224121094, 109.12728118896484, 76.5273666381836, 70.81605529785156, 70.12371063232422, 68.68400573730469, 67.96001434326172, 67.61196899414062, 66.37291717529297, 64.65516662597656, 62.5168571472168, 62.36478805541992, 88.58699798583984, 56.99747085571289, 56.37126922607422, 52.16885757446289, 49.278411865234375, 49.093360900878906, 48.032657623291016, 80.19965362548828, 626.2100830078125, 538.4058227539062, 245.43177795410156, 239.2052764892578, 196.93728637695312, 176.76710510253906, 111.11331176757812, 105.84539031982422, 100.35273742675781, 98.41451263427734, 97.00489807128906, 92.5707015991211, 88.83414459228516, 87.10476684570312, 82.7544937133789, 82.33309936523438, 77.01415252685547, 74.781005859375, 74.72067260742188, 75.11029815673828, 70.77655029296875, 65.17731475830078, 61.31263732910156, 57.37960433959961, 48.64514923095703, 48.13331604003906, 48.08958053588867, 47.07754898071289, 46.217071533203125, 44.868194580078125, 352.1551513671875, 280.5453186035156, 205.29042053222656, 198.41578674316406, 189.339599609375, 183.39266967773438, 148.3661346435547, 121.62905883789062, 106.36207580566406, 96.41571807861328, 87.28288269042969, 86.41095733642578, 85.47183227539062, 84.58147430419922, 79.50784301757812, 67.40330505371094, 64.20269012451172, 64.3154296875, 62.71195983886719, 58.61433029174805, 55.37380599975586, 53.57279586791992, 51.75343704223633, 50.11865997314453, 48.934669494628906, 43.629764556884766, 42.45006561279297, 41.49380874633789, 40.78342819213867, 40.38417434692383, 52.241912841796875, 286.8544921875, 196.88648986816406, 154.19888305664062, 136.58413696289062, 136.16050720214844, 132.4888458251953, 120.72626495361328, 119.94140625, 103.37146759033203, 96.29657745361328, 91.074462890625, 86.39714050292969, 81.85808563232422, 72.34834289550781, 71.51587677001953, 70.65782165527344, 66.61790466308594, 65.75655364990234, 60.33706283569336, 58.05275344848633, 94.37246704101562, 56.57780838012695, 53.88154983520508, 51.02922439575195, 48.244537353515625, 48.08000183105469, 44.696773529052734, 44.40415573120117, 44.00693130493164, 43.53937530517578, 527.2201538085938, 392.7904357910156, 168.6803741455078, 149.7025604248047, 122.07479095458984, 114.93461608886719, 108.87834167480469, 99.56551361083984, 96.978271484375, 75.70698547363281, 70.25350189208984, 63.907936096191406, 57.14410400390625, 52.57432174682617, 51.85400390625, 46.55271911621094, 46.703399658203125, 45.4190673828125, 44.90694808959961, 44.62063217163086, 44.289493560791016, 47.42515182495117, 41.34498977661133, 40.57978439331055, 39.52787780761719, 41.28538131713867, 38.07759094238281, 38.00059127807617, 35.471370697021484, 35.39329528808594, 49.34645080566406], \"Term\": [\"gruen\", \"link\", \"sozialdemokrat\", \"christsozial\", \"deutsch\", \"polit\", \"merkel\", \"einfach\", \"leut\", \"aufsteh\", \"freidemokrat\", \"beweg\", \"geld\", \"leid\", \"waehl\", \"letzt\", \"halt\", \"eher\", \"recht\", \"seehof\", \"gern\", \"soed\", \"neu\", \"fluechtling\", \"sozial\", \"jung\", \"alt\", \"sogar\", \"kind\", \"verantwort\", \"gruen\", \"link\", \"freidemokrat\", \"christdemokrat\", \"koalition\", \"monat\", \"mittlerweil\", \"gart\", \"bod\", \"doofkoepp\", \"spektrum\", \"einstell\", \"grau\", \"neoliberalismus\", \"leer\", \"kolleg\", \"kris\", \"find\", \"irrweg\", \"ministerpraesident\", \"reg\", \"heutzutag\", \"einwohn\", \"muenchn\", \"absurd\", \"linksliberal\", \"nee\", \"scheu\", \"erwaehn\", \"erfind\", \"christsozial\", \"sozialdemokrat\", \"schulhoef\", \"verantwort\", \"waer\", \"oktob\", \"sprach\", \"somit\", \"voran\", \"gaest\", \"gold\", \"sozialsyst\", \"beruf\", \"fassad\", \"glaubwuerd\", \"party\", \"toet\", \"planet\", \"held\", \"rechtspopulismus\", \"sanktion\", \"gefuehrt\", \"abgelehnt\", \"seeheim\", \"duemmlich\", \"scholz\", \"buergerinn\", \"asylbewerb\", \"haesslich\", \"heuchler\", \"syrisch\", \"gesicht\", \"koalitionspartn\", \"sozialdemokrat\", \"seehof\", \"soed\", \"lindn\", \"seebrueck\", \"reich\", \"miet\", \"forder\", \"minut\", \"nationalist\", \"billig\", \"nahl\", \"nam\", \"fehlend\", \"konzept\", \"verfassungsschutz\", \"abgeordnet\", \"hofreit\", \"irgendwo\", \"sozialleist\", \"drauf\", \"internet\", \"zahlreich\", \"faell\", \"dayorang\", \"insof\", \"befuerwort\", \"wuest\", \"reichsbuerg\", \"identita\", \"verbiet\", \"christsozial\", \"klimakris\", \"bitt\", \"asyl\", \"selb\", \"bess\", \"schul\", \"unterstuetz\", \"klimafluechtling\", \"hoh\", \"initiativ\", \"radikal\", \"genau\", \"argument\", \"immerhin\", \"fall\", \"tausend\", \"aktivist\", \"rund\", \"waeld\", \"freiwill\", \"knapp\", \"feld\", \"ruhestand\", \"spruech\", \"hoech\", \"geschloss\", \"infrastruktur\", \"positiv\", \"beginn\", \"well\", \"agrarw\", \"polit\", \"leid\", \"einzig\", \"heutig\", \"normal\", \"teil\", \"anson\", \"thema\", \"freien\", \"national\", \"veranstalt\", \"sinnvoll\", \"solidaritaet\", \"digital\", \"privat\", \"frueh\", \"reih\", \"uebrig\", \"ehrlich\", \"verbot\", \"meng\", \"kostenlos\", \"atlantikbrueck\", \"ungefaehr\", \"griff\", \"rechtsruck\", \"menschengemacht\", \"scharf\", \"kapital\", \"autonom\", \"deutsch\", \"alt\", \"ideologi\", \"weiterhin\", \"platz\", \"gesamt\", \"umweltschutz\", \"text\", \"hoer\", \"rent\", \"gegn\", \"steu\", \"mind\", \"zusammenhang\", \"ablehn\", \"video\", \"haert\", \"redaktion\", \"jetzig\", \"anlieg\", \"mittl\", \"aelt\", \"wachsend\", \"psychisch\", \"meinungsfrei\", \"bock\", \"sach\", \"gebot\", \"kanzl\", \"voelk\", \"kind\", \"absolut\", \"energiew\", \"gewiss\", \"kommunist\", \"haar\", \"ideolog\", \"sozialismus\", \"bien\", \"zuletzt\", \"hass\", \"okay\", \"mehrheit\", \"voll\", \"merkelmussweg\", \"gras\", \"unbeliebt\", \"solidar\", \"gehirnwaesch\", \"gefaehrd\", \"zwangsdien\", \"bescheid\", \"anteil\", \"neutral\", \"stellvertret\", \"vergang\", \"qualifiziert\", \"traditionell\", \"volksvertret\", \"read\", \"pfann\", \"nazis\", \"zukunft\", \"konservativ\", \"twitt\", \"artikel\", \"oeffent\", \"unsinn\", \"land\", \"wien\", \"bunt\", \"moecht\", \"betroff\", \"tag\", \"miteinand\", \"offiziell\", \"guell\", \"reis\", \"friedlich\", \"mutig\", \"rechtsstaat\", \"kuenftig\", \"flagg\", \"raeum\", \"aussenminist\", \"richtung\", \"selt\", \"juerg\", \"beleid\", \"schaed\", \"elit\", \"fast\", \"aug\", \"gleich\", \"rassist\", \"rassismus\", \"ehemal\", \"solang\", \"gesellschaft\", \"unterweg\", \"gewalt\", \"alleinerzieh\", \"geistig\", \"global\", \"tatsach\", \"meinung\", \"gesund\", \"verein\", \"dick\", \"kommentar\", \"prominent\", \"polizist\", \"staat\", \"urteil\", \"aemt\", \"schuelerinn\", \"bluehend\", \"gericht\", \"gebiet\", \"tempo\", \"untereinand\", \"merkel\", \"antideutsch\", \"migrant\", \"woch\", \"wett\", \"roll\", \"fried\", \"klein\", \"staatlich\", \"volk\", \"hoell\", \"hetz\", \"umfragewert\", \"brem\", \"kenn\", \"gegensatz\", \"wund\", \"rett\", \"kohl\", \"troll\", \"antiamerikan\", \"systemfinanziert\", \"hiroshima\", \"ergo\", \"schaf\", \"nahezu\", \"ansamml\", \"erwart\", \"atlant\", \"aktionismus\", \"waehl\", \"debatt\", \"echt\", \"mitglied\", \"koennt\", \"spoe\", \"bayer\", \"niemal\", \"wehrpflicht\", \"abschaff\", \"vernunft\", \"vermeint\", \"fenst\", \"desto\", \"gruess\", \"zweifel\", \"kopp\", \"waend\", \"blond\", \"stehend\", \"hollaend\", \"belang\", \"entwicklungsminist\", \"differenziert\", \"umstaend\", \"aender\", \"blend\", \"wochen\", \"zwangsweis\", \"wesent\", \"einfach\", \"leut\", \"stark\", \"steuerzahl\", \"vertret\", \"wuensch\", \"schand\", \"interview\", \"kommend\", \"szen\", \"typisch\", \"bezug\", \"aufbruch\", \"dreckig\", \"futt\", \"bundeseb\", \"deutlich\", \"saechsisch\", \"staendig\", \"regressiv\", \"grundsaetz\", \"konflikt\", \"erkla\", \"verfahr\", \"duerft\", \"holstein\", \"verhaeltnis\", \"wehrdien\", \"heit\", \"fluchtursach\", \"beweg\", \"angst\", \"wass\", \"derzeit\", \"rechtsextrem\", \"wahr\", \"wid\", \"oekolog\", \"international\", \"jud\", \"lehr\", \"lust\", \"linksextrem\", \"gend\", \"intelligenz\", \"wirksam\", \"nacht\", \"moral\", \"journalist\", \"wend\", \"hos\", \"nimm\", \"laech\", \"klatsch\", \"lesenswert\", \"herausforder\", \"aeng\", \"ding\", \"unternehm\", \"gruppier\", \"lieb\", \"weiss\", \"schwarz\", \"falsch\", \"position\", \"anhaeng\", \"faschist\", \"allein\", \"freund\", \"abschieb\", \"jedenfall\", \"erstmal\", \"tasch\", \"mitarbeit\", \"konzern\", \"histor\", \"ermoeg\", \"weg\", \"glaub\", \"fluchtgruend\", \"itali\", \"panik\", \"jahrhundert\", \"karri\", \"kaem\", \"mau\", \"extra\", \"teilhab\", \"lauf\", \"klimakill\", \"recht\", \"wichtig\", \"liberal\", \"muesst\", \"kurz\", \"minist\", \"syst\", \"list\", \"angriff\", \"spinn\", \"schlimm\", \"schwaech\", \"sonstig\", \"islamist\", \"berichterstatt\", \"moeglicherweis\", \"ledig\", \"hinterh\", \"investition\", \"urban\", \"progressiv\", \"verkehrsminist\", \"uebernehm\", \"kapitalist\", \"zumal\", \"intelligent\", \"leistung\", \"empfehl\", \"kulturkampf\", \"bubbl\", \"gern\", \"egal\", \"staerk\", \"zitat\", \"grenz\", \"feind\", \"krieg\", \"bundesregier\", \"nachhalt\", \"staedt\", \"kultur\", \"netz\", \"euro\", \"gegendemonstrant\", \"massiv\", \"einsatz\", \"fraktionsvorsitz\", \"schwach\", \"bayrisch\", \"kommun\", \"umweltpolit\", \"gemeind\", \"saub\", \"wuesst\", \"moerd\", \"entscheid\", \"zuvor\", \"baeck\", \"asylant\", \"unbedingt\", \"geld\", \"fluechtling\", \"problem\", \"modern\", \"jahrzehnt\", \"zeich\", \"altpartei\", \"muen\", \"ohnehin\", \"einst\", \"spani\", \"verlust\", \"jahr\", \"rechtlich\", \"himmel\", \"beck\", \"linksextremist\", \"unnoet\", \"bedroh\", \"schuld\", \"vision\", \"unzaehl\", \"vielmehr\", \"ueberwind\", \"abseit\", \"vereinigt\", \"dringend\", \"nachfrag\", \"rechtspopulist\", \"auseinand\", \"mahnwach\", \"sozial\", \"sofort\", \"gruend\", \"nochmal\", \"katastroph\", \"quell\", \"weit\", \"moeglich\", \"christlich\", \"wagenknecht\", \"ideal\", \"nsdap\", \"sozialwohn\", \"linkspartei\", \"diegru\", \"beliebt\", \"klimahyster\", \"bezahlbar\", \"sachlich\", \"entsprech\", \"ide\", \"fest\", \"kuenstlich\", \"korrekt\", \"recherch\", \"afghan\", \"zufall\", \"sekund\", \"hund\", \"nah\", \"naech\", \"schoen\", \"lag\", \"rein\", \"kirch\", \"berlin\", \"geho\", \"terrorist\", \"vorh\", \"aufgab\", \"dumm\", \"band\", \"zustaend\", \"genoss\", \"diesmal\", \"grossteil\", \"grossart\", \"podcast\", \"syri\", \"patriotismus\", \"polizeigesetz\", \"uigur\", \"sued\", \"versteh\", \"ordent\", \"zielsich\", \"huch\", \"unsaeg\", \"march\", \"theat\", \"sich\", \"aktuell\", \"klar\", \"schwachsinn\", \"fraktionschefin\", \"antwort\", \"islam\", \"spalt\", \"ministerin\", \"tuerkisch\", \"ewig\", \"rechtsradikal\", \"ansicht\", \"drueb\", \"arab\", \"konkret\", \"geleg\", \"regim\", \"grossstaedt\", \"plakat\", \"forsch\", \"kell\", \"finanziell\", \"verpflicht\", \"unbekannt\", \"dank\", \"gott\", \"geschwaetz\", \"flieg\", \"baustell\", \"gest\", \"best\", \"grupp\", \"partei\", \"abend\", \"mindest\", \"laeng\", \"vorn\", \"jaehrig\", \"kreuz\", \"total\", \"zivildien\", \"kontroll\", \"etabliert\", \"schuel\", \"zentral\", \"bislang\", \"maedch\", \"parlamentar\", \"hilf\", \"ueblich\", \"fahr\", \"oeft\", \"unterdrueck\", \"kampagn\", \"kleb\", \"studier\", \"famili\", \"brunn\", \"gewinn\", \"arbeit\", \"inn\", \"klimawandel\", \"arm\", \"allgemein\", \"manchmal\", \"freie\", \"dennoch\", \"ursach\", \"vergewalt\", \"verbrech\", \"teilweis\", \"anstaend\", \"schutz\", \"hint\", \"antun\", \"andersdenk\", \"kompetenz\", \"herz\", \"erfund\", \"method\", \"zunehm\", \"damal\", \"weltfremd\", \"hahaha\", \"gesinn\", \"divers\", \"stuerz\", \"witzfigur\", \"saemtlich\", \"milliardenschw\", \"jung\", \"medi\", \"off\", \"alternativ\", \"vorsitz\", \"logik\", \"breit\", \"herrn\", \"sekt\", \"gestrig\", \"sprech\", \"soros\", \"grundlag\", \"versag\", \"skandal\", \"gesellschaftsjahr\", \"perfekt\", \"gefahr\", \"neonazis\", \"wunderbar\", \"prognos\", \"erst\", \"aepfel\", \"defizit\", \"erklaer\", \"zweit\", \"freier\", \"aufgeklaert\", \"kalt\", \"beteil\", \"hitzewall\", \"halt\", \"gut\", \"trump\", \"umfrag\", \"schlecht\", \"bekannt\", \"frag\", \"versuch\", \"annalena\", \"mutt\", \"kanzlerin\", \"pervers\", \"tuer\", \"westlich\", \"ngos\", \"mangelnd\", \"naiv\", \"branch\", \"landtagsabgeordnet\", \"folgend\", \"militaer\", \"serioes\", \"hoff\", \"skepsis\", \"autoindustri\", \"bedingungslos\", \"parteimitglied\", \"iran\", \"physik\", \"vorg\", \"eher\", \"toll\", \"geschicht\", \"glueck\", \"metwo\", \"innenminist\", \"haelft\", \"natu\", \"sup\", \"heuchl\", \"stell\", \"einfluss\", \"verlog\", \"klima\", \"halb\", \"ausbild\", \"kulturell\", \"lebend\", \"wissenschaftl\", \"klassenkampf\", \"dienstpflicht\", \"umfragehoch\", \"umso\", \"leck\", \"wein\", \"guenth\", \"ausbeut\", \"daemlich\", \"laendlich\", \"dielink\", \"letzt\", \"rot\", \"europaeisch\", \"baeum\", \"august\", \"tot\", \"paedophil\", \"freiheit\", \"fisch\", \"antisemit\", \"verkehr\", \"boes\", \"brud\", \"sinn\", \"raus\", \"pfannenl\", \"partn\", \"zahl\", \"klimaschaed\", \"umfeld\", \"dunkl\", \"geringschaetz\", \"erfahr\", \"immobili\", \"still\", \"antisemitismus\", \"besuch\", \"ministerium\", \"daniel\", \"gedank\", \"anpass\", \"kopf\", \"neoliberal\", \"fehl\", \"blau\", \"mitt\", \"hauptsach\", \"populist\", \"onlin\", \"denk\", \"orang\", \"erfolg\", \"haend\", \"pirat\", \"prot\", \"journalismus\", \"tier\", \"geht\", \"einwander\", \"gering\", \"regier\", \"lafontain\", \"hamburg\", \"naemlich\", \"besteh\", \"geist\", \"ehr\", \"passend\", \"ess\", \"hundert\", \"richtig\", \"afrikan\", \"irgendwi\", \"muench\", \"ziemlich\", \"auslaend\", \"person\", \"perso\", \"bestimmt\", \"grenzenlos\", \"gefluechtet\", \"klassisch\", \"websit\", \"nord\", \"schweiz\", \"verteid\", \"geehrt\", \"letztlich\", \"hautfarb\", \"antifaschist\", \"feminist\", \"patriot\", \"vorhand\", \"kuehl\", \"hyster\", \"identitaetspolit\", \"herkunft\", \"nzz\", \"pill\", \"effizient\", \"aufsteh\", \"ziel\", \"aussag\", \"laend\", \"hirn\", \"unt\", \"natur\", \"kampf\", \"vorbei\", \"vollm\", \"horst\", \"schwer\", \"gewerkschaft\", \"farb\", \"strategi\", \"mach\", \"zentrum\", \"unterstell\", \"postmodern\", \"klimapolit\", \"oekonom\", \"hirnlos\", \"bundesinnenminist\", \"waldbraend\", \"praktisch\", \"hingeg\", \"gegenteil\", \"organisiert\", \"gescheitert\", \"gaeb\", \"sogar\", \"vermut\", \"illegal\", \"sowieso\", \"muell\", \"frau\", \"stet\", \"stegn\", \"herzlich\", \"steigend\", \"hoeh\", \"frisch\", \"grundrecht\", \"haeus\", \"spanisch\", \"demokrati\", \"bundestagsabgeordnet\", \"kogl\", \"googl\", \"wern\", \"sonntag\", \"genannt\", \"irgendwelch\", \"perspektiv\", \"pfeff\", \"oesterreich\", \"schrecklich\", \"stuerm\", \"geburtstag\", \"ueberseh\", \"wort\", \"gesetz\", \"meist\", \"extrem\", \"wahl\", \"gelb\", \"kraeft\", \"geil\", \"gefall\", \"projekt\", \"quasi\", \"fing\", \"irr\", \"sowas\", \"intellektuell\", \"naeh\", \"widerspruch\", \"maas\", \"landwirt\", \"religion\", \"wirtschaft\", \"straftat\", \"zusaetz\", \"musik\", \"dien\", \"lustig\", \"brill\", \"ort\", \"juni\", \"menschenrecht\", \"neu\", \"wert\", \"fraktion\", \"gehalt\", \"sogenannt\", \"linksgru\", \"sozialist\", \"muslim\", \"wohltat\", \"rentn\", \"grund\", \"sommerloch\", \"landtag\", \"ergebnis\", \"septemb\", \"windraed\", \"wirklich\", \"eigent\", \"panikmach\", \"tief\", \"sobald\", \"komisch\", \"abgebroch\", \"appl\", \"klimanazis\", \"koordiniert\", \"negativ\", \"klimaforsch\", \"led\", \"blind\", \"buerg\", \"gutmensch\", \"groess\", \"bildung\", \"irgendwann\", \"nachricht\", \"spiel\", \"thuering\", \"aehnlich\", \"weis\", \"les\", \"wahlkampf\", \"nett\", \"polizei\", \"gestalt\", \"umson\", \"prof\", \"real\", \"beamt\", \"schwed\", \"voraussetz\", \"frankfurt\", \"generation\", \"spannend\", \"realitaetsfern\", \"besorgt\", \"dubios\", \"apropos\", \"kuerz\", \"parteivorsitz\", \"seit\", \"genauso\", \"ltwby\", \"heiss\", \"kriminell\", \"krank\", \"stund\", \"groko\", \"gefaehr\", \"jemal\", \"umverteil\", \"insgesamt\", \"zustand\", \"ernteausfaell\", \"behindert\", \"migration\", \"rechtsextr\", \"lobbyist\", \"abtreib\", \"schonmal\", \"abgrund\", \"mittelalt\", \"direkt\", \"kreis\", \"prima\", \"islamisier\", \"lobby\", \"brutal\", \"nuernberg\", \"rednerin\", \"herr\", \"vernuenft\", \"inzwisch\", \"ausgerechnet\", \"anmeld\", \"gros\", \"kur\", \"verschied\", \"wahnsinn\", \"bundestag\", \"hart\", \"unterschied\", \"loesung\", \"wusst\", \"ausweit\", \"arme\", \"mittwoch\", \"birn\", \"westfael\", \"komplett\", \"ernsthaft\", \"erinn\", \"wunderscho\", \"hohl\", \"sexuell\", \"humanita\", \"bielefeld\", \"politikerin\", \"vat\", \"ausgab\", \"maenn\", \"demokrat\", \"einzeln\", \"bundeswehr\", \"ebenfall\", \"lung\", \"flaech\", \"angeb\", \"somm\", \"bloedsinn\", \"bild\", \"oevp\", \"gerecht\", \"wissenschaft\", \"lokal\", \"bisher\", \"klimaanlag\", \"zeit\", \"immernoch\", \"maerch\", \"amerikan\", \"gestohl\", \"eben\", \"gaert\", \"inkl\", \"foto\", \"leipzig\", \"zeitung\", \"erkenntnis\", \"ueberpartei\", \"daech\", \"million\", \"groesst\", \"inhalt\", \"punkt\", \"abschaum\", \"fremd\", \"soeb\", \"bedroht\", \"notwend\", \"armut\", \"steuergeld\", \"maennch\", \"analys\", \"oeffn\", \"bein\", \"morg\", \"bundesvorsitz\", \"behaupt\", \"wahrlich\", \"islamfeind\", \"freu\", \"vorreit\", \"hessisch\", \"nopfann\", \"toedlich\", \"einheim\", \"streck\", \"universitaet\", \"generalsekreta\", \"montag\", \"zumind\", \"heimat\", \"lang\", \"jugend\", \"gespraech\", \"gemeinsam\", \"derart\", \"buergermeist\", \"kritisch\", \"entwickl\", \"verfass\", \"fein\", \"realist\", \"staedtisch\", \"veracht\", \"duemm\", \"aussenpolit\", \"behoerd\", \"geplant\", \"erneuerbar\", \"offensiv\", \"kohlekraftwerk\", \"energi\", \"klug\", \"gam\", \"enttaeuscht\", \"parteitag\", \"anspruch\", \"katastrophal\", \"anschluss\", \"bilderbuchhaft\", \"braun\", \"interessant\", \"aktion\", \"fuss\", \"schmarotz\", \"dresd\", \"lach\", \"ohr\", \"konstruktiv\", \"vorhin\", \"geschaeft\", \"spitz\", \"strom\", \"milliard\", \"bereich\", \"gesindel\", \"aeusser\", \"italien\", \"russland\", \"vorsorg\", \"green\", \"schwangerschaftsabbruech\", \"derweil\", \"gegenseit\", \"aufrecht\", \"fossil\", \"volksverraet\", \"ober\", \"kund\", \"station\", \"hitzewell\", \"gentechn\", \"insbesond\", \"ueberleg\", \"grad\", \"hitl\", \"verkehrsw\", \"besond\", \"lebenszeit\", \"niedrig\", \"radfahr\", \"sumpf\", \"mies\", \"verraet\", \"assang\", \"flach\", \"gewitt\", \"blaett\", \"kron\", \"mafia\", \"liberalismus\", \"schock\", \"kaelt\", \"gruss\", \"geradezu\", \"umweltfreund\", \"guenstig\", \"ueberzeug\", \"daenisch\", \"niedersachs\", \"staatstrojan\"], \"Total\": [19243.0, 16885.0, 6764.0, 5470.0, 3785.0, 3300.0, 2057.0, 1770.0, 1606.0, 1454.0, 2846.0, 1433.0, 1418.0, 1476.0, 1359.0, 1254.0, 1232.0, 1207.0, 1201.0, 1518.0, 1137.0, 1382.0, 1007.0, 1066.0, 1036.0, 1005.0, 1144.0, 913.0, 1007.0, 1292.0, 19243.2421875, 16885.7421875, 2846.04052734375, 938.3265380859375, 130.31541442871094, 102.62942504882812, 102.10636901855469, 78.4950180053711, 65.53311157226562, 61.627132415771484, 47.22517776489258, 47.09285354614258, 46.55815124511719, 43.55323028564453, 36.95907211303711, 35.21943664550781, 34.327735900878906, 32.456790924072266, 31.5676212310791, 31.37812614440918, 31.28005599975586, 30.549604415893555, 30.213438034057617, 27.513681411743164, 26.526803970336914, 26.098682403564453, 25.327898025512695, 24.923553466796875, 22.17267608642578, 21.615480422973633, 5470.17236328125, 6764.13134765625, 97.61835479736328, 1292.027587890625, 813.219482421875, 755.0277099609375, 693.1736450195312, 506.9516906738281, 430.19598388671875, 363.630126953125, 350.4156494140625, 330.9737243652344, 326.6427001953125, 314.4391784667969, 295.6256103515625, 263.98431396484375, 256.1690368652344, 240.70587158203125, 240.18951416015625, 221.55274963378906, 216.87847900390625, 208.20909118652344, 201.56088256835938, 193.6495361328125, 183.47439575195312, 181.5966339111328, 170.60992431640625, 166.00262451171875, 161.6602783203125, 158.49412536621094, 156.2415771484375, 148.16993713378906, 143.89854431152344, 6764.13134765625, 1518.1844482421875, 1382.2138671875, 996.6019897460938, 503.8752136230469, 307.4226989746094, 291.52215576171875, 278.4753112792969, 250.2579345703125, 237.8616180419922, 213.5536346435547, 209.4214630126953, 196.01300048828125, 186.61795043945312, 165.47769165039062, 162.6953887939453, 149.30307006835938, 144.11459350585938, 144.0479278564453, 139.8294219970703, 139.41268920898438, 132.34239196777344, 130.44061279296875, 118.36822509765625, 113.53019714355469, 106.98074340820312, 91.29534912109375, 86.8440933227539, 83.47313690185547, 82.23580932617188, 81.38678741455078, 5470.17236328125, 843.577392578125, 697.9440307617188, 624.9452514648438, 400.6084289550781, 399.663818359375, 384.4095458984375, 331.8013610839844, 293.8926086425781, 272.0360107421875, 258.88616943359375, 204.33154296875, 175.7152862548828, 159.8714599609375, 151.64065551757812, 146.9134979248047, 139.76956176757812, 122.49571228027344, 119.7362060546875, 110.83018493652344, 108.99789428710938, 106.2946548461914, 100.31201171875, 100.23432159423828, 98.03907012939453, 97.74729919433594, 94.64534759521484, 93.66571807861328, 93.46497344970703, 88.91886901855469, 83.5139389038086, 83.86881256103516, 3300.988037109375, 1476.0086669921875, 700.1748657226562, 371.1445007324219, 299.3107604980469, 296.1885070800781, 290.5773620605469, 273.9883728027344, 249.9113311767578, 238.1521453857422, 176.2248992919922, 162.34205627441406, 156.4058380126953, 154.15748596191406, 150.9455108642578, 147.36968994140625, 125.3531723022461, 119.95572662353516, 119.91210174560547, 118.50447845458984, 114.60590362548828, 105.44995880126953, 83.15741729736328, 76.51067352294922, 68.13798522949219, 66.13523864746094, 64.35258483886719, 52.82733154296875, 52.81340408325195, 49.6252326965332, 3785.350341796875, 1144.40966796875, 677.93115234375, 292.14312744140625, 280.1490173339844, 259.98248291015625, 244.44070434570312, 190.69361877441406, 174.8605194091797, 137.39230346679688, 136.82972717285156, 122.56729125976562, 119.00215911865234, 105.4295425415039, 102.00899505615234, 94.54224395751953, 73.46856689453125, 71.57654571533203, 70.94799041748047, 69.84978485107422, 68.26240539550781, 63.541961669921875, 61.11761474609375, 56.70806121826172, 54.975704193115234, 54.787200927734375, 52.916839599609375, 52.419822692871094, 48.686546325683594, 48.52937316894531, 1007.9160766601562, 453.7203063964844, 427.6479187011719, 369.1788024902344, 349.5502014160156, 336.1989440917969, 293.28485107421875, 215.78341674804688, 183.78604125976562, 178.6851806640625, 176.5689697265625, 166.11334228515625, 161.30841064453125, 152.08250427246094, 152.03688049316406, 134.87039184570312, 127.00521087646484, 127.92585754394531, 107.32569885253906, 98.0118637084961, 97.14803314208984, 96.8923110961914, 93.93107604980469, 85.32674407958984, 77.42251586914062, 76.2964859008789, 74.07295989990234, 67.52263641357422, 66.95697021484375, 65.60315704345703, 554.2484741210938, 954.7767333984375, 772.4083862304688, 758.0753784179688, 754.0554809570312, 642.0037841796875, 390.81787109375, 309.1246337890625, 255.14114379882812, 204.3379364013672, 202.02880859375, 190.37664794921875, 178.01632690429688, 176.91587829589844, 124.5618667602539, 120.66224670410156, 112.04521179199219, 104.45020294189453, 81.3408432006836, 79.16881561279297, 74.5419692993164, 70.41609954833984, 65.5003433227539, 62.730342864990234, 56.88555145263672, 51.048709869384766, 49.416160583496094, 47.628787994384766, 47.19269943237305, 45.21380615234375, 44.99168014526367, 839.7703247070312, 749.9163818359375, 594.677734375, 532.7828979492188, 460.15826416015625, 367.7830505371094, 346.5657043457031, 257.3425598144531, 242.66683959960938, 199.20574951171875, 196.85023498535156, 185.4393768310547, 162.6326904296875, 157.9160614013672, 144.91539001464844, 142.05712890625, 132.78927612304688, 131.51589965820312, 118.1223373413086, 102.6715087890625, 99.69967651367188, 88.55355072021484, 86.1570053100586, 64.13632202148438, 61.539432525634766, 59.193389892578125, 56.33932876586914, 52.10292434692383, 50.29081344604492, 49.422279357910156, 2057.792724609375, 814.1215209960938, 735.079833984375, 475.51361083984375, 389.4317626953125, 231.96371459960938, 222.97666931152344, 199.36392211914062, 165.02670288085938, 144.8042449951172, 137.00509643554688, 124.1225357055664, 120.2861328125, 118.1664810180664, 109.4395751953125, 107.87760162353516, 104.19477081298828, 88.65318298339844, 76.1463851928711, 74.52915954589844, 63.53824996948242, 60.44014358520508, 60.7221794128418, 58.59783172607422, 58.23264694213867, 57.668216705322266, 56.04365539550781, 53.024322509765625, 46.91497802734375, 42.89943313598633, 1359.6240234375, 703.1842651367188, 640.56787109375, 384.3131103515625, 382.0245056152344, 376.8426513671875, 370.6844177246094, 326.6542663574219, 248.60467529296875, 191.17291259765625, 185.238037109375, 164.60397338867188, 149.3768310546875, 129.08847045898438, 123.06214904785156, 118.41676330566406, 97.8256607055664, 96.8382339477539, 68.86475372314453, 64.94316101074219, 62.842681884765625, 61.84397506713867, 63.04619598388672, 59.67042541503906, 56.37983322143555, 55.05632019042969, 54.02650833129883, 53.812828063964844, 51.68880844116211, 51.264957427978516, 1770.541748046875, 1606.43994140625, 380.59661865234375, 216.47735595703125, 201.75582885742188, 187.97361755371094, 173.18600463867188, 156.77442932128906, 152.39450073242188, 146.57510375976562, 146.02432250976562, 128.03665161132812, 126.57071685791016, 93.07382202148438, 66.93986511230469, 65.57241821289062, 64.48318481445312, 64.31550598144531, 61.23434066772461, 60.45498275756836, 58.37068176269531, 47.14212417602539, 46.286773681640625, 45.14948272705078, 41.253475189208984, 40.55685043334961, 40.093692779541016, 39.244285583496094, 39.2381591796875, 37.73442459106445, 1433.646484375, 558.2686157226562, 390.9693908691406, 382.6214904785156, 273.4727478027344, 222.6533660888672, 222.09947204589844, 213.37075805664062, 193.41680908203125, 165.3927459716797, 134.88418579101562, 133.2721405029297, 115.68860626220703, 110.77617645263672, 106.986328125, 98.71724700927734, 93.01781463623047, 89.83522033691406, 86.12544250488281, 81.1146240234375, 73.77969360351562, 72.32743835449219, 69.9465103149414, 69.50083923339844, 68.47722625732422, 65.01819610595703, 65.02535247802734, 62.43821716308594, 57.355796813964844, 49.2161979675293, 839.2051391601562, 572.8811645507812, 551.3548583984375, 409.8751220703125, 308.56549072265625, 289.908935546875, 285.33514404296875, 282.1586608886719, 217.9824676513672, 212.40379333496094, 199.32301330566406, 172.12062072753906, 156.1202392578125, 150.28091430664062, 145.27696228027344, 138.28028869628906, 129.40438842773438, 116.25856018066406, 107.22330474853516, 80.742919921875, 79.24493408203125, 71.72940063476562, 70.32906341552734, 64.78096008300781, 60.981849670410156, 47.890560150146484, 47.08085250854492, 46.39950942993164, 45.503597259521484, 44.508419036865234, 1201.8367919921875, 615.7333374023438, 480.8752746582031, 457.9176025390625, 280.6954040527344, 257.40753173828125, 240.65609741210938, 220.49258422851562, 189.38363647460938, 167.46908569335938, 157.77188110351562, 144.98597717285156, 129.70872497558594, 121.58023071289062, 110.68606567382812, 97.88497924804688, 96.91777038574219, 94.4028091430664, 94.0196762084961, 82.91386413574219, 80.91307830810547, 75.01213836669922, 67.0751724243164, 65.72855377197266, 63.27427673339844, 62.75164794921875, 62.60941696166992, 61.8020133972168, 53.06073760986328, 46.923583984375, 1137.3280029296875, 656.697998046875, 351.2156677246094, 267.0719909667969, 233.49342346191406, 211.5322723388672, 195.6569366455078, 188.97866821289062, 173.786376953125, 170.1235809326172, 155.22164916992188, 152.388427734375, 144.81552124023438, 141.18373107910156, 136.7760467529297, 134.43531799316406, 128.88674926757812, 105.98774719238281, 104.32373809814453, 96.47901916503906, 84.02497863769531, 80.22809600830078, 76.21755981445312, 74.77452850341797, 71.99595642089844, 68.93789672851562, 68.42033386230469, 66.16838073730469, 65.51398468017578, 62.27451705932617, 1418.7982177734375, 1066.0068359375, 694.9357299804688, 214.78553771972656, 187.92398071289062, 173.6394500732422, 173.12265014648438, 154.939453125, 154.23147583007812, 144.26010131835938, 125.00018310546875, 106.02580261230469, 105.1153793334961, 105.12541198730469, 92.84866333007812, 92.24712371826172, 83.71122741699219, 80.00408935546875, 77.06649780273438, 76.29833984375, 72.84282684326172, 69.27650451660156, 67.42871856689453, 67.32526397705078, 58.417579650878906, 54.08831787109375, 51.05118942260742, 48.71434783935547, 44.560081481933594, 44.02022933959961, 59.22319030761719, 1036.7811279296875, 505.62445068359375, 486.1966552734375, 468.0825500488281, 224.23277282714844, 199.17689514160156, 197.72161865234375, 188.68795776367188, 182.19540405273438, 146.60586547851562, 118.63874053955078, 108.1862564086914, 107.3126220703125, 102.490478515625, 99.50675201416016, 99.37774658203125, 91.07003021240234, 77.24156951904297, 70.59093475341797, 69.71876525878906, 68.23040008544922, 65.35136413574219, 62.209232330322266, 59.614200592041016, 59.11048126220703, 58.23991012573242, 57.41493606567383, 56.8238410949707, 53.168556213378906, 52.88556671142578, 811.7634887695312, 664.7437133789062, 344.8194885253906, 304.22882080078125, 269.5312805175781, 255.66575622558594, 207.22628784179688, 194.16307067871094, 191.86441040039062, 183.00999450683594, 175.78282165527344, 128.15457153320312, 110.94657897949219, 110.11075592041016, 108.57511901855469, 94.56039428710938, 90.0320053100586, 80.78668212890625, 75.4927978515625, 71.68771362304688, 65.06869506835938, 57.53266143798828, 53.9500846862793, 53.76957321166992, 51.36262512207031, 51.029815673828125, 50.56835174560547, 49.99276351928711, 45.31055450439453, 42.65275955200195, 652.1016845703125, 527.6209106445312, 361.7125549316406, 337.98651123046875, 267.93231201171875, 225.99034118652344, 176.01394653320312, 168.3017578125, 152.7520751953125, 132.8164825439453, 128.57655334472656, 118.35274505615234, 118.22986602783203, 112.90680694580078, 104.36763763427734, 103.76312255859375, 96.4904556274414, 87.7507553100586, 86.9920883178711, 77.09217071533203, 77.93091583251953, 69.45514678955078, 65.53168487548828, 64.86422729492188, 60.929744720458984, 60.603816986083984, 60.279117584228516, 59.989158630371094, 59.41997528076172, 58.70558547973633, 420.21746826171875, 397.1090393066406, 334.0326232910156, 305.9404602050781, 296.2178649902344, 236.59315490722656, 231.8369598388672, 206.38653564453125, 166.9966583251953, 125.60581970214844, 121.15541076660156, 117.1101303100586, 116.947265625, 116.89402770996094, 114.69940185546875, 110.37245178222656, 108.08789825439453, 104.73617553710938, 97.62906646728516, 94.98594665527344, 89.17597961425781, 88.95462036132812, 82.96142578125, 79.37329864501953, 70.40191650390625, 70.34255981445312, 68.28398895263672, 66.83280181884766, 61.141178131103516, 51.60279846191406, 769.3274536132812, 753.4158325195312, 554.0514526367188, 431.9978332519531, 218.32723999023438, 196.818115234375, 189.57516479492188, 179.5238037109375, 128.6536407470703, 114.19105529785156, 111.30670166015625, 110.95352935791016, 110.50244903564453, 98.89048767089844, 98.8319320678711, 90.56600189208984, 90.29864501953125, 78.28710174560547, 73.61357879638672, 67.98570251464844, 64.01197814941406, 61.11709976196289, 60.295372009277344, 58.07911682128906, 57.023651123046875, 56.176246643066406, 55.13437271118164, 50.73271179199219, 50.54716110229492, 50.18754959106445, 69.1780014038086, 1005.4515991210938, 742.1969604492188, 503.3424987792969, 405.8091735839844, 337.5007629394531, 229.81365966796875, 223.0854034423828, 190.211181640625, 182.85137939453125, 152.69772338867188, 117.21057891845703, 105.10884094238281, 97.93572235107422, 94.60547637939453, 84.45681762695312, 80.11620330810547, 76.47148132324219, 73.32805633544922, 70.97455596923828, 61.999534606933594, 56.205665588378906, 55.6671028137207, 52.44439697265625, 52.03414535522461, 51.74949264526367, 51.39118576049805, 45.2133674621582, 41.140953063964844, 40.699546813964844, 40.510501861572266, 128.6077880859375, 1232.6737060546875, 599.0631103515625, 430.5374450683594, 412.8953552246094, 374.18695068359375, 236.05621337890625, 227.9552001953125, 207.87925720214844, 200.95904541015625, 179.30142211914062, 169.51014709472656, 167.4019775390625, 122.01666259765625, 113.2993392944336, 105.0472412109375, 103.59809875488281, 92.32337951660156, 78.12772369384766, 47.90327453613281, 45.619720458984375, 36.833251953125, 35.416481018066406, 34.60377883911133, 31.789934158325195, 31.758512496948242, 31.54546546936035, 30.801311492919922, 29.91651725769043, 27.808591842651367, 27.70929718017578, 1207.5579833984375, 448.6599426269531, 339.5625, 332.3192138671875, 170.9342041015625, 160.1510467529297, 147.6592559814453, 147.10389709472656, 142.18299865722656, 140.14852905273438, 120.73200988769531, 112.47313690185547, 108.18269348144531, 102.28652954101562, 94.82550811767578, 93.74671173095703, 93.7391128540039, 93.36996459960938, 88.87591552734375, 88.09693145751953, 78.59246063232422, 61.313194274902344, 55.02382278442383, 54.68412780761719, 54.53173065185547, 53.51133346557617, 47.88880157470703, 47.57927703857422, 46.959815979003906, 45.84394454956055, 1254.6053466796875, 608.315673828125, 419.6214599609375, 365.3603515625, 214.85205078125, 154.56312561035156, 153.52735900878906, 150.84625244140625, 129.2957305908203, 122.83718872070312, 109.24715423583984, 102.0976333618164, 89.81118774414062, 87.3656005859375, 84.79713439941406, 83.03167724609375, 72.21732330322266, 68.0228500366211, 57.020076751708984, 56.39164352416992, 52.74628448486328, 48.216487884521484, 45.99764633178711, 43.86416244506836, 42.187957763671875, 37.21678924560547, 37.18524932861328, 36.919315338134766, 40.113182067871094, 34.98782730102539, 392.7793273925781, 294.76385498046875, 276.58135986328125, 242.55921936035156, 238.4897918701172, 211.9828643798828, 197.6091766357422, 192.114013671875, 189.4689483642578, 183.58795166015625, 176.21681213378906, 175.12506103515625, 168.33055114746094, 167.1232147216797, 164.11717224121094, 129.8769073486328, 127.85292053222656, 120.29935455322266, 120.2644271850586, 118.17242431640625, 106.1703872680664, 87.08768463134766, 83.34607696533203, 83.01660919189453, 68.70740509033203, 64.79420471191406, 55.01996612548828, 51.73503112792969, 51.68287658691406, 51.51809310913086, 667.5838012695312, 399.3996276855469, 369.538330078125, 341.97491455078125, 290.85968017578125, 243.25723266601562, 232.44021606445312, 151.83892822265625, 150.4373321533203, 143.58767700195312, 138.9561767578125, 122.61897277832031, 108.53330993652344, 85.02336120605469, 83.08269500732422, 80.36254119873047, 76.74747467041016, 74.37572479248047, 65.83012390136719, 64.35202026367188, 60.40193176269531, 59.77557373046875, 58.47575759887695, 54.98948287963867, 53.99727249145508, 52.265052795410156, 50.054141998291016, 47.974239349365234, 52.11842727661133, 45.652801513671875, 1454.064453125, 288.37017822265625, 276.7983093261719, 232.21969604492188, 220.5826873779297, 198.6484375, 194.78018188476562, 189.8542938232422, 171.73231506347656, 158.2574462890625, 147.01986694335938, 128.6036834716797, 102.21316528320312, 89.51634979248047, 75.55519104003906, 59.06561279296875, 54.77900695800781, 52.302066802978516, 49.03083801269531, 48.10668182373047, 47.884254455566406, 42.86300277709961, 40.496009826660156, 39.984535217285156, 37.89295959472656, 37.600406646728516, 36.257179260253906, 35.934391021728516, 34.52836990356445, 33.97144317626953, 913.609619140625, 391.0068359375, 351.87506103515625, 276.3294677734375, 269.9588623046875, 246.55575561523438, 152.5991973876953, 137.02761840820312, 123.89672088623047, 105.8423080444336, 100.2362060546875, 97.81394958496094, 95.16507720947266, 94.98513793945312, 92.88333892822266, 91.60337829589844, 87.50288391113281, 91.92171478271484, 74.35594940185547, 74.21537780761719, 73.42203521728516, 72.19086456298828, 60.192657470703125, 56.88300323486328, 54.50592041015625, 54.44551086425781, 53.08781814575195, 52.08045196533203, 48.8193244934082, 46.40604019165039, 393.82843017578125, 384.88958740234375, 288.6612548828125, 257.82830810546875, 199.38922119140625, 173.5831756591797, 154.2061004638672, 152.11199951171875, 148.08468627929688, 139.98097229003906, 136.55223083496094, 135.4847412109375, 132.88919067382812, 122.63099670410156, 113.17159271240234, 100.43388366699219, 92.63457489013672, 91.92051696777344, 89.47090148925781, 87.53184509277344, 85.13998413085938, 83.97399139404297, 79.1951904296875, 77.39360046386719, 70.33270263671875, 70.08171844482422, 68.3825912475586, 66.77596282958984, 60.01451873779297, 56.40329360961914, 1007.9405517578125, 451.6305847167969, 370.6651611328125, 212.59954833984375, 203.4975128173828, 161.61395263671875, 161.3094024658203, 137.12571716308594, 123.24082946777344, 116.68074035644531, 112.66881561279297, 110.42293548583984, 110.43953704833984, 107.09528350830078, 96.56536865234375, 92.0253677368164, 88.70320892333984, 83.6008529663086, 77.0641860961914, 74.13089752197266, 71.54881286621094, 67.32551574707031, 66.28046417236328, 66.08271026611328, 60.777069091796875, 60.123390197753906, 58.37068557739258, 53.66995620727539, 47.52874755859375, 47.43133544921875, 331.5816650390625, 289.853271484375, 269.4423828125, 231.26602172851562, 195.50469970703125, 170.3333740234375, 147.86282348632812, 145.9534149169922, 121.82709503173828, 118.29399108886719, 114.9756851196289, 113.0828628540039, 105.56330871582031, 97.11027526855469, 95.83003997802734, 94.79812622070312, 93.00987243652344, 85.10332489013672, 84.36481475830078, 80.8895492553711, 80.54065704345703, 80.51011657714844, 69.00135040283203, 65.75291442871094, 65.18952178955078, 58.20066833496094, 56.88666915893555, 54.004127502441406, 50.81705093383789, 49.56107711791992, 776.8982543945312, 386.4562683105469, 203.1354522705078, 202.97689819335938, 197.34095764160156, 188.18295288085938, 188.05123901367188, 181.6509552001953, 147.3346405029297, 145.36138916015625, 139.7150115966797, 135.68052673339844, 106.37464141845703, 98.40763092041016, 97.23440551757812, 88.79066467285156, 71.86558532714844, 69.96217346191406, 67.57713317871094, 66.74742126464844, 66.00267028808594, 64.90799713134766, 61.30571746826172, 54.39615249633789, 53.3747673034668, 52.287384033203125, 50.1206169128418, 47.359046936035156, 43.46159744262695, 45.99938201904297, 793.03466796875, 275.23651123046875, 247.55938720703125, 233.91087341308594, 191.96177673339844, 179.53155517578125, 176.92396545410156, 160.4806365966797, 140.08355712890625, 123.53068542480469, 123.34526824951172, 108.12923431396484, 97.08193969726562, 88.73347473144531, 89.36774444580078, 82.37261199951172, 81.8044662475586, 80.9019546508789, 75.09235382080078, 74.32865142822266, 72.30297088623047, 68.12581634521484, 65.05313110351562, 60.08183670043945, 56.923458099365234, 56.823299407958984, 55.4920768737793, 52.64876937866211, 46.87814712524414, 45.575897216796875, 387.1803283691406, 227.0714874267578, 208.60333251953125, 197.3201904296875, 165.41156005859375, 156.78781127929688, 164.96688842773438, 153.313232421875, 138.68035888671875, 119.3326644897461, 118.77691650390625, 119.02436828613281, 110.31222534179688, 77.71233367919922, 72.00108337402344, 71.30842590332031, 69.868896484375, 69.14495086669922, 68.79668426513672, 67.55763244628906, 65.83988189697266, 63.70156478881836, 63.54954528808594, 90.37571716308594, 58.18220520019531, 57.555992126464844, 53.35356521606445, 50.4631462097168, 50.27843475341797, 49.217750549316406, 192.64041137695312, 627.3922119140625, 539.5875854492188, 246.61349487304688, 240.38710021972656, 198.1189727783203, 177.94895935058594, 112.29499053955078, 107.02717590332031, 101.53441619873047, 99.59619140625, 98.1869125366211, 93.75263214111328, 90.01586151123047, 88.28644561767578, 83.9361801147461, 83.51477813720703, 78.2225112915039, 75.96292114257812, 75.9024658203125, 76.30351257324219, 71.9582290649414, 66.36982727050781, 62.494361877441406, 58.59903335571289, 49.82771682739258, 49.31499099731445, 49.27125549316406, 48.25922393798828, 47.40037536621094, 46.049869537353516, 353.341552734375, 281.73162841796875, 206.47671508789062, 199.60208129882812, 190.52598571777344, 184.57896423339844, 149.55242919921875, 122.81534576416016, 107.5483627319336, 97.60200500488281, 88.46932220458984, 87.59834289550781, 86.65811920166016, 85.76776123046875, 80.69414520263672, 68.58965301513672, 65.38902282714844, 65.50401306152344, 63.89824676513672, 59.800621032714844, 56.560787200927734, 54.75908660888672, 52.939727783203125, 51.30498504638672, 50.12095642089844, 44.816097259521484, 43.6365966796875, 42.68012237548828, 41.96971893310547, 41.57057571411133, 58.28780746459961, 288.0363464355469, 198.06796264648438, 155.38014221191406, 137.76539611816406, 137.34182739257812, 133.6701202392578, 121.90755462646484, 121.12271118164062, 104.55274963378906, 97.47783660888672, 92.25572204589844, 87.57839965820312, 83.03936767578125, 73.52979278564453, 72.69718933105469, 71.83915710449219, 67.80184936523438, 66.93781280517578, 61.51850891113281, 59.23423385620117, 96.33584594726562, 57.762081146240234, 55.06298828125, 52.21048355102539, 49.425838470458984, 49.26188659667969, 45.87810516357422, 45.58541488647461, 45.18824768066406, 44.72063446044922, 528.40625, 393.99578857421875, 169.866455078125, 150.88865661621094, 123.26089477539062, 116.12360382080078, 110.06442260742188, 100.7516098022461, 98.16435241699219, 76.89306640625, 71.45272827148438, 65.0940170288086, 58.33018493652344, 53.76564407348633, 53.04008483886719, 47.738800048828125, 47.89519119262695, 46.60514831542969, 46.0930290222168, 45.80671310424805, 45.4755744934082, 48.701988220214844, 42.531070709228516, 41.76588821411133, 40.71656036376953, 42.54761505126953, 39.263671875, 39.18667221069336, 36.65745162963867, 36.579750061035156, 61.15855407714844], \"loglift\": [30.0, 29.0, 28.0, 27.0, 26.0, 25.0, 24.0, 23.0, 22.0, 21.0, 20.0, 19.0, 18.0, 17.0, 16.0, 15.0, 14.0, 13.0, 12.0, 11.0, 10.0, 9.0, 8.0, 7.0, 6.0, 5.0, 4.0, 3.0, 2.0, 1.0, 2.023099899291992, 2.023099899291992, 2.022700071334839, 2.021699905395508, 2.0139000415802, 2.011399984359741, 2.0113000869750977, 2.007699966430664, 2.004699945449829, 2.003499984741211, 1.9974000453948975, 1.9973000288009644, 1.996999979019165, 1.9952000379562378, 1.9901000261306763, 1.9884999990463257, 1.9875999689102173, 1.9854999780654907, 1.9844000339508057, 1.9840999841690063, 1.9839999675750732, 1.9831000566482544, 1.9825999736785889, 1.9785000085830688, 1.9767999649047852, 1.976099967956543, 1.9745999574661255, 1.9737999439239502, 1.9674999713897705, 1.965999960899353, 0.0215000007301569, -1.0672999620437622, 0.6258999705314636, 2.7660999298095703, 2.7655999660491943, 2.765500068664551, 2.765399932861328, 2.7648000717163086, 2.764400005340576, 2.7639000415802, 2.7637999057769775, 2.7636001110076904, 2.7634999752044678, 2.763400077819824, 2.763200044631958, 2.762700080871582, 2.7625999450683594, 2.7623000144958496, 2.7623000144958496, 2.761899948120117, 2.7618000507354736, 2.7616000175476074, 2.761399984359741, 2.761199951171875, 2.7609000205993652, 2.7607998847961426, 2.7604000568389893, 2.760200023651123, 2.759999990463257, 2.7599000930786133, 2.7597999572753906, 2.759399890899658, 2.759200096130371, 2.7202999591827393, 3.0192999839782715, 3.0192999839782715, 3.018899917602539, 3.0178000926971436, 3.0162999629974365, 3.0160999298095703, 3.015899896621704, 3.015399932861328, 3.015199899673462, 3.0146000385284424, 3.0144999027252197, 3.0141000747680664, 3.0137999057769775, 3.013000011444092, 3.0129001140594482, 3.012200117111206, 3.01200008392334, 3.011899948120117, 3.011699914932251, 3.011699914932251, 3.011199951171875, 3.0111000537872314, 3.010200023651123, 3.009700059890747, 3.0090999603271484, 3.007200002670288, 3.006500005722046, 3.00600004196167, 3.0058000087738037, 3.0055999755859375, 2.871299982070923, 3.4000000953674316, 3.3996999263763428, 3.399399995803833, 3.398400068283081, 3.398400068283081, 3.3982999324798584, 3.3977999687194824, 3.3973000049591064, 3.3970000743865967, 3.3968000411987305, 3.3956000804901123, 3.3945999145507812, 3.393899917602539, 3.3935000896453857, 3.3933000564575195, 3.3928000926971436, 3.3915998935699463, 3.391400098800659, 3.3905999660491943, 3.390399932861328, 3.3901000022888184, 3.3894999027252197, 3.3894999027252197, 3.38919997215271, 3.3891000747680664, 3.388700008392334, 3.3886001110076904, 3.3886001110076904, 3.3879001140594482, 3.38700008392334, 3.3833999633789062, 3.4244000911712646, 3.4240000247955322, 3.4230000972747803, 3.421600103378296, 3.420799970626831, 3.420799970626831, 3.4207000732421875, 3.4203999042510986, 3.4200000762939453, 3.419800043106079, 3.4179999828338623, 3.4175000190734863, 3.4172000885009766, 3.417099952697754, 3.4168999195098877, 3.4166998863220215, 3.415299892425537, 3.414900064468384, 3.414900064468384, 3.414799928665161, 3.414400100708008, 3.4135000705718994, 3.4105000495910645, 3.4091999530792236, 3.4072999954223633, 3.4068000316619873, 3.4063000679016113, 3.4021999835968018, 3.4021999835968018, 3.400700092315674, 3.500499963760376, 3.499799966812134, 3.4990999698638916, 3.4967000484466553, 3.4965999126434326, 3.4962000846862793, 3.496000051498413, 3.4946000576019287, 3.49399995803833, 3.4921998977661133, 3.4921000003814697, 3.4911000728607178, 3.490799903869629, 3.489500045776367, 3.4892001152038574, 3.4881999492645264, 3.484600067138672, 3.4842000007629395, 3.4839999675750732, 3.4837000370025635, 3.483299970626831, 3.4820001125335693, 3.481300115585327, 3.47979998588562, 3.479099988937378, 3.4790000915527344, 3.4781999588012695, 3.4779999256134033, 3.4762001037597656, 3.4762001037597656, 3.657599925994873, 3.656100034713745, 3.6559998989105225, 3.6554999351501465, 3.655400037765503, 3.6552000045776367, 3.6547000408172607, 3.6533000469207764, 3.6522998809814453, 3.6521999835968018, 3.652100086212158, 3.651700019836426, 3.651400089263916, 3.6510000228881836, 3.6510000228881836, 3.6500000953674316, 3.6494998931884766, 3.6491000652313232, 3.6477999687194824, 3.646699905395508, 3.6466000080108643, 3.6466000080108643, 3.646199941635132, 3.64490008354187, 3.6435000896453857, 3.6433000564575195, 3.6428000926971436, 3.641200065612793, 3.6410999298095703, 3.640700101852417, 2.0943000316619873, 3.6809000968933105, 3.6805999279022217, 3.6805999279022217, 3.6805999279022217, 3.680299997329712, 3.6791999340057373, 3.6784000396728516, 3.677500009536743, 3.6763999462127686, 3.676300048828125, 3.6760001182556152, 3.67549991607666, 3.67549991607666, 3.6726999282836914, 3.6723999977111816, 3.671600103378296, 3.670799970626831, 3.66759991645813, 3.6672000885009766, 3.6661999225616455, 3.665299892425537, 3.6640000343322754, 3.6631999015808105, 3.6612000465393066, 3.658799886703491, 3.6579999923706055, 3.657099962234497, 3.656899929046631, 3.6558001041412354, 3.655600070953369, 3.6854000091552734, 3.6851999759674072, 3.684799909591675, 3.684499979019165, 3.6840999126434326, 3.683500051498413, 3.6833999156951904, 3.6821999549865723, 3.6819000244140625, 3.680799961090088, 3.6807000637054443, 3.6803998947143555, 3.679500102996826, 3.67930006980896, 3.6786000728607178, 3.6784000396728516, 3.677799940109253, 3.6777000427246094, 3.6767001152038574, 3.6751999855041504, 3.674799919128418, 3.67330002784729, 3.6730000972747803, 3.6682000160217285, 3.6668999195098877, 3.666599988937378, 3.665600061416626, 3.663800001144409, 3.6630001068115234, 3.662600040435791, 3.6872000694274902, 3.6863999366760254, 3.686199903488159, 3.68530011177063, 3.684799909591675, 3.6826999187469482, 3.682499885559082, 3.6819000244140625, 3.6805999279022217, 3.6796000003814697, 3.6791999340057373, 3.678299903869629, 3.677999973297119, 3.677799940109253, 3.677000045776367, 3.676800012588501, 3.6763999462127686, 3.6744000911712646, 3.6721999645233154, 3.6719000339508057, 3.668600082397461, 3.668100118637085, 3.668100118637085, 3.6675000190734863, 3.66729998588562, 3.667099952697754, 3.6665000915527344, 3.665299892425537, 3.6623001098632812, 3.6598000526428223, 3.7054998874664307, 3.704699993133545, 3.7044999599456787, 3.7032999992370605, 3.703200101852417, 3.703200101852417, 3.703200101852417, 3.702699899673462, 3.7016000747680664, 3.700200080871582, 3.700000047683716, 3.699199914932251, 3.6984000205993652, 3.697200059890747, 3.696700096130371, 3.6963999271392822, 3.694200038909912, 3.6940999031066895, 3.6891000270843506, 3.6881000995635986, 3.6874001026153564, 3.6870999336242676, 3.687000036239624, 3.6863999366760254, 3.68530011177063, 3.6847000122070312, 3.684299945831299, 3.6842000484466553, 3.683199882507324, 3.6830999851226807, 3.7953999042510986, 3.795300006866455, 3.7929999828338623, 3.790600061416626, 3.7901999950408936, 3.789799928665161, 3.7892000675201416, 3.7885000705718994, 3.788300037384033, 3.7880001068115234, 3.787899971008301, 3.786799907684326, 3.7867000102996826, 3.7832999229431152, 3.7781999111175537, 3.777899980545044, 3.777600049972534, 3.7774999141693115, 3.776599884033203, 3.77620005607605, 3.775599956512451, 3.770699977874756, 3.77020001411438, 3.7695000171661377, 3.7669999599456787, 3.7664999961853027, 3.7660999298095703, 3.765500068664551, 3.765399932861328, 3.76419997215271, 3.796600103378296, 3.795300006866455, 3.7943999767303467, 3.794300079345703, 3.793100118637085, 3.792099952697754, 3.792099952697754, 3.7918999195098877, 3.791300058364868, 3.7901999950408936, 3.788599967956543, 3.7885000705718994, 3.787100076675415, 3.7867000102996826, 3.78629994392395, 3.785399913787842, 3.784600019454956, 3.7841999530792236, 3.783600091934204, 3.7827000617980957, 3.7811999320983887, 3.780900001525879, 3.7802999019622803, 3.7802000045776367, 3.7799999713897705, 3.7790000438690186, 3.7790000438690186, 3.7783000469207764, 3.776599884033203, 3.773099899291992, 3.8017001152038574, 3.801100015640259, 3.8010001182556152, 3.8001999855041504, 3.799299955368042, 3.7990000247955322, 3.7990000247955322, 3.7988998889923096, 3.7976999282836914, 3.797499895095825, 3.7971999645233154, 3.7962000370025635, 3.7955000400543213, 3.7952001094818115, 3.7950000762939453, 3.7945001125335693, 3.7939000129699707, 3.7929000854492188, 3.7920000553131104, 3.7883999347686768, 3.788100004196167, 3.7864999771118164, 3.7862000465393066, 3.7846999168395996, 3.7834999561309814, 3.77810001373291, 3.7776999473571777, 3.7772998809814453, 3.7764999866485596, 3.77620005607605, 3.8097000122070312, 3.808799982070923, 3.808300018310547, 3.8080999851226807, 3.80649995803833, 3.8060998916625977, 3.805799961090088, 3.805299997329712, 3.804500102996826, 3.8036000728607178, 3.8032000064849854, 3.802500009536743, 3.8015999794006348, 3.8008999824523926, 3.799999952316284, 3.7985999584198, 3.7983999252319336, 3.798099994659424, 3.7980000972747803, 3.796299934387207, 3.7960000038146973, 3.794800043106079, 3.7929000854492188, 3.7925000190734863, 3.791800022125244, 3.7916998863220215, 3.791599988937378, 3.7913999557495117, 3.788100004196167, 3.785099983215332, 3.8252999782562256, 3.82450008392334, 3.8229000568389893, 3.821899890899658, 3.821199893951416, 3.82069993019104, 3.820199966430664, 3.819999933242798, 3.819499969482422, 3.8192999362945557, 3.8185999393463135, 3.81850004196167, 3.8180999755859375, 3.8178999423980713, 3.8176000118255615, 3.817500114440918, 3.8171000480651855, 3.8150999546051025, 3.8148999214172363, 3.813999891281128, 3.8120999336242676, 3.8113999366760254, 3.8106000423431396, 3.81030011177063, 3.8097000122070312, 3.809000015258789, 3.808799982070923, 3.808199882507324, 3.8080999851226807, 3.8071000576019287, 3.833899974822998, 3.833400011062622, 3.8331000804901123, 3.8292999267578125, 3.8285000324249268, 3.827899932861328, 3.827899932861328, 3.8271000385284424, 3.8271000385284424, 3.8264999389648438, 3.8252999782562256, 3.8236000537872314, 3.823499917984009, 3.823499917984009, 3.822000026702881, 3.821899890899658, 3.8206000328063965, 3.8199000358581543, 3.8192999362945557, 3.819200038909912, 3.8183999061584473, 3.8176000118255615, 3.8171000480651855, 3.8171000480651855, 3.814300060272217, 3.812700033187866, 3.811300039291382, 3.8101999759674072, 3.8078999519348145, 3.8076000213623047, 3.8048999309539795, 3.8828001022338867, 3.8815999031066895, 3.881500005722046, 3.8814001083374023, 3.878700017929077, 3.878000020980835, 3.8778998851776123, 3.877700090408325, 3.8773999214172363, 3.8757998943328857, 3.8738999366760254, 3.872999906539917, 3.8729000091552734, 3.872299909591675, 3.871999979019165, 3.871999979019165, 3.870800018310547, 3.868499994277954, 3.8671000003814697, 3.86680006980896, 3.866499900817871, 3.8657000064849854, 3.8647000789642334, 3.8638999462127686, 3.8636999130249023, 3.8633999824523926, 3.863100051879883, 3.8629000186920166, 3.8615000247955322, 3.861299991607666, 3.9465999603271484, 3.946199893951416, 3.9446001052856445, 3.9440999031066895, 3.9435999393463135, 3.9433999061584473, 3.9423000812530518, 3.9419000148773193, 3.941800117492676, 3.941499948501587, 3.941200017929077, 3.938699960708618, 3.937299966812134, 3.9372000694274902, 3.937000036239624, 3.9354000091552734, 3.934799909591675, 3.933199882507324, 3.9321999549865723, 3.931299924850464, 3.9296000003814697, 3.9270999431610107, 3.925800085067749, 3.9256999492645264, 3.9247000217437744, 3.924499988555908, 3.924299955368042, 3.9240000247955322, 3.9214999675750732, 3.919800043106079, 3.9474000930786133, 3.946899890899658, 3.9458999633789062, 3.94569993019104, 3.9447999000549316, 3.9439001083374023, 3.942500114440918, 3.9421000480651855, 3.9414000511169434, 3.9402999877929688, 3.940000057220459, 3.9391000270843506, 3.9391000270843506, 3.938699960708618, 3.9377999305725098, 3.937700033187866, 3.9368999004364014, 3.9356000423431396, 3.935499906539917, 3.9337000846862793, 3.932300090789795, 3.931999921798706, 3.930999994277954, 3.930799961090088, 3.9296000003814697, 3.929500102996826, 3.9293999671936035, 3.92930006980896, 3.9291000366210938, 3.9289000034332275, 3.9472999572753906, 3.9470999240875244, 3.946500062942505, 3.946199893951416, 3.9460999965667725, 3.9451000690460205, 3.944999933242798, 3.9442999362945557, 3.943000078201294, 3.9405999183654785, 3.9402999877929688, 3.9398999214172363, 3.9398999214172363, 3.9398999214172363, 3.93969988822937, 3.939300060272217, 3.9391000270843506, 3.938699960708618, 3.9379000663757324, 3.9375998973846436, 3.9367001056671143, 3.9367001056671143, 3.935699939727783, 3.9351000785827637, 3.933199882507324, 3.9330999851226807, 3.9326000213623047, 3.9321999549865723, 3.9305999279022217, 3.9268999099731445, 3.9556000232696533, 3.9556000232696533, 3.9549999237060547, 3.954400062561035, 3.95169997215271, 3.9511001110076904, 3.950900077819824, 3.950500011444092, 3.9479000568389893, 3.946700096130371, 3.9463999271392822, 3.9463999271392822, 3.9463999271392822, 3.9451000690460205, 3.9451000690460205, 3.9439001083374023, 3.9439001083374023, 3.9419000148773193, 3.9409000873565674, 3.9395999908447266, 3.938499927520752, 3.9375998973846436, 3.937299966812134, 3.936500072479248, 3.9361000061035156, 3.935800075531006, 3.9354000091552734, 3.933500051498413, 3.9333999156951904, 3.933199882507324, 3.8348000049591064, 3.9791998863220215, 3.978800058364868, 3.9779999256134033, 3.977400064468384, 3.976900100708008, 3.9751999378204346, 3.975100040435791, 3.974100112915039, 3.973900079727173, 3.972599983215332, 3.9702000617980957, 3.969099998474121, 3.9681999683380127, 3.9677999019622803, 3.9663000106811523, 3.9655001163482666, 3.9647998809814453, 3.964099884033203, 3.963599920272827, 3.9611001014709473, 3.9591000080108643, 3.958899974822998, 3.9576001167297363, 3.95740008354187, 3.9572999477386475, 3.9570999145507812, 3.953900098800659, 3.9512999057769775, 3.950900077819824, 3.9507999420166016, 3.8582000732421875, 3.9798998832702637, 3.9788999557495117, 3.978100061416626, 3.9779999256134033, 3.9776999950408936, 3.975800037384033, 3.975600004196167, 3.975100040435791, 3.974900007247925, 3.9742000102996826, 3.97379994392395, 3.9737000465393066, 3.971100091934204, 3.9702999591827393, 3.9695000648498535, 3.9693000316619873, 3.967900037765503, 3.96560001373291, 3.9558000564575195, 3.9546000957489014, 3.948199987411499, 3.946899890899658, 3.9460999965667725, 3.9428999423980713, 3.9428999423980713, 3.941699981689453, 3.941499948501587, 3.940500020980835, 3.9374001026153564, 3.9372000694274902, 3.9853999614715576, 3.9837000370025635, 3.9828999042510986, 3.982800006866455, 3.9793999195098877, 3.9788999557495117, 3.978300094604492, 3.978300094604492, 3.9779999256134033, 3.9779000282287598, 3.9765000343322754, 3.975800037384033, 3.9753000736236572, 3.9746999740600586, 3.97379994392395, 3.973599910736084, 3.973599910736084, 3.973599910736084, 3.972899913787842, 3.9727001190185547, 3.9711999893188477, 3.9667999744415283, 3.964600086212158, 3.964400053024292, 3.964400053024292, 3.9625000953674316, 3.9612998962402344, 3.9611001014709473, 3.9607999324798584, 3.960200071334839, 3.998500108718872, 3.997499942779541, 3.9965999126434326, 3.9962000846862793, 3.9939000606536865, 3.99180006980896, 3.9916999340057373, 3.9916000366210938, 3.9902000427246094, 3.9897000789642334, 3.9885001182556152, 3.987799882888794, 3.9860999584198, 3.98580002784729, 3.9853999614715576, 3.985100030899048, 3.9828999042510986, 3.981800079345703, 3.9783999919891357, 3.978100061416626, 3.9767000675201416, 3.974400043487549, 3.973299980163574, 3.9719998836517334, 3.970900058746338, 3.9670000076293945, 3.9670000076293945, 3.9667000770568848, 3.9663000106811523, 3.964900016784668, 3.9967000484466553, 3.995699882507324, 3.9953999519348145, 3.994800090789795, 3.9946999549865723, 3.9941000938415527, 3.9937000274658203, 3.993499994277954, 3.9934000968933105, 3.9932000637054443, 3.9928998947143555, 3.9928998947143555, 3.9925999641418457, 3.9925999641418457, 3.9923999309539795, 3.990499973297119, 3.9904000759124756, 3.989799976348877, 3.989799976348877, 3.9895999431610107, 3.9885001182556152, 3.9860000610351562, 3.9853999614715576, 3.985300064086914, 3.982300043106079, 3.9811999797821045, 3.9779000282287598, 3.9765000343322754, 3.9765000343322754, 3.9763998985290527, 4.013899803161621, 4.012700080871582, 4.012499809265137, 4.012199878692627, 4.011600017547607, 4.010799884796143, 4.0106000900268555, 4.007800102233887, 4.007800102233887, 4.007299900054932, 4.0071001052856445, 4.00600004196167, 4.004700183868408, 4.0015997886657715, 4.001299858093262, 4.000800132751465, 4.000100135803223, 3.9995999336242676, 3.997499942779541, 3.9971001148223877, 3.9958999156951904, 3.995699882507324, 3.9951999187469482, 3.9939000606536865, 3.993499994277954, 3.9927000999450684, 3.9916999340057373, 3.9907000064849854, 3.990499973297119, 3.9893999099731445, 4.0254998207092285, 4.022200107574463, 4.021999835968018, 4.021200180053711, 4.020899772644043, 4.020299911499023, 4.020199775695801, 4.020100116729736, 4.019400119781494, 4.018799781799316, 4.018199920654297, 4.017099857330322, 4.014699935913086, 4.013000011444092, 4.010499954223633, 4.00600004196167, 4.00439977645874, 4.003399848937988, 4.001399993896484, 4.001299858093262, 4.001200199127197, 3.998199939727783, 3.9965999126434326, 3.9962000846862793, 3.9944000244140625, 3.9941999912261963, 3.993000030517578, 3.9927000999450684, 3.991300106048584, 3.9907000064849854, 4.032199859619141, 4.030399799346924, 4.030099868774414, 4.029200077056885, 4.029099941253662, 4.02869987487793, 4.025700092315674, 4.024799823760986, 4.023900032043457, 4.022200107574463, 4.021599769592285, 4.021299839019775, 4.020999908447266, 4.020999908447266, 4.020699977874756, 4.020500183105469, 4.019899845123291, 4.019899845123291, 4.017399787902832, 4.017399787902832, 4.017199993133545, 4.017000198364258, 4.013599872589111, 4.012499809265137, 4.011499881744385, 4.011499881744385, 4.011000156402588, 4.010499954223633, 4.008999824523926, 4.007599830627441, 4.034900188446045, 4.034800052642822, 4.03380012512207, 4.033299922943115, 4.0320000648498535, 4.031099796295166, 4.030200004577637, 4.030099868774414, 4.029900074005127, 4.029399871826172, 4.029200077056885, 4.029200077056885, 4.0289998054504395, 4.028200149536133, 4.027400016784668, 4.026100158691406, 4.025100231170654, 4.025000095367432, 4.024600028991699, 4.0243000984191895, 4.023900032043457, 4.02370023727417, 4.022900104522705, 4.022500038146973, 4.020899772644043, 4.020899772644043, 4.020400047302246, 4.019999980926514, 4.01800012588501, 4.01669979095459, 4.058899879455566, 4.057499885559082, 4.0569000244140625, 4.054500102996826, 4.054200172424316, 4.052700042724609, 4.052700042724609, 4.051400184631348, 4.0503997802734375, 4.049900054931641, 4.049499988555908, 4.049300193786621, 4.049300193786621, 4.048999786376953, 4.047699928283691, 4.047100067138672, 4.046599864959717, 4.04580020904541, 4.044600009918213, 4.044000148773193, 4.043399810791016, 4.042300224304199, 4.041999816894531, 4.041999816894531, 4.04040002822876, 4.039899826049805, 4.039599895477295, 4.037799835205078, 4.034800052642822, 4.034800052642822, 4.064899921417236, 4.0644001960754395, 4.0640997886657715, 4.063399791717529, 4.062399864196777, 4.061500072479248, 4.060500144958496, 4.060400009155273, 4.058800220489502, 4.058499813079834, 4.058199882507324, 4.058000087738037, 4.057199954986572, 4.056300163269043, 4.056099891662598, 4.0559000968933105, 4.055699825286865, 4.054500102996826, 4.0543999671936035, 4.053800106048584, 4.053699970245361, 4.053699970245361, 4.051199913024902, 4.050300121307373, 4.05019998550415, 4.047999858856201, 4.047500133514404, 4.046299934387207, 4.044899940490723, 4.044300079345703, 4.068999767303467, 4.067500114440918, 4.064700126647949, 4.064700126647949, 4.064599990844727, 4.064300060272217, 4.064300060272217, 4.064000129699707, 4.0625, 4.062399864196777, 4.062099933624268, 4.061800003051758, 4.0594000816345215, 4.058499813079834, 4.058300018310547, 4.05709981918335, 4.053999900817871, 4.053500175476074, 4.0528998374938965, 4.052700042724609, 4.052499771118164, 4.052199840545654, 4.05109977722168, 4.048600196838379, 4.048099994659424, 4.047699928283691, 4.0467000007629395, 4.045199871063232, 4.043000221252441, 4.042300224304199, 4.105800151824951, 4.103000164031982, 4.102499961853027, 4.102200031280518, 4.101099967956543, 4.1006999015808105, 4.100599765777588, 4.099899768829346, 4.098800182342529, 4.097700119018555, 4.097700119018555, 4.09630012512207, 4.09499979019165, 4.093900203704834, 4.093699932098389, 4.092800140380859, 4.092700004577637, 4.092599868774414, 4.091300010681152, 4.091300010681152, 4.090799808502197, 4.089799880981445, 4.089000225067139, 4.087399959564209, 4.086299896240234, 4.086299896240234, 4.0858001708984375, 4.08459997177124, 4.081699848175049, 4.080999851226807, 4.123700141906738, 4.121500015258789, 4.121099948883057, 4.120699882507324, 4.11959981918335, 4.119200229644775, 4.11899995803833, 4.11899995803833, 4.118199825286865, 4.116799831390381, 4.116700172424316, 4.116700172424316, 4.116000175476074, 4.111400127410889, 4.110199928283691, 4.110000133514404, 4.1097002029418945, 4.109499931335449, 4.109399795532227, 4.109099864959717, 4.10860013961792, 4.107999801635742, 4.107900142669678, 4.106800079345703, 4.106200218200684, 4.105999946594238, 4.104300022125244, 4.103000164031982, 4.10290002822876, 4.102399826049805, 3.250499963760376, 4.1265997886657715, 4.126299858093262, 4.123700141906738, 4.123600006103516, 4.122499942779541, 4.121799945831299, 4.1178998947143555, 4.117400169372559, 4.116799831390381, 4.116499900817871, 4.116399765014648, 4.115799903869629, 4.115300178527832, 4.114999771118164, 4.114299774169922, 4.114200115203857, 4.1128997802734375, 4.112800121307373, 4.112800121307373, 4.11269998550415, 4.1118998527526855, 4.110400199890137, 4.109399795532227, 4.107500076293945, 4.104499816894531, 4.1041998863220215, 4.1041998863220215, 4.103700160980225, 4.1031999588012695, 4.102499961853027, 4.221199989318848, 4.220300197601318, 4.218800067901611, 4.218599796295166, 4.218299865722656, 4.218100070953369, 4.216599941253662, 4.214799880981445, 4.213399887084961, 4.212299823760986, 4.210999965667725, 4.210899829864502, 4.210700035095215, 4.210599899291992, 4.209700107574463, 4.207099914550781, 4.206200122833252, 4.206200122833252, 4.2058000564575195, 4.204500198364258, 4.2032999992370605, 4.202600002288818, 4.201900005340576, 4.201099872589111, 4.2006001472473145, 4.197700023651123, 4.197000026702881, 4.196300029754639, 4.195799827575684, 4.1956000328063965, 4.114999771118164, 4.311299800872803, 4.309500217437744, 4.307799816131592, 4.30679988861084, 4.30679988861084, 4.306600093841553, 4.305699825286865, 4.305600166320801, 4.304100036621094, 4.303299903869629, 4.302599906921387, 4.3018999099731445, 4.30109977722168, 4.299200057983398, 4.299099922180176, 4.298900127410889, 4.297800064086914, 4.297599792480469, 4.29610013961792, 4.295300006866455, 4.294899940490723, 4.2947001457214355, 4.293799877166748, 4.292600154876709, 4.291299819946289, 4.291200160980225, 4.289400100708008, 4.2891998291015625, 4.289000034332275, 4.288700103759766, 4.390100002288818, 4.3892998695373535, 4.38539981842041, 4.384500026702881, 4.382699966430664, 4.3821001052856445, 4.381499767303467, 4.380499839782715, 4.380199909210205, 4.376800060272217, 4.375500202178955, 4.374000072479248, 4.371799945831299, 4.369999885559082, 4.369800090789795, 4.367199897766113, 4.367199897766113, 4.366600036621094, 4.366300106048584, 4.366099834442139, 4.366000175476074, 4.365799903869629, 4.364099979400635, 4.36359977722168, 4.362800121307373, 4.362299919128418, 4.361700057983398, 4.361599922180176, 4.359499931335449, 4.359399795532227, 4.177800178527832], \"logprob\": [30.0, 29.0, 28.0, 27.0, 26.0, 25.0, 24.0, 23.0, 22.0, 21.0, 20.0, 19.0, 18.0, 17.0, 16.0, 15.0, 14.0, 13.0, 12.0, 11.0, 10.0, 9.0, 8.0, 7.0, 6.0, 5.0, 4.0, 3.0, 2.0, 1.0, -0.7967000007629395, -0.9273999929428101, -2.7083001136779785, -3.8189001083374023, -5.800899982452393, -6.042200088500977, -6.047399997711182, -6.314000129699707, -6.497499942779541, -6.560100078582764, -6.832399845123291, -6.835299968719482, -6.8470001220703125, -6.915500164031982, -7.084799766540527, -7.134699821472168, -7.161200046539307, -7.219399929046631, -7.248199939727783, -7.254499912261963, -7.257699966430664, -7.282299995422363, -7.293799877166748, -7.391499996185303, -7.429699897766113, -7.446800231933594, -7.4781999588012695, -7.495100021362305, -7.6184000968933105, -7.645299911499023, -4.056099891662598, -4.932700157165527, -7.477799892425537, -2.754699945449829, -3.218100070953369, -3.2925000190734863, -3.3780999183654785, -3.691499948501587, -3.856100082397461, -4.024700164794922, -4.061800003051758, -4.119100093841553, -4.132299900054932, -4.170499801635742, -4.232500076293945, -4.346099853515625, -4.376299858093262, -4.438799858093262, -4.440999984741211, -4.522200107574463, -4.543600082397461, -4.58459997177124, -4.617199897766113, -4.65749979019165, -4.7118000984191895, -4.722099781036377, -4.784999847412109, -4.8125, -4.839200019836426, -4.859099864959717, -4.873499870300293, -4.927000045776367, -4.956399917602539, -1.1450999975204468, -2.340100049972534, -2.434000015258789, -2.761399984359741, -3.4446001052856445, -3.940200090408325, -3.993499994277954, -4.0395002365112305, -4.1468000411987305, -4.19789981842041, -4.30620002746582, -4.325900077819824, -4.392399787902832, -4.441800117492676, -4.562900066375732, -4.579999923706055, -4.666500091552734, -4.702199935913086, -4.702600002288818, -4.732600212097168, -4.735599994659424, -4.788099765777588, -4.802700042724609, -4.9008002281188965, -4.942999839782715, -5.002999782562256, -5.163400173187256, -5.214099884033203, -5.254199981689453, -5.269400119781494, -5.279900074005127, -1.2064000368118286, -2.547100067138672, -2.7369000911712646, -2.847599983215332, -3.293299913406372, -3.2957000732421875, -3.334700107574463, -3.4823999404907227, -3.6041998863220215, -3.68179988861084, -3.7314999103546143, -3.969399929046631, -4.121300220489502, -4.216400146484375, -4.269700050354004, -4.301599979400635, -4.351900100708008, -4.485000133514404, -4.507999897003174, -4.586100101470947, -4.603000164031982, -4.628399848937988, -4.686999797821045, -4.68779993057251, -4.71019983291626, -4.713200092315674, -4.745800018310547, -4.756400108337402, -4.758600234985352, -4.809100151062012, -4.872700214385986, -4.872000217437744, -1.1583000421524048, -1.9637000560760498, -2.710400104522705, -3.34660005569458, -3.5624001026153564, -3.572999954223633, -3.5922000408172607, -3.65120005607605, -3.7435998916625977, -3.7920000553131104, -4.094900131225586, -4.177599906921387, -4.215099811553955, -4.229700088500977, -4.250899791717529, -4.275100231170654, -4.438300132751465, -4.482699871063232, -4.483099937438965, -4.494999885559082, -4.528800010681152, -4.61299991607666, -4.853499889373779, -4.9380998611450195, -5.0559000968933105, -5.086299896240234, -5.114099979400635, -5.315499782562256, -5.315800189971924, -5.379499912261963, -0.9453999996185303, -2.1422998905181885, -2.666599988937378, -3.510699987411499, -3.552799940109253, -3.6278998851776123, -3.6898000240325928, -3.939500093460083, -4.026700019836426, -4.269700050354004, -4.273900032043457, -4.384900093078613, -4.41480016708374, -4.537099838256836, -4.570499897003174, -4.647500038146973, -4.903299808502197, -4.929800033569336, -4.938799858093262, -4.954599857330322, -4.978000164031982, -5.051000118255615, -5.09060001373291, -5.167099952697754, -5.198800086975098, -5.202300071716309, -5.237800121307373, -5.247399806976318, -5.3231000900268555, -5.326399803161621, -2.1115000247955322, -2.911099910736084, -2.970400094985962, -3.1178998947143555, -3.1726999282836914, -3.2118000984191895, -3.348900079727173, -3.6572000980377197, -3.8185999393463135, -3.8469998836517334, -3.8589000701904297, -3.9203999042510986, -3.950000047683716, -4.009300231933594, -4.0096001625061035, -4.13040018081665, -4.190999984741211, -4.184199810028076, -4.361100196838379, -4.452899932861328, -4.461900234222412, -4.464600086212158, -4.495999813079834, -4.593299865722656, -4.691999912261963, -4.7067999839782715, -4.7368998527526855, -4.830999851226807, -4.839600086212158, -4.860400199890137, -4.272900104522705, -2.1422998905181885, -2.354599952697754, -2.373300075531006, -2.3785998821258545, -2.539799928665161, -3.0373001098632812, -3.272599935531616, -3.465399980545044, -3.6886000633239746, -3.700000047683716, -3.7597999572753906, -3.8273000717163086, -3.8336000442504883, -4.187300205230713, -4.219399929046631, -4.2941999435424805, -4.365200042724609, -4.618500232696533, -4.645999908447266, -4.707099914550781, -4.764999866485596, -4.838699817657471, -4.882699966430664, -4.982500076293945, -5.093100070953369, -5.126399993896484, -5.1641998291015625, -5.173600196838379, -5.217599868774414, -5.222599983215332, -2.266200065612793, -2.3796000480651855, -2.6119000911712646, -2.722100019454956, -2.86899995803833, -3.0936999320983887, -3.1533000469207764, -3.452199935913086, -3.511199951171875, -3.7095999717712402, -3.7214999198913574, -3.781599998474121, -3.913800001144409, -3.9433999061584473, -4.03000020980835, -4.050099849700928, -4.118100166320801, -4.127900123596191, -4.236299991607666, -4.377999782562256, -4.407700061798096, -4.5278000831604, -4.555600166320801, -4.855500221252441, -4.898200035095215, -4.937300205230713, -4.987800121307373, -5.067699909210205, -5.103899955749512, -5.121799945831299, -1.3681000471115112, -2.296299934387207, -2.3984999656677246, -2.8350000381469727, -3.0353000164031982, -3.5553998947143555, -3.5952000617980957, -3.70770001411438, -3.8980000019073486, -4.029699802398682, -4.0854997634887695, -4.185200214385986, -4.216899871826172, -4.234899997711182, -4.312399864196777, -4.326900005340576, -4.361999988555908, -4.525599956512451, -4.679900169372559, -4.701700210571289, -4.8643999099731445, -4.914999961853027, -4.910399913787842, -4.946599960327148, -4.952899932861328, -4.962900161743164, -4.992099761962891, -5.048699855804443, -5.174099922180176, -5.26609992980957, -1.764299988746643, -2.424499988555908, -2.517899990081787, -3.0299999713897705, -3.0360000133514404, -3.0497000217437744, -3.066200017929077, -3.1930999755859375, -3.4672999382019043, -3.7314000129699707, -3.7630999088287354, -3.881999969482422, -3.97979998588562, -4.126999855041504, -4.175300121307373, -4.214200019836426, -4.407299995422363, -4.417600154876709, -4.763500213623047, -4.8231000900268555, -4.856599807739258, -4.873000144958496, -4.853799819946289, -4.9095001220703125, -4.967400074005127, -4.991600036621094, -5.010900020599365, -5.014999866485596, -5.05620002746582, -5.064599990844727, -1.4103000164031982, -1.507599949836731, -2.950000047683716, -3.516700029373169, -3.5875000953674316, -3.6586999893188477, -3.7411000728607178, -3.841399908065796, -3.869999885559082, -3.9091999530792236, -3.9130001068115234, -4.045599937438965, -4.057199954986572, -4.368100166320801, -4.702700138092041, -4.723700046539307, -4.740799903869629, -4.7434000968933105, -4.793399810791016, -4.806600093841553, -4.842299938201904, -5.0609002113342285, -5.079699993133545, -5.105199813842773, -5.197999954223633, -5.2154998779296875, -5.227399826049805, -5.2494001388549805, -5.24970006942749, -5.289899826049805, -1.6202000379562378, -2.5645999908447266, -2.9217000007629395, -2.9433999061584473, -3.2804999351501465, -3.486999988555908, -3.489500045776367, -3.5297999382019043, -3.6285998821258545, -3.7862000465393066, -3.9916999340057373, -4.003799915313721, -4.146699905395508, -4.190499782562256, -4.2256999015808105, -4.30709981918335, -4.367300033569336, -4.402599811553955, -4.445300102233887, -4.506100177764893, -4.602399826049805, -4.622600078582764, -4.656599998474121, -4.6631999015808105, -4.678199768066406, -4.730999946594238, -4.730899810791016, -4.772299766540527, -4.85890007019043, -5.015399932861328, -2.150599956512451, -2.5329999923706055, -2.5713999271392822, -2.8685998916625977, -3.1535000801086426, -3.216099977493286, -3.232100009918213, -3.243299961090088, -3.5025999546051025, -3.528700113296509, -3.592600107192993, -3.740299940109253, -3.838599920272827, -3.877000093460083, -3.911099910736084, -3.960900068283081, -4.0278000831604, -4.136000156402588, -4.217800140380859, -4.505099773406982, -4.524099826812744, -4.62529993057251, -4.645400047302246, -4.729000091552734, -4.790599822998047, -5.037700176239014, -5.055200099945068, -5.070099830627441, -5.090400218963623, -5.112800121307373, -1.783400058746338, -2.4530999660491943, -2.7007999420166016, -2.7499001026153564, -3.240999937057495, -3.327899932861328, -3.3956000804901123, -3.4835000038146973, -3.6364998817443848, -3.7602999210357666, -3.8203999996185303, -3.905600070953369, -4.017899990081787, -4.083199977874756, -4.178100109100342, -4.3024001121521, -4.312399864196777, -4.339099884033203, -4.343200206756592, -4.470600128173828, -4.4953999519348145, -4.572299957275391, -4.685999870300293, -4.706699848175049, -4.7453999519348145, -4.753900051116943, -4.756199836730957, -4.769400119781494, -4.925099849700928, -5.05109977722168, -1.8229999542236328, -2.372999906539917, -3.0004000663757324, -3.275399923324585, -3.410399913787842, -3.509700059890747, -3.588099956512451, -3.6231000423431396, -3.70740008354187, -3.7288999557495117, -3.821199893951416, -3.8397998809814453, -3.891200065612793, -3.916800022125244, -3.9488000869750977, -3.966200113296509, -4.008699893951416, -4.206299781799316, -4.222300052642822, -4.301400184631348, -4.441500186920166, -4.488399982452393, -4.540500164031982, -4.559899806976318, -4.598400115966797, -4.642499923706055, -4.650199890136719, -4.684299945831299, -4.694399833679199, -4.746099948883057, -1.5931999683380127, -1.8796000480651855, -2.307800054550171, -3.48580002784729, -3.6201999187469482, -3.6998000144958496, -3.7028000354766846, -3.8145999908447266, -3.819200038909912, -3.8866000175476074, -4.031099796295166, -4.197500228881836, -4.206200122833252, -4.206099987030029, -4.3317999839782715, -4.338399887084961, -4.436800003051758, -4.482800006866455, -4.5208001136779785, -4.530900001525879, -4.578000068664551, -4.6290998458862305, -4.656599998474121, -4.658100128173828, -4.802800178527832, -4.881400108337402, -4.9405999183654785, -4.988500118255615, -5.079999923706055, -5.09250020980835, -4.798500061035156, -1.8580000400543213, -2.5773000717163086, -2.6166000366210938, -2.6547000408172607, -3.393399953842163, -3.512500047683716, -3.51990008354187, -3.566999912261963, -3.6022000312805176, -3.821199893951416, -4.0346999168396, -4.127900123596191, -4.136099815368652, -4.182600021362305, -4.212500095367432, -4.213799953460693, -4.302299976348877, -4.469299793243408, -4.560800075531006, -4.573400020599365, -4.595399856567383, -4.6392998695373535, -4.689499855041504, -4.732900142669678, -4.741600036621094, -4.756700038909912, -4.771299839019775, -4.781899929046631, -4.849800109863281, -4.855299949645996, -2.0390000343322754, -2.2390999794006348, -2.8970999717712402, -3.0227999687194824, -3.144399881362915, -3.197499990463257, -3.408600091934204, -3.474100112915039, -3.4860999584198, -3.5336999893188477, -3.574199914932251, -3.8928000926971436, -4.038400173187256, -4.04610013961792, -4.060200214385986, -4.200099945068359, -4.249800205230713, -4.3597002029418945, -4.428500175476074, -4.481100082397461, -4.579699993133545, -4.7052998542785645, -4.770899772644043, -4.7743000984191895, -4.821100234985352, -4.8277997970581055, -4.837100028991699, -4.848800182342529, -4.949699878692627, -5.0117998123168945, -2.257200002670288, -2.469399929046631, -2.8480000495910645, -2.9159998893737793, -3.149199962615967, -3.3203001022338867, -3.571700096130371, -3.61680006980896, -3.7144999504089355, -3.8554999828338623, -3.888200044631958, -3.97189998626709, -3.9730000495910645, -4.019499778747559, -4.098999977111816, -4.104899883270264, -4.178400039672852, -4.274600028991699, -4.283400058746338, -4.406000137329102, -4.396599769592285, -4.51200008392334, -4.571199893951416, -4.581600189208984, -4.645400047302246, -4.650899887084961, -4.656300067901611, -4.661300182342529, -4.671000003814697, -4.683300018310547, -2.696700096130371, -2.7534000873565674, -2.9268999099731445, -3.0151000022888184, -3.047499895095825, -3.2732999324798584, -3.2936999797821045, -3.410599946975708, -3.623800039291382, -3.910900115966797, -3.9474000930786133, -3.9816999435424805, -3.983099937438965, -3.9835000038146973, -4.002699851989746, -4.041500091552734, -4.062699794769287, -4.0945000648498535, -4.1656999588012695, -4.193399906158447, -4.257400035858154, -4.259900093078613, -4.330599784851074, -4.375500202178955, -4.497399806976318, -4.498199939727783, -4.52839994430542, -4.550300121307373, -4.640999794006348, -4.814199924468994, -2.0836000442504883, -2.1045000553131104, -2.4124999046325684, -2.661900043487549, -3.3469998836517334, -3.4512999057769775, -3.4890999794006348, -3.5439000129699707, -3.879699945449829, -4.000100135803223, -4.026000022888184, -4.029200077056885, -4.033299922943115, -4.145599842071533, -4.146200180053711, -4.2347002029418945, -4.23769998550415, -4.382500171661377, -4.445000171661377, -4.525899887084961, -4.587200164794922, -4.634399890899658, -4.648200035095215, -4.686399936676025, -4.705100059509277, -4.720399856567383, -4.739500045776367, -4.824699878692627, -4.828400135040283, -4.835700035095215, -4.61329984664917, -1.7922999858856201, -2.096299886703491, -2.4853999614715576, -2.7014000415802, -2.8863000869750977, -3.2723000049591064, -3.3020999431610107, -3.462399959564209, -3.50219988822937, -3.6837000846862793, -3.950500011444092, -4.060699939727783, -4.132199764251709, -4.167200088500977, -4.282199859619141, -4.335700035095215, -4.382999897003174, -4.425600051879883, -4.458799839019775, -4.596499919891357, -4.696599960327148, -4.706399917602539, -4.767399787902832, -4.775400161743164, -4.781000137329102, -4.788099765777588, -4.919400215148926, -5.016499996185303, -5.027599811553955, -5.032400131225586, -3.9697999954223633, -1.5879000425338745, -2.310499906539917, -2.6415998935699463, -2.6835999488830566, -2.7822999954223633, -3.2448999881744385, -3.2799999713897705, -3.3726000785827637, -3.4066998958587646, -3.521399974822998, -3.578000068664551, -3.59060001373291, -3.9094998836517334, -3.9844000339508057, -4.060800075531006, -4.074900150299072, -4.191500186920166, -4.360799789428711, -4.8597002029418945, -4.909800052642822, -5.130099773406982, -5.1707000732421875, -5.194699764251709, -5.282700061798096, -5.283699989318848, -5.291600227355957, -5.3155999183654785, -5.345799922943115, -5.421999931335449, -5.4257001876831055, -1.6030000448226929, -2.5947999954223633, -2.8742001056671143, -2.895900011062622, -3.5641000270843506, -3.629699945449829, -3.7114999294281006, -3.7153000831604004, -3.7495999336242676, -3.76419997215271, -3.9147000312805176, -3.986299991607666, -4.025599956512451, -4.082300186157227, -4.158899784088135, -4.170499801635742, -4.170599937438965, -4.174600124359131, -4.224599838256836, -4.23360013961792, -4.349299907684326, -4.601900100708008, -4.712399959564209, -4.718800067901611, -4.72160005569458, -4.742300033569336, -4.854599952697754, -4.861199855804443, -4.87470006942749, -4.8993000984191895, -1.5515999794006348, -2.2764999866485596, -2.648699998855591, -2.787600040435791, -3.3208999633789062, -3.652400016784668, -3.65910005569458, -3.6768999099731445, -3.83240008354187, -3.8840999603271484, -4.002600193023682, -4.071000099182129, -4.200900077819824, -4.228899955749512, -4.259099960327148, -4.2804999351501465, -4.4222002029418945, -4.482999801635742, -4.662899971008301, -4.674300193786621, -4.742599964141846, -4.83459997177124, -4.882800102233887, -4.931600093841553, -4.971700191497803, -5.10099983215332, -5.101799964904785, -5.109300136566162, -5.026700019836426, -5.16480016708374, -2.7147998809814453, -3.0028998851776123, -3.066800117492676, -3.198699951171875, -3.2156999111175537, -3.3341000080108643, -3.4047999382019043, -3.4330999851226807, -3.4470999240875244, -3.478800058364868, -3.5201001167297363, -3.5262999534606934, -3.566200017929077, -3.5734000205993652, -3.5917000770568848, -3.8276000022888184, -3.8434998989105225, -3.9049999713897705, -3.9052999019622803, -3.9230000972747803, -4.031199932098389, -4.231800079345703, -4.276400089263916, -4.280399799346924, -4.472599983215332, -4.532299995422363, -4.699100017547607, -4.7621002197265625, -4.7631001472473145, -4.76639986038208, -2.1672000885009766, -2.6821000576019287, -2.759999990463257, -2.8378000259399414, -3.0002999305725098, -3.179800033569336, -3.2255001068115234, -3.654099941253662, -3.6633999347686768, -3.7105000019073486, -3.743499994277954, -3.8696999549865723, -3.993000030517578, -4.240200042724609, -4.263599872589111, -4.297399997711182, -4.344099998474121, -4.375999927520752, -4.500100135803223, -4.5233001708984375, -4.587800025939941, -4.598499774932861, -4.6209001541137695, -4.683700084686279, -4.702300071716309, -4.7357001304626465, -4.779900074005127, -4.823400020599365, -4.740699768066406, -4.874300003051758, -1.3770999908447266, -2.998300075531006, -3.039400100708008, -3.2158000469207764, -3.2674999237060547, -3.37280011177063, -3.3926000595092773, -3.4184000492095947, -3.519399881362915, -3.6017000675201416, -3.6758999824523926, -3.8108999729156494, -4.043000221252441, -4.177299976348877, -4.349400043487549, -4.600100040435791, -4.677000045776367, -4.724299907684326, -4.790900230407715, -4.809999942779541, -4.814700126647949, -4.928500175476074, -4.986999988555908, -5.000100135803223, -5.055600166320801, -5.063499927520752, -5.101099967956543, -5.110300064086914, -5.151599884033203, -5.168499946594238, -1.8351000547409058, -2.6856000423431396, -2.791300058364868, -3.033900022506714, -3.0573999881744385, -3.1484999656677246, -3.631200075149536, -3.7397000789642334, -3.841399908065796, -4.000500202178955, -4.055600166320801, -4.0802998542785645, -4.108099937438965, -4.110099792480469, -4.132699966430664, -4.1468000411987305, -4.19320011138916, -4.143899917602539, -4.358399868011475, -4.360400199890137, -4.371300220489502, -4.388400077819824, -4.573500156402588, -4.63129997253418, -4.674900054931641, -4.676000118255615, -4.7017998695373535, -4.721399784088135, -4.787600040435791, -4.839700222015381, -2.6738998889923096, -2.696899890899658, -2.9856998920440674, -3.099100112915039, -3.3575000762939453, -3.496999979019165, -3.6161999702453613, -3.630000114440918, -3.6570000648498535, -3.7137999534606934, -3.738800048828125, -3.7467000484466553, -3.766200065612793, -3.8473000526428223, -3.9284000396728516, -4.049200057983398, -4.13100004196167, -4.138800144195557, -4.166200160980225, -4.188399791717529, -4.2164998054504395, -4.230500221252441, -4.289999961853027, -4.313300132751465, -4.4105000495910645, -4.4141998291015625, -4.439199924468994, -4.463399887084961, -4.5721001625061035, -4.635499954223633, -1.7101000547409058, -2.514400005340576, -2.7125000953674316, -3.2708001136779785, -3.3148000240325928, -3.546799898147583, -3.5487000942230225, -3.712399959564209, -3.820199966430664, -3.8754000663757324, -3.910799980163574, -3.9310998916625977, -3.930999994277954, -3.9619998931884766, -4.066800117492676, -4.115499973297119, -4.1528000831604, -4.212900161743164, -4.295499801635742, -4.33489990234375, -4.370999813079834, -4.4328999519348145, -4.448800086975098, -4.4517998695373535, -4.537099838256836, -4.548399925231934, -4.5782999992370605, -4.664100170135498, -4.788599967956543, -4.7906999588012695, -2.8159000873565674, -2.950900077819824, -3.0243000984191895, -3.177799940109253, -3.3466999530792236, -3.4853999614715576, -3.628000020980835, -3.6410999298095703, -3.8234000205993652, -3.853100061416626, -3.8817999362945557, -3.8986001014709473, -3.9681999683380127, -4.052599906921387, -4.066100120544434, -4.077000141143799, -4.09630012512207, -4.186399936676025, -4.195199966430664, -4.2378997802734375, -4.242300033569336, -4.242599964141846, -4.399400234222412, -4.448500156402588, -4.457200050354004, -4.57289981842041, -4.596199989318848, -4.6493000984191895, -4.711599826812744, -4.737199783325195, -1.9603999853134155, -2.6602001190185547, -3.3060998916625977, -3.3069000244140625, -3.335200071334839, -3.3831000328063965, -3.3838000297546387, -3.418600082397461, -3.629499912261963, -3.6431000232696533, -3.6830999851226807, -3.712599992752075, -3.958400011062622, -4.037099838256836, -4.049300193786621, -4.141300201416016, -4.355999946594238, -4.383299827575684, -4.418600082397461, -4.431099891662598, -4.442599773406982, -4.45959997177124, -4.5177998542785645, -4.639900207519531, -4.659200191497803, -4.680300235748291, -4.723599910736084, -4.781799793243408, -4.869900226593018, -4.813799858093262, -1.9031000137329102, -2.964099884033203, -3.0706000328063965, -3.1275999546051025, -3.3262999057769775, -3.393699884414673, -3.408400058746338, -3.506700038909912, -3.643699884414673, -3.7706000804901123, -3.7720999717712402, -3.905100107192993, -4.014100074768066, -4.105199813842773, -4.098199844360352, -4.180600166320801, -4.187699794769287, -4.19890022277832, -4.274700164794922, -4.284999847412109, -4.3130998611450195, -4.373600006103516, -4.420599937438965, -4.5015997886657715, -4.556700229644775, -4.558499813079834, -4.582699775695801, -4.636499881744385, -4.75540018081665, -4.784299850463867, -2.602099895477295, -3.1379001140594482, -3.2232000827789307, -3.2792000770568848, -3.456700086593628, -3.510699987411499, -3.45989990234375, -3.5332000255584717, -3.634399890899658, -3.7860000133514404, -3.7906999588012695, -3.7887001037597656, -3.8654000759124756, -4.220300197601318, -4.297900199890137, -4.307700157165527, -4.328400135040283, -4.339000225067139, -4.344200134277344, -4.36269998550415, -4.388899803161621, -4.422500133514404, -4.425000190734863, -4.073999881744385, -4.514999866485596, -4.526000022888184, -4.603499889373779, -4.6605000495910645, -4.6641998291015625, -4.686100006103516, -4.173399925231934, -2.1166000366210938, -2.2676000595092773, -3.0532000064849854, -3.078900098800659, -3.273400068283081, -3.3814001083374023, -3.8457000255584717, -3.8942999839782715, -3.9475998878479004, -3.967099905014038, -3.9814999103546143, -4.028299808502197, -4.069499969482422, -4.089099884033203, -4.140399932861328, -4.145500183105469, -4.212299823760986, -4.241700172424316, -4.242499828338623, -4.237299919128418, -4.2967000007629395, -4.3790998458862305, -4.440299987792969, -4.5065999031066895, -4.6717000007629395, -4.682300090789795, -4.683199882507324, -4.704400062561035, -4.722899913787842, -4.752500057220459, -2.596100091934204, -2.823499917984009, -3.1357998847961426, -3.169800043106079, -3.2167000770568848, -3.2486000061035156, -3.4605000019073486, -3.6591999530792236, -3.7934000492095947, -3.8914999961853027, -3.9911000728607178, -4.001100063323975, -4.01200008392334, -4.022500038146973, -4.084400177001953, -4.249499797821045, -4.2982001304626465, -4.29640007019043, -4.321700096130371, -4.389200210571289, -4.446100234985352, -4.4791998863220215, -4.513700008392334, -4.54580020904541, -4.569699764251709, -4.684500217437744, -4.711900234222412, -4.7347002029418945, -4.7519001960754395, -4.7617998123168945, -4.504300117492676, -2.7102999687194824, -3.086699962615967, -3.3310000896453857, -3.4523000717163086, -3.455399990081787, -3.482800006866455, -3.5757999420166016, -3.5822999477386475, -3.7309999465942383, -3.8018999099731445, -3.857599973678589, -3.9103000164031982, -3.9642999172210693, -4.087800025939941, -4.099400043487549, -4.111400127410889, -4.170300006866455, -4.183300018310547, -4.2692999839782715, -4.3078999519348145, -3.822000026702881, -4.333700180053711, -4.382500171661377, -4.4369001388549805, -4.493000030517578, -4.496399879455566, -4.569399833679199, -4.576000213623047, -4.58489990234375, -4.595600128173828, -2.0246999263763428, -2.3190999031066895, -3.164299964904785, -3.2836999893188477, -3.4876999855041504, -3.5480000972747803, -3.602099895477295, -3.691499948501587, -3.717900037765503, -3.9655001163482666, -4.040200233459473, -4.134900093078613, -4.246799945831299, -4.330100059509277, -4.343900203704834, -4.4517998695373535, -4.448500156402588, -4.476399898529053, -4.487800121307373, -4.494100093841553, -4.5015997886657715, -4.433199882507324, -4.570400238037109, -4.589099884033203, -4.615300178527832, -4.571800231933594, -4.652699947357178, -4.654699802398682, -4.723599910736084, -4.725800037384033, -4.393499851226807]}, \"token.table\": {\"Topic\": [21, 32, 2, 3, 34, 6, 11, 37, 14, 17, 7, 1, 34, 33, 6, 9, 11, 13, 23, 39, 18, 28, 4, 39, 10, 4, 20, 14, 9, 22, 6, 23, 17, 36, 37, 22, 36, 15, 13, 14, 6, 35, 24, 27, 10, 38, 20, 5, 38, 22, 7, 10, 10, 28, 26, 26, 22, 20, 32, 33, 20, 22, 4, 22, 35, 37, 8, 40, 4, 16, 2, 10, 5, 12, 19, 23, 39, 29, 9, 26, 25, 25, 17, 35, 35, 28, 29, 8, 38, 35, 24, 5, 16, 26, 19, 20, 11, 16, 33, 17, 24, 17, 37, 3, 4, 37, 34, 38, 37, 24, 11, 8, 18, 39, 15, 19, 2, 7, 40, 33, 4, 21, 27, 28, 26, 23, 8, 13, 18, 12, 35, 7, 36, 16, 28, 30, 38, 33, 3, 35, 36, 21, 4, 40, 27, 11, 32, 36, 11, 9, 6, 1, 26, 24, 39, 23, 10, 31, 26, 21, 34, 15, 33, 2, 38, 12, 29, 16, 35, 30, 37, 36, 8, 1, 18, 1, 2, 3, 2, 6, 36, 25, 40, 22, 26, 20, 3, 11, 23, 36, 30, 27, 22, 38, 39, 13, 11, 12, 6, 9, 18, 25, 31, 25, 19, 11, 5, 13, 34, 22, 1, 3, 12, 39, 17, 20, 33, 38, 2, 12, 19, 26, 36, 36, 11, 28, 16, 9, 25, 27, 5, 32, 12, 25, 37, 16, 17, 1, 27, 1, 36, 5, 8, 15, 38, 7, 16, 18, 38, 38, 11, 26, 1, 27, 22, 32, 10, 35, 36, 12, 23, 14, 38, 35, 34, 23, 14, 1, 10, 27, 21, 16, 26, 20, 14, 31, 3, 21, 4, 14, 21, 29, 14, 2, 9, 27, 3, 38, 16, 4, 28, 11, 18, 20, 1, 31, 26, 40, 36, 8, 20, 14, 12, 17, 24, 3, 20, 39, 36, 24, 32, 20, 16, 33, 30, 1, 22, 5, 23, 26, 4, 37, 37, 14, 10, 8, 30, 5, 39, 12, 29, 36, 2, 38, 1, 9, 6, 30, 26, 28, 34, 7, 23, 31, 28, 2, 16, 10, 39, 29, 6, 32, 7, 19, 27, 31, 27, 9, 31, 17, 20, 16, 38, 30, 4, 34, 13, 37, 33, 19, 40, 38, 40, 36, 9, 27, 26, 16, 6, 39, 29, 25, 4, 20, 9, 23, 31, 2, 39, 22, 38, 21, 33, 36, 23, 9, 9, 29, 21, 7, 40, 14, 2, 9, 9, 25, 2, 30, 20, 40, 7, 1, 30, 39, 16, 28, 5, 33, 37, 34, 35, 19, 20, 19, 1, 18, 11, 32, 23, 30, 12, 21, 13, 40, 8, 40, 25, 24, 33, 7, 25, 27, 6, 2, 30, 22, 25, 24, 27, 35, 7, 27, 28, 38, 34, 12, 2, 13, 28, 35, 23, 22, 30, 37, 10, 25, 2, 5, 1, 21, 17, 29, 22, 15, 29, 29, 10, 14, 40, 1, 15, 16, 23, 24, 29, 40, 4, 30, 10, 6, 24, 3, 4, 35, 11, 12, 29, 13, 19, 35, 18, 27, 28, 18, 18, 3, 28, 7, 6, 30, 4, 36, 26, 4, 37, 4, 36, 22, 25, 40, 34, 3, 31, 15, 13, 39, 13, 3, 12, 15, 35, 24, 33, 30, 28, 3, 31, 1, 20, 37, 34, 15, 14, 39, 21, 17, 14, 17, 14, 34, 6, 27, 13, 13, 8, 38, 23, 31, 40, 14, 23, 21, 29, 6, 24, 5, 15, 14, 18, 38, 20, 10, 7, 19, 20, 25, 28, 13, 21, 10, 25, 36, 4, 32, 18, 14, 4, 32, 29, 26, 22, 38, 4, 1, 2, 11, 30, 10, 38, 1, 32, 12, 9, 16, 7, 22, 35, 12, 20, 8, 39, 21, 3, 14, 32, 27, 11, 18, 5, 31, 34, 34, 21, 16, 34, 1, 38, 40, 28, 8, 18, 33, 16, 25, 15, 39, 35, 15, 39, 13, 29, 25, 21, 27, 19, 8, 32, 24, 31, 38, 14, 25, 40, 25, 32, 15, 1, 13, 5, 36, 15, 33, 13, 26, 28, 12, 15, 40, 14, 3, 1, 13, 17, 32, 1, 18, 15, 34, 34, 35, 23, 36, 34, 36, 13, 31, 31, 29, 21, 36, 37, 36, 40, 3, 17, 22, 24, 19, 16, 14, 23, 7, 9, 6, 31, 5, 5, 31, 10, 7, 22, 25, 40, 3, 10, 34, 24, 39, 2, 22, 25, 37, 6, 21, 15, 20, 26, 1, 3, 14, 8, 11, 27, 34, 6, 1, 35, 17, 8, 18, 15, 16, 1, 37, 13, 37, 30, 17, 28, 1, 15, 31, 32, 8, 24, 17, 16, 33, 13, 19, 31, 27, 18, 10, 3, 24, 3, 5, 3, 25, 29, 8, 1, 32, 27, 1, 23, 33, 16, 32, 7, 24, 40, 40, 11, 13, 18, 37, 28, 5, 37, 18, 34, 28, 39, 8, 37, 21, 13, 29, 30, 36, 23, 38, 8, 17, 39, 7, 2, 27, 27, 19, 29, 31, 26, 14, 32, 21, 21, 24, 38, 33, 26, 2, 27, 28, 19, 23, 28, 28, 30, 24, 1, 2, 3, 4, 5, 6, 7, 8, 9, 10, 11, 12, 13, 14, 15, 16, 17, 18, 19, 20, 21, 22, 23, 24, 25, 26, 27, 28, 29, 30, 31, 32, 33, 34, 35, 36, 37, 38, 39, 40, 26, 30, 24, 28, 27, 20, 2, 6, 19, 5, 35, 33, 19, 9, 27, 14, 4, 29, 29, 34, 5, 17, 33, 23, 15, 31, 9, 27, 6, 37, 7, 31, 18, 40, 4, 8, 9, 9, 26, 7, 33, 38, 33, 18, 15, 17, 34, 13, 2, 17, 20, 5, 8, 6, 34, 1, 27, 20, 12, 3, 3, 5, 19, 8, 31, 6, 32, 10, 28, 8, 10, 26, 4, 4, 39, 6, 18, 12, 22, 2, 16, 8, 10, 12, 5, 1, 24, 15, 39, 40, 19, 2, 34, 30, 21, 9, 4, 17, 1, 4, 8, 9, 10, 13, 18, 21, 26, 27, 29, 33, 37, 38, 22, 16, 20, 15, 39, 14, 33, 28, 29, 3, 2, 3, 34, 23, 18, 4, 8, 32, 24, 35, 20, 26, 5, 23, 24, 32, 37, 3, 18, 30, 32, 9, 7, 5, 2, 36, 32, 30, 15, 23, 31, 30, 18, 1, 2, 7, 32, 3, 2, 18, 20, 17, 30, 33, 1, 33, 15, 39, 11, 2, 23, 4, 9, 10, 9, 12, 38, 40, 16, 38, 12, 16, 12, 39, 30, 11, 30, 25, 7, 30, 6, 37, 12, 26, 31, 29, 37, 39, 21, 30, 22, 34, 19, 40, 25, 19, 2, 15, 10, 12, 8, 14, 9, 4, 5, 14, 22, 9, 19, 6, 19, 5, 33, 32, 27, 37, 2, 25, 26, 21, 7, 10, 24, 24, 20, 8, 12, 40, 15, 36, 30, 17, 40, 21, 5, 19, 26, 24, 25, 10, 25, 33, 11, 34, 40, 16, 6, 16, 20, 7, 5, 37, 17, 19, 8, 29, 21, 9, 13, 35, 29, 4, 9, 17, 15, 22, 9, 35, 38, 5, 2, 3, 5, 22, 9, 17, 12, 38, 3, 7, 22, 12, 26, 15, 40, 25, 17, 11, 30, 35, 11, 20, 40, 23, 35, 19, 24, 28, 12, 6, 17, 17, 6, 10, 39, 7, 7, 29, 2, 33, 29, 24, 19, 28, 39, 21, 37, 23, 39, 6, 11, 4, 11, 2, 18, 31, 33, 35, 13, 37, 29, 13, 28, 14, 12, 11, 25, 33, 14, 18, 6, 4, 22, 13, 30, 32, 11, 35, 24, 10, 15, 13, 31, 8, 32, 32, 13, 31, 36, 25, 22, 10, 11, 32, 31, 12, 16, 3, 10, 23, 35, 35, 26, 3, 17, 36, 36, 21, 29, 29, 19, 28, 16, 21, 18, 8, 7, 15, 38, 22, 31, 6, 19, 34, 16, 7, 11, 11, 23], \"Freq\": [0.9958885908126831, 0.9806811213493347, 0.9922560453414917, 0.9912723302841187, 0.984808623790741, 0.9901087880134583, 0.9938646554946899, 0.9943520426750183, 0.9933909177780151, 0.9757336974143982, 0.9984124302864075, 0.9424429535865784, 0.976661741733551, 0.9932109117507935, 0.9757331609725952, 0.9822826981544495, 0.9808138012886047, 0.9842314720153809, 0.9724584817886353, 0.9881736636161804, 0.9787102937698364, 0.9964956641197205, 0.9777174592018127, 0.9911176562309265, 0.979033887386322, 0.9877896904945374, 0.9969279170036316, 0.9958935976028442, 0.9956808090209961, 0.9939208626747131, 0.9987682104110718, 0.9980060458183289, 0.9935153126716614, 0.9872435927391052, 0.9887146353721619, 0.9856183528900146, 0.9914343357086182, 0.9926940202713013, 0.9977275729179382, 0.9968647360801697, 0.987834095954895, 0.9949897527694702, 0.9952276349067688, 0.9980158805847168, 0.9813778400421143, 0.9622190594673157, 0.9895976781845093, 0.9945716261863708, 0.9606345295906067, 0.9864034652709961, 0.9900876879692078, 0.9757902026176453, 0.9986224174499512, 0.9789902567863464, 0.9931845664978027, 0.9673053622245789, 0.9827086925506592, 0.9956177473068237, 0.9836158156394958, 0.9814064502716064, 0.9868959784507751, 0.9982745051383972, 0.9945489764213562, 0.9976902008056641, 0.9833365678787231, 0.9839733839035034, 0.9984365105628967, 0.9803906083106995, 0.9984874725341797, 0.9768906831741333, 0.9939602017402649, 0.9804971218109131, 0.986081600189209, 0.9875901937484741, 0.9944812059402466, 0.972267210483551, 0.9711519479751587, 0.9992679357528687, 0.9987780451774597, 0.9960342645645142, 0.9814403057098389, 0.9920347929000854, 0.976823627948761, 0.9654225707054138, 0.9961059093475342, 0.9948316812515259, 0.9971159100532532, 0.9844327569007874, 0.9787575602531433, 0.984695315361023, 0.9761162400245667, 0.967249870300293, 0.9823423027992249, 0.9962766766548157, 0.9909908175468445, 0.9879809617996216, 0.9981536269187927, 0.9873112440109253, 0.9838224649429321, 0.9864805936813354, 0.9510083198547363, 0.9861613512039185, 0.9904026389122009, 0.9858114719390869, 0.989666223526001, 0.9873238205909729, 0.9873048663139343, 0.9770393967628479, 0.9888465404510498, 0.995525598526001, 0.9863531589508057, 0.9747270345687866, 0.986136257648468, 0.9904096722602844, 0.9847671389579773, 0.993484616279602, 0.9980323910713196, 0.9907906651496887, 0.9925400018692017, 0.9793701767921448, 0.9958369731903076, 0.9972072243690491, 0.9897040724754333, 0.990445613861084, 0.9681258201599121, 0.9627133011817932, 0.994290828704834, 0.9988515377044678, 0.9839261770248413, 0.9919034838676453, 0.9731118679046631, 0.9957230687141418, 0.9934590458869934, 0.03431249409914017, 0.017156247049570084, 0.03431249409914017, 0.8921248316764832, 0.994525671005249, 0.9927248358726501, 0.9888512492179871, 0.9816511869430542, 0.989935040473938, 0.9986473917961121, 0.9655585885047913, 0.9937532544136047, 0.9809998869895935, 0.9698230028152466, 0.9888323545455933, 0.9874427318572998, 0.9798391461372375, 0.9856316447257996, 0.9766055345535278, 0.9892491698265076, 0.9855656623840332, 0.9964020252227783, 0.9951345920562744, 0.9901285171508789, 0.9797815084457397, 0.990967869758606, 0.9813353419303894, 0.9713033437728882, 0.9803172945976257, 0.995229959487915, 0.990563690662384, 0.993361234664917, 0.9760201573371887, 0.9630578756332397, 0.9948212504386902, 0.9876088500022888, 0.9828247427940369, 0.9843713641166687, 0.9933093786239624, 0.9949076175689697, 0.9985862970352173, 0.9934388995170593, 0.13509629666805267, 0.0029249535873532295, 0.8617644309997559, 0.5450569987297058, 0.031146112829446793, 0.4152815043926239, 0.96680748462677, 0.9547854065895081, 0.9785162210464478, 0.9722489714622498, 0.9735360145568848, 0.9865216612815857, 0.9983158707618713, 0.9801256656646729, 0.9952812790870667, 0.9824965000152588, 0.9913504719734192, 0.9915119409561157, 0.9896194934844971, 0.9806950688362122, 0.9957621693611145, 0.9915680289268494, 0.9769988656044006, 0.9996432662010193, 0.988473653793335, 0.9848577976226807, 0.9815909266471863, 0.9810514450073242, 0.9797377586364746, 0.9854928255081177, 0.9720057845115662, 0.9924915432929993, 0.9769657850265503, 0.9787015318870544, 0.979425311088562, 0.9735971689224243, 0.9898668527603149, 0.9884626865386963, 0.9875056743621826, 0.9794090986251831, 0.9919685125350952, 0.9844133853912354, 0.9768237471580505, 0.9919640421867371, 0.9696152806282043, 0.9955466389656067, 0.9858514070510864, 0.9756167531013489, 0.9914664030075073, 0.9975523948669434, 0.9637962579727173, 0.9989371299743652, 0.9978708624839783, 0.9987097978591919, 0.9814618825912476, 0.9923935532569885, 0.9808512330055237, 0.9991292357444763, 0.9869022965431213, 0.9733348488807678, 0.9893233776092529, 0.991265058517456, 0.976793646812439, 0.9894862771034241, 0.959837794303894, 0.9923139810562134, 0.9983220100402832, 0.9779585599899292, 0.987022876739502, 0.9822490811347961, 0.996146559715271, 0.9863950610160828, 0.9896904826164246, 0.9817900657653809, 0.9835863709449768, 0.9834058880805969, 0.9783109426498413, 0.9252628087997437, 0.9935756921768188, 0.9855013489723206, 0.9897727966308594, 0.9727322459220886, 0.9834744334220886, 0.9745728969573975, 0.9721999764442444, 0.9855169057846069, 0.9891473054885864, 0.9866118431091309, 0.9819790124893188, 0.9856958985328674, 0.9700523018836975, 0.9934893250465393, 0.9471116662025452, 0.9806820154190063, 0.9674383997917175, 0.9923518300056458, 0.9943685531616211, 0.9961358904838562, 0.9877384305000305, 0.9770426154136658, 0.9967873692512512, 0.9884409308433533, 0.9892684817314148, 0.9937820434570312, 0.9978649020195007, 0.9875390529632568, 0.9830606579780579, 0.9953207969665527, 0.9954230189323425, 0.9990826845169067, 0.9935718178749084, 0.9913301467895508, 0.9817537069320679, 0.9927563071250916, 0.9869207143783569, 0.9767899513244629, 0.9907828569412231, 0.9793215394020081, 0.9766268134117126, 0.9551159739494324, 0.989041268825531, 0.989978551864624, 0.984524130821228, 0.9941388964653015, 0.9770941138267517, 0.9761027097702026, 0.9907989501953125, 0.9805369973182678, 0.9990555047988892, 0.9644951820373535, 0.994702160358429, 0.9880545735359192, 0.9743841290473938, 0.9729655981063843, 0.9958096742630005, 0.9955076575279236, 0.9965203404426575, 0.9931199550628662, 0.9812431335449219, 0.9936900734901428, 0.9996343851089478, 0.9916910529136658, 0.9963533878326416, 0.9731635451316833, 0.9943899512290955, 0.9908448457717896, 0.9946672320365906, 0.9866835474967957, 0.9954928755760193, 0.9956198334693909, 0.983515739440918, 0.9916785955429077, 0.9907057285308838, 0.9944441914558411, 0.9859595894813538, 0.9714041352272034, 0.9847778081893921, 0.9982671141624451, 0.9776349663734436, 0.9809539914131165, 0.9788318276405334, 0.9729143977165222, 0.983217179775238, 0.9717665314674377, 0.9902606010437012, 0.9909414052963257, 0.9896761178970337, 0.9818888306617737, 0.992675244808197, 0.9931188821792603, 0.994192898273468, 0.9916156530380249, 0.9918648600578308, 0.9768153429031372, 0.9653260707855225, 0.9939360618591309, 0.992476224899292, 0.9876478910446167, 0.9940823912620544, 0.9891989827156067, 0.9926896095275879, 0.9877426624298096, 0.9922380447387695, 0.9908794164657593, 0.9994373917579651, 0.984553337097168, 0.9846924543380737, 0.9914456009864807, 0.9835039377212524, 0.9959293007850647, 0.996231734752655, 0.9929932951927185, 0.9704564213752747, 0.9854879379272461, 0.9899123907089233, 0.9974725842475891, 0.985942542552948, 0.9824012517929077, 0.9881044626235962, 0.9762274622917175, 0.9900786876678467, 0.9747703075408936, 0.9988323450088501, 0.9962209463119507, 0.9863886833190918, 0.9557358026504517, 0.9953984618186951, 0.9826156497001648, 0.9835110306739807, 0.9947829842567444, 0.9860677123069763, 0.9976887106895447, 0.9921041131019592, 0.988318920135498, 0.979061484336853, 0.9919906854629517, 0.9971027374267578, 0.9913384318351746, 0.9889866709709167, 0.9954307079315186, 0.9925584197044373, 0.9939472079277039, 0.988131046295166, 0.9689397215843201, 0.9968069791793823, 0.9813093543052673, 0.9885910749435425, 0.9978837966918945, 0.9971787333488464, 0.9899608492851257, 0.9960302710533142, 0.9959600567817688, 0.9817640781402588, 0.9787800908088684, 0.9897705316543579, 0.9935464859008789, 0.9665332436561584, 0.010380351915955544, 0.9757530689239502, 0.9936040043830872, 0.9889428019523621, 0.9832988381385803, 0.9946467876434326, 0.9970577955245972, 0.9909113645553589, 0.991469144821167, 0.9885373711585999, 0.9885956645011902, 0.9834984540939331, 0.9999354481697083, 0.9975387454032898, 0.9913690090179443, 0.9851883053779602, 0.9904455542564392, 0.9877573251724243, 0.9765176177024841, 0.9969086050987244, 0.9752886891365051, 0.9816623330116272, 0.9906715154647827, 0.9678157567977905, 0.9717567563056946, 0.9982253909111023, 0.9970561861991882, 0.9964338541030884, 0.9887629151344299, 0.9920955896377563, 0.9800109267234802, 0.9959156513214111, 0.9896284937858582, 0.9820486307144165, 0.9912944436073303, 0.9986422061920166, 0.9838495254516602, 0.9890934824943542, 0.9911141395568848, 0.9918567538261414, 0.9873899221420288, 0.997403085231781, 0.9951871633529663, 0.9684450030326843, 0.9950476288795471, 0.9843398332595825, 0.978939950466156, 0.9986953139305115, 0.993632435798645, 0.9780803918838501, 0.9927623271942139, 0.9760880470275879, 0.9909562468528748, 0.9918048977851868, 0.990572988986969, 0.9969162940979004, 0.94927579164505, 0.9896200895309448, 0.9908596873283386, 0.9574364423751831, 0.9915823340415955, 0.9851402044296265, 0.9928249716758728, 0.9798660278320312, 0.9881068468093872, 0.9907413721084595, 0.990324079990387, 0.007775578647851944, 0.007775578647851944, 0.023326735943555832, 0.8864160180091858, 0.06220462918281555, 0.007775578647851944, 0.9973387122154236, 0.9923548102378845, 0.9876670837402344, 0.9926638007164001, 0.9950788021087646, 0.95365309715271, 0.9922659397125244, 0.9961916208267212, 0.9819939732551575, 0.9865906238555908, 0.961613118648529, 0.9930630922317505, 0.989432156085968, 0.9689854979515076, 0.9855112433433533, 0.9780216813087463, 0.9705328345298767, 0.9815310835838318, 0.9819669723510742, 0.9861871600151062, 0.984972357749939, 0.9757954478263855, 0.9956191182136536, 0.9986264705657959, 0.9975131750106812, 0.9891806244850159, 0.9884197115898132, 0.9802991151809692, 0.9822163581848145, 0.9934573769569397, 0.9965769648551941, 0.9796809554100037, 0.9981207847595215, 0.9928127527236938, 0.9948992133140564, 0.987614095211029, 0.990832507610321, 0.989647626876831, 0.9880218505859375, 0.9907808303833008, 0.9946081042289734, 0.9926748275756836, 0.9898566603660583, 0.9950602054595947, 0.9891546368598938, 0.9937009811401367, 0.9693641662597656, 0.9923034906387329, 0.9801859855651855, 0.9958371520042419, 0.992725133895874, 0.9933087825775146, 0.9503408670425415, 0.9942393898963928, 0.9829167127609253, 0.975378692150116, 0.9870025515556335, 0.9842900633811951, 0.9859898090362549, 0.9940318465232849, 0.9893890023231506, 0.9811022281646729, 0.995083212852478, 0.9933624863624573, 0.9906344413757324, 0.9866382479667664, 0.9932481646537781, 0.9869325160980225, 0.9915791749954224, 0.9658024311065674, 0.9919736385345459, 0.9985562562942505, 0.9830954670906067, 0.9640011191368103, 0.9838992953300476, 0.9828119277954102, 0.9800869822502136, 0.9955002665519714, 0.9858986735343933, 0.9910911321640015, 0.9845985174179077, 0.988915741443634, 0.9879446029663086, 0.9945022463798523, 0.9768947958946228, 0.9790490865707397, 0.9868459105491638, 0.9990910887718201, 0.9943187236785889, 0.9980300664901733, 0.9875485897064209, 0.9867967367172241, 0.9784054756164551, 0.9809139966964722, 0.9931586384773254, 0.9874222874641418, 0.9875639081001282, 0.9969627857208252, 0.9688847064971924, 0.9882504940032959, 0.9661093354225159, 0.9981301426887512, 0.9872144460678101, 0.9769952297210693, 0.9821102023124695, 0.9981022477149963, 0.9745641946792603, 0.9878201484680176, 0.9899058938026428, 0.9937556982040405, 0.9973182082176208, 0.9899728298187256, 0.9849449992179871, 0.9861376881599426, 0.9653760194778442, 0.9803118109703064, 0.9908493757247925, 0.9904985427856445, 0.9846700429916382, 0.9955651760101318, 0.9835591912269592, 0.9821246266365051, 0.9757727384567261, 0.9926455616950989, 0.9985814094543457, 0.9851486682891846, 0.9919000864028931, 0.9910701513290405, 0.9912101626396179, 0.9813152551651001, 0.9974085688591003, 0.9915598630905151, 0.9729225635528564, 0.9862498044967651, 0.9921786189079285, 0.9937137961387634, 0.974333643913269, 0.9872153997421265, 0.9915314316749573, 0.9932048916816711, 0.9613217711448669, 0.9856030941009521, 0.9762864708900452, 0.9820059537887573, 0.9798895716667175, 0.9805618524551392, 0.9839217066764832, 0.9921296238899231, 0.9921151995658875, 0.9800090193748474, 0.9737045168876648, 0.9947776198387146, 0.9975225925445557, 0.9925553798675537, 0.9864680767059326, 0.9947476387023926, 0.979560911655426, 0.9963898658752441, 0.9875104427337646, 0.9976234436035156, 0.9955273866653442, 0.9869653582572937, 0.9811437726020813, 0.9835600256919861, 0.9928480386734009, 0.9669564962387085, 0.9853275418281555, 0.988138735294342, 0.9692026376724243, 0.9678353071212769, 0.9905304312705994, 0.9740504026412964, 0.9934448599815369, 0.9993166327476501, 0.9746302962303162, 0.9742943048477173, 0.9915139675140381, 0.9784274697303772, 0.9987204074859619, 0.9815030694007874, 0.9991036653518677, 0.9981798529624939, 0.9675523638725281, 0.9985639452934265, 0.9983925223350525, 0.9999560713768005, 0.9940477609634399, 0.9915037751197815, 0.9900135397911072, 0.9579027891159058, 0.9854574203491211, 0.9932307004928589, 0.9776415824890137, 0.9862472414970398, 0.9888554215431213, 0.9964594841003418, 0.9860962629318237, 0.9944103956222534, 0.9949753284454346, 0.9904545545578003, 0.9845649003982544, 0.9899857044219971, 0.98195880651474, 0.9929711222648621, 0.9969514608383179, 0.9919721484184265, 0.9769436717033386, 0.9823887348175049, 0.01688527688384056, 0.9624608159065247, 0.9958432912826538, 0.9845740795135498, 0.9710761904716492, 0.9943261742591858, 0.9814042448997498, 0.9983872771263123, 0.9918887615203857, 0.9936832785606384, 0.9822520613670349, 0.9942449927330017, 0.9859876036643982, 0.9789816737174988, 0.9751203656196594, 0.9996147751808167, 0.9931800961494446, 0.984190821647644, 0.9945347309112549, 0.9771956205368042, 0.994778573513031, 0.9985309839248657, 0.9910951852798462, 0.977377712726593, 0.9791949391365051, 0.0144554628059268, 0.8817831873893738, 0.08673277497291565, 0.997780978679657, 0.9915786385536194, 0.9932662844657898, 0.9945318698883057, 0.9950764775276184, 0.9750993251800537, 0.9560800194740295, 0.9949734210968018, 0.9914765357971191, 0.9874610900878906, 0.9965832233428955, 0.9953634738922119, 0.9860110282897949, 0.9815065860748291, 0.9891645312309265, 0.9901660084724426, 0.996342658996582, 0.9927688241004944, 0.9963539838790894, 0.9909589886665344, 0.9861664772033691, 0.9841232299804688, 0.9772014617919922, 0.990702748298645, 0.9818621277809143, 0.9964480996131897, 0.9939366579055786, 0.9971491694450378, 0.9449844360351562, 0.9979961514472961, 0.9819933176040649, 0.9917905926704407, 0.985236406326294, 0.9927417039871216, 0.9853360056877136, 0.9954750537872314, 0.9921720027923584, 0.9890578389167786, 0.9990594983100891, 0.9857231378555298, 0.9877541661262512, 0.9832550287246704, 0.9710721373558044, 0.9932124018669128, 0.9856657981872559, 0.9948319792747498, 0.9951621294021606, 0.9963776469230652, 0.9924957752227783, 0.9959945678710938, 0.9991864562034607, 0.9475716948509216, 0.9765175580978394, 0.9942824840545654, 0.964337170124054, 0.986268937587738, 0.9851908087730408, 0.9908888936042786, 0.9990668296813965, 0.9844509959220886, 0.9900307655334473, 0.9568135142326355, 0.9883856177330017, 0.9949357509613037, 0.9816468358039856, 0.9976872801780701, 0.9727122783660889, 0.9879637360572815, 0.9956207275390625, 0.9848877191543579, 0.9890350699424744, 0.9663703441619873, 0.9796924591064453, 0.9652209877967834, 0.997907280921936, 0.9854287505149841, 0.9884111881256104, 0.9935756921768188, 0.9815335273742676, 0.9734503030776978, 0.9913936257362366, 0.9973328113555908, 0.9724051356315613, 0.9862239956855774, 0.9920154213905334, 0.9907308220863342, 0.9932976961135864, 0.9986388683319092, 0.9922470450401306, 0.993094801902771, 0.9734705090522766, 0.9739972949028015, 0.9883795976638794, 0.9900515675544739, 0.9898312091827393, 0.986190915107727, 0.9833137392997742, 0.9969260096549988, 0.9739844799041748, 0.9624948501586914, 0.9685019254684448, 0.9831436276435852, 0.9962713122367859, 0.9857923984527588, 0.987025260925293, 0.9904068112373352, 0.9807577729225159, 0.9944748878479004, 0.9938039183616638, 0.9844768643379211, 0.9916250705718994, 0.030672164633870125, 0.0234551839530468, 0.052323102951049805, 0.012629714794456959, 0.06856130808591843, 0.009021224454045296, 0.20929241180419922, 0.032476410269737244, 0.03428065404295921, 0.012629714794456959, 0.04149763286113739, 0.0234551839530468, 0.025259429588913918, 0.04149763286113739, 0.0234551839530468, 0.01804244890809059, 0.009021224454045296, 0.01082546915858984, 0.009021224454045296, 0.01984669454395771, 0.01804244890809059, 0.014433959499001503, 0.02165093831717968, 0.03969338908791542, 0.012629714794456959, 0.014433959499001503, 0.0072169797495007515, 0.01804244890809059, 0.01804244890809059, 0.014433959499001503, 0.01082546915858984, 0.01082546915858984, 0.016238205134868622, 0.012629714794456959, 0.0072169797495007515, 0.01082546915858984, 0.01082546915858984, 0.01082546915858984, 0.01984669454395771, 0.0018042449373751879, 0.9875748753547668, 0.9723714590072632, 0.9709229469299316, 0.9785406589508057, 0.9932790994644165, 0.985832929611206, 0.9970675110816956, 0.9958985447883606, 0.9902622103691101, 0.999700665473938, 0.9686836004257202, 0.9885668754577637, 0.9835758805274963, 0.9929821491241455, 0.9942013025283813, 0.9949265718460083, 0.9843259453773499, 0.9789757132530212, 0.9764347076416016, 0.9742431044578552, 0.9937360882759094, 0.9986535310745239, 0.9891422986984253, 0.978549063205719, 0.9887152910232544, 0.992992103099823, 0.9837198257446289, 0.9931928515434265, 0.9875138998031616, 0.9942297339439392, 0.9855148196220398, 0.9886326789855957, 0.9940912127494812, 0.9796686768531799, 0.9934834241867065, 0.988357424736023, 0.9974828958511353, 0.9985305666923523, 0.990599513053894, 0.9755628108978271, 0.9870354533195496, 0.9808659553527832, 0.981752872467041, 0.9812134504318237, 0.9993037581443787, 0.9892945885658264, 0.9879555106163025, 0.9946146607398987, 0.9929915070533752, 0.9649892449378967, 0.9885702133178711, 0.9828345775604248, 0.9793140888214111, 0.977973997592926, 0.9782739877700806, 0.9590775966644287, 0.9889763593673706, 0.99144446849823, 0.975932776927948, 0.9953721761703491, 0.9823519587516785, 0.9892051219940186, 0.9959608912467957, 0.9861158728599548, 0.9824995398521423, 0.9898661971092224, 0.9855954051017761, 0.9813522696495056, 0.9976275563240051, 0.9794566631317139, 0.9958454370498657, 0.9978371858596802, 0.9876856207847595, 0.9938514232635498, 0.9753162264823914, 0.9826739430427551, 0.9774625897407532, 0.979546070098877, 0.9763377904891968, 0.9959494471549988, 0.9840251803398132, 0.9731540679931641, 0.9788323640823364, 0.993151843547821, 0.9843389391899109, 0.9629445672035217, 0.9968279004096985, 0.9951075911521912, 0.9902300238609314, 0.9650530219078064, 0.9988812208175659, 0.9912077784538269, 0.9888022541999817, 0.9795090556144714, 0.993902325630188, 0.9749846458435059, 0.9963332414627075, 0.9829833507537842, 0.2458554059267044, 0.02048795111477375, 0.03073192574083805, 0.0409759022295475, 0.03073192574083805, 0.1434156447649002, 0.02048795111477375, 0.02048795111477375, 0.03073192574083805, 0.02048795111477375, 0.02048795111477375, 0.081951804459095, 0.16390360891819, 0.1331716775894165, 0.9909952282905579, 0.9906805753707886, 0.9970812201499939, 0.9931995272636414, 0.9868065714836121, 0.997542679309845, 0.9890029430389404, 0.986968457698822, 0.9875300526618958, 0.9982630610466003, 0.9966458082199097, 0.9992198348045349, 0.998843789100647, 0.9953438639640808, 0.9855018258094788, 0.9959850311279297, 0.971342146396637, 0.9837895631790161, 0.9600050449371338, 0.9837772250175476, 0.9983105659484863, 0.9843690991401672, 0.9917331337928772, 0.9827507138252258, 0.9751514196395874, 0.9783530831336975, 0.9884679317474365, 0.9991217851638794, 0.9967872500419617, 0.998238205909729, 0.9926411509513855, 0.9954822063446045, 0.992762565612793, 0.9910116195678711, 0.9981226921081543, 0.9878832101821899, 0.9871137738227844, 0.9806320667266846, 0.9945360422134399, 0.9894505739212036, 0.9866999387741089, 0.99518883228302, 0.9992465972900391, 0.04553430154919624, 0.9542984366416931, 0.9963694214820862, 0.9918826818466187, 0.9940683245658875, 0.9970579743385315, 0.9877682328224182, 0.9922653436660767, 0.991998553276062, 0.9904897809028625, 0.9885493516921997, 0.9740566611289978, 0.9941647052764893, 0.9912277460098267, 0.9819772839546204, 0.9977639317512512, 0.9983068704605103, 0.9896717667579651, 0.9894014596939087, 0.982456386089325, 0.9937785863876343, 0.09810565412044525, 0.049052827060222626, 0.03270188346505165, 0.8011961579322815, 0.9933955073356628, 0.9910483956336975, 0.9798423647880554, 0.9965386986732483, 0.9958049654960632, 0.9838858842849731, 0.9925006628036499, 0.9854771494865417, 0.9920418858528137, 0.9939368963241577, 0.981626570224762, 0.989520251750946, 0.9872128367424011, 0.9879117012023926, 0.9931754469871521, 0.9718413352966309, 0.9884012937545776, 0.9794164896011353, 0.9741988182067871, 0.9874834418296814, 0.9811963438987732, 0.9792541861534119, 0.9855574369430542, 0.9944097995758057, 0.9823895692825317, 0.9831932783126831, 0.9916797280311584, 0.9802259802818298, 0.9920534491539001, 0.993118405342102, 0.9761723875999451, 0.9892539381980896, 0.9948230981826782, 0.9928244948387146, 0.9941990375518799, 0.9944940805435181, 0.9959873557090759, 0.9698378443717957, 0.9914060235023499, 0.9743329882621765, 0.9940098524093628, 0.9963626265525818, 0.9612508416175842, 0.9963926672935486, 0.9934676885604858, 0.9847446084022522, 0.993328869342804, 0.9833884239196777, 0.9954364895820618, 0.996300220489502, 0.9898868203163147, 0.990463376045227, 0.9774500131607056, 0.9794824123382568, 0.9964290261268616, 0.9916678667068481, 0.9938525557518005, 0.9986002445220947, 0.9929852485656738, 0.9941105246543884, 0.9839706420898438, 0.9752578735351562, 0.96970134973526, 0.9803155064582825, 0.9697174429893494, 0.9868128299713135, 0.9920326471328735, 0.9733601212501526, 0.9753218293190002, 0.9978315234184265, 0.9785822033882141, 0.989307701587677, 0.9813930988311768, 0.9915807843208313, 0.9755260944366455, 0.994882345199585, 0.9636262655258179, 0.9878014922142029, 0.994106113910675, 0.9795339107513428, 0.9847407341003418, 0.9920852780342102, 0.9802553653717041, 0.9739070534706116, 0.9874495267868042, 0.9801418781280518, 0.9963618516921997, 0.9917017221450806, 0.9826982021331787, 0.971221923828125, 0.9763616323471069, 0.989556610584259, 0.9751048684120178, 0.9975848197937012, 0.993131160736084, 0.981573760509491, 0.9889781475067139, 0.9871465563774109, 0.9865709543228149, 0.9812674522399902, 0.9913977980613708, 0.9930492043495178, 0.999204695224762, 0.9829605221748352, 0.9873044490814209, 0.9882603287696838, 0.9940561652183533, 0.9798789024353027, 0.9745405316352844, 0.9833917617797852, 0.9957258105278015, 0.9830072522163391, 0.9895696043968201, 0.9727215766906738, 0.9885841012001038, 0.986506998538971, 0.9903290867805481, 0.9890676140785217, 0.9903249740600586, 0.9902555346488953, 0.9974250197410583, 0.9955074787139893, 0.9933165311813354, 0.9866763353347778, 0.9857596158981323, 0.9830297827720642, 0.9907737374305725, 0.9856875538825989, 0.9957703351974487, 0.9830450415611267, 0.9962537288665771, 0.9836872220039368, 0.9788114428520203, 0.9884294867515564, 0.9684855937957764, 0.9944459795951843, 0.9808600544929504, 0.985707700252533, 0.9928821325302124, 0.9920544028282166, 0.9972199201583862, 0.9808710813522339, 0.9957357048988342, 0.9744021892547607, 0.9954946637153625, 0.9747629165649414, 0.9848392605781555, 0.9932818412780762, 0.9793606996536255, 0.9955533146858215, 0.9791635274887085, 0.9817137122154236, 0.9988055229187012, 0.9925094246864319, 0.9913439750671387, 0.998500406742096, 0.9890463948249817, 0.9930326342582703, 0.9904241561889648, 0.9922649264335632, 0.9925742745399475, 0.9881101846694946, 0.975377082824707, 0.9975205659866333, 0.9858724474906921, 0.989174485206604, 0.9682938456535339, 0.9935452938079834, 0.9719111919403076, 0.9890612363815308, 0.9984618425369263, 0.9963503479957581, 0.9960870742797852, 0.981872022151947, 0.9814198613166809, 0.9862586259841919, 0.9836236238479614, 0.9963895678520203, 0.9753251075744629, 0.985453188419342, 0.9885318279266357, 0.9963234663009644, 0.9988089799880981, 0.9950496554374695, 0.9823545813560486, 0.9934523105621338, 0.9888577461242676, 0.992072343826294, 0.9927343130111694, 0.986610472202301, 0.9908336997032166, 0.9901444911956787, 0.9693917036056519, 0.996816873550415, 0.9848952889442444, 0.9899316430091858, 0.9978964924812317, 0.9948204755783081, 0.9896417856216431, 0.9902803897857666, 0.9885333180427551, 0.9838783740997314, 0.9838111996650696, 0.991733968257904, 0.9849631190299988, 0.9889557957649231, 0.9905583262443542, 0.9834412932395935, 0.9710056185722351, 0.987565279006958, 0.9857791066169739, 0.995248556137085, 0.9798193573951721, 0.9970443248748779, 0.9959861636161804, 0.9905206561088562, 0.9753559827804565, 0.998176634311676, 0.9961654543876648, 0.9798610806465149, 0.9962032437324524, 0.9817219972610474, 0.9849082827568054, 0.9864407777786255, 0.9914681315422058, 0.9870773553848267, 0.9792410731315613, 0.9881826639175415, 0.9866739511489868, 0.9880357980728149, 0.9729294776916504], \"Term\": [\"abend\", \"abgebroch\", \"abgelehnt\", \"abgeordnet\", \"abgrund\", \"ablehn\", \"abschaff\", \"abschaum\", \"abschieb\", \"abseit\", \"absolut\", \"absurd\", \"abtreib\", \"aehnlich\", \"aelt\", \"aemt\", \"aender\", \"aeng\", \"aepfel\", \"aeusser\", \"afghan\", \"afrikan\", \"agrarw\", \"aktion\", \"aktionismus\", \"aktivist\", \"aktuell\", \"allein\", \"alleinerzieh\", \"allgemein\", \"alt\", \"alternativ\", \"altpartei\", \"amerikan\", \"analys\", \"andersdenk\", \"angeb\", \"angriff\", \"angst\", \"anhaeng\", \"anlieg\", \"anmeld\", \"annalena\", \"anpass\", \"ansamml\", \"anschluss\", \"ansicht\", \"anson\", \"anspruch\", \"anstaend\", \"anteil\", \"antiamerikan\", \"antideutsch\", \"antifaschist\", \"antisemit\", \"antisemitismus\", \"antun\", \"antwort\", \"appl\", \"apropos\", \"arab\", \"arbeit\", \"argument\", \"arm\", \"arme\", \"armut\", \"artikel\", \"assang\", \"asyl\", \"asylant\", \"asylbewerb\", \"atlant\", \"atlantikbrueck\", \"aufbruch\", \"aufgab\", \"aufgeklaert\", \"aufrecht\", \"aufsteh\", \"aug\", \"august\", \"ausbeut\", \"ausbild\", \"auseinand\", \"ausgab\", \"ausgerechnet\", \"auslaend\", \"aussag\", \"aussenminist\", \"aussenpolit\", \"ausweit\", \"autoindustri\", \"autonom\", \"baeck\", \"baeum\", \"band\", \"baustell\", \"bayer\", \"bayrisch\", \"beamt\", \"beck\", \"bedingungslos\", \"bedroh\", \"bedroht\", \"befuerwort\", \"beginn\", \"behaupt\", \"behindert\", \"behoerd\", \"bein\", \"bekannt\", \"belang\", \"beleid\", \"beliebt\", \"bereich\", \"berichterstatt\", \"berlin\", \"beruf\", \"bescheid\", \"besond\", \"besorgt\", \"bess\", \"best\", \"besteh\", \"bestimmt\", \"besuch\", \"beteil\", \"betroff\", \"beweg\", \"bezahlbar\", \"bezug\", \"bielefeld\", \"bien\", \"bild\", \"bilderbuchhaft\", \"bilderbuchhaft\", \"bilderbuchhaft\", \"bilderbuchhaft\", \"bildung\", \"billig\", \"birn\", \"bisher\", \"bislang\", \"bitt\", \"blaett\", \"blau\", \"blend\", \"blind\", \"bloedsinn\", \"blond\", \"bluehend\", \"bock\", \"bod\", \"boes\", \"branch\", \"braun\", \"breit\", \"brem\", \"brill\", \"brud\", \"brunn\", \"brutal\", \"bubbl\", \"buerg\", \"buergerinn\", \"buergermeist\", \"bundeseb\", \"bundesinnenminist\", \"bundesregier\", \"bundestag\", \"bundestagsabgeordnet\", \"bundesvorsitz\", \"bundeswehr\", \"bunt\", \"christdemokrat\", \"christlich\", \"christsozial\", \"christsozial\", \"christsozial\", \"daech\", \"daech\", \"daech\", \"daemlich\", \"daenisch\", \"damal\", \"daniel\", \"dank\", \"dayorang\", \"debatt\", \"defizit\", \"demokrat\", \"demokrati\", \"denk\", \"dennoch\", \"derart\", \"derweil\", \"derzeit\", \"desto\", \"deutlich\", \"deutsch\", \"dick\", \"diegru\", \"dielink\", \"dien\", \"dienstpflicht\", \"diesmal\", \"differenziert\", \"digital\", \"ding\", \"direkt\", \"divers\", \"doofkoepp\", \"drauf\", \"dreckig\", \"dresd\", \"dringend\", \"drueb\", \"dubios\", \"duemm\", \"duemmlich\", \"duerft\", \"dumm\", \"dunkl\", \"eben\", \"ebenfall\", \"echt\", \"effizient\", \"egal\", \"ehemal\", \"eher\", \"ehr\", \"ehrlich\", \"eigent\", \"einfach\", \"einfluss\", \"einheim\", \"einsatz\", \"einst\", \"einstell\", \"einwander\", \"einwohn\", \"einzeln\", \"einzig\", \"elit\", \"empfehl\", \"energi\", \"energiew\", \"entscheid\", \"entsprech\", \"enttaeuscht\", \"entwickl\", \"entwicklungsminist\", \"erfahr\", \"erfind\", \"erfolg\", \"erfund\", \"ergebnis\", \"ergo\", \"erinn\", \"erkenntnis\", \"erkla\", \"erklaer\", \"ermoeg\", \"erneuerbar\", \"ernsthaft\", \"ernteausfaell\", \"erst\", \"erstmal\", \"erwaehn\", \"erwart\", \"ess\", \"etabliert\", \"euro\", \"europaeisch\", \"ewig\", \"extra\", \"extrem\", \"faell\", \"fahr\", \"fall\", \"falsch\", \"famili\", \"farb\", \"faschist\", \"fassad\", \"fast\", \"fehl\", \"fehlend\", \"fein\", \"feind\", \"feld\", \"feminist\", \"fenst\", \"fest\", \"finanziell\", \"find\", \"fing\", \"fisch\", \"flach\", \"flaech\", \"flagg\", \"flieg\", \"fluchtgruend\", \"fluchtursach\", \"fluechtling\", \"folgend\", \"forder\", \"forsch\", \"fossil\", \"foto\", \"frag\", \"fraktion\", \"fraktionschefin\", \"fraktionsvorsitz\", \"frankfurt\", \"frau\", \"freidemokrat\", \"freie\", \"freien\", \"freier\", \"freiheit\", \"freiwill\", \"fremd\", \"freu\", \"freund\", \"fried\", \"friedlich\", \"frisch\", \"frueh\", \"fuss\", \"futt\", \"gaeb\", \"gaert\", \"gaest\", \"gam\", \"gart\", \"gebiet\", \"gebot\", \"geburtstag\", \"gedank\", \"geehrt\", \"gefaehr\", \"gefaehrd\", \"gefahr\", \"gefall\", \"gefluechtet\", \"gefuehrt\", \"gegendemonstrant\", \"gegensatz\", \"gegenseit\", \"gegenteil\", \"gegn\", \"gehalt\", \"gehirnwaesch\", \"geho\", \"geht\", \"geil\", \"geist\", \"geistig\", \"gelb\", \"geld\", \"geleg\", \"gemeind\", \"gemeinsam\", \"genannt\", \"genau\", \"genauso\", \"gend\", \"generalsekreta\", \"generation\", \"genoss\", \"gentechn\", \"geplant\", \"geradezu\", \"gerecht\", \"gericht\", \"gering\", \"geringschaetz\", \"gern\", \"gesamt\", \"geschaeft\", \"gescheitert\", \"geschicht\", \"geschloss\", \"geschwaetz\", \"gesellschaft\", \"gesellschaftsjahr\", \"gesetz\", \"gesicht\", \"gesindel\", \"gesinn\", \"gespraech\", \"gest\", \"gestalt\", \"gestohl\", \"gestrig\", \"gesund\", \"gewalt\", \"gewerkschaft\", \"gewinn\", \"gewiss\", \"gewitt\", \"glaub\", \"glaubwuerd\", \"gleich\", \"global\", \"glueck\", \"gold\", \"googl\", \"gott\", \"grad\", \"gras\", \"grau\", \"green\", \"green\", \"grenz\", \"grenzenlos\", \"griff\", \"groess\", \"groesst\", \"groko\", \"gros\", \"grossart\", \"grossstaedt\", \"grossteil\", \"gruen\", \"gruend\", \"gruess\", \"grund\", \"grundlag\", \"grundrecht\", \"grundsaetz\", \"grupp\", \"gruppier\", \"gruss\", \"guell\", \"guenstig\", \"guenth\", \"gut\", \"gutmensch\", \"haar\", \"haelft\", \"haend\", \"haert\", \"haesslich\", \"haeus\", \"hahaha\", \"halb\", \"halt\", \"hamburg\", \"hart\", \"hass\", \"hauptsach\", \"hautfarb\", \"heimat\", \"heiss\", \"heit\", \"held\", \"herausforder\", \"herkunft\", \"herr\", \"herrn\", \"herz\", \"herzlich\", \"hessisch\", \"hetz\", \"heuchl\", \"heuchler\", \"heutig\", \"heutzutag\", \"hilf\", \"himmel\", \"hingeg\", \"hint\", \"hinterh\", \"hirn\", \"hirnlos\", \"hiroshima\", \"histor\", \"hitl\", \"hitzewall\", \"hitzewall\", \"hitzewall\", \"hitzewall\", \"hitzewall\", \"hitzewall\", \"hitzewell\", \"hoech\", \"hoeh\", \"hoell\", \"hoer\", \"hoff\", \"hofreit\", \"hoh\", \"hohl\", \"hollaend\", \"holstein\", \"horst\", \"hos\", \"huch\", \"humanita\", \"hund\", \"hundert\", \"hyster\", \"ide\", \"ideal\", \"identita\", \"identitaetspolit\", \"ideolog\", \"ideologi\", \"illegal\", \"immerhin\", \"immernoch\", \"immobili\", \"infrastruktur\", \"inhalt\", \"initiativ\", \"inkl\", \"inn\", \"innenminist\", \"insbesond\", \"insgesamt\", \"insof\", \"intellektuell\", \"intelligent\", \"intelligenz\", \"interessant\", \"international\", \"internet\", \"interview\", \"investition\", \"inzwisch\", \"iran\", \"irgendwann\", \"irgendwelch\", \"irgendwi\", \"irgendwo\", \"irr\", \"irrweg\", \"islam\", \"islamfeind\", \"islamisier\", \"islamist\", \"itali\", \"italien\", \"jaehrig\", \"jahr\", \"jahrhundert\", \"jahrzehnt\", \"jedenfall\", \"jemal\", \"jetzig\", \"journalismus\", \"journalist\", \"jud\", \"juerg\", \"jugend\", \"jung\", \"juni\", \"kaelt\", \"kaem\", \"kalt\", \"kampagn\", \"kampf\", \"kanzl\", \"kanzlerin\", \"kapital\", \"kapitalist\", \"karri\", \"katastroph\", \"katastrophal\", \"kell\", \"kenn\", \"kind\", \"kirch\", \"klar\", \"klassenkampf\", \"klassisch\", \"klatsch\", \"kleb\", \"klein\", \"klima\", \"klimaanlag\", \"klimafluechtling\", \"klimaforsch\", \"klimahyster\", \"klimakill\", \"klimakris\", \"klimanazis\", \"klimapolit\", \"klimaschaed\", \"klimawandel\", \"klug\", \"knapp\", \"koalition\", \"koalitionspartn\", \"koennt\", \"kogl\", \"kohl\", \"kohlekraftwerk\", \"kolleg\", \"komisch\", \"kommend\", \"kommentar\", \"kommun\", \"kommunist\", \"kompetenz\", \"komplett\", \"konflikt\", \"konkret\", \"konservativ\", \"konstruktiv\", \"kontroll\", \"konzept\", \"konzern\", \"koordiniert\", \"kopf\", \"kopp\", \"korrekt\", \"kostenlos\", \"kraeft\", \"krank\", \"kreis\", \"kreuz\", \"krieg\", \"kriminell\", \"kris\", \"kritisch\", \"kron\", \"kuehl\", \"kuenftig\", \"kuenstlich\", \"kuerz\", \"kultur\", \"kulturell\", \"kulturkampf\", \"kund\", \"kur\", \"kurz\", \"lach\", \"laech\", \"laend\", \"laendlich\", \"laeng\", \"lafontain\", \"lag\", \"land\", \"landtag\", \"landtagsabgeordnet\", \"landwirt\", \"lang\", \"lauf\", \"lebend\", \"lebenszeit\", \"leck\", \"led\", \"ledig\", \"leer\", \"lehr\", \"leid\", \"leipzig\", \"leistung\", \"les\", \"lesenswert\", \"letzt\", \"letztlich\", \"leut\", \"liberal\", \"liberalismus\", \"lieb\", \"lindn\", \"link\", \"linksextrem\", \"linksextremist\", \"linksgru\", \"linksliberal\", \"linkspartei\", \"list\", \"lobby\", \"lobbyist\", \"loesung\", \"logik\", \"lokal\", \"ltwby\", \"lung\", \"lust\", \"lustig\", \"maas\", \"mach\", \"maedch\", \"maenn\", \"maennch\", \"maerch\", \"mafia\", \"mahnwach\", \"mahnwach\", \"manchmal\", \"mangelnd\", \"march\", \"massiv\", \"mau\", \"medi\", \"mehrheit\", \"meinung\", \"meinungsfrei\", \"meist\", \"meng\", \"menschengemacht\", \"menschenrecht\", \"merkel\", \"merkelmussweg\", \"method\", \"metwo\", \"mies\", \"miet\", \"migrant\", \"migration\", \"militaer\", \"milliard\", \"milliardenschw\", \"milliardenschw\", \"milliardenschw\", \"million\", \"mind\", \"mindest\", \"minist\", \"ministerin\", \"ministerium\", \"ministerpraesident\", \"minut\", \"mitarbeit\", \"miteinand\", \"mitglied\", \"mitt\", \"mittelalt\", \"mittl\", \"mittlerweil\", \"mittwoch\", \"modern\", \"moecht\", \"moeglich\", \"moeglicherweis\", \"moerd\", \"monat\", \"montag\", \"moral\", \"morg\", \"muell\", \"muen\", \"muench\", \"muenchn\", \"muesst\", \"musik\", \"muslim\", \"mutig\", \"mutt\", \"nachfrag\", \"nachhalt\", \"nachricht\", \"nacht\", \"naech\", \"naeh\", \"naemlich\", \"nah\", \"nahezu\", \"nahl\", \"naiv\", \"nam\", \"national\", \"nationalist\", \"natu\", \"natur\", \"nazis\", \"nee\", \"negativ\", \"neoliberal\", \"neoliberalismus\", \"neonazis\", \"nett\", \"netz\", \"neu\", \"neutral\", \"ngos\", \"niedersachs\", \"niedrig\", \"niemal\", \"nimm\", \"nochmal\", \"nopfann\", \"nord\", \"normal\", \"notwend\", \"nsdap\", \"nuernberg\", \"nzz\", \"ober\", \"oeffent\", \"oeffn\", \"oeft\", \"oekolog\", \"oekonom\", \"oesterreich\", \"oevp\", \"off\", \"offensiv\", \"offiziell\", \"ohnehin\", \"ohr\", \"okay\", \"oktob\", \"onlin\", \"orang\", \"ordent\", \"organisiert\", \"ort\", \"paedophil\", \"panik\", \"panikmach\", \"parlamentar\", \"partei\", \"parteimitglied\", \"parteitag\", \"parteivorsitz\", \"partn\", \"party\", \"passend\", \"patriot\", \"patriotismus\", \"perfekt\", \"perso\", \"person\", \"perspektiv\", \"pervers\", \"pfann\", \"pfann\", \"pfann\", \"pfann\", \"pfann\", \"pfann\", \"pfann\", \"pfann\", \"pfann\", \"pfann\", \"pfann\", \"pfann\", \"pfann\", \"pfann\", \"pfann\", \"pfann\", \"pfann\", \"pfann\", \"pfann\", \"pfann\", \"pfann\", \"pfann\", \"pfann\", \"pfann\", \"pfann\", \"pfann\", \"pfann\", \"pfann\", \"pfann\", \"pfann\", \"pfann\", \"pfann\", \"pfann\", \"pfann\", \"pfann\", \"pfann\", \"pfann\", \"pfann\", \"pfann\", \"pfann\", \"pfannenl\", \"pfeff\", \"physik\", \"pill\", \"pirat\", \"plakat\", \"planet\", \"platz\", \"podcast\", \"polit\", \"politikerin\", \"polizei\", \"polizeigesetz\", \"polizist\", \"populist\", \"position\", \"positiv\", \"postmodern\", \"praktisch\", \"prima\", \"privat\", \"problem\", \"prof\", \"prognos\", \"progressiv\", \"projekt\", \"prominent\", \"prot\", \"psychisch\", \"punkt\", \"qualifiziert\", \"quasi\", \"quell\", \"radfahr\", \"radikal\", \"raeum\", \"rassismus\", \"rassist\", \"raus\", \"read\", \"real\", \"realist\", \"realitaetsfern\", \"recherch\", \"recht\", \"rechtlich\", \"rechtsextr\", \"rechtsextrem\", \"rechtspopulismus\", \"rechtspopulist\", \"rechtsradikal\", \"rechtsruck\", \"rechtsstaat\", \"redaktion\", \"rednerin\", \"reg\", \"regier\", \"regim\", \"regressiv\", \"reich\", \"reichsbuerg\", \"reih\", \"rein\", \"reis\", \"religion\", \"rent\", \"rentn\", \"rett\", \"richtig\", \"richtung\", \"roll\", \"rot\", \"ruhestand\", \"rund\", \"russland\", \"sach\", \"sachlich\", \"saechsisch\", \"saemtlich\", \"sanktion\", \"saub\", \"schaed\", \"schaf\", \"schand\", \"scharf\", \"scheu\", \"schlecht\", \"schlimm\", \"schmarotz\", \"schock\", \"schoen\", \"scholz\", \"schonmal\", \"schrecklich\", \"schuel\", \"schuelerinn\", \"schul\", \"schuld\", \"schulhoef\", \"schulhoef\", \"schulhoef\", \"schulhoef\", \"schulhoef\", \"schulhoef\", \"schulhoef\", \"schulhoef\", \"schulhoef\", \"schulhoef\", \"schulhoef\", \"schulhoef\", \"schulhoef\", \"schulhoef\", \"schutz\", \"schwach\", \"schwachsinn\", \"schwaech\", \"schwangerschaftsabbruech\", \"schwarz\", \"schwed\", \"schweiz\", \"schwer\", \"seebrueck\", \"seeheim\", \"seehof\", \"seit\", \"sekt\", \"sekund\", \"selb\", \"selt\", \"septemb\", \"serioes\", \"sexuell\", \"sich\", \"sinn\", \"sinnvoll\", \"skandal\", \"skepsis\", \"sobald\", \"soeb\", \"soed\", \"sofort\", \"sogar\", \"sogenannt\", \"solang\", \"solidar\", \"solidaritaet\", \"somit\", \"somm\", \"sommerloch\", \"sonntag\", \"sonstig\", \"soros\", \"sowas\", \"sowieso\", \"sozial\", \"sozialdemokrat\", \"sozialdemokrat\", \"sozialismus\", \"sozialist\", \"sozialleist\", \"sozialsyst\", \"sozialwohn\", \"spalt\", \"spani\", \"spanisch\", \"spannend\", \"spektrum\", \"spiel\", \"spinn\", \"spitz\", \"spoe\", \"sprach\", \"sprech\", \"spruech\", \"staat\", \"staatlich\", \"staatstrojan\", \"staatstrojan\", \"staatstrojan\", \"staatstrojan\", \"staedt\", \"staedtisch\", \"staendig\", \"staerk\", \"stark\", \"station\", \"stegn\", \"stehend\", \"steigend\", \"stell\", \"stellvertret\", \"stet\", \"steu\", \"steuergeld\", \"steuerzahl\", \"still\", \"straftat\", \"strategi\", \"streck\", \"strom\", \"studier\", \"stuerm\", \"stuerz\", \"stund\", \"sued\", \"sumpf\", \"sup\", \"syri\", \"syrisch\", \"syst\", \"systemfinanziert\", \"szen\", \"tag\", \"tasch\", \"tatsach\", \"tausend\", \"teil\", \"teilhab\", \"teilweis\", \"tempo\", \"terrorist\", \"text\", \"theat\", \"thema\", \"thuering\", \"tief\", \"tier\", \"toedlich\", \"toet\", \"toll\", \"tot\", \"total\", \"traditionell\", \"troll\", \"trump\", \"tuer\", \"tuerkisch\", \"twitt\", \"typisch\", \"ueberleg\", \"uebernehm\", \"ueberpartei\", \"ueberseh\", \"ueberwind\", \"ueberzeug\", \"ueblich\", \"uebrig\", \"uigur\", \"umfeld\", \"umfrag\", \"umfragehoch\", \"umfragewert\", \"umso\", \"umson\", \"umstaend\", \"umverteil\", \"umweltfreund\", \"umweltpolit\", \"umweltschutz\", \"unbedingt\", \"unbekannt\", \"unbeliebt\", \"ungefaehr\", \"universitaet\", \"unnoet\", \"unsaeg\", \"unsinn\", \"unt\", \"unterdrueck\", \"untereinand\", \"unternehm\", \"unterschied\", \"unterstell\", \"unterstuetz\", \"unterweg\", \"unzaehl\", \"urban\", \"ursach\", \"urteil\", \"vat\", \"veracht\", \"veranstalt\", \"verantwort\", \"verbiet\", \"verbot\", \"verbrech\", \"verein\", \"vereinigt\", \"verfahr\", \"verfass\", \"verfassungsschutz\", \"vergang\", \"vergewalt\", \"verhaeltnis\", \"verkehr\", \"verkehrsminist\", \"verkehrsw\", \"verlog\", \"verlust\", \"vermeint\", \"vermut\", \"vernuenft\", \"vernunft\", \"verpflicht\", \"verraet\", \"versag\", \"verschied\", \"versteh\", \"versuch\", \"verteid\", \"vertret\", \"video\", \"vielmehr\", \"vision\", \"voelk\", \"volk\", \"volksverraet\", \"volksvertret\", \"voll\", \"vollm\", \"voran\", \"voraussetz\", \"vorbei\", \"vorg\", \"vorh\", \"vorhand\", \"vorhin\", \"vorn\", \"vorreit\", \"vorsitz\", \"vorsorg\", \"wachsend\", \"waehl\", \"waeld\", \"waend\", \"waer\", \"wagenknecht\", \"wahl\", \"wahlkampf\", \"wahnsinn\", \"wahr\", \"wahrlich\", \"waldbraend\", \"wass\", \"websit\", \"weg\", \"wehrdien\", \"wehrpflicht\", \"wein\", \"weis\", \"weiss\", \"weit\", \"weiterhin\", \"well\", \"weltfremd\", \"wend\", \"wern\", \"wert\", \"wesent\", \"westfael\", \"westlich\", \"wett\", \"wichtig\", \"wid\", \"widerspruch\", \"wien\", \"windraed\", \"wirklich\", \"wirksam\", \"wirtschaft\", \"wissenschaft\", \"wissenschaftl\", \"witzfigur\", \"woch\", \"wochen\", \"wohltat\", \"wort\", \"wuensch\", \"wuesst\", \"wuest\", \"wund\", \"wunderbar\", \"wunderscho\", \"wusst\", \"zahl\", \"zahlreich\", \"zeich\", \"zeit\", \"zeitung\", \"zentral\", \"zentrum\", \"ziel\", \"zielsich\", \"ziemlich\", \"zitat\", \"zivildien\", \"zufall\", \"zukunft\", \"zuletzt\", \"zumal\", \"zumind\", \"zunehm\", \"zusaetz\", \"zusammenhang\", \"zustaend\", \"zustand\", \"zuvor\", \"zwangsdien\", \"zwangsweis\", \"zweifel\", \"zweit\"]}, \"R\": 30, \"lambda.step\": 0.01, \"plot.opts\": {\"xlab\": \"PC1\", \"ylab\": \"PC2\"}, \"topic.order\": [20, 10, 22, 39, 35, 26, 19, 36, 8, 34, 30, 3, 21, 23, 14, 24, 7, 31, 32, 37, 12, 2, 1, 13, 5, 25, 38, 33, 18, 17, 9, 15, 28, 40, 29, 11, 4, 6, 27, 16]};\n",
       "\n",
       "function LDAvis_load_lib(url, callback){\n",
       "  var s = document.createElement('script');\n",
       "  s.src = url;\n",
       "  s.async = true;\n",
       "  s.onreadystatechange = s.onload = callback;\n",
       "  s.onerror = function(){console.warn(\"failed to load library \" + url);};\n",
       "  document.getElementsByTagName(\"head\")[0].appendChild(s);\n",
       "}\n",
       "\n",
       "if(typeof(LDAvis) !== \"undefined\"){\n",
       "   // already loaded: just create the visualization\n",
       "   !function(LDAvis){\n",
       "       new LDAvis(\"#\" + \"ldavis_el158551399327788467521285024187\", ldavis_el158551399327788467521285024187_data);\n",
       "   }(LDAvis);\n",
       "}else if(typeof define === \"function\" && define.amd){\n",
       "   // require.js is available: use it to load d3/LDAvis\n",
       "   require.config({paths: {d3: \"https://cdnjs.cloudflare.com/ajax/libs/d3/3.5.5/d3.min\"}});\n",
       "   require([\"d3\"], function(d3){\n",
       "      window.d3 = d3;\n",
       "      LDAvis_load_lib(\"https://cdn.rawgit.com/bmabey/pyLDAvis/files/ldavis.v1.0.0.js\", function(){\n",
       "        new LDAvis(\"#\" + \"ldavis_el158551399327788467521285024187\", ldavis_el158551399327788467521285024187_data);\n",
       "      });\n",
       "    });\n",
       "}else{\n",
       "    // require.js not available: dynamically load d3 & LDAvis\n",
       "    LDAvis_load_lib(\"https://cdnjs.cloudflare.com/ajax/libs/d3/3.5.5/d3.min.js\", function(){\n",
       "         LDAvis_load_lib(\"https://cdn.rawgit.com/bmabey/pyLDAvis/files/ldavis.v1.0.0.js\", function(){\n",
       "                 new LDAvis(\"#\" + \"ldavis_el158551399327788467521285024187\", ldavis_el158551399327788467521285024187_data);\n",
       "            })\n",
       "         });\n",
       "}\n",
       "</script>"
      ],
      "text/plain": [
       "<IPython.core.display.HTML object>"
      ]
     },
     "execution_count": 17,
     "metadata": {},
     "output_type": "execute_result"
    }
   ],
   "source": [
    "lda = LdaModel(common_corpus, \n",
    "               num_topics=40, \n",
    "               id2word=common_dictionary, \n",
    "               alpha=0.001, \n",
    "               random_state=123, \n",
    "               minimum_probability=0.2,\n",
    "               per_word_topics=True,\n",
    "               iterations=70)\n",
    "\n",
    "# Compute Coherence Score using c_v\n",
    "coherence_model_lda = CoherenceModel(model=lda, texts=corpus, dictionary=common_dictionary, coherence='c_v')\n",
    "\n",
    "coherence_lda = coherence_model_lda.get_coherence()\n",
    "print('Coherence Score c_v: ', coherence_lda)\n",
    "\n",
    "# Compute Coherence Score using u-mass\n",
    "coherence_model_lda = CoherenceModel(model=lda, texts=corpus, dictionary=common_dictionary, coherence='u_mass')\n",
    "\n",
    "coherence_lda = coherence_model_lda.get_coherence()\n",
    "print('Coherence Score u-mass: ', coherence_lda)\n",
    "\n",
    "perplexity = lda.log_perplexity(common_corpus)\n",
    "print('Model perplexity: ', perplexity)\n",
    "\n",
    "ldavis_prepared = pyLDAvis.gensim.prepare(lda, common_corpus, common_dictionary)\n",
    "\n",
    "pyLDAvis.display(ldavis_prepared)"
   ]
  },
  {
   "cell_type": "code",
   "execution_count": 14,
   "metadata": {},
   "outputs": [
    {
     "data": {
      "text/plain": [
       "3880"
      ]
     },
     "execution_count": 14,
     "metadata": {},
     "output_type": "execute_result"
    }
   ],
   "source": [
    "len(common_dictionary)"
   ]
  },
  {
   "cell_type": "code",
   "execution_count": 67,
   "metadata": {},
   "outputs": [],
   "source": [
    "text = all_data.loc[:, 'clean_text']"
   ]
  },
  {
   "cell_type": "code",
   "execution_count": 74,
   "metadata": {},
   "outputs": [],
   "source": [
    "all_t = (''.join(list(text.values))).replace('  ', ' ').split(' ')"
   ]
  },
  {
   "cell_type": "code",
   "execution_count": 76,
   "metadata": {},
   "outputs": [],
   "source": [
    "from collections import Counter"
   ]
  },
  {
   "cell_type": "code",
   "execution_count": 86,
   "metadata": {},
   "outputs": [],
   "source": [
    "flat_list = [item for sublist in corpus for item in sublist]"
   ]
  },
  {
   "cell_type": "code",
   "execution_count": 87,
   "metadata": {},
   "outputs": [],
   "source": [
    "TheCounter = Counter(flat_list)"
   ]
  },
  {
   "cell_type": "code",
   "execution_count": 98,
   "metadata": {},
   "outputs": [
    {
     "data": {
      "text/plain": [
       "True"
      ]
     },
     "execution_count": 98,
     "metadata": {},
     "output_type": "execute_result"
    }
   ],
   "source": [
    "isinstance(TheCounter, dict)"
   ]
  },
  {
   "cell_type": "code",
   "execution_count": 90,
   "metadata": {},
   "outputs": [
    {
     "data": {
      "text/plain": [
       "[<matplotlib.lines.Line2D at 0x7fb154d65550>]"
      ]
     },
     "execution_count": 90,
     "metadata": {},
     "output_type": "execute_result"
    },
    {
     "data": {
      "image/png": "[encoded data removed]",
      "text/plain": [
       "<Figure size 432x288 with 1 Axes>"
      ]
     },
     "metadata": {},
     "output_type": "display_data"
    }
   ],
   "source": [
    "plt.plot(sorted(TheCounter.values())[:-5000],'.')"
   ]
  },
  {
   "cell_type": "code",
   "execution_count": 119,
   "metadata": {},
   "outputs": [],
   "source": [
    "new_corpus = filter_function(corpus, 10)"
   ]
  },
  {
   "cell_type": "code",
   "execution_count": 120,
   "metadata": {},
   "outputs": [
    {
     "data": {
      "text/plain": [
       "(array([2.9453e+04, 2.1353e+04, 1.9018e+04, 1.5082e+04, 1.0999e+04,\n",
       "        7.7690e+03, 5.1770e+03, 3.2120e+03, 1.7970e+03, 9.8400e+02,\n",
       "        4.7000e+02, 2.3000e+02, 1.1000e+02, 5.2000e+01, 2.0000e+01,\n",
       "        6.0000e+00, 5.0000e+00, 2.0000e+00, 1.0000e+00]),\n",
       " array([ 0.        ,  1.05263158,  2.10526316,  3.15789474,  4.21052632,\n",
       "         5.26315789,  6.31578947,  7.36842105,  8.42105263,  9.47368421,\n",
       "        10.52631579, 11.57894737, 12.63157895, 13.68421053, 14.73684211,\n",
       "        15.78947368, 16.84210526, 17.89473684, 18.94736842, 20.        ]),\n",
       " <a list of 19 Patch objects>)"
      ]
     },
     "execution_count": 120,
     "metadata": {},
     "output_type": "execute_result"
    },
    {
     "data": {
      "image/png": "[encoded data removed]",
      "text/plain": [
       "<Figure size 432x288 with 1 Axes>"
      ]
     },
     "metadata": {},
     "output_type": "display_data"
    }
   ],
   "source": [
    "plt.hist([len(x) for x in new_corpus], bins=np.linspace(0,20,20))\n",
    "plt.hist([len(x) for x in corpus], bins=np.linspace(0,20,20))"
   ]
  },
  {
   "cell_type": "code",
   "execution_count": 121,
   "metadata": {},
   "outputs": [
    {
     "data": {
      "text/plain": [
       "322774"
      ]
     },
     "execution_count": 121,
     "metadata": {},
     "output_type": "execute_result"
    }
   ],
   "source": [
    "sum([len(x) for x in new_corpus])"
   ]
  },
  {
   "cell_type": "code",
   "execution_count": 122,
   "metadata": {},
   "outputs": [
    {
     "data": {
      "text/plain": [
       "379713"
      ]
     },
     "execution_count": 122,
     "metadata": {},
     "output_type": "execute_result"
    }
   ],
   "source": [
    "sum([len(x) for x in corpus])"
   ]
  },
  {
   "cell_type": "code",
   "execution_count": 123,
   "metadata": {},
   "outputs": [],
   "source": [
    "cc = Counter([item for sublist in new_corpus for item in sublist])"
   ]
  },
  {
   "cell_type": "code",
   "execution_count": 92,
   "metadata": {},
   "outputs": [
    {
     "data": {
      "text/plain": [
       "115745"
      ]
     },
     "execution_count": 92,
     "metadata": {},
     "output_type": "execute_result"
    }
   ],
   "source": [
    "len(corpus)"
   ]
  },
  {
   "cell_type": "code",
   "execution_count": 112,
   "metadata": {},
   "outputs": [
    {
     "data": {
      "text/plain": [
       "31425"
      ]
     },
     "execution_count": 112,
     "metadata": {},
     "output_type": "execute_result"
    }
   ],
   "source": [
    "len(common_dictionary)"
   ]
  },
  {
   "cell_type": "code",
   "execution_count": 125,
   "metadata": {},
   "outputs": [
    {
     "data": {
      "text/plain": [
       "3880"
      ]
     },
     "execution_count": 125,
     "metadata": {},
     "output_type": "execute_result"
    }
   ],
   "source": [
    "len(cc.values())"
   ]
  },
  {
   "cell_type": "code",
   "execution_count": 110,
   "metadata": {},
   "outputs": [
    {
     "data": {
      "text/plain": [
       "115745"
      ]
     },
     "execution_count": 110,
     "metadata": {},
     "output_type": "execute_result"
    }
   ],
   "source": [
    "len(new_corpus)"
   ]
  },
  {
   "cell_type": "code",
   "execution_count": 95,
   "metadata": {},
   "outputs": [
    {
     "data": {
      "text/plain": [
       "(array([2.9453e+04, 2.1353e+04, 1.9018e+04, 1.5082e+04, 1.0999e+04,\n",
       "        7.7690e+03, 5.1770e+03, 3.2120e+03, 1.7970e+03, 9.8400e+02,\n",
       "        4.7000e+02, 2.3000e+02, 1.1000e+02, 5.2000e+01, 2.0000e+01,\n",
       "        6.0000e+00, 5.0000e+00, 2.0000e+00, 1.0000e+00]),\n",
       " array([ 0.        ,  1.05263158,  2.10526316,  3.15789474,  4.21052632,\n",
       "         5.26315789,  6.31578947,  7.36842105,  8.42105263,  9.47368421,\n",
       "        10.52631579, 11.57894737, 12.63157895, 13.68421053, 14.73684211,\n",
       "        15.78947368, 16.84210526, 17.89473684, 18.94736842, 20.        ]),\n",
       " <a list of 19 Patch objects>)"
      ]
     },
     "execution_count": 95,
     "metadata": {},
     "output_type": "execute_result"
    },
    {
     "data": {
      "image/png": "[encoded data removed]",
      "text/plain": [
       "<Figure size 432x288 with 1 Axes>"
      ]
     },
     "metadata": {},
     "output_type": "display_data"
    }
   ],
   "source": [
    "cor_lens = [len(x) for x in corpus]\n",
    "plt.hist(cor_lens, bins=np.linspace(0,20,20))"
   ]
  },
  {
   "cell_type": "markdown",
   "metadata": {},
   "source": [
    "https://nlp.stanford.edu/events/illvi2014/papers/sievert-illvi2014.pdf\n",
    "\n",
    "- A topic in LDA is a multinomial distribution over the (typically thousands of) terms in the vocabulary of the corpus. "
   ]
  },
  {
   "cell_type": "code",
   "execution_count": 331,
   "metadata": {},
   "outputs": [
    {
     "data": {
      "text/plain": [
       "[([(0.11611071, 'Klimawandel'),\n",
       "   (0.037510283, 'Sammelbewegung'),\n",
       "   (0.035783961, 'Ideologie'),\n",
       "   (0.03160321, 'Demokratie'),\n",
       "   (0.022615083, 'Werte'),\n",
       "   (0.022137519, 'soziale'),\n",
       "   (0.021200893, 'Blick'),\n",
       "   (0.018040378, 'Kosten'),\n",
       "   (0.016673179, 'Positionen'),\n",
       "   (0.015409702, 'Hilfe'),\n",
       "   (0.015051554, 'Schule'),\n",
       "   (0.012794786, 'Energiewende'),\n",
       "   (0.012649757, 'Auslaender'),\n",
       "   (0.011805871, 'Spektrum'),\n",
       "   (0.011561305, 'Steuerzahler'),\n",
       "   (0.011505001, 'Neues'),\n",
       "   (0.0095258597, 'Partei'),\n",
       "   (0.0090149641, 'Verbrecher'),\n",
       "   (0.0087966118, 'Gerechtigkeit'),\n",
       "   (0.008548215, 'absolute')],\n",
       "  -12.970464622973111),\n",
       " ([(0.071270771, 'Fluechtlinge'),\n",
       "   (0.040500119, 'Deutschen'),\n",
       "   (0.040139761, 'Bundestag'),\n",
       "   (0.035875183, 'Themen'),\n",
       "   (0.035226185, 'Debatte'),\n",
       "   (0.033502724, 'Migranten'),\n",
       "   (0.032914698, 'Sommer'),\n",
       "   (0.027701339, 'Grenzen'),\n",
       "   (0.021182377, 'Sachen'),\n",
       "   (0.019982252, 'Loesung'),\n",
       "   (0.015615266, 'Zahlen'),\n",
       "   (0.01401592, 'Vorschlag'),\n",
       "   (0.011286941, 'Gruppen'),\n",
       "   (0.011108104, 'Mutter'),\n",
       "   (0.010802473, 'Propaganda'),\n",
       "   (0.0099179726, 'moechten'),\n",
       "   (0.009386207, 'gruenden'),\n",
       "   (0.0091726081, 'Dialog'),\n",
       "   (0.0091282995, 'Menge'),\n",
       "   (0.0084195361, 'radikale')],\n",
       "  -13.851203330805626),\n",
       " ([(0.10100213, 'Bewegung'),\n",
       "   (0.060555756, 'Kinder'),\n",
       "   (0.035424531, 'aufstehen'),\n",
       "   (0.025326049, 'Folgen'),\n",
       "   (0.023481438, 'liebe'),\n",
       "   (0.0173657, 'gestern'),\n",
       "   (0.016938474, 'Platz'),\n",
       "   (0.016867414, 'Berliner'),\n",
       "   (0.015245303, 'vermutlich'),\n",
       "   (0.014137931, 'Polizisten'),\n",
       "   (0.013759209, 'Programm'),\n",
       "   (0.012369673, 'Schutz'),\n",
       "   (0.011255198, 'Anfrage'),\n",
       "   (0.0089832162, 'Antworten'),\n",
       "   (0.0089234151, 'Diskurs'),\n",
       "   (0.0084688971, 'Klimakatastrophe'),\n",
       "   (0.0080717849, 'Stammtisch'),\n",
       "   (0.0076307189, 'Partei'),\n",
       "   (0.0074686948, 'Frauen'),\n",
       "   (0.0071923588, 'Bezug')],\n",
       "  -13.967564569020611),\n",
       " ([(0.079371676, 'Klima'),\n",
       "   (0.073210239, 'Problem'),\n",
       "   (0.040843971, 'Gewalt'),\n",
       "   (0.035356503, 'Kritik'),\n",
       "   (0.023785388, 'Umwelt'),\n",
       "   (0.023325661, 'Wetter'),\n",
       "   (0.02019825, 'Ministerpraesident'),\n",
       "   (0.019864343, 'Union'),\n",
       "   (0.018805342, 'Gentechnik'),\n",
       "   (0.015152153, 'Aussagen'),\n",
       "   (0.013940779, 'Basis'),\n",
       "   (0.013814645, 'Vergleich'),\n",
       "   (0.010975759, 'Hauptsache'),\n",
       "   (0.010796196, 'Wand'),\n",
       "   (0.0094069382, 'solange'),\n",
       "   (0.0091639943, 'offenen'),\n",
       "   (0.0089896265, 'Partei'),\n",
       "   (0.0086087706, 'somit'),\n",
       "   (0.0083225118, 'Ansichten'),\n",
       "   (0.007866757, 'Verkehrswende')],\n",
       "  -14.080018286493395),\n",
       " ([(0.073604293, 'gerne'),\n",
       "   (0.061507713, 'Medien'),\n",
       "   (0.050195172, 'Mitte'),\n",
       "   (0.039970461, 'Hand'),\n",
       "   (0.03912019, 'Probleme'),\n",
       "   (0.03254373, 'Journalisten'),\n",
       "   (0.012738385, 'Juden'),\n",
       "   (0.012725866, 'Wohnungen'),\n",
       "   (0.011326039, 'Schande'),\n",
       "   (0.011134474, 'Frieden'),\n",
       "   (0.010992763, 'heutigen'),\n",
       "   (0.010193914, 'Antisemitismus'),\n",
       "   (0.0096930908, 'laenger'),\n",
       "   (0.0095104221, 'Religion'),\n",
       "   (0.0080614667, 'Lehrer'),\n",
       "   (0.0074170604, 'teilweise'),\n",
       "   (0.0073389164, 'Ausgerechnet'),\n",
       "   (0.0071510272, 'nationale'),\n",
       "   (0.0069450447, 'Entscheidung'),\n",
       "   (0.0067664692, 'Partei')],\n",
       "  -14.662599162529309),\n",
       " ([(0.063108705, 'Herr'),\n",
       "   (0.058117539, 'leider'),\n",
       "   (0.043732658, 'innen'),\n",
       "   (0.040686704, 'Artikel'),\n",
       "   (0.031813502, 'Fall'),\n",
       "   (0.030633416, 'Fragen'),\n",
       "   (0.027514998, 'Diskussion'),\n",
       "   (0.026265211, 'muesste'),\n",
       "   (0.025191776, 'sofort'),\n",
       "   (0.022467924, 'Kindern'),\n",
       "   (0.01447263, 'Typisch'),\n",
       "   (0.013354708, 'Monaten'),\n",
       "   (0.011276735, 'Kampagne'),\n",
       "   (0.0095759118, 'Arme'),\n",
       "   (0.0094545977, 'oeffentlichen'),\n",
       "   (0.0089675728, 'starke'),\n",
       "   (0.0088067586, 'Praesident'),\n",
       "   (0.0084897615, 'Zeug'),\n",
       "   (0.0082177492, 'starken'),\n",
       "   (0.0077841841, 'koennten')],\n",
       "  -14.84371234011898),\n",
       " ([(0.17430523, 'Politik'),\n",
       "   (0.063324571, 'Geld'),\n",
       "   (0.028058872, 'Frauen'),\n",
       "   (0.023975717, 'Bevoelkerung'),\n",
       "   (0.02376969, 'Grund'),\n",
       "   (0.019651446, 'Maenner'),\n",
       "   (0.018629095, 'Muenchen'),\n",
       "   (0.018069424, 'alte'),\n",
       "   (0.01695513, 'Glueck'),\n",
       "   (0.015370289, 'Grad'),\n",
       "   (0.013745994, 'Initiative'),\n",
       "   (0.01166007, 'Spiel'),\n",
       "   (0.011360472, 'Abend'),\n",
       "   (0.0095188767, 'Unterstuetzer'),\n",
       "   (0.0081725381, 'Nacht'),\n",
       "   (0.0077506751, 'Wiesen'),\n",
       "   (0.0076797334, 'Entwicklung'),\n",
       "   (0.0072357934, 'Klientel'),\n",
       "   (0.0070031309, 'Waelder'),\n",
       "   (0.0068778442, 'Umverteilung')],\n",
       "  -14.864974274898451),\n",
       " ([(0.086981617, 'Jugend'),\n",
       "   (0.058329608, 'Wehrpflicht'),\n",
       "   (0.037511632, 'Seite'),\n",
       "   (0.029814735, 'Wahl'),\n",
       "   (0.027891211, 'Chef'),\n",
       "   (0.027248124, 'Fonds'),\n",
       "   (0.020558445, 'letzte'),\n",
       "   (0.020187125, 'junge'),\n",
       "   (0.020095937, 'Lager'),\n",
       "   (0.017553182, 'Goering'),\n",
       "   (0.016175896, 'Bund'),\n",
       "   (0.014156656, 'Unterstuetzung'),\n",
       "   (0.011789553, 'Nachwuchs'),\n",
       "   (0.011437064, 'Asylrecht'),\n",
       "   (0.01132001, 'wichtiger'),\n",
       "   (0.009263345, 'Linker'),\n",
       "   (0.0091144694, 'Schaden'),\n",
       "   (0.0083549051, 'Dienstpflicht'),\n",
       "   (0.0081511624, 'Gesundheit'),\n",
       "   (0.0077906577, 'Moeglichkeit')],\n",
       "  -14.878577177063768),\n",
       " ([(0.11047702, 'Politiker'),\n",
       "   (0.025480792, 'genauso'),\n",
       "   (0.023632433, 'Mitglieder'),\n",
       "   (0.020755855, 'Minister'),\n",
       "   (0.02050405, 'Energie'),\n",
       "   (0.013296722, 'Unternehmen'),\n",
       "   (0.013204021, 'Linkspartei'),\n",
       "   (0.012653608, 'Denken'),\n",
       "   (0.012566898, 'allgemeine'),\n",
       "   (0.012038121, 'Abschiebung'),\n",
       "   (0.011570685, 'falschen'),\n",
       "   (0.011364372, 'Haende'),\n",
       "   (0.011191953, 'aktuelle'),\n",
       "   (0.011133757, 'Skandal'),\n",
       "   (0.011086541, 'Richter'),\n",
       "   (0.010882574, 'arme'),\n",
       "   (0.010269456, 'Verfassung'),\n",
       "   (0.010264112, 'Stellen'),\n",
       "   (0.0084509663, 'Partei'),\n",
       "   (0.0080940025, 'irre')],\n",
       "  -15.086173761768721),\n",
       " ([(0.095473357, 'Welt'),\n",
       "   (0.022454651, 'Wahlkampf'),\n",
       "   (0.020196527, 'Ahnung'),\n",
       "   (0.01975687, 'zumindest'),\n",
       "   (0.019636767, 'Forderung'),\n",
       "   (0.01756702, 'Eltern'),\n",
       "   (0.016212389, 'Form'),\n",
       "   (0.015822368, 'Steuern'),\n",
       "   (0.015724611, 'Landesregierung'),\n",
       "   (0.014592146, 'Kind'),\n",
       "   (0.013777056, 'groessten'),\n",
       "   (0.011869053, 'Muell'),\n",
       "   (0.010796671, 'Katastrophe'),\n",
       "   (0.010252513, 'Satz'),\n",
       "   (0.01010076, 'Zustimmung'),\n",
       "   (0.010064936, 'Folge'),\n",
       "   (0.00896433, 'Alleinerziehende'),\n",
       "   (0.0084490823, 'Rente'),\n",
       "   (0.0079595791, 'Genossen'),\n",
       "   (0.0078514582, 'bayerischen')],\n",
       "  -15.089616843539273),\n",
       " ([(0.11053659, 'Frau'),\n",
       "   (0.047658812, 'Fluchtgrund'),\n",
       "   (0.043338064, 'Deutsche'),\n",
       "   (0.038974561, 'Polizei'),\n",
       "   (0.023511454, 'Kopf'),\n",
       "   (0.016221561, 'Autos'),\n",
       "   (0.016135117, 'groesste'),\n",
       "   (0.015533648, 'Fehler'),\n",
       "   (0.015122877, 'Worte'),\n",
       "   (0.013052951, 'Antrag'),\n",
       "   (0.012588952, 'Staedten'),\n",
       "   (0.012586512, 'Mut'),\n",
       "   (0.011507898, 'Herrn'),\n",
       "   (0.011111251, 'System'),\n",
       "   (0.01097289, 'Ankerzentren'),\n",
       "   (0.010326927, 'Respekt'),\n",
       "   (0.010304975, 'Kindergarten'),\n",
       "   (0.0097328946, 'Gespraeche'),\n",
       "   (0.0090338085, 'normale'),\n",
       "   (0.0072228098, 'Verein')],\n",
       "  -15.570088736226229),\n",
       " ([(0.072934411, 'deutsche'),\n",
       "   (0.043138705, 'Volk'),\n",
       "   (0.033293966, 'selber'),\n",
       "   (0.021603428, 'Twitter'),\n",
       "   (0.020767638, 'Rest'),\n",
       "   (0.018125067, 'Ort'),\n",
       "   (0.017864617, 'Sprache'),\n",
       "   (0.015725864, 'Sinn'),\n",
       "   (0.013086781, 'Kurs'),\n",
       "   (0.012946354, 'Haare'),\n",
       "   (0.012613039, 'Stelle'),\n",
       "   (0.010449808, 'Rechtsstaat'),\n",
       "   (0.010029062, 'oeffentliche'),\n",
       "   (0.0095648943, 'Meinungsfreiheit'),\n",
       "   (0.0094690667, 'Grundgesetz'),\n",
       "   (0.0082890578, 'Ideologen'),\n",
       "   (0.0073339809, 'Rechtsextreme'),\n",
       "   (0.0072595668, 'Kohlekraftwerke'),\n",
       "   (0.0068417299, 'orange'),\n",
       "   (0.0067198025, 'Kolumne')],\n",
       "  -15.587867329834896),\n",
       " ([(0.071077034, 'Asyl'),\n",
       "   (0.05114349, 'Partei'),\n",
       "   (0.026002314, 'einzige'),\n",
       "   (0.02193906, 'Strasse'),\n",
       "   (0.021494871, 'Aktion'),\n",
       "   (0.019497691, 'Stimme'),\n",
       "   (0.017415822, 'Aufklaerung'),\n",
       "   (0.016730389, 'Alternative'),\n",
       "   (0.015740542, 'Wahlen'),\n",
       "   (0.014514629, 'beste'),\n",
       "   (0.013048261, 'Chefin'),\n",
       "   (0.011922619, 'Junge'),\n",
       "   (0.0092310878, 'Veranstaltung'),\n",
       "   (0.0087968344, 'ehemalige'),\n",
       "   (0.0086343754, 'kommenden'),\n",
       "   (0.0080410521, 'Sonntag'),\n",
       "   (0.0078288382, 'Aufbruch'),\n",
       "   (0.0075743259, 'gehts'),\n",
       "   (0.0070844614, 'Gender'),\n",
       "   (0.006902338, 'nachhaltige')],\n",
       "  -15.727781262955805),\n",
       " ([(0.057473317, 'Idee'),\n",
       "   (0.054703098, 'sogar'),\n",
       "   (0.040101975, 'Arbeit'),\n",
       "   (0.022634685, 'Bildung'),\n",
       "   (0.022335583, 'guten'),\n",
       "   (0.02192886, 'rote'),\n",
       "   (0.01848758, 'Leuten'),\n",
       "   (0.016149269, 'Besuch'),\n",
       "   (0.015909113, 'Idioten'),\n",
       "   (0.015265919, 'Unsinn'),\n",
       "   (0.012837047, 'Kommunisten'),\n",
       "   (0.011394896, 'Wissenschaft'),\n",
       "   (0.011015716, 'Zeichen'),\n",
       "   (0.010930407, 'jedenfalls'),\n",
       "   (0.010272004, 'Quatsch'),\n",
       "   (0.0098375948, 'jemals'),\n",
       "   (0.0088338004, 'dennoch'),\n",
       "   (0.0075655282, 'Nachricht'),\n",
       "   (0.0072906683, 'Maennchen'),\n",
       "   (0.0065663322, 'irgendwo')],\n",
       "  -15.74535130836067),\n",
       " ([(0.044678368, 'fast'),\n",
       "   (0.038424633, 'Augen'),\n",
       "   (0.024514468, 'Wasser'),\n",
       "   (0.022568971, 'Aussage'),\n",
       "   (0.021618405, 'Wochen'),\n",
       "   (0.021218739, 'irgendwie'),\n",
       "   (0.02038205, 'Punkt'),\n",
       "   (0.019130809, 'Wahrheit'),\n",
       "   (0.017495679, 'Farbe'),\n",
       "   (0.016080167, 'Terroristen'),\n",
       "   (0.015835017, 'weiterhin'),\n",
       "   (0.01430578, 'Gesetz'),\n",
       "   (0.013883156, 'Digitalisierung'),\n",
       "   (0.013192037, 'Kohle'),\n",
       "   (0.012479939, 'Vorsitzende'),\n",
       "   (0.011149816, 'Argumente'),\n",
       "   (0.011005167, 'Gesetze'),\n",
       "   (0.0094752675, 'Wohltat'),\n",
       "   (0.0087570986, 'Plattform'),\n",
       "   (0.0081920372, 'Schwarze')],\n",
       "  -15.752529603174493),\n",
       " ([(0.071188472, 'Frage'),\n",
       "   (0.030527052, 'Liebe'),\n",
       "   (0.028307246, 'Soeder'),\n",
       "   (0.027956886, 'Staatsbuergerschaft'),\n",
       "   (0.024314014, 'Ideen'),\n",
       "   (0.023231311, 'Bauern'),\n",
       "   (0.018568864, 'Begriff'),\n",
       "   (0.015330412, 'richtigen'),\n",
       "   (0.01338924, 'sicher'),\n",
       "   (0.012875502, 'Buch'),\n",
       "   (0.010942904, 'Foto'),\n",
       "   (0.010466053, 'sicherlich'),\n",
       "   (0.0099654673, 'Wunder'),\n",
       "   (0.0099130804, 'Haelfte'),\n",
       "   (0.0083881924, 'Verstaendnis'),\n",
       "   (0.0081203012, 'Tisch'),\n",
       "   (0.0080032367, 'besseren'),\n",
       "   (0.0079383189, 'Licht'),\n",
       "   (0.007870662, 'Wege'),\n",
       "   (0.0075189071, 'Gast')],\n",
       "  -15.96748554139821),\n",
       " ([(0.099178597, 'Leute'),\n",
       "   (0.080476001, 'Thema'),\n",
       "   (0.054825604, 'rechts'),\n",
       "   (0.025047624, 'Opfer'),\n",
       "   (0.019413415, 'Luft'),\n",
       "   (0.015087142, 'sozialen'),\n",
       "   (0.013963807, 'Woche'),\n",
       "   (0.012406521, 'Gehalt'),\n",
       "   (0.011252526, 'Gruende'),\n",
       "   (0.011065157, 'Nachrichten'),\n",
       "   (0.010462565, 'Flaechen'),\n",
       "   (0.009425791, 'Sozialwohnungen'),\n",
       "   (0.0081450092, 'Buergern'),\n",
       "   (0.0081347516, 'voran'),\n",
       "   (0.0081083262, 'Regeln'),\n",
       "   (0.0079508517, 'Klimapolitik'),\n",
       "   (0.0075795953, 'Tomaten'),\n",
       "   (0.0075310143, 'Stimmung'),\n",
       "   (0.006588222, 'Ansatz'),\n",
       "   (0.0065608732, 'Statement')],\n",
       "  -16.119380817471288),\n",
       " ([(0.052648947, 'Leben'),\n",
       "   (0.035936665, 'Antideutsche'),\n",
       "   (0.028584089, 'Nazi'),\n",
       "   (0.024753993, 'Islam'),\n",
       "   (0.024312835, 'Kampf'),\n",
       "   (0.020065874, 'Auto'),\n",
       "   (0.017363887, 'Atlantikbruecken'),\n",
       "   (0.013865604, 'Kern'),\n",
       "   (0.013630555, 'Integration'),\n",
       "   (0.012559447, 'bessere'),\n",
       "   (0.012053656, 'schoene'),\n",
       "   (0.011838869, 'Kapitalismus'),\n",
       "   (0.011406614, 'konservative'),\n",
       "   (0.010301919, 'Deutsch'),\n",
       "   (0.010046393, 'Abschaffung'),\n",
       "   (0.0098249391, 'Wahnsinn'),\n",
       "   (0.009516051, 'Einwanderung'),\n",
       "   (0.0087123467, 'Antideutschen'),\n",
       "   (0.0082857283, 'Bloedsinn'),\n",
       "   (0.0082184728, 'Personal')],\n",
       "  -16.136947658565013),\n",
       " ([(0.081365764, 'halt'),\n",
       "   (0.041343339, 'Lindner'),\n",
       "   (0.026856162, 'Projekt'),\n",
       "   (0.016041037, 'Umfrage'),\n",
       "   (0.015832987, 'Unterschied'),\n",
       "   (0.014362852, 'Hoffnung'),\n",
       "   (0.013745756, 'Populismus'),\n",
       "   (0.013670765, 'Guten'),\n",
       "   (0.011948953, 'Landes'),\n",
       "   (0.010866481, 'Teilen'),\n",
       "   (0.010270346, 'Konzept'),\n",
       "   (0.0089368327, 'Lust'),\n",
       "   (0.0086425208, 'Vielfalt'),\n",
       "   (0.0084410328, 'Freude'),\n",
       "   (0.00838836, 'blaue'),\n",
       "   (0.0083325272, 'Waffen'),\n",
       "   (0.0069304183, 'Tages'),\n",
       "   (0.0068356567, 'gemeinsame'),\n",
       "   (0.0068181721, 'Spitzenkandidat'),\n",
       "   (0.0066625252, 'Zweifel')],\n",
       "  -16.271235686928577),\n",
       " ([(0.067826048, 'Waehler'),\n",
       "   (0.048696328, 'Rassismus'),\n",
       "   (0.022027582, 'Staedte'),\n",
       "   (0.02110864, 'Mitglied'),\n",
       "   (0.017709555, 'MeTwo'),\n",
       "   (0.01698144, 'mittlerweile'),\n",
       "   (0.014162987, 'Situation'),\n",
       "   (0.011251982, 'Fluechtlingspolitik'),\n",
       "   (0.010805616, 'Mund'),\n",
       "   (0.010696426, 'Hause'),\n",
       "   (0.010688215, 'Meinungen'),\n",
       "   (0.010501303, 'Seenotrettung'),\n",
       "   (0.0089995973, 'Luegenpresse'),\n",
       "   (0.0083376504, 'Tote'),\n",
       "   (0.0080244318, 'Unrecht'),\n",
       "   (0.0074075572, 'Waehlern'),\n",
       "   (0.0070019551, 'Betrug'),\n",
       "   (0.0069350963, 'ehemaligen'),\n",
       "   (0.0067619691, 'Arbeitgeber'),\n",
       "   (0.0064712781, 'Reise')],\n",
       "  -16.292442890895728),\n",
       " ([(0.058488782, 'Nazis'),\n",
       "   (0.039461635, 'Bild'),\n",
       "   (0.031176569, 'Antwort'),\n",
       "   (0.028414426, 'Hass'),\n",
       "   (0.02134555, 'Fraktionschefin'),\n",
       "   (0.019772865, 'Gegenteil'),\n",
       "   (0.018712984, 'Landtagswahl'),\n",
       "   (0.016465934, 'Oktober'),\n",
       "   (0.014254503, 'Insel'),\n",
       "   (0.013479552, 'Werbung'),\n",
       "   (0.010871716, 'Linie'),\n",
       "   (0.0098966639, 'Weise'),\n",
       "   (0.0098082675, 'Toleranz'),\n",
       "   (0.0098039703, 'Berichterstattung'),\n",
       "   (0.0097816987, 'Wirklichkeit'),\n",
       "   (0.0090011451, 'heutige'),\n",
       "   (0.008663618, 'Methoden'),\n",
       "   (0.0081280861, 'naechstes'),\n",
       "   (0.0073773228, 'Glaubwuerdigkeit'),\n",
       "   (0.0071427245, 'wichtigen')],\n",
       "  -16.299178975326679),\n",
       " ([(0.14234333, 'Land'),\n",
       "   (0.027328452, 'Verantwortung'),\n",
       "   (0.026483957, 'Hetze'),\n",
       "   (0.025265673, 'Volkspartei'),\n",
       "   (0.022624353, 'Bundeswehr'),\n",
       "   (0.022329792, 'alten'),\n",
       "   (0.020901473, 'Pflege'),\n",
       "   (0.016889602, 'Fluechtlingen'),\n",
       "   (0.014352545, 'Schritt'),\n",
       "   (0.013073393, 'Ausland'),\n",
       "   (0.012563429, 'Liste'),\n",
       "   (0.012013561, 'Kultur'),\n",
       "   (0.011575748, 'Sofortprogramm'),\n",
       "   (0.010057841, 'Diktatur'),\n",
       "   (0.0099937739, 'politischer'),\n",
       "   (0.0099429246, 'Loesungen'),\n",
       "   (0.0082658632, 'Inselstaaten'),\n",
       "   (0.0081832828, 'neoliberalen'),\n",
       "   (0.0063419617, 'seebruecke'),\n",
       "   (0.0056619532, 'moeglicherweise')],\n",
       "  -16.425879401885439),\n",
       " ([(0.19137058, 'Sammlungsbewegung'),\n",
       "   (0.1050175, 'Wagenknecht'),\n",
       "   (0.045041334, 'deutschen'),\n",
       "   (0.019964587, 'Geschichte'),\n",
       "   (0.018988257, 'nochmal'),\n",
       "   (0.016365571, 'Schwachsinn'),\n",
       "   (0.011518053, 'Start'),\n",
       "   (0.01115891, 'Einfach'),\n",
       "   (0.0084262211, 'ohnehin'),\n",
       "   (0.0075370166, 'Mitarbeiter'),\n",
       "   (0.0075041261, 'Patriotismus'),\n",
       "   (0.0074066659, 'Feind'),\n",
       "   (0.0074011134, 'Muenster'),\n",
       "   (0.0072388588, 'Bereich'),\n",
       "   (0.0064385538, 'Parolen'),\n",
       "   (0.0063530016, 'Zug'),\n",
       "   (0.0060467129, 'Abschiebungen'),\n",
       "   (0.0058524273, 'Konsequenzen'),\n",
       "   (0.0053806715, 'Sommerloch'),\n",
       "   (0.0053448863, 'lediglich')],\n",
       "  -16.452906054645819),\n",
       " ([(0.062049434, 'Meinung'),\n",
       "   (0.040832721, 'politischen'),\n",
       "   (0.035566796, 'egal'),\n",
       "   (0.031352669, 'Rot'),\n",
       "   (0.027444242, 'Witzfigur'),\n",
       "   (0.025619024, 'neues'),\n",
       "   (0.020493358, 'Koalition'),\n",
       "   (0.01591458, 'Presse'),\n",
       "   (0.014226276, 'Ding'),\n",
       "   (0.014089703, 'Massnahmen'),\n",
       "   (0.011259984, 'Mehrheiten'),\n",
       "   (0.010944593, 'Internet'),\n",
       "   (0.0098482259, 'Schuss'),\n",
       "   (0.0094210096, 'Spitze'),\n",
       "   (0.0090027768, 'Szene'),\n",
       "   (0.0082583176, 'Gegner'),\n",
       "   (0.0081137698, 'freie'),\n",
       "   (0.0077710408, 'Studie'),\n",
       "   (0.0075118477, 'Raum'),\n",
       "   (0.0074414094, 'Sozen')],\n",
       "  -16.493120197589864),\n",
       " ([(0.083966352, 'eher'),\n",
       "   (0.047552306, 'Mehrheit'),\n",
       "   (0.032050371, 'Baeume'),\n",
       "   (0.019461246, 'Dienst'),\n",
       "   (0.018070323, 'Personen'),\n",
       "   (0.015844613, 'Schulen'),\n",
       "   (0.014126304, 'Ausbildung'),\n",
       "   (0.013923051, 'Armut'),\n",
       "   (0.011655629, 'Verhalten'),\n",
       "   (0.01131943, 'Flucht'),\n",
       "   (0.010978185, 'neuer'),\n",
       "   (0.010861439, 'Wiener'),\n",
       "   (0.010775047, 'Islamisten'),\n",
       "   (0.0099535594, 'Tuerken'),\n",
       "   (0.0090818964, 'Sohn'),\n",
       "   (0.0090115527, 'einst'),\n",
       "   (0.0089049116, 'Rentner'),\n",
       "   (0.0081786187, 'Paedophilie'),\n",
       "   (0.0080637569, 'Humor'),\n",
       "   (0.0075328513, 'Subventionen')],\n",
       "  -16.527673036513587),\n",
       " ([(0.077451006, 'einfach'),\n",
       "   (0.037230726, 'Millionen'),\n",
       "   (0.037148029, 'Baerbock'),\n",
       "   (0.025023265, 'Anpassung'),\n",
       "   (0.023685191, 'Natur'),\n",
       "   (0.019185012, 'naechsten'),\n",
       "   (0.019086473, 'linker'),\n",
       "   (0.015065097, 'Opposition'),\n",
       "   (0.014693487, 'August'),\n",
       "   (0.013925117, 'derzeit'),\n",
       "   (0.013906648, 'schwarze'),\n",
       "   (0.011890502, 'Rolle'),\n",
       "   (0.011627126, 'Gesicht'),\n",
       "   (0.01120481, 'weisse'),\n",
       "   (0.010229273, 'Laender'),\n",
       "   (0.0087061059, 'Text'),\n",
       "   (0.0086494442, 'Meer'),\n",
       "   (0.0084371716, 'Spaltung'),\n",
       "   (0.0083232075, 'manchmal'),\n",
       "   (0.0081883725, 'irgendwann')],\n",
       "  -16.551327734435677),\n",
       " ([(0.047099672, 'bitte'),\n",
       "   (0.019047987, 'naechste'),\n",
       "   (0.017483275, 'Faschisten'),\n",
       "   (0.016619349, 'Diesel'),\n",
       "   (0.015738275, 'Interview'),\n",
       "   (0.014947529, 'Menschenrecht'),\n",
       "   (0.014587474, 'mindestens'),\n",
       "   (0.014261393, 'Sozialismus'),\n",
       "   (0.013822417, 'gleichen'),\n",
       "   (0.013374367, 'inzwischen'),\n",
       "   (0.012447303, 'Sekte'),\n",
       "   (0.012215422, 'Minderheit'),\n",
       "   (0.011959089, 'Afrikaner'),\n",
       "   (0.011645687, 'Interessen'),\n",
       "   (0.011630614, 'tolle'),\n",
       "   (0.011066057, 'freien'),\n",
       "   (0.010499632, 'Fuehrung'),\n",
       "   (0.0095622456, 'Verbrechen'),\n",
       "   (0.0094297063, 'Freund'),\n",
       "   (0.0082958126, 'Rechtsruck')],\n",
       "  -16.557830567943977),\n",
       " ([(0.080291174, 'Regierung'),\n",
       "   (0.027296575, 'Politikerin'),\n",
       "   (0.026689613, 'Bundesregierung'),\n",
       "   (0.023700776, 'Gutmenschen'),\n",
       "   (0.016842199, 'sowieso'),\n",
       "   (0.014666603, 'Familie'),\n",
       "   (0.014400493, 'niemals'),\n",
       "   (0.014000603, 'vorbei'),\n",
       "   (0.013762346, 'Amt'),\n",
       "   (0.013125494, 'Einsatz'),\n",
       "   (0.010895382, 'Innenminister'),\n",
       "   (0.010808558, 'Abgeordnete'),\n",
       "   (0.010512542, 'Wohnung'),\n",
       "   (0.010012859, 'Haufen'),\n",
       "   (0.0095542893, 'Danke'),\n",
       "   (0.0075889444, 'Wettbewerb'),\n",
       "   (0.0072880141, 'Umweltpolitik'),\n",
       "   (0.0072745751, 'Tatsache'),\n",
       "   (0.0069736289, 'Cannabis'),\n",
       "   (0.0066907988, 'Chancen')],\n",
       "  -16.672320647169805),\n",
       " ([(0.028316675, 'Luegen'),\n",
       "   (0.026693832, 'Prozent'),\n",
       "   (0.021744484, 'Fakten'),\n",
       "   (0.021085326, 'Dienstpflicht'),\n",
       "   (0.020739971, 'Landwirtschaft'),\n",
       "   (0.018546175, 'aktuellen'),\n",
       "   (0.015271999, 'Beitrag'),\n",
       "   (0.012601173, 'staerker'),\n",
       "   (0.012567507, 'rein'),\n",
       "   (0.010343029, 'Tiere'),\n",
       "   (0.010316549, 'Ministerin'),\n",
       "   (0.010161048, 'stets'),\n",
       "   (0.010122485, 'Plan'),\n",
       "   (0.009552151, 'Wehrdienst'),\n",
       "   (0.009340493, 'Ansonsten'),\n",
       "   (0.0092479922, 'klare'),\n",
       "   (0.0092113521, 'Strategie'),\n",
       "   (0.0083233947, 'gefallen'),\n",
       "   (0.0078879502, 'groesser'),\n",
       "   (0.0077103982, 'Generation')],\n",
       "  -16.73415606507379),\n",
       " ([(0.054904316, 'Staat'),\n",
       "   (0.022876855, 'Sommerinterview'),\n",
       "   (0.022757228, 'Leider'),\n",
       "   (0.022239342, 'Gefahr'),\n",
       "   (0.021723874, 'Sicherheit'),\n",
       "   (0.017898755, 'Haltung'),\n",
       "   (0.015202045, 'Urlaub'),\n",
       "   (0.014531132, 'Kirche'),\n",
       "   (0.013046625, 'Wiese'),\n",
       "   (0.011702138, 'Gruppe'),\n",
       "   (0.011588573, 'Heisszeit'),\n",
       "   (0.010966969, 'Pflicht'),\n",
       "   (0.010548731, 'September'),\n",
       "   (0.0094742505, 'Klimaanpassung'),\n",
       "   (0.0088129267, 'immerhin'),\n",
       "   (0.0087565016, 'Kanzlerin'),\n",
       "   (0.0085400064, 'Bedrohung'),\n",
       "   (0.0083464887, 'derart'),\n",
       "   (0.0082031619, 'Feuer'),\n",
       "   (0.0077684755, 'braune')],\n",
       "  -17.155451989154521),\n",
       " ([(0.047238067, 'Zukunft'),\n",
       "   (0.028649298, 'Trump'),\n",
       "   (0.026070338, 'Ziel'),\n",
       "   (0.020864509, 'Scheisse'),\n",
       "   (0.019167854, 'Familien'),\n",
       "   (0.019032534, 'Video'),\n",
       "   (0.01735298, 'Logik'),\n",
       "   (0.016505724, 'Zeitung'),\n",
       "   (0.014282826, 'unterwegs'),\n",
       "   (0.013833788, 'Aufgabe'),\n",
       "   (0.012076666, 'Monate'),\n",
       "   (0.011732649, 'gesamte'),\n",
       "   (0.011631493, 'Sorgen'),\n",
       "   (0.011554425, 'Abschaum'),\n",
       "   (0.011149067, 'Parlament'),\n",
       "   (0.010661891, 'Rahmen'),\n",
       "   (0.010435368, 'Seiten'),\n",
       "   (0.0095964326, 'ltwby'),\n",
       "   (0.0081978543, 'Haus'),\n",
       "   (0.0078081358, 'ermoeglichen')],\n",
       "  -17.157725314915687),\n",
       " ([(0.17559218, 'Aufstehen'),\n",
       "   (0.04635001, 'Sahra'),\n",
       "   (0.020621559, 'Richtung'),\n",
       "   (0.01705665, 'Position'),\n",
       "   (0.015771452, 'Grenze'),\n",
       "   (0.015151959, 'echte'),\n",
       "   (0.014974642, 'Kraft'),\n",
       "   (0.014646036, 'Dinge'),\n",
       "   (0.013798767, 'Wagenknechts'),\n",
       "   (0.010364195, 'Umweltschutz'),\n",
       "   (0.010030295, 'offene'),\n",
       "   (0.0096897986, 'Strom'),\n",
       "   (0.0094200848, 'Vollmer'),\n",
       "   (0.0085439654, 'Eindruck'),\n",
       "   (0.0081381397, 'Zahl'),\n",
       "   (0.0075562443, 'Netz'),\n",
       "   (0.0069012064, 'Mieten'),\n",
       "   (0.00628271, 'Fraktionsvorsitzende'),\n",
       "   (0.0061041913, 'Anmeldungen'),\n",
       "   (0.0059038047, 'Glueckwunsch')],\n",
       "  -17.163478666824172),\n",
       " ([(0.053104054, 'politische'),\n",
       "   (0.043994449, 'Klimaschutz'),\n",
       "   (0.029860219, 'Chance'),\n",
       "   (0.029354831, 'Wort'),\n",
       "   (0.023280438, 'Erfolg'),\n",
       "   (0.01708887, 'Rassisten'),\n",
       "   (0.016901178, 'Dummheit'),\n",
       "   (0.011454194, 'Anhaenger'),\n",
       "   (0.011183201, 'Sinne'),\n",
       "   (0.011170512, 'Politikern'),\n",
       "   (0.011096756, 'Konservative'),\n",
       "   (0.01063855, 'liberale'),\n",
       "   (0.0102411, 'Gold'),\n",
       "   (0.0095175607, 'Kreis'),\n",
       "   (0.0094603375, 'vernuenftige'),\n",
       "   (0.0080357417, 'Klasse'),\n",
       "   (0.0070681279, 'Mode'),\n",
       "   (0.0064593321, 'Handeln'),\n",
       "   (0.0062502283, 'Sozialdemokratie'),\n",
       "   (0.0059420364, 'Lunge')],\n",
       "  -17.223725448348844),\n",
       " ([(0.05932644, 'Gesellschaft'),\n",
       "   (0.021327887, 'Ecke'),\n",
       "   (0.020707333, 'Aktivisten'),\n",
       "   (0.019556902, 'Wirtschaft'),\n",
       "   (0.013998837, 'Justiz'),\n",
       "   (0.013742165, 'Ergebnis'),\n",
       "   (0.012150841, 'unten'),\n",
       "   (0.012122505, 'jungen'),\n",
       "   (0.012088161, 'Interesse'),\n",
       "   (0.011704135, 'Sicht'),\n",
       "   (0.011644378, 'Zensur'),\n",
       "   (0.011635572, 'Sozialisten'),\n",
       "   (0.01006064, 'Arbeiter'),\n",
       "   (0.0099738538, 'Doofkoeppe'),\n",
       "   (0.0086384565, 'ansonsten'),\n",
       "   (0.0075119594, 'Infos'),\n",
       "   (0.007417249, 'Nationalismus'),\n",
       "   (0.0072507798, 'Motto'),\n",
       "   (0.0068813148, 'Fan'),\n",
       "   (0.0067965537, 'Jugendliche')],\n",
       "  -17.268485159003344),\n",
       " ([(0.037192538, 'Freiheit'),\n",
       "   (0.020452064, 'Zeiten'),\n",
       "   (0.019647162, 'ziemlich'),\n",
       "   (0.017615365, 'Wald'),\n",
       "   (0.017351581, 'gleiche'),\n",
       "   (0.01401794, 'Sonne'),\n",
       "   (0.012927366, 'waer'),\n",
       "   (0.012735187, 'Druck'),\n",
       "   (0.012719736, 'Bericht'),\n",
       "   (0.010233331, 'insbesondere'),\n",
       "   (0.010116295, 'Arsch'),\n",
       "   (0.010060727, 'Asylpolitik'),\n",
       "   (0.0089185629, 'Himmel'),\n",
       "   (0.0079563987, 'Planeten'),\n",
       "   (0.0076534036, 'Schoene'),\n",
       "   (0.007508527, 'falsche'),\n",
       "   (0.0067285537, 'Menschheit'),\n",
       "   (0.0062597501, 'Gelegenheit'),\n",
       "   (0.0059275017, 'Juli'),\n",
       "   (0.0058935978, 'Grundrechte')],\n",
       "  -17.495390574420391),\n",
       " ([(0.081537999, 'Parteien'),\n",
       "   (0.061614931, 'letzten'),\n",
       "   (0.024688255, 'Schuld'),\n",
       "   (0.019382467, 'Forderungen'),\n",
       "   (0.018296819, 'Versuch'),\n",
       "   (0.014018821, 'Freunde'),\n",
       "   (0.01282926, 'Piraten'),\n",
       "   (0.012301458, 'Neuer'),\n",
       "   (0.012023209, 'schlechte'),\n",
       "   (0.011621566, 'Verfassungsschutz'),\n",
       "   (0.011170308, 'Temperaturen'),\n",
       "   (0.010761902, 'Anspruch'),\n",
       "   (0.010454046, 'Region'),\n",
       "   (0.0094824275, 'Preis'),\n",
       "   (0.0087595433, 'Wind'),\n",
       "   (0.0083583333, 'Windraeder'),\n",
       "   (0.0081250751, 'Behoerden'),\n",
       "   (0.0071668741, 'Verkehr'),\n",
       "   (0.0068629812, 'Sozialdemokraten'),\n",
       "   (0.0063761398, 'sozialistische')],\n",
       "  -17.61938918067953),\n",
       " ([(0.053641614, 'Milliarden'),\n",
       "   (0.022522397, 'GroKo'),\n",
       "   (0.018933205, 'Stimmen'),\n",
       "   (0.017263137, 'Euro'),\n",
       "   (0.01638685, 'Landtag'),\n",
       "   (0.014676027, 'Regen'),\n",
       "   (0.012759859, 'Garten'),\n",
       "   (0.012609106, 'Staaten'),\n",
       "   (0.01039134, 'Faschismus'),\n",
       "   (0.010361726, 'gehoeren'),\n",
       "   (0.010269473, 'Angriff'),\n",
       "   (0.00995248, 'Engagement'),\n",
       "   (0.0099136941, 'Grueneversenken'),\n",
       "   (0.0095783928, 'Inhalte'),\n",
       "   (0.0094550243, 'Oeffentlichkeit'),\n",
       "   (0.0093607595, 'Buergermeister'),\n",
       "   (0.0090767518, 'Menschlichkeit'),\n",
       "   (0.0088296011, 'Zwang'),\n",
       "   (0.0085071968, 'Zuwanderung'),\n",
       "   (0.0082512014, 'Bohnen')],\n",
       "  -17.966443008811353),\n",
       " ([(0.060072556, 'Stadt'),\n",
       "   (0.023307616, 'Krieg'),\n",
       "   (0.022614386, 'Kommentar'),\n",
       "   (0.017934995, 'meist'),\n",
       "   (0.015647717, 'gruener'),\n",
       "   (0.015253156, 'alleine'),\n",
       "   (0.012384861, 'Fachkraefte'),\n",
       "   (0.012338903, 'Senat'),\n",
       "   (0.011305585, 'ebenfalls'),\n",
       "   (0.011291528, 'vorher'),\n",
       "   (0.010463459, 'Job'),\n",
       "   (0.010239031, 'Vernunft'),\n",
       "   (0.0098468522, 'extreme'),\n",
       "   (0.0097317025, 'Finde'),\n",
       "   (0.0089053046, 'Widerstand'),\n",
       "   (0.0084326947, 'Vorschlaege'),\n",
       "   (0.0078981509, 'Krise'),\n",
       "   (0.0077099549, 'Westen'),\n",
       "   (0.0075577968, 'Gehirn'),\n",
       "   (0.0063837431, 'Landwirte')],\n",
       "  -17.976472115074412),\n",
       " ([(0.036911152, 'Angst'),\n",
       "   (0.03639758, 'Heimat'),\n",
       "   (0.031662833, 'Thueringen'),\n",
       "   (0.028221067, 'Fraktion'),\n",
       "   (0.023312585, 'Namen'),\n",
       "   (0.019633433, 'Umfragen'),\n",
       "   (0.018585101, 'europaeische'),\n",
       "   (0.012203259, 'Argument'),\n",
       "   (0.010631079, 'Vorbild'),\n",
       "   (0.0086995643, 'Stunde'),\n",
       "   (0.0086637326, 'wuensche'),\n",
       "   (0.007999111, 'Markt'),\n",
       "   (0.0079329871, 'Wirkung'),\n",
       "   (0.0077835093, 'Zusammenarbeit'),\n",
       "   (0.0075663421, 'Sozial'),\n",
       "   (0.0075591654, 'Bereicherung'),\n",
       "   (0.0068296907, 'Klimafluechtlingen'),\n",
       "   (0.0067319078, 'Minute'),\n",
       "   (0.0066742161, 'Feindbild'),\n",
       "   (0.0059784302, 'Landschaft')],\n",
       "  -18.195683148432209),\n",
       " ([(0.024700385, 'Migration'),\n",
       "   (0.021366009, 'richtige'),\n",
       "   (0.016952671, 'Zitat'),\n",
       "   (0.015894864, 'Anfang'),\n",
       "   (0.012987461, 'Sozialstaat'),\n",
       "   (0.012774118, 'illegale'),\n",
       "   (0.012270233, 'Samstag'),\n",
       "   (0.011815026, 'Weisse'),\n",
       "   (0.011446972, 'Straftaten'),\n",
       "   (0.010546507, 'Boden'),\n",
       "   (0.0098088514, 'Feld'),\n",
       "   (0.0087063024, 'Industrie'),\n",
       "   (0.0081989262, 'Ansicht'),\n",
       "   (0.0080444654, 'Neoliberalismus'),\n",
       "   (0.0076544569, 'Zusammenhang'),\n",
       "   (0.0075430605, 'erstmal'),\n",
       "   (0.0074940119, 'Gewerkschaften'),\n",
       "   (0.0070428131, 'desto'),\n",
       "   (0.0065907589, 'Egal'),\n",
       "   (0.0063665663, 'Finger')],\n",
       "  -18.534365827865628)]"
      ]
     },
     "execution_count": 331,
     "metadata": {},
     "output_type": "execute_result"
    }
   ],
   "source": [
    "lda.top_topics(corpus=common_corpus)"
   ]
  },
  {
   "cell_type": "code",
   "execution_count": 332,
   "metadata": {},
   "outputs": [
    {
     "data": {
      "text/plain": [
       "<bound method LdaModel.get_topic_terms of <gensim.models.ldamodel.LdaModel object at 0x7f7a57646048>>"
      ]
     },
     "execution_count": 332,
     "metadata": {},
     "output_type": "execute_result"
    }
   ],
   "source": [
    "lda.get_topic_terms()"
   ]
  },
  {
   "cell_type": "code",
   "execution_count": 13,
   "metadata": {},
   "outputs": [
    {
     "ename": "TypeError",
     "evalue": "cannot concatenate object of type \"<class 'list'>\"; only pd.Series, pd.DataFrame, and pd.Panel (deprecated) objs are valid",
     "output_type": "error",
     "traceback": [
      "\u001b[0;31m------------------------------------------------------------------------\u001b[0m",
      "\u001b[0;31mTypeError\u001b[0m                              Traceback (most recent call last)",
      "\u001b[0;32m<ipython-input-13-da3f7ad49a16>\u001b[0m in \u001b[0;36m<module>\u001b[0;34m()\u001b[0m\n\u001b[1;32m     21\u001b[0m     \u001b[0;32mreturn\u001b[0m\u001b[0;34m(\u001b[0m\u001b[0mtopics_df\u001b[0m\u001b[0;34m)\u001b[0m\u001b[0;34m\u001b[0m\u001b[0m\n\u001b[1;32m     22\u001b[0m \u001b[0;34m\u001b[0m\u001b[0m\n\u001b[0;32m---> 23\u001b[0;31m \u001b[0mdf_topic_sents_keywords\u001b[0m \u001b[0;34m=\u001b[0m \u001b[0mformat_topics_sentences\u001b[0m\u001b[0;34m(\u001b[0m\u001b[0mldamodel\u001b[0m\u001b[0;34m=\u001b[0m\u001b[0mlda\u001b[0m\u001b[0;34m,\u001b[0m \u001b[0mcorpus\u001b[0m\u001b[0;34m=\u001b[0m\u001b[0mcommon_corpus\u001b[0m\u001b[0;34m,\u001b[0m \u001b[0mtexts\u001b[0m\u001b[0;34m=\u001b[0m\u001b[0mcorpus\u001b[0m\u001b[0;34m)\u001b[0m\u001b[0;34m\u001b[0m\u001b[0m\n\u001b[0m\u001b[1;32m     24\u001b[0m \u001b[0;34m\u001b[0m\u001b[0m\n\u001b[1;32m     25\u001b[0m \u001b[0;31m# Format\u001b[0m\u001b[0;34m\u001b[0m\u001b[0;34m\u001b[0m\u001b[0m\n",
      "\u001b[0;32m<ipython-input-13-da3f7ad49a16>\u001b[0m in \u001b[0;36mformat_topics_sentences\u001b[0;34m(ldamodel, corpus, texts)\u001b[0m\n\u001b[1;32m     18\u001b[0m     \u001b[0;31m# Add original text to the end of the output\u001b[0m\u001b[0;34m\u001b[0m\u001b[0;34m\u001b[0m\u001b[0m\n\u001b[1;32m     19\u001b[0m     \u001b[0mcontents\u001b[0m \u001b[0;34m=\u001b[0m \u001b[0mtexts\u001b[0m\u001b[0;34m\u001b[0m\u001b[0m\n\u001b[0;32m---> 20\u001b[0;31m     \u001b[0mtopics_df\u001b[0m \u001b[0;34m=\u001b[0m \u001b[0mpd\u001b[0m\u001b[0;34m.\u001b[0m\u001b[0mconcat\u001b[0m\u001b[0;34m(\u001b[0m\u001b[0;34m[\u001b[0m\u001b[0mtopics_df\u001b[0m\u001b[0;34m,\u001b[0m \u001b[0mcontents\u001b[0m\u001b[0;34m]\u001b[0m\u001b[0;34m,\u001b[0m \u001b[0maxis\u001b[0m\u001b[0;34m=\u001b[0m\u001b[0;36m1\u001b[0m\u001b[0;34m)\u001b[0m\u001b[0;34m\u001b[0m\u001b[0m\n\u001b[0m\u001b[1;32m     21\u001b[0m     \u001b[0;32mreturn\u001b[0m\u001b[0;34m(\u001b[0m\u001b[0mtopics_df\u001b[0m\u001b[0;34m)\u001b[0m\u001b[0;34m\u001b[0m\u001b[0m\n\u001b[1;32m     22\u001b[0m \u001b[0;34m\u001b[0m\u001b[0m\n",
      "\u001b[0;32m~/miniconda3/lib/python3.6/site-packages/pandas/core/reshape/concat.py\u001b[0m in \u001b[0;36mconcat\u001b[0;34m(objs, axis, join, join_axes, ignore_index, keys, levels, names, verify_integrity, sort, copy)\u001b[0m\n\u001b[1;32m    223\u001b[0m                        \u001b[0mkeys\u001b[0m\u001b[0;34m=\u001b[0m\u001b[0mkeys\u001b[0m\u001b[0;34m,\u001b[0m \u001b[0mlevels\u001b[0m\u001b[0;34m=\u001b[0m\u001b[0mlevels\u001b[0m\u001b[0;34m,\u001b[0m \u001b[0mnames\u001b[0m\u001b[0;34m=\u001b[0m\u001b[0mnames\u001b[0m\u001b[0;34m,\u001b[0m\u001b[0;34m\u001b[0m\u001b[0m\n\u001b[1;32m    224\u001b[0m                        \u001b[0mverify_integrity\u001b[0m\u001b[0;34m=\u001b[0m\u001b[0mverify_integrity\u001b[0m\u001b[0;34m,\u001b[0m\u001b[0;34m\u001b[0m\u001b[0m\n\u001b[0;32m--> 225\u001b[0;31m                        copy=copy, sort=sort)\n\u001b[0m\u001b[1;32m    226\u001b[0m     \u001b[0;32mreturn\u001b[0m \u001b[0mop\u001b[0m\u001b[0;34m.\u001b[0m\u001b[0mget_result\u001b[0m\u001b[0;34m(\u001b[0m\u001b[0;34m)\u001b[0m\u001b[0;34m\u001b[0m\u001b[0m\n\u001b[1;32m    227\u001b[0m \u001b[0;34m\u001b[0m\u001b[0m\n",
      "\u001b[0;32m~/miniconda3/lib/python3.6/site-packages/pandas/core/reshape/concat.py\u001b[0m in \u001b[0;36m__init__\u001b[0;34m(self, objs, axis, join, join_axes, keys, levels, names, ignore_index, verify_integrity, copy, sort)\u001b[0m\n\u001b[1;32m    284\u001b[0m                        \u001b[0;34m' only pd.Series, pd.DataFrame, and pd.Panel'\u001b[0m\u001b[0;34m\u001b[0m\u001b[0m\n\u001b[1;32m    285\u001b[0m                        ' (deprecated) objs are valid'.format(type(obj)))\n\u001b[0;32m--> 286\u001b[0;31m                 \u001b[0;32mraise\u001b[0m \u001b[0mTypeError\u001b[0m\u001b[0;34m(\u001b[0m\u001b[0mmsg\u001b[0m\u001b[0;34m)\u001b[0m\u001b[0;34m\u001b[0m\u001b[0m\n\u001b[0m\u001b[1;32m    287\u001b[0m \u001b[0;34m\u001b[0m\u001b[0m\n\u001b[1;32m    288\u001b[0m             \u001b[0;31m# consolidate\u001b[0m\u001b[0;34m\u001b[0m\u001b[0;34m\u001b[0m\u001b[0m\n",
      "\u001b[0;31mTypeError\u001b[0m: cannot concatenate object of type \"<class 'list'>\"; only pd.Series, pd.DataFrame, and pd.Panel (deprecated) objs are valid"
     ]
    }
   ],
   "source": [
    "def format_topics_sentences(ldamodel, corpus, texts):\n",
    "    \n",
    "    topics_df = pd.DataFrame()\n",
    "\n",
    "    # Get main topic in each document\n",
    "    for i, row in enumerate(ldamodel[corpus]):\n",
    "        row = sorted(row[0], key=lambda x: (x[1]), reverse=True)\n",
    "        # Get the Dominant topic, Perc Contribution and Keywords for each document\n",
    "        for j, (topic_num, prop_topic) in enumerate(row):\n",
    "            if j == 0:  # => dominant topic\n",
    "                wp = ldamodel.show_topic(topic_num)\n",
    "                topic_keywords = \", \".join([word for word, prop in wp])\n",
    "                topics_df = topics_df.append(pd.Series([int(topic_num), round(prop_topic,4), topic_keywords]), ignore_index=True)\n",
    "            else:\n",
    "                break\n",
    "    topics_df.columns = ['Dominant_Topic', 'Perc_Contribution', 'Topic_Keywords']\n",
    "\n",
    "    # Add original text to the end of the output\n",
    "    contents = texts\n",
    "    topics_df = pd.concat([topics_df, contents], axis=1)\n",
    "    return(topics_df)\n",
    "\n",
    "df_topic_sents_keywords = format_topics_sentences(ldamodel=lda, corpus=common_corpus, texts=corpus)\n",
    "\n",
    "# Format\n",
    "df_dominant_topic = df_topic_sents_keywords.reset_index()\n",
    "df_dominant_topic.columns = ['Document_No', 'Dominant_Topic', 'Topic_Perc_Contrib', 'Keywords', 'Text']\n",
    "\n",
    "# Show\n",
    "df_dominant_topic.head(10)"
   ]
  },
  {
   "cell_type": "code",
   "execution_count": null,
   "metadata": {
    "collapsed": true
   },
   "outputs": [],
   "source": []
  }
 ],
 "metadata": {
  "kernelspec": {
   "display_name": "Python 3",
   "language": "python",
   "name": "python3"
  },
  "language_info": {
   "codemirror_mode": {
    "name": "ipython",
    "version": 3
   },
   "file_extension": ".py",
   "mimetype": "text/x-python",
   "name": "python",
   "nbconvert_exporter": "python",
   "pygments_lexer": "ipython3",
   "version": "3.6.5"
  }
 },
 "nbformat": 4,
 "nbformat_minor": 2
}
