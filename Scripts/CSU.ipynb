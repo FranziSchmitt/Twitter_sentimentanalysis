{
 "cells": [
  {
   "cell_type": "code",
   "execution_count": 26,
   "metadata": {
    "ExecuteTime": {
     "end_time": "2018-07-07T10:00:54.174885Z",
     "start_time": "2018-07-07T10:00:44.555463Z"
    }
   },
   "outputs": [],
   "source": [
    "%matplotlib inline\n",
    "import pandas as pd\n",
    "import matplotlib.pyplot as plt\n",
    "import seaborn as sns\n",
    "import numpy as np"
   ]
  },
  {
   "cell_type": "code",
   "execution_count": 69,
   "metadata": {},
   "outputs": [],
   "source": [
    "import seaborn as sns\n",
    "sns.set(color_codes=True)"
   ]
  },
  {
   "cell_type": "code",
   "execution_count": 4,
   "metadata": {
    "ExecuteTime": {
     "end_time": "2018-07-07T10:00:54.174885Z",
     "start_time": "2018-07-07T10:00:44.555463Z"
    }
   },
   "outputs": [],
   "source": [
    "twitter_CSU = pd.read_json('CSU/CSU_2018-06-21.json', \n",
    "                           orient='records', \n",
    "                           lines=True, \n",
    "                           convert_dates=True, \n",
    "                           keep_default_dates=True)\n",
    "tl = twitter_CSU.shape[0]"
   ]
  },
  {
   "cell_type": "code",
   "execution_count": 5,
   "metadata": {},
   "outputs": [
    {
     "name": "stdout",
     "output_type": "stream",
     "text": [
      "<class 'pandas.core.frame.DataFrame'>\n",
      "RangeIndex: 18824 entries, 0 to 18823\n",
      "Data columns (total 32 columns):\n",
      "contributors                 0 non-null float64\n",
      "coordinates                  4 non-null object\n",
      "created_at                   18824 non-null datetime64[ns]\n",
      "entities                     18824 non-null object\n",
      "extended_entities            1005 non-null object\n",
      "favorite_count               18824 non-null int64\n",
      "favorited                    18824 non-null bool\n",
      "geo                          4 non-null object\n",
      "id                           18824 non-null int64\n",
      "id_str                       18824 non-null int64\n",
      "in_reply_to_screen_name      3476 non-null object\n",
      "in_reply_to_status_id        3321 non-null float64\n",
      "in_reply_to_status_id_str    3321 non-null float64\n",
      "in_reply_to_user_id          3476 non-null float64\n",
      "in_reply_to_user_id_str      3476 non-null float64\n",
      "is_quote_status              18824 non-null bool\n",
      "lang                         18824 non-null object\n",
      "metadata                     18824 non-null object\n",
      "place                        200 non-null object\n",
      "possibly_sensitive           4877 non-null float64\n",
      "quoted_status                721 non-null object\n",
      "quoted_status_id             2042 non-null float64\n",
      "quoted_status_id_str         2042 non-null float64\n",
      "retweet_count                18824 non-null int64\n",
      "retweeted                    18824 non-null bool\n",
      "retweeted_status             11903 non-null object\n",
      "source                       18824 non-null object\n",
      "text                         18824 non-null object\n",
      "truncated                    18824 non-null bool\n",
      "user                         18824 non-null object\n",
      "withheld_in_countries        14 non-null object\n",
      "withheld_scope               13 non-null object\n",
      "dtypes: bool(4), datetime64[ns](1), float64(8), int64(4), object(15)\n",
      "memory usage: 4.1+ MB\n",
      "None\n"
     ]
    }
   ],
   "source": [
    "print(twitter_CSU.info())"
   ]
  },
  {
   "cell_type": "code",
   "execution_count": 6,
   "metadata": {},
   "outputs": [],
   "source": [
    "twitter_CSU = twitter_CSU.set_index(pd.DatetimeIndex(twitter_CSU['created_at']))\n",
    "twitter_CSU = twitter_CSU.drop([\n",
    "#                                 'created_at', \n",
    "                                'id', \n",
    "                                'in_reply_to_status_id', \n",
    "                                'in_reply_to_user_id', \n",
    "                                'quoted_status_id'\n",
    "                               ], \n",
    "                               axis=1)"
   ]
  },
  {
   "cell_type": "code",
   "execution_count": 7,
   "metadata": {},
   "outputs": [],
   "source": [
    "# print(twitter_CSU.info())\n",
    "# tweets_per_id = twitter_CSU['id_str'].value_counts()\n",
    "# print(tweets_per_id[tweets_per_id > 1])"
   ]
  },
  {
   "cell_type": "code",
   "execution_count": 8,
   "metadata": {},
   "outputs": [],
   "source": [
    "german_twitters = twitter_CSU[twitter_CSU.lang =='de']\n",
    "# print(german_twitters.tail())\n",
    "# print(german_twitters.info())"
   ]
  },
  {
   "cell_type": "code",
   "execution_count": 9,
   "metadata": {},
   "outputs": [],
   "source": [
    "# german_twitters.plot(x='favorite_count', y='retweet_count', kind='scatter')"
   ]
  },
  {
   "cell_type": "code",
   "execution_count": 10,
   "metadata": {},
   "outputs": [],
   "source": [
    "CSU_all_tweets = german_twitters['text']"
   ]
  },
  {
   "cell_type": "code",
   "execution_count": 11,
   "metadata": {},
   "outputs": [
    {
     "name": "stdout",
     "output_type": "stream",
     "text": [
      "RT @MartinSchulz: In einer Zeit, in der Europa ein stabiles Deutschland braucht, führt die CSU mutwillig eine Regierungskrise herbei. Nicht…\n"
     ]
    }
   ],
   "source": [
    "print(CSU_all_tweets[0])"
   ]
  },
  {
   "cell_type": "code",
   "execution_count": 12,
   "metadata": {},
   "outputs": [
    {
     "name": "stdout",
     "output_type": "stream",
     "text": [
      "Asylstreit - Die CSU schrumpelt zum Merkel-weg-Projekt https://t.co/5yuCALd4CV\n",
      "15760\n",
      "2143\n"
     ]
    }
   ],
   "source": [
    "CSU_tweets = []\n",
    "for tweet in CSU_all_tweets:\n",
    "    if '@' not in tweet:\n",
    "        CSU_tweets.append(tweet)\n",
    "        \n",
    "print(CSU_tweets[300])\n",
    "\n",
    "print(len(CSU_all_tweets))\n",
    "print(len(CSU_tweets))    "
   ]
  },
  {
   "cell_type": "code",
   "execution_count": 24,
   "metadata": {
    "ExecuteTime": {
     "end_time": "2018-07-07T10:03:45.869490Z",
     "start_time": "2018-07-07T10:03:45.865829Z"
    }
   },
   "outputs": [],
   "source": [
    "pd.set_option('display.max_column', 50)"
   ]
  },
  {
   "cell_type": "code",
   "execution_count": 57,
   "metadata": {},
   "outputs": [],
   "source": [
    "twitter_CSU_small = twitter_CSU.drop(columns = ['contributors', \n",
    "                                                'coordinates', \n",
    "                                                'extended_entities', \n",
    "                                                'in_reply_to_screen_name', \n",
    "                                                'in_reply_to_user_id_str', \n",
    "                                                'is_quote_status', \n",
    "                                                'metadata',\n",
    "                                                'quoted_status',\n",
    "                                                'quoted_status_id_str',\n",
    "                                                'retweeted',\n",
    "                                                'source',\n",
    "                                                'retweeted_status',\n",
    "                                                'withheld_in_countries',\n",
    "                                                'withheld_scope',\n",
    "                                                'place',\n",
    "                                                'in_reply_to_status_id_str'\n",
    "                                                ])"
   ]
  },
  {
   "cell_type": "code",
   "execution_count": 58,
   "metadata": {
    "ExecuteTime": {
     "end_time": "2018-07-07T10:03:47.459292Z",
     "start_time": "2018-07-07T10:03:47.380991Z"
    }
   },
   "outputs": [
    {
     "data": {
      "text/html": [
       "<div>\n",
       "<style scoped>\n",
       "    .dataframe tbody tr th:only-of-type {\n",
       "        vertical-align: middle;\n",
       "    }\n",
       "\n",
       "    .dataframe tbody tr th {\n",
       "        vertical-align: top;\n",
       "    }\n",
       "\n",
       "    .dataframe thead th {\n",
       "        text-align: right;\n",
       "    }\n",
       "</style>\n",
       "<table border=\"1\" class=\"dataframe\">\n",
       "  <thead>\n",
       "    <tr style=\"text-align: right;\">\n",
       "      <th></th>\n",
       "      <th>created_at</th>\n",
       "      <th>entities</th>\n",
       "      <th>favorite_count</th>\n",
       "      <th>favorited</th>\n",
       "      <th>geo</th>\n",
       "      <th>id_str</th>\n",
       "      <th>lang</th>\n",
       "      <th>possibly_sensitive</th>\n",
       "      <th>retweet_count</th>\n",
       "      <th>text</th>\n",
       "      <th>truncated</th>\n",
       "      <th>user</th>\n",
       "      <th>has_loc</th>\n",
       "      <th>location</th>\n",
       "    </tr>\n",
       "    <tr>\n",
       "      <th>created_at</th>\n",
       "      <th></th>\n",
       "      <th></th>\n",
       "      <th></th>\n",
       "      <th></th>\n",
       "      <th></th>\n",
       "      <th></th>\n",
       "      <th></th>\n",
       "      <th></th>\n",
       "      <th></th>\n",
       "      <th></th>\n",
       "      <th></th>\n",
       "      <th></th>\n",
       "      <th></th>\n",
       "      <th></th>\n",
       "    </tr>\n",
       "  </thead>\n",
       "  <tbody>\n",
       "    <tr>\n",
       "      <th>2018-06-21 23:59:43</th>\n",
       "      <td>2018-06-21 23:59:43</td>\n",
       "      <td>{'hashtags': [], 'symbols': [], 'user_mentions...</td>\n",
       "      <td>0</td>\n",
       "      <td>False</td>\n",
       "      <td>None</td>\n",
       "      <td>1009949013054033920</td>\n",
       "      <td>en</td>\n",
       "      <td>0.0</td>\n",
       "      <td>0</td>\n",
       "      <td>Something else to use\\n\\nhttps://t.co/10fWmUDJsj</td>\n",
       "      <td>False</td>\n",
       "      <td>{'id': 25055836, 'id_str': '25055836', 'name':...</td>\n",
       "      <td>True</td>\n",
       "      <td>Ohio, USA</td>\n",
       "    </tr>\n",
       "    <tr>\n",
       "      <th>2018-06-21 23:58:53</th>\n",
       "      <td>2018-06-21 23:58:53</td>\n",
       "      <td>{'hashtags': [], 'symbols': [], 'user_mentions...</td>\n",
       "      <td>21</td>\n",
       "      <td>False</td>\n",
       "      <td>None</td>\n",
       "      <td>1009948805192732672</td>\n",
       "      <td>en</td>\n",
       "      <td>0.0</td>\n",
       "      <td>0</td>\n",
       "      <td>CSU...we are so ready for you!! Can’t wait to ...</td>\n",
       "      <td>True</td>\n",
       "      <td>{'id': 2306934692, 'id_str': '2306934692', 'na...</td>\n",
       "      <td>True</td>\n",
       "      <td>happy place</td>\n",
       "    </tr>\n",
       "  </tbody>\n",
       "</table>\n",
       "</div>"
      ],
      "text/plain": [
       "                             created_at  \\\n",
       "created_at                                \n",
       "2018-06-21 23:59:43 2018-06-21 23:59:43   \n",
       "2018-06-21 23:58:53 2018-06-21 23:58:53   \n",
       "\n",
       "                                                              entities  \\\n",
       "created_at                                                               \n",
       "2018-06-21 23:59:43  {'hashtags': [], 'symbols': [], 'user_mentions...   \n",
       "2018-06-21 23:58:53  {'hashtags': [], 'symbols': [], 'user_mentions...   \n",
       "\n",
       "                     favorite_count  favorited   geo               id_str  \\\n",
       "created_at                                                                  \n",
       "2018-06-21 23:59:43               0      False  None  1009949013054033920   \n",
       "2018-06-21 23:58:53              21      False  None  1009948805192732672   \n",
       "\n",
       "                    lang  possibly_sensitive  retweet_count  \\\n",
       "created_at                                                    \n",
       "2018-06-21 23:59:43   en                 0.0              0   \n",
       "2018-06-21 23:58:53   en                 0.0              0   \n",
       "\n",
       "                                                                  text  \\\n",
       "created_at                                                               \n",
       "2018-06-21 23:59:43   Something else to use\\n\\nhttps://t.co/10fWmUDJsj   \n",
       "2018-06-21 23:58:53  CSU...we are so ready for you!! Can’t wait to ...   \n",
       "\n",
       "                     truncated  \\\n",
       "created_at                       \n",
       "2018-06-21 23:59:43      False   \n",
       "2018-06-21 23:58:53       True   \n",
       "\n",
       "                                                                  user  \\\n",
       "created_at                                                               \n",
       "2018-06-21 23:59:43  {'id': 25055836, 'id_str': '25055836', 'name':...   \n",
       "2018-06-21 23:58:53  {'id': 2306934692, 'id_str': '2306934692', 'na...   \n",
       "\n",
       "                     has_loc      location  \n",
       "created_at                                  \n",
       "2018-06-21 23:59:43     True     Ohio, USA  \n",
       "2018-06-21 23:58:53     True  happy place   "
      ]
     },
     "execution_count": 58,
     "metadata": {},
     "output_type": "execute_result"
    }
   ],
   "source": [
    "twitter_CSU_small.head(2)"
   ]
  },
  {
   "cell_type": "code",
   "execution_count": 31,
   "metadata": {
    "ExecuteTime": {
     "end_time": "2018-07-07T10:05:47.334221Z",
     "start_time": "2018-07-07T10:05:47.328737Z"
    }
   },
   "outputs": [
    {
     "data": {
      "text/plain": [
       "{'hashtags': [],\n",
       " 'symbols': [],\n",
       " 'user_mentions': [{'screen_name': 'SASsoftware',\n",
       "   'name': 'SAS Software',\n",
       "   'id': 112464786,\n",
       "   'id_str': '112464786',\n",
       "   'indices': [17, 29]},\n",
       "  {'screen_name': 'CLE_State',\n",
       "   'name': 'Cleveland State',\n",
       "   'id': 23472546,\n",
       "   'id_str': '23472546',\n",
       "   'indices': [35, 45]}],\n",
       " 'urls': [{'url': 'https://t.co/bSULiEGCtX',\n",
       "   'expanded_url': 'https://twitter.com/i/web/status/1009930231619244035',\n",
       "   'display_url': 'twitter.com/i/web/status/1…',\n",
       "   'indices': [117, 140]}]}"
      ]
     },
     "execution_count": 31,
     "metadata": {},
     "output_type": "execute_result"
    }
   ],
   "source": [
    "twitter_CSU.iloc[324].entities"
   ]
  },
  {
   "cell_type": "code",
   "execution_count": 32,
   "metadata": {
    "ExecuteTime": {
     "end_time": "2018-07-07T10:06:40.770448Z",
     "start_time": "2018-07-07T10:06:40.765223Z"
    }
   },
   "outputs": [
    {
     "data": {
      "text/plain": [
       "{'iso_language_code': 'en', 'result_type': 'recent'}"
      ]
     },
     "execution_count": 32,
     "metadata": {},
     "output_type": "execute_result"
    }
   ],
   "source": [
    "twitter_CSU.iloc[0].metadata"
   ]
  },
  {
   "cell_type": "code",
   "execution_count": 33,
   "metadata": {},
   "outputs": [
    {
     "data": {
      "text/plain": [
       "{'id': 43175535,\n",
       " 'id_str': '43175535',\n",
       " 'name': 'Marian T. Wirth',\n",
       " 'screen_name': 'mtwirth',\n",
       " 'location': 'Duesseldorf, Germany',\n",
       " 'description': \"'More German than currywurst' -@colin93f. Here to germansplain the world. Avid librocubicularist.\",\n",
       " 'url': None,\n",
       " 'entities': {'description': {'urls': []}},\n",
       " 'protected': False,\n",
       " 'followers_count': 1608,\n",
       " 'friends_count': 1361,\n",
       " 'listed_count': 166,\n",
       " 'created_at': 'Thu May 28 19:19:55 +0000 2009',\n",
       " 'favourites_count': 32723,\n",
       " 'utc_offset': None,\n",
       " 'time_zone': None,\n",
       " 'geo_enabled': True,\n",
       " 'verified': False,\n",
       " 'statuses_count': 124870,\n",
       " 'lang': 'en',\n",
       " 'contributors_enabled': False,\n",
       " 'is_translator': False,\n",
       " 'is_translation_enabled': False,\n",
       " 'profile_background_color': 'C6E2EE',\n",
       " 'profile_background_image_url': 'http://abs.twimg.com/images/themes/theme2/bg.gif',\n",
       " 'profile_background_image_url_https': 'https://abs.twimg.com/images/themes/theme2/bg.gif',\n",
       " 'profile_background_tile': True,\n",
       " 'profile_image_url': 'http://pbs.twimg.com/profile_images/743451928483500033/FTeXJV4I_normal.jpg',\n",
       " 'profile_image_url_https': 'https://pbs.twimg.com/profile_images/743451928483500033/FTeXJV4I_normal.jpg',\n",
       " 'profile_banner_url': 'https://pbs.twimg.com/profile_banners/43175535/1467967386',\n",
       " 'profile_link_color': 'FAB81E',\n",
       " 'profile_sidebar_border_color': 'C6E2EE',\n",
       " 'profile_sidebar_fill_color': 'DAECF4',\n",
       " 'profile_text_color': '663B12',\n",
       " 'profile_use_background_image': True,\n",
       " 'has_extended_profile': True,\n",
       " 'default_profile': False,\n",
       " 'default_profile_image': False,\n",
       " 'following': False,\n",
       " 'follow_request_sent': False,\n",
       " 'notifications': False,\n",
       " 'translator_type': 'none'}"
      ]
     },
     "execution_count": 33,
     "metadata": {},
     "output_type": "execute_result"
    }
   ],
   "source": [
    "twitter_CSU.iloc[int(np.random.random()*tl)].user"
   ]
  },
  {
   "cell_type": "code",
   "execution_count": 34,
   "metadata": {},
   "outputs": [],
   "source": [
    "def has_location(x):\n",
    "    \"\"\"\n",
    "    use with apply\n",
    "    \"\"\"\n",
    "    if x['location']:\n",
    "        return True\n",
    "    else:\n",
    "        return False"
   ]
  },
  {
   "cell_type": "code",
   "execution_count": 35,
   "metadata": {},
   "outputs": [],
   "source": [
    "def extract_location(x):\n",
    "    \"\"\"\n",
    "    use with apply\n",
    "    \"\"\"\n",
    "    return x['location']"
   ]
  },
  {
   "cell_type": "code",
   "execution_count": 36,
   "metadata": {},
   "outputs": [],
   "source": [
    "twitter_CSU['has_loc'] = twitter_CSU.user.map(has_location)"
   ]
  },
  {
   "cell_type": "code",
   "execution_count": 37,
   "metadata": {},
   "outputs": [
    {
     "data": {
      "text/plain": [
       "True     12791\n",
       "False     6033\n",
       "Name: has_loc, dtype: int64"
      ]
     },
     "execution_count": 37,
     "metadata": {},
     "output_type": "execute_result"
    }
   ],
   "source": [
    "twitter_CSU.loc[:, 'has_loc'].value_counts(dropna=False)"
   ]
  },
  {
   "cell_type": "code",
   "execution_count": 59,
   "metadata": {},
   "outputs": [],
   "source": [
    "twitter_CSU_small['location'] = twitter_CSU.user.map(extract_location)\n",
    "\n",
    "# is the same twitter_CSU['location'] = twitter_CSU.user.map(lambda x: x['location'])"
   ]
  },
  {
   "cell_type": "code",
   "execution_count": 60,
   "metadata": {},
   "outputs": [
    {
     "data": {
      "text/plain": [
       "Series([], Name: contributors, dtype: int64)"
      ]
     },
     "execution_count": 60,
     "metadata": {},
     "output_type": "execute_result"
    }
   ],
   "source": [
    "twitter_CSU['contributors'].value_counts().head(50)"
   ]
  },
  {
   "cell_type": "code",
   "execution_count": 61,
   "metadata": {},
   "outputs": [
    {
     "data": {
      "text/plain": [
       "                                  6033\n",
       "Deutschland                        795\n",
       "Berlin                             507\n",
       "Berlin, Deutschland                394\n",
       "Germany                            323\n",
       "München                            175\n",
       "Bayern, Deutschland                157\n",
       "München, Bayern                    151\n",
       "Hamburg, Deutschland               133\n",
       "Baden-Württemberg, Deutschland     114\n",
       "Berlin, Germany                    112\n",
       "首席ハウス                               86\n",
       "Hamburg                             80\n",
       "Europa                              59\n",
       "Köln, Deutschland                   55\n",
       "Fort Collins, CO                    48\n",
       "Nächstebreck-West, Wuppertal        47\n",
       "weltweit                            46\n",
       "Europe                              44\n",
       "Wien, Österreich                    41\n",
       "Dresden                             41\n",
       "Köln                                41\n",
       "Österreich                          40\n",
       "Düsseldorf                          40\n",
       "Nordrhein-Westfalen                 40\n",
       "Bleckede                            40\n",
       "Earth                               39\n",
       "Thüringen, Deutschland              39\n",
       "NRW                                 38\n",
       "Düsseldorf, Deutschland             36\n",
       "Schweiz                             36\n",
       "Hamburg, Germany                    36\n",
       "Cleveland, OH                       35\n",
       "Stuttgart                           34\n",
       "Sachsen, Deutschland                33\n",
       "Leipzig, Deutschland                33\n",
       "Hessen, Deutschland                 32\n",
       "Niedersachsen, Deutschland          32\n",
       "Munich                              31\n",
       "Hogwarts                            30\n",
       "Munich, Germany                     28\n",
       "Bremen, Deutschland                 27\n",
       "Neuland                             27\n",
       "Frankfurt am Main, Hessen           26\n",
       "Dortmund                            26\n",
       "Kiel, Schleswig-Holstein            26\n",
       "Essen, Nordrhein-Westfalen          25\n",
       "Stuttgart, Deutschland              25\n",
       "Weltweit                            24\n",
       "Bavaria                             24\n",
       "Name: location, dtype: int64"
      ]
     },
     "execution_count": 61,
     "metadata": {},
     "output_type": "execute_result"
    }
   ],
   "source": [
    "twitter_CSU_small['location'].value_counts().head(50)"
   ]
  },
  {
   "cell_type": "code",
   "execution_count": 62,
   "metadata": {},
   "outputs": [
    {
     "data": {
      "text/html": [
       "<div>\n",
       "<style scoped>\n",
       "    .dataframe tbody tr th:only-of-type {\n",
       "        vertical-align: middle;\n",
       "    }\n",
       "\n",
       "    .dataframe tbody tr th {\n",
       "        vertical-align: top;\n",
       "    }\n",
       "\n",
       "    .dataframe thead th {\n",
       "        text-align: right;\n",
       "    }\n",
       "</style>\n",
       "<table border=\"1\" class=\"dataframe\">\n",
       "  <thead>\n",
       "    <tr style=\"text-align: right;\">\n",
       "      <th></th>\n",
       "      <th>created_at</th>\n",
       "      <th>entities</th>\n",
       "      <th>favorite_count</th>\n",
       "      <th>favorited</th>\n",
       "      <th>geo</th>\n",
       "      <th>id_str</th>\n",
       "      <th>lang</th>\n",
       "      <th>possibly_sensitive</th>\n",
       "      <th>retweet_count</th>\n",
       "      <th>text</th>\n",
       "      <th>truncated</th>\n",
       "      <th>user</th>\n",
       "      <th>has_loc</th>\n",
       "      <th>location</th>\n",
       "    </tr>\n",
       "    <tr>\n",
       "      <th>created_at</th>\n",
       "      <th></th>\n",
       "      <th></th>\n",
       "      <th></th>\n",
       "      <th></th>\n",
       "      <th></th>\n",
       "      <th></th>\n",
       "      <th></th>\n",
       "      <th></th>\n",
       "      <th></th>\n",
       "      <th></th>\n",
       "      <th></th>\n",
       "      <th></th>\n",
       "      <th></th>\n",
       "      <th></th>\n",
       "    </tr>\n",
       "  </thead>\n",
       "  <tbody>\n",
       "    <tr>\n",
       "      <th>2018-06-21 23:59:43</th>\n",
       "      <td>2018-06-21 23:59:43</td>\n",
       "      <td>{'hashtags': [], 'symbols': [], 'user_mentions...</td>\n",
       "      <td>0</td>\n",
       "      <td>False</td>\n",
       "      <td>None</td>\n",
       "      <td>1009949013054033920</td>\n",
       "      <td>en</td>\n",
       "      <td>0.0</td>\n",
       "      <td>0</td>\n",
       "      <td>Something else to use\\n\\nhttps://t.co/10fWmUDJsj</td>\n",
       "      <td>False</td>\n",
       "      <td>{'id': 25055836, 'id_str': '25055836', 'name':...</td>\n",
       "      <td>True</td>\n",
       "      <td>Ohio, USA</td>\n",
       "    </tr>\n",
       "    <tr>\n",
       "      <th>2018-06-21 23:58:53</th>\n",
       "      <td>2018-06-21 23:58:53</td>\n",
       "      <td>{'hashtags': [], 'symbols': [], 'user_mentions...</td>\n",
       "      <td>21</td>\n",
       "      <td>False</td>\n",
       "      <td>None</td>\n",
       "      <td>1009948805192732672</td>\n",
       "      <td>en</td>\n",
       "      <td>0.0</td>\n",
       "      <td>0</td>\n",
       "      <td>CSU...we are so ready for you!! Can’t wait to ...</td>\n",
       "      <td>True</td>\n",
       "      <td>{'id': 2306934692, 'id_str': '2306934692', 'na...</td>\n",
       "      <td>True</td>\n",
       "      <td>happy place</td>\n",
       "    </tr>\n",
       "  </tbody>\n",
       "</table>\n",
       "</div>"
      ],
      "text/plain": [
       "                             created_at  \\\n",
       "created_at                                \n",
       "2018-06-21 23:59:43 2018-06-21 23:59:43   \n",
       "2018-06-21 23:58:53 2018-06-21 23:58:53   \n",
       "\n",
       "                                                              entities  \\\n",
       "created_at                                                               \n",
       "2018-06-21 23:59:43  {'hashtags': [], 'symbols': [], 'user_mentions...   \n",
       "2018-06-21 23:58:53  {'hashtags': [], 'symbols': [], 'user_mentions...   \n",
       "\n",
       "                     favorite_count  favorited   geo               id_str  \\\n",
       "created_at                                                                  \n",
       "2018-06-21 23:59:43               0      False  None  1009949013054033920   \n",
       "2018-06-21 23:58:53              21      False  None  1009948805192732672   \n",
       "\n",
       "                    lang  possibly_sensitive  retweet_count  \\\n",
       "created_at                                                    \n",
       "2018-06-21 23:59:43   en                 0.0              0   \n",
       "2018-06-21 23:58:53   en                 0.0              0   \n",
       "\n",
       "                                                                  text  \\\n",
       "created_at                                                               \n",
       "2018-06-21 23:59:43   Something else to use\\n\\nhttps://t.co/10fWmUDJsj   \n",
       "2018-06-21 23:58:53  CSU...we are so ready for you!! Can’t wait to ...   \n",
       "\n",
       "                     truncated  \\\n",
       "created_at                       \n",
       "2018-06-21 23:59:43      False   \n",
       "2018-06-21 23:58:53       True   \n",
       "\n",
       "                                                                  user  \\\n",
       "created_at                                                               \n",
       "2018-06-21 23:59:43  {'id': 25055836, 'id_str': '25055836', 'name':...   \n",
       "2018-06-21 23:58:53  {'id': 2306934692, 'id_str': '2306934692', 'na...   \n",
       "\n",
       "                     has_loc      location  \n",
       "created_at                                  \n",
       "2018-06-21 23:59:43     True     Ohio, USA  \n",
       "2018-06-21 23:58:53     True  happy place   "
      ]
     },
     "execution_count": 62,
     "metadata": {},
     "output_type": "execute_result"
    }
   ],
   "source": [
    "twitter_CSU_small.head(2)"
   ]
  },
  {
   "cell_type": "code",
   "execution_count": 77,
   "metadata": {},
   "outputs": [],
   "source": [
    "twitter_CSU_small['location_corrected'] = pd.Series()"
   ]
  },
  {
   "cell_type": "code",
   "execution_count": 87,
   "metadata": {},
   "outputs": [],
   "source": [
    "for x in twitter_CSU_small.location:\n",
    "    if x is 'Berlin_Deutschland':\n",
    "        location.replace('Berlin_Deutschland', 'Berlin', inplace = True)"
   ]
  },
  {
   "cell_type": "code",
   "execution_count": 111,
   "metadata": {},
   "outputs": [
    {
     "name": "stdout",
     "output_type": "stream",
     "text": [
      "Series([], Name: location_corrected, dtype: int64)\n"
     ]
    }
   ],
   "source": [
    "        \n",
    "print(twitter_CSU_small.location_corrected.value_counts())"
   ]
  },
  {
   "cell_type": "code",
   "execution_count": 80,
   "metadata": {},
   "outputs": [
    {
     "data": {
      "image/png": "[encoded data removed]",
      "text/plain": [
       "<Figure size 432x288 with 1 Axes>"
      ]
     },
     "metadata": {},
     "output_type": "display_data"
    }
   ],
   "source": [
    "location = twitter_CSU_small.loc[:, 'location']\n",
    "location_count = location.value_counts()\n",
    "location_count.iloc[1:10].plot(kind = 'bar', )\n",
    "plt.show()"
   ]
  },
  {
   "cell_type": "code",
   "execution_count": 89,
   "metadata": {},
   "outputs": [
    {
     "data": {
      "text/plain": [
       "Index(['created_at', 'entities', 'favorite_count', 'favorited', 'geo',\n",
       "       'id_str', 'lang', 'possibly_sensitive', 'retweet_count', 'text',\n",
       "       'truncated', 'user', 'has_loc', 'location', 'location_corrected'],\n",
       "      dtype='object')"
      ]
     },
     "execution_count": 89,
     "metadata": {},
     "output_type": "execute_result"
    }
   ],
   "source": [
    "twitter_CSU_small.keys()"
   ]
  },
  {
   "cell_type": "code",
   "execution_count": 110,
   "metadata": {},
   "outputs": [
    {
     "data": {
      "image/png": "[encoded data removed]",
      "text/plain": [
       "<Figure size 432x288 with 1 Axes>"
      ]
     },
     "metadata": {},
     "output_type": "display_data"
    }
   ],
   "source": [
    "languages = twitter_CSU_small.loc[:, 'lang']\n",
    "#print(languages.value_counts())\n",
    "relative_language = languages.value_counts()/len(languages)\n",
    "#print(relative_language)\n",
    "# take 5 max values and sum the rest up:\n",
    "\n",
    "relative_language.head(5).plot.pie(labels = ['German', 'English', 'Dutch', 'something', 'French'], cmap = 'Spectral_r')\n",
    "plt.axis('equal')\n",
    "plt.show()"
   ]
  },
  {
   "cell_type": "code",
   "execution_count": null,
   "metadata": {},
   "outputs": [],
   "source": []
  }
 ],
 "metadata": {
  "kernelspec": {
   "display_name": "Python 3",
   "language": "python",
   "name": "python3"
  },
  "language_info": {
   "codemirror_mode": {
    "name": "ipython",
    "version": 3
   },
   "file_extension": ".py",
   "mimetype": "text/x-python",
   "name": "python",
   "nbconvert_exporter": "python",
   "pygments_lexer": "ipython3",
   "version": "3.6.3"
  }
 },
 "nbformat": 4,
 "nbformat_minor": 2
}
