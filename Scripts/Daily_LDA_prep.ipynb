{
 "cells": [
  {
   "cell_type": "code",
   "execution_count": null,
   "metadata": {},
   "outputs": [],
   "source": [
    "def daily_lda(df, stoplist, n_topics, n_words, startdate, stopdate):\n",
    "    dates = ['2018-08-{:02d}'.format(i) for i in range(startdate, stopdate)]\n",
    "    topics = {}\n",
    "    \n",
    "    for date in dates:\n",
    "        text = all_data.loc['{}'.format(date), 'clean_text']\n",
    "\n",
    "        document = []\n",
    "\n",
    "        for row in text.iteritems():\n",
    "            index, data = row\n",
    "            document.append(data)\n",
    "\n",
    "        corpus = [[word for word in str(doc).lower().split() if word not in stoplist and len(word) > 2] for doc in document]\n",
    "        common_dictionary = corpora.Dictionary(corpus)\n",
    "        common_corpus = [common_dictionary.doc2bow(t) for t in corpus]\n",
    "        lda = LdaModel(common_corpus, num_topics=n_topics, id2word=common_dictionary, alpha=0.001, random_state=123)\n",
    "        topic = lda.show_topics(num_topics=n_topics, num_words=n_words,formatted=False)\n",
    "        topics['{}'.format(date)] = [(tp[0], [wd[0] for wd in tp[1]]) for tp in topic]\n",
    "        \n",
    "        coherence_model_lda = CoherenceModel(model=lda, texts=corpus, dictionary=common_dictionary, coherence='c_v')\n",
    "        coherence_lda = coherence_model_lda.get_coherence()\n",
    "        print('Coherence Score: ', coherence_lda)\n",
    "    return topics"
   ]
  }
 ],
 "metadata": {
  "kernelspec": {
   "display_name": "Python 3",
   "language": "python",
   "name": "python3"
  },
  "language_info": {
   "codemirror_mode": {
    "name": "ipython",
    "version": 3
   },
   "file_extension": ".py",
   "mimetype": "text/x-python",
   "name": "python",
   "nbconvert_exporter": "python",
   "pygments_lexer": "ipython3",
   "version": "3.6.5"
  }
 },
 "nbformat": 4,
 "nbformat_minor": 2
}
