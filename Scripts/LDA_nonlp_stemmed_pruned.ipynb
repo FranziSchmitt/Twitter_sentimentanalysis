{
 "cells": [
  {
   "cell_type": "code",
   "execution_count": 1,
   "metadata": {},
   "outputs": [
    {
     "data": {
      "text/html": [
       "<script>requirejs.config({paths: { 'plotly': ['https://cdn.plot.ly/plotly-latest.min']},});if(!window.Plotly) {{require(['plotly'],function(plotly) {window.Plotly=plotly;});}}</script>"
      ],
      "text/vnd.plotly.v1+html": [
       "<script>requirejs.config({paths: { 'plotly': ['https://cdn.plot.ly/plotly-latest.min']},});if(!window.Plotly) {{require(['plotly'],function(plotly) {window.Plotly=plotly;});}}</script>"
      ]
     },
     "metadata": {},
     "output_type": "display_data"
    }
   ],
   "source": [
    "%load_ext autoreload\n",
    "%autoreload 2\n",
    "\n",
    "# standard stuff\n",
    "import os\n",
    "import pandas as pd\n",
    "import numpy as np\n",
    "np.random.seed(123)\n",
    "import json\n",
    "import pickle \n",
    "from time import time\n",
    "from tqdm import tqdm\n",
    "import datetime as dt\n",
    "from collections import Counter\n",
    "\n",
    "# text processing\n",
    "import re\n",
    "with open('stopwords-de_no-parties.json', 'r') as file:\n",
    "    stopwords_de = json.load(file)\n",
    "from  nltk.stem.snowball import SnowballStemmer\n",
    "stemmer = SnowballStemmer(\"german\")\n",
    "import spacy\n",
    "nlp = spacy.load('de')\n",
    "\n",
    "\n",
    "# visualization \n",
    "%matplotlib inline\n",
    "import matplotlib.pyplot as plt\n",
    "from matplotlib import cm\n",
    "from mpl_toolkits.mplot3d import Axes3D\n",
    "import seaborn as sns\n",
    "sns.set()\n",
    "import plotly as py\n",
    "import plotly.graph_objs as go\n",
    "py.offline.init_notebook_mode(connected=True)\n",
    "\n",
    "# Gensim LDA\n",
    "from gensim.test.utils import datapath\n",
    "from gensim import corpora\n",
    "from gensim.models import LdaModel, CoherenceModel\n",
    "import pyLDAvis.gensim\n",
    "pyLDAvis.enable_notebook()\n",
    "\n",
    "# custom imports\n",
    "from data_handling import load_data, collapse_dfs\n",
    "from text_preprocessing import df_processing, party_remover"
   ]
  },
  {
   "cell_type": "code",
   "execution_count": 3,
   "metadata": {},
   "outputs": [
    {
     "name": "stdout",
     "output_type": "stream",
     "text": [
      "loading data from pickle\n",
      "data loaded\n"
     ]
    }
   ],
   "source": [
    "read_in = False\n",
    "path = '/home/franzi/Git-DSR/Twitter_sentimentanalysis/Data/lda_data.pickle'\n",
    "parties = ['AfD', 'SPD', 'CDU', 'CSU', 'FDP', 'LINKE', 'Gruene', 'Grüne']\n",
    "dates = ['08-{:02d}'.format(i) for i in range(2,10)]\n",
    "\n",
    "\n",
    "if read_in:\n",
    "    parties = parties\n",
    "    dates = dates\n",
    "    aug_data = {}\n",
    "    print('Loading: {}'.format(dates))\n",
    "    for party in parties:\n",
    "        load_list = ['../Data/{}/{}_2018-{}.json'.format(party, party, day) for day in dates]\n",
    "        aug_data[party] = load_data(load_list)\n",
    "        print('{} loaded'.format(party))\n",
    "    with open(path, 'wb') as fid:\n",
    "        pickle.dump(aug_data, fid)\n",
    "    print(\"Done\")\n",
    "else:\n",
    "    print('loading data from pickle')\n",
    "    with open(path, 'rb') as fid:\n",
    "        aug_data = pickle.load(fid)\n",
    "        print('data loaded')"
   ]
  },
  {
   "cell_type": "code",
   "execution_count": 2,
   "metadata": {},
   "outputs": [
    {
     "name": "stdout",
     "output_type": "stream",
     "text": [
      "loading data from pickle\n",
      "data loaded\n"
     ]
    }
   ],
   "source": [
    "collapse = False\n",
    "path_collapse = '/home/franzi/Git-DSR/Twitter_sentimentanalysis/Data/all_data_lda.pickle' # path where pickle file is saved\n",
    "\n",
    "if collapse:\n",
    "    all_data = collapse_dfs(aug_data)\n",
    "    df_processing(all_data)\n",
    "    all_data = all_data.drop_duplicates('clean_text')\n",
    "    all_data['user_id'] = all_data.loc[:, 'user'].map(lambda x: x['id_str'])\n",
    "    all_data.drop('user', inplace=True, axis=1)\n",
    "    print('dumping data to pickle')\n",
    "    with open(path_collapse, 'wb') as fid:\n",
    "        pickle.dump(all_data, fid)\n",
    "    print('data dumped')\n",
    "else: \n",
    "    print('loading data from pickle')\n",
    "    with open(path_collapse, 'rb') as fid:\n",
    "        all_data = pickle.load(fid)\n",
    "        print('data loaded')"
   ]
  },
  {
   "cell_type": "markdown",
   "metadata": {},
   "source": [
    "# LDA using gensim \n",
    "\n",
    "- take all words from clean text\n",
    "    - stem them\n",
    "    - make them lower-case\n",
    "    - take only words longer than 2 characters\n",
    "- prepare a common dictionary\n",
    "- prepare common corpus with vectorized (bow) words\n",
    "    - prune the dictionary: use only words that occur more than 10 times in the corpus\n",
    "- run through a couple of topics numbers and look at metrics: coherence score and model perplexity\n",
    "    -> chose number of topics where metrics look best\n",
    "- run lda on corpus, evaluate model and visualize it"
   ]
  },
  {
   "cell_type": "code",
   "execution_count": 3,
   "metadata": {},
   "outputs": [
    {
     "name": "stdout",
     "output_type": "stream",
     "text": [
      "loading it\n",
      "everything loaded\n"
     ]
    }
   ],
   "source": [
    "save = False\n",
    "\n",
    "path_com_corpus = '../Data/lda_nonlp_stemmed_pruned_ccorpus.pkl'\n",
    "path_corpus = '../Data/lda_nonlp__stemmed_pruned_corpus.pkl'\n",
    "path_dic = '../Data/lda_nonlp__stemmed_pruned_dic.pkl'\n",
    "\n",
    "if save:\n",
    "            \n",
    "    text = all_data.loc[:, 'clean_text']\n",
    "\n",
    "    document = []\n",
    "    corpus_full = []\n",
    "\n",
    "    for row in text.iteritems():\n",
    "        index, data = row\n",
    "        document.append(data)\n",
    "        \n",
    "    for doc in document:\n",
    "        sub_doc = []\n",
    "        for word in doc.split():\n",
    "            if ((word.lower() not in stopwords_de)\n",
    "                and (len(word) > 2)):\n",
    "                word = stemmer.stem(word)\n",
    "                sub_doc.append(word)\n",
    "        corpus_full.append(sub_doc)\n",
    "\n",
    "\n",
    "    corpus = dict_pruning(corpus_full, 10)\n",
    "    common_dictionary = corpora.Dictionary(corpus, prune_at=10000)\n",
    "    common_corpus = [common_dictionary.doc2bow(t) for t in corpus]\n",
    "    \n",
    "    with open(path_com_corpus, 'wb') as fid:\n",
    "        print('dumping it')\n",
    "        pickle.dump(common_corpus, fid)\n",
    "    with open(path_dic, 'wb') as fid:\n",
    "        pickle.dump(common_dictionary, fid)\n",
    "    with open(path_corpus, 'wb') as fid:\n",
    "        pickle.dump(corpus, fid)\n",
    "        print('everything dumped')\n",
    "else:\n",
    "    with open(path_com_corpus, 'rb') as fid:\n",
    "        print('loading it')\n",
    "        common_corpus = pickle.load(fid)\n",
    "    with open(path_dic, 'rb') as fid:\n",
    "        common_dictionary = pickle.load(fid)\n",
    "    with open(path_corpus, 'rb') as fid:\n",
    "        corpus = pickle.load(fid)\n",
    "        print('everything loaded')"
   ]
  },
  {
   "cell_type": "code",
   "execution_count": 6,
   "metadata": {},
   "outputs": [],
   "source": [
    "def compute_coherence_values(dictionary, corpus, texts, limit, start=2, step=3):\n",
    "    \"\"\"\n",
    "    Compute coherence for various number of topics\n",
    "\n",
    "    Parameters:\n",
    "    dictionary : Gensim dictionary\n",
    "    corpus : Gensim corpus\n",
    "    texts : List of input texts\n",
    "    limit : Max num of topics\n",
    "\n",
    "    Plots coherence score over number of topics\n",
    "    \"\"\"\n",
    "    tick = time()\n",
    "    coherence_values = []\n",
    "    model_list = []\n",
    "    perplexity_values = []\n",
    "    for num_topics in range(start, limit, step):\n",
    "        model=LdaModel(corpus=corpus, \n",
    "                       id2word=dictionary, \n",
    "                       num_topics=num_topics, \n",
    "                       alpha=0.001, \n",
    "                       minimum_probability=0.4,\n",
    "                       iterations=10)\n",
    "        model_list.append(model)\n",
    "        coherencemodel = CoherenceModel(model=model, texts=texts, dictionary=dictionary, coherence='c_v')\n",
    "        coherence_values.append(coherencemodel.get_coherence())\n",
    "        perplexity_values.append(model.log_perplexity(common_corpus))\n",
    "        print('At {} of {}'.format(num_topics, limit))\n",
    "    print('Process took {} min'.format((time()-tick)/60))\n",
    "        \n",
    "    x = range(start, limit, step)\n",
    "    plt.plot(x, coherence_values)\n",
    "    plt.xlabel(\"Num Topics\")\n",
    "    plt.ylabel(\"Coherence score\")\n",
    "    plt.legend((\"coherence_values\"), loc='best')\n",
    "    plt.show()\n",
    "\n",
    "    plt.plot(x, perplexity_values)\n",
    "    plt.xlabel(\"Num Topics\")\n",
    "    plt.ylabel(\"Perplexity\")\n",
    "    plt.legend((\"perplexity\"), loc='best')\n",
    "    plt.show()\n",
    "\n",
    "# compute_coherence_values(common_dictionary, common_corpus, corpus, limit=100, start=80, step=1)"
   ]
  },
  {
   "cell_type": "markdown",
   "metadata": {},
   "source": [
    "Subsequent visual evaluation of the model shows that model perplexity in this case is more reliable:\n",
    "chose the point where curve starts to flatten (elbow) - this will give the best result"
   ]
  },
  {
   "cell_type": "code",
   "execution_count": 7,
   "metadata": {},
   "outputs": [
    {
     "ename": "KeyboardInterrupt",
     "evalue": "",
     "output_type": "error",
     "traceback": [
      "\u001b[0;31m---------------------------------------------------------------------------\u001b[0m",
      "\u001b[0;31mKeyboardInterrupt\u001b[0m                         Traceback (most recent call last)",
      "\u001b[0;32m<ipython-input-7-f085fc46ee62>\u001b[0m in \u001b[0;36m<module>\u001b[0;34m()\u001b[0m\n\u001b[1;32m      6\u001b[0m                \u001b[0mminimum_probability\u001b[0m\u001b[0;34m=\u001b[0m\u001b[0;36m0.4\u001b[0m\u001b[0;34m,\u001b[0m\u001b[0;34m\u001b[0m\u001b[0m\n\u001b[1;32m      7\u001b[0m                \u001b[0mper_word_topics\u001b[0m\u001b[0;34m=\u001b[0m\u001b[0;32mTrue\u001b[0m\u001b[0;34m,\u001b[0m\u001b[0;34m\u001b[0m\u001b[0m\n\u001b[0;32m----> 8\u001b[0;31m                iterations=70)\n\u001b[0m\u001b[1;32m      9\u001b[0m \u001b[0;34m\u001b[0m\u001b[0m\n\u001b[1;32m     10\u001b[0m \u001b[0;31m# Compute Coherence Score using c_v\u001b[0m\u001b[0;34m\u001b[0m\u001b[0;34m\u001b[0m\u001b[0m\n",
      "\u001b[0;32m~/miniconda3/lib/python3.6/site-packages/gensim/models/ldamodel.py\u001b[0m in \u001b[0;36m__init__\u001b[0;34m(self, corpus, num_topics, id2word, distributed, chunksize, passes, update_every, alpha, eta, decay, offset, eval_every, iterations, gamma_threshold, minimum_probability, random_state, ns_conf, minimum_phi_value, per_word_topics, callbacks, dtype)\u001b[0m\n\u001b[1;32m    513\u001b[0m         \u001b[0;32mif\u001b[0m \u001b[0mcorpus\u001b[0m \u001b[0;32mis\u001b[0m \u001b[0;32mnot\u001b[0m \u001b[0;32mNone\u001b[0m\u001b[0;34m:\u001b[0m\u001b[0;34m\u001b[0m\u001b[0m\n\u001b[1;32m    514\u001b[0m             \u001b[0muse_numpy\u001b[0m \u001b[0;34m=\u001b[0m \u001b[0mself\u001b[0m\u001b[0;34m.\u001b[0m\u001b[0mdispatcher\u001b[0m \u001b[0;32mis\u001b[0m \u001b[0;32mnot\u001b[0m \u001b[0;32mNone\u001b[0m\u001b[0;34m\u001b[0m\u001b[0m\n\u001b[0;32m--> 515\u001b[0;31m             \u001b[0mself\u001b[0m\u001b[0;34m.\u001b[0m\u001b[0mupdate\u001b[0m\u001b[0;34m(\u001b[0m\u001b[0mcorpus\u001b[0m\u001b[0;34m,\u001b[0m \u001b[0mchunks_as_numpy\u001b[0m\u001b[0;34m=\u001b[0m\u001b[0muse_numpy\u001b[0m\u001b[0;34m)\u001b[0m\u001b[0;34m\u001b[0m\u001b[0m\n\u001b[0m\u001b[1;32m    516\u001b[0m \u001b[0;34m\u001b[0m\u001b[0m\n\u001b[1;32m    517\u001b[0m     \u001b[0;32mdef\u001b[0m \u001b[0minit_dir_prior\u001b[0m\u001b[0;34m(\u001b[0m\u001b[0mself\u001b[0m\u001b[0;34m,\u001b[0m \u001b[0mprior\u001b[0m\u001b[0;34m,\u001b[0m \u001b[0mname\u001b[0m\u001b[0;34m)\u001b[0m\u001b[0;34m:\u001b[0m\u001b[0;34m\u001b[0m\u001b[0m\n",
      "\u001b[0;32m~/miniconda3/lib/python3.6/site-packages/gensim/models/ldamodel.py\u001b[0m in \u001b[0;36mupdate\u001b[0;34m(self, corpus, chunksize, decay, offset, passes, update_every, eval_every, iterations, gamma_threshold, chunks_as_numpy)\u001b[0m\n\u001b[1;32m    961\u001b[0m                         \u001b[0mpass_\u001b[0m\u001b[0;34m,\u001b[0m \u001b[0mchunk_no\u001b[0m \u001b[0;34m*\u001b[0m \u001b[0mchunksize\u001b[0m \u001b[0;34m+\u001b[0m \u001b[0mlen\u001b[0m\u001b[0;34m(\u001b[0m\u001b[0mchunk\u001b[0m\u001b[0;34m)\u001b[0m\u001b[0;34m,\u001b[0m \u001b[0mlencorpus\u001b[0m\u001b[0;34m\u001b[0m\u001b[0m\n\u001b[1;32m    962\u001b[0m                     )\n\u001b[0;32m--> 963\u001b[0;31m                     \u001b[0mgammat\u001b[0m \u001b[0;34m=\u001b[0m \u001b[0mself\u001b[0m\u001b[0;34m.\u001b[0m\u001b[0mdo_estep\u001b[0m\u001b[0;34m(\u001b[0m\u001b[0mchunk\u001b[0m\u001b[0;34m,\u001b[0m \u001b[0mother\u001b[0m\u001b[0;34m)\u001b[0m\u001b[0;34m\u001b[0m\u001b[0m\n\u001b[0m\u001b[1;32m    964\u001b[0m \u001b[0;34m\u001b[0m\u001b[0m\n\u001b[1;32m    965\u001b[0m                     \u001b[0;32mif\u001b[0m \u001b[0mself\u001b[0m\u001b[0;34m.\u001b[0m\u001b[0moptimize_alpha\u001b[0m\u001b[0;34m:\u001b[0m\u001b[0;34m\u001b[0m\u001b[0m\n",
      "\u001b[0;32m~/miniconda3/lib/python3.6/site-packages/gensim/models/ldamodel.py\u001b[0m in \u001b[0;36mdo_estep\u001b[0;34m(self, chunk, state)\u001b[0m\n\u001b[1;32m    723\u001b[0m         \u001b[0;32mif\u001b[0m \u001b[0mstate\u001b[0m \u001b[0;32mis\u001b[0m \u001b[0;32mNone\u001b[0m\u001b[0;34m:\u001b[0m\u001b[0;34m\u001b[0m\u001b[0m\n\u001b[1;32m    724\u001b[0m             \u001b[0mstate\u001b[0m \u001b[0;34m=\u001b[0m \u001b[0mself\u001b[0m\u001b[0;34m.\u001b[0m\u001b[0mstate\u001b[0m\u001b[0;34m\u001b[0m\u001b[0m\n\u001b[0;32m--> 725\u001b[0;31m         \u001b[0mgamma\u001b[0m\u001b[0;34m,\u001b[0m \u001b[0msstats\u001b[0m \u001b[0;34m=\u001b[0m \u001b[0mself\u001b[0m\u001b[0;34m.\u001b[0m\u001b[0minference\u001b[0m\u001b[0;34m(\u001b[0m\u001b[0mchunk\u001b[0m\u001b[0;34m,\u001b[0m \u001b[0mcollect_sstats\u001b[0m\u001b[0;34m=\u001b[0m\u001b[0;32mTrue\u001b[0m\u001b[0;34m)\u001b[0m\u001b[0;34m\u001b[0m\u001b[0m\n\u001b[0m\u001b[1;32m    726\u001b[0m         \u001b[0mstate\u001b[0m\u001b[0;34m.\u001b[0m\u001b[0msstats\u001b[0m \u001b[0;34m+=\u001b[0m \u001b[0msstats\u001b[0m\u001b[0;34m\u001b[0m\u001b[0m\n\u001b[1;32m    727\u001b[0m         \u001b[0mstate\u001b[0m\u001b[0;34m.\u001b[0m\u001b[0mnumdocs\u001b[0m \u001b[0;34m+=\u001b[0m \u001b[0mgamma\u001b[0m\u001b[0;34m.\u001b[0m\u001b[0mshape\u001b[0m\u001b[0;34m[\u001b[0m\u001b[0;36m0\u001b[0m\u001b[0;34m]\u001b[0m  \u001b[0;31m# avoids calling len(chunk) on a generator\u001b[0m\u001b[0;34m\u001b[0m\u001b[0m\n",
      "\u001b[0;32m~/miniconda3/lib/python3.6/site-packages/gensim/models/ldamodel.py\u001b[0m in \u001b[0;36minference\u001b[0;34m(self, chunk, collect_sstats)\u001b[0m\n\u001b[1;32m    688\u001b[0m                 \u001b[0;31m# Contribution of document d to the expected sufficient\u001b[0m\u001b[0;34m\u001b[0m\u001b[0;34m\u001b[0m\u001b[0m\n\u001b[1;32m    689\u001b[0m                 \u001b[0;31m# statistics for the M step.\u001b[0m\u001b[0;34m\u001b[0m\u001b[0;34m\u001b[0m\u001b[0m\n\u001b[0;32m--> 690\u001b[0;31m                 \u001b[0msstats\u001b[0m\u001b[0;34m[\u001b[0m\u001b[0;34m:\u001b[0m\u001b[0;34m,\u001b[0m \u001b[0mids\u001b[0m\u001b[0;34m]\u001b[0m \u001b[0;34m+=\u001b[0m \u001b[0mnp\u001b[0m\u001b[0;34m.\u001b[0m\u001b[0mouter\u001b[0m\u001b[0;34m(\u001b[0m\u001b[0mexpElogthetad\u001b[0m\u001b[0;34m.\u001b[0m\u001b[0mT\u001b[0m\u001b[0;34m,\u001b[0m \u001b[0mcts\u001b[0m \u001b[0;34m/\u001b[0m \u001b[0mphinorm\u001b[0m\u001b[0;34m)\u001b[0m\u001b[0;34m\u001b[0m\u001b[0m\n\u001b[0m\u001b[1;32m    691\u001b[0m \u001b[0;34m\u001b[0m\u001b[0m\n\u001b[1;32m    692\u001b[0m         \u001b[0;32mif\u001b[0m \u001b[0mlen\u001b[0m\u001b[0;34m(\u001b[0m\u001b[0mchunk\u001b[0m\u001b[0;34m)\u001b[0m \u001b[0;34m>\u001b[0m \u001b[0;36m1\u001b[0m\u001b[0;34m:\u001b[0m\u001b[0;34m\u001b[0m\u001b[0m\n",
      "\u001b[0;31mKeyboardInterrupt\u001b[0m: "
     ]
    }
   ],
   "source": [
    "lda = LdaModel(common_corpus, \n",
    "               num_topics=83, \n",
    "               id2word=common_dictionary, \n",
    "               alpha=0.001, \n",
    "               random_state=123, \n",
    "               minimum_probability=0.4,\n",
    "               per_word_topics=True,\n",
    "               iterations=70)\n",
    "\n",
    "# Compute Coherence Score using c_v\n",
    "coherence_model_lda = CoherenceModel(model=lda, texts=corpus, dictionary=common_dictionary, coherence='c_v')\n",
    "\n",
    "coherence_lda = coherence_model_lda.get_coherence()\n",
    "print('Coherence Score c_v: ', coherence_lda)\n",
    "\n",
    "# Compute Coherence Score using u-mass\n",
    "coherence_model_lda = CoherenceModel(model=lda, texts=corpus, dictionary=common_dictionary, coherence='u_mass')\n",
    "\n",
    "coherence_lda = coherence_model_lda.get_coherence()\n",
    "print('Coherence Score u-mass: ', coherence_lda)\n",
    "\n",
    "perplexity = lda.log_perplexity(common_corpus)\n",
    "print('Model perplexity: ', perplexity)\n",
    "\n",
    "ldavis_prepared = pyLDAvis.gensim.prepare(lda, common_corpus, common_dictionary)\n",
    "\n",
    "pyLDAvis.display(ldavis_prepared)"
   ]
  },
  {
   "cell_type": "markdown",
   "metadata": {},
   "source": [
    "https://nlp.stanford.edu/events/illvi2014/papers/sievert-illvi2014.pdf\n",
    "\n",
    "- A topic in LDA is a multinomial distribution over the (typically thousands of) terms in the vocabulary of the corpus. "
   ]
  },
  {
   "cell_type": "code",
   "execution_count": 4,
   "metadata": {},
   "outputs": [],
   "source": [
    "save_model = False\n",
    "path = '../Models/lda_nonlp_stemmed_pruned_lda-model.pkl'\n",
    "if save_model:\n",
    "    with open(path, 'wb') as fid:\n",
    "        pickle.dump(lda, fid)\n",
    "else:\n",
    "    with open(path, 'rb') as fid:\n",
    "        lda = pickle.load(fid)"
   ]
  },
  {
   "cell_type": "code",
   "execution_count": 5,
   "metadata": {},
   "outputs": [],
   "source": [
    "def format_topics_sentences(ldamodel, corpus, texts):\n",
    "    \n",
    "    sent_topics_df = pd.DataFrame()\n",
    "\n",
    "    # Get main topic in each document\n",
    "    for i, row in enumerate(ldamodel[corpus]):\n",
    "        row = sorted(row[0], key=lambda x: (x[1]), reverse=True)\n",
    "        # Get the Dominant topic, Perc Contribution and Keywords for each document\n",
    "        for j, (topic_num, prop_topic) in enumerate(row):\n",
    "            if j == 0:  # => dominant topic\n",
    "                wp = ldamodel.show_topic(topic_num)\n",
    "                topic_keywords = \", \".join([word for word, prop in wp])\n",
    "                sent_topics_df = sent_topics_df.append(pd.Series([int(topic_num), round(prop_topic,4), topic_keywords]), ignore_index=True)\n",
    "            else:\n",
    "                break\n",
    "    sent_topics_df.columns = ['Dominant_Topic', 'Perc_Contribution', 'Topic_Keywords']\n",
    "\n",
    "    # Add original text to the end of the output\n",
    "    contents = pd.Series(texts)\n",
    "    sent_topics_df = pd.concat([sent_topics_df, contents], axis=1)\n",
    "    return(sent_topics_df)"
   ]
  },
  {
   "cell_type": "code",
   "execution_count": null,
   "metadata": {},
   "outputs": [],
   "source": [
    "save_topics = False\n",
    "path = '../Data/lda_nonlp_stemmed_pruned_lda_topics.pkl'\n",
    "\n",
    "if save_topics:\n",
    "    \n",
    "    df_topic_sents_keywords = format_topics_sentences(ldamodel=lda, corpus=common_corpus, texts=corpus)\n",
    "    # Format\n",
    "    df_dominant_topic = df_topic_sents_keywords.reset_index()\n",
    "    df_dominant_topic.columns = ['Document_No', 'Dominant_Topic', 'Topic_Perc_Contrib', 'Keywords', 'Text']\n",
    "\n",
    "    # reindex the initial dataframe, make list of initial df and topics df and concatenate both\n",
    "    all_data_reindexed = all_data.reset_index(drop=True)\n",
    "    df_list = [df_dominant_topic,all_data_reindexed]\n",
    "    full_df = pd.concat(df_list, axis=1)\n",
    "    # make the resulting dataframe datetime indexed again and throw away unwanted columns\n",
    "    full_df.index = full_df['created_at']\n",
    "    full_df = full_df.drop(['stemmed', 'tags', 'parties', 'created_at', 'mentions'], axis=1)\n",
    "    full_df['topic'] = full_df['Dominant_Topic'].map(lambda x: x.replace('nan', np.NaN) if isinstance(x, str) else x)\n",
    "    # show\n",
    "    full_df.head()\n",
    "\n",
    "    with open(path, 'wb') as fid:\n",
    "        pickle.dump(full_df, fid)\n",
    "\n",
    "# else:\n",
    "#     with open(path, 'rb') as fid:\n",
    "#         full_df = pickle.load(fid)"
   ]
  },
  {
   "cell_type": "code",
   "execution_count": 229,
   "metadata": {},
   "outputs": [
    {
     "data": {
      "text/plain": [
       "True"
      ]
     },
     "execution_count": 229,
     "metadata": {},
     "output_type": "execute_result"
    }
   ],
   "source": [
    "x = 'nan'\n",
    "isinstance(x, str)"
   ]
  },
  {
   "cell_type": "code",
   "execution_count": 249,
   "metadata": {},
   "outputs": [
    {
     "data": {
      "text/plain": [
       "NaN      86385\n",
       " 28.0     4383\n",
       " 65.0     2043\n",
       " 24.0     1455\n",
       " 37.0      783\n",
       " 25.0      671\n",
       " 7.0       577\n",
       " 16.0      516\n",
       " 29.0      486\n",
       " 12.0      470\n",
       " 52.0      467\n",
       " 30.0      428\n",
       " 69.0      410\n",
       " 47.0      393\n",
       " 11.0      392\n",
       " 70.0      383\n",
       " 75.0      363\n",
       " 1.0       357\n",
       " 54.0      341\n",
       " 59.0      338\n",
       " 51.0      328\n",
       " 0.0       325\n",
       " 77.0      305\n",
       " 46.0      305\n",
       " 48.0      298\n",
       " 67.0      296\n",
       " 68.0      292\n",
       " 26.0      289\n",
       " 61.0      287\n",
       " 9.0       285\n",
       "         ...  \n",
       " 5.0       202\n",
       " 27.0      201\n",
       " 20.0      199\n",
       " 33.0      197\n",
       " 15.0      197\n",
       " 57.0      196\n",
       " 62.0      195\n",
       " 19.0      194\n",
       " 72.0      193\n",
       " 3.0       185\n",
       " 79.0      183\n",
       " 76.0      182\n",
       " 2.0       180\n",
       " 73.0      179\n",
       " 14.0      178\n",
       " 38.0      171\n",
       " 43.0      168\n",
       " 71.0      167\n",
       " 10.0      162\n",
       " 58.0      160\n",
       " 53.0      159\n",
       " 64.0      157\n",
       " 21.0      154\n",
       " 6.0       154\n",
       " 41.0      152\n",
       " 78.0      149\n",
       " 34.0      137\n",
       " 50.0      136\n",
       " 13.0      135\n",
       " 35.0      135\n",
       "Name: topic, Length: 84, dtype: int64"
      ]
     },
     "execution_count": 249,
     "metadata": {},
     "output_type": "execute_result"
    }
   ],
   "source": [
    "full_df.topic.value_counts(dropna=False)"
   ]
  },
  {
   "cell_type": "code",
   "execution_count": 7,
   "metadata": {},
   "outputs": [],
   "source": [
    "tops = Counter(full_df.Dominant_Topic)"
   ]
  },
  {
   "cell_type": "code",
   "execution_count": 8,
   "metadata": {},
   "outputs": [],
   "source": [
    "topc_per = full_df.loc[:, 'Topic_Perc_Contrib'].describe()"
   ]
  },
  {
   "cell_type": "code",
   "execution_count": 9,
   "metadata": {},
   "outputs": [
    {
     "data": {
      "text/plain": [
       "count    29359.000000\n",
       "mean         0.645033\n",
       "std          0.204604\n",
       "min          0.400000\n",
       "25%          0.480600\n",
       "50%          0.532000\n",
       "75%          0.924300\n",
       "max          0.998700\n",
       "Name: Topic_Perc_Contrib, dtype: float64"
      ]
     },
     "execution_count": 9,
     "metadata": {},
     "output_type": "execute_result"
    }
   ],
   "source": [
    "topc_per"
   ]
  },
  {
   "cell_type": "code",
   "execution_count": 92,
   "metadata": {},
   "outputs": [
    {
     "data": {
      "text/plain": [
       "(115745, 7)"
      ]
     },
     "execution_count": 92,
     "metadata": {},
     "output_type": "execute_result"
    }
   ],
   "source": [
    "full_df.shape"
   ]
  },
  {
   "cell_type": "code",
   "execution_count": 98,
   "metadata": {},
   "outputs": [
    {
     "data": {
      "text/plain": [
       "(14244, 7)"
      ]
     },
     "execution_count": 98,
     "metadata": {},
     "output_type": "execute_result"
    }
   ],
   "source": [
    "high_sec_topcis.shape"
   ]
  },
  {
   "cell_type": "code",
   "execution_count": 250,
   "metadata": {},
   "outputs": [],
   "source": [
    "topic_counts = full_df.groupby(full_df.index.date)['topic'].value_counts().reset_index(name='counts')\n",
    "\n",
    "topic_counts = topic_counts.set_index(pd.DatetimeIndex(topic_counts['level_0'])).drop(columns='level_0')"
   ]
  },
  {
   "cell_type": "code",
   "execution_count": 251,
   "metadata": {},
   "outputs": [
    {
     "data": {
      "image/png": "[encoded data removed]",
      "text/plain": [
       "<Figure size 1440x2160 with 5 Axes>"
      ]
     },
     "metadata": {
      "needs_background": "light"
     },
     "output_type": "display_data"
    }
   ],
   "source": [
    "def topic_plot(df, n_horizontal, n_vertical):\n",
    "    dow = ['Monday', 'Tuesday', 'Wednesday', 'Thursday', 'Friday', 'Saturday', 'Sunday']\n",
    "    dates = df.index.unique()\n",
    "    \n",
    "    fig, ax = plt.subplots(n_horizontal, n_vertical, figsize=(20, 30))\n",
    "\n",
    "    for i, date in enumerate(dates):\n",
    "        ax[i].bar(df.loc[date, 'topic'], df.loc[date, 'counts'], label=date) \n",
    "        ax[i].set_ylim(0, 2000)\n",
    "        ax[i].set_title('{} {}'.format(dow[date.dayofweek], date.date()))\n",
    "        ax[i].set_ylabel('Mention count')\n",
    "    plt.xlabel('Topic number')\n",
    "    plt.show()\n",
    "\n",
    "topic_plot(topic_counts, 5, 1)"
   ]
  },
  {
   "cell_type": "code",
   "execution_count": 252,
   "metadata": {},
   "outputs": [
    {
     "name": "stdout",
     "output_type": "stream",
     "text": [
      "24.0 ['waehl, stimm, gewaehlt, hoer, richtung, partei, kritisch, gesicht, privat, plattform']\n",
      "[0.9606000185012817\n",
      " '    Wer  kontrolliert  es  ob    oder      oder  mehr  sind  Machen  sie  eine  Strichliste  und  nach  welchen  Kriterien  wird  entschieden  Das  ist  alles  wieder  nur  unausgegorener  Mist   Aber  was  kann  man  von  Merkel  amp  Co  anderes  erwarten  ARMES   Leute  denkt  daran  wenn  ihr  zur  LTW  waehlt   ']\n",
      "28.0 ['fdp, csu, cdu, spd, bild, gruen, waer, partei, waehl, spani']\n",
      "[0.9733999967575073\n",
      " ' Burka  Verbot  in          Immer  mehr  Laender  in   Europa  wachen  auf    AfD  fordert  das  und  noch  viel  mehr  auch  fuer       Islamisierung  stoppen   einLink ']\n",
      "52.0 ['jung, oeffent, alternativ, spinn, leist, schick, hitl, tipp, feiern, niedersachs']\n",
      "[0.9733999967575073\n",
      " 'Natuerlich  sieht  die  AFD  das  nicht  als  Problem  an   Sollte  die  afd  recht  haben  mit  ihrer  Aussage   erwarte  ich  eine  Beobachtung  der  Bundeswehr  durch  den  Verfassungsschutz   Oder  eine  Behoerde   die  nicht  auf  dem  rechten  Auge  blind  ist  ']\n",
      "25.0 ['brauch, les, rassist, mitglied, koennt, teil, schreib, argument, offenbar, ehemal']\n",
      "[0.9606000185012817\n",
      " '   Alleine  aufgrund  der  Klimapolitik  ist  die  AfD  ein  unwaehlbarer  Drecksverein ']\n",
      "59.0 ['fall, interessant, spricht, union, koalition, schuetz, dam, sozialismus, gescheitert, ueberzeugt']\n",
      "[0.9606000185012817\n",
      " '    Du  bist  kein  russischer  Bot   du  bist  ein   gegen  Argumente  und  die  Wahrheit  resistentes  AfD  Sekte  Mitglied   die  Wahrheit  existiert  da  bei  euch  nicht    Und  wird  sie  doch  mal  ausgesprochen  werden  die  leben  derjenigen  zerstoert  bevor  sie  raus  duerfen    Hoert  auf  deutschland  zu  hassen  ']\n",
      "7.0 ['afrika, etc, lafontain, chef, steu, ort, ewig, hoffnung, richt, momentan']\n",
      "[0.9243000149726868\n",
      " 'Jeder  in  der  AfD  hat  so  sein  dunkles  Geheimnis  einLink ']\n",
      "16.0 ['lieb, twitt, bleib, tweet, hetz, hoert, taet, account, anti, spaltet']\n",
      "[0.9606000185012817\n",
      " '    Das  seid  ihr  doch  auch  und  ihr  verbreitet  zusaetslich  Verschwoerungstheorien  aus  dem  Hause   AfDSekte    Eine  Demokratie  besteht  immer  aus  mehreren  Parteien   wenn  man  allen  anderen  ihre  Legitimitaet  abspricht  und  nur  die  AfD  als  legal  ansieht  dann  ist  das  verfassungsfeindlich  ']\n",
      "69.0 ['fordert, wehrpflicht, geb, dienstpflicht, off, monat, loesung, oesterreich, blau, bedeutet']\n",
      "[0.9839000105857849 '  Ihr  seid  ja  sehr  erwachsen  ']\n",
      "31.0 ['seehof, soed, schnell, wett, wass, langsam, nutz, allein, gedank, verhind']\n",
      "[0.9733999967575073\n",
      " '      Steinkes  Meinung  spiegele   in  all  ihrer  Absurditaet  weder  die  Meinung  des  Landesvorstandes  der  AfD  Nied  ']\n",
      "75.0 ['frau, merkel, buerg, dank, unterstuetz, umfrag, staedt, geho, wahrheit, grupp']\n",
      "[0.9606000185012817\n",
      " 'EIL   Bundesregierung  benennt  Grundsicherung  fuer    andere  Rechtspopulisten  und  Neonazis  in  Hetz  IV  um   EIL  ']\n",
      "65.0 ['link, aufsteh, sammlungsbeweg, wagenknecht, polit, sahra, sammelbeweg, partei, antideutsch, haar']\n",
      "[0.9606000185012817\n",
      " '   Tolle  Entwicklung   Essen  ruestet  auf     schuss   und  stichsichere  Westen  fuer  die  Mitarbeit  der  Auslaenderbehoerde   Die  kulture  ']\n",
      "37.0 ['gruen, link, deutschland, wichtig, richtig, laeuft, politikerin, muslim, pack, veranstalt']\n",
      "[0.9243000149726868\n",
      " 'Vor  allem   wo  sie  schon  knapp     ihres  Einkommens  voellig  leistungsunabhaengig  und  wettergeschuetzt  erzielen    per  EU  Subventionen     Bauernverband   Duerre   AfD  einLink ']\n",
      "11.0 ['sieht, welt, europa, goering, eckardt, migrant, erkla, zeig, illegal, deutschland']\n",
      "[0.9839000105857849\n",
      " 'Wieder  mal   mausgerutscht     AfD     noafd   einLink ']\n",
      "49.0 ['hitz, hitzewell, witzfigur, bundesregier, fragt, gewinn, vergleich, elt, erkenn, erzaehl']\n",
      "[0.9243000149726868\n",
      " '  Hier  hilft  nur  die  Internierung  der  KOMPLETTEN  Sippe   also  mal  schon  so      Leute   Wo  sind  die  dafuer  notwendigen  Untersuchungshaftanstalten   ']\n",
      "67.0 ['denk, braucht, heiss, muesst, nix, zdf, eck, nennt, volkspartei, ard']\n",
      "[0.9243000149726868\n",
      " ' Der  Klimwandel  ist      nicht  existent   Quelle   einLink       Werk  der  Fluechtlinge   Quelle   einLink   ']\n",
      "30.0 ['gesellschaft, zeigt, versteh, naech, wort, volk, meist, bundestag, gewalt, bestimmt']\n",
      "[0.9243000149726868\n",
      " ' Wat   So  viele  rennen  denen  noch  nach   Is  ja  och  keen  Wunder   wenn  man  liest   wat  der  OB  von  Potsdam  will  ']\n",
      "45.0 ['weiss, waehlt, schul, chanc, pro, bahn, bloss, ausnahm, erreich, konstruktiv']\n",
      "[0.9606000185012817\n",
      " '   Fuer  mich  stellt  der  Gutmensch   in  seiner  fuer  uns  darstellenden  Gefahr   eine  groesserer  Bedrohung  dar   als  seinerzeit  die  g  ']\n"
     ]
    }
   ],
   "source": [
    "def print_largest_topics(topicsdf, fulldf, topic_prob=0.85, n_text=5):\n",
    "    largest_tpcs = topicsdf.copy().reset_index().reset_index()\n",
    "    frequent_topcs = largest_tpcs.groupby('level_0')['counts'].nlargest(5).reset_index().merge(\n",
    "                 largest_tpcs[['index', 'topic']], left_on='level_1', right_on='index').drop(\n",
    "                 columns='level_1')\n",
    "    frequent_topcs_list = frequent_topcs.topic.unique()\n",
    "    \n",
    "    for topic in freq_topcs_list:\n",
    "        print(topic, fulldf[['Keywords']][fulldf['topic'] == topic].values[0])\n",
    "        print(fulldf[['Topic_Perc_Contrib', 'clean_text']][(fulldf['topic'] == topic) & (fulldf['Topic_Perc_Contrib'] > topic_prob)].values[n_text])\n",
    "\n",
    "print_largest_topics(topic_counts, full_df)"
   ]
  },
  {
   "cell_type": "code",
   "execution_count": 265,
   "metadata": {},
   "outputs": [
    {
     "data": {
      "text/html": [
       "<div>\n",
       "<style scoped>\n",
       "    .dataframe tbody tr th:only-of-type {\n",
       "        vertical-align: middle;\n",
       "    }\n",
       "\n",
       "    .dataframe tbody tr th {\n",
       "        vertical-align: top;\n",
       "    }\n",
       "\n",
       "    .dataframe thead th {\n",
       "        text-align: right;\n",
       "    }\n",
       "</style>\n",
       "<table border=\"1\" class=\"dataframe\">\n",
       "  <thead>\n",
       "    <tr style=\"text-align: right;\">\n",
       "      <th></th>\n",
       "      <th>Document_No</th>\n",
       "      <th>Dominant_Topic</th>\n",
       "      <th>Topic_Perc_Contrib</th>\n",
       "      <th>Keywords</th>\n",
       "      <th>Text</th>\n",
       "      <th>full_text</th>\n",
       "      <th>clean_text</th>\n",
       "      <th>user_id</th>\n",
       "      <th>topic</th>\n",
       "    </tr>\n",
       "    <tr>\n",
       "      <th>created_at</th>\n",
       "      <th></th>\n",
       "      <th></th>\n",
       "      <th></th>\n",
       "      <th></th>\n",
       "      <th></th>\n",
       "      <th></th>\n",
       "      <th></th>\n",
       "      <th></th>\n",
       "      <th></th>\n",
       "    </tr>\n",
       "  </thead>\n",
       "  <tbody>\n",
       "    <tr>\n",
       "      <th>2018-08-02 00:00:14</th>\n",
       "      <td>0</td>\n",
       "      <td>28.0</td>\n",
       "      <td>0.7995</td>\n",
       "      <td>fdp, csu, cdu, spd, bild, gruen, waer, partei,...</td>\n",
       "      <td>[sami, migrant, fluechtling, weisst, demokrati...</td>\n",
       "      <td>@BILD Für Sami A macht man Rundflüge. gute Mig...</td>\n",
       "      <td>Fuer  Sami  A  macht  man  Rundfluege   gute ...</td>\n",
       "      <td>884513792062881794</td>\n",
       "      <td>28.0</td>\n",
       "    </tr>\n",
       "    <tr>\n",
       "      <th>2018-08-02 00:00:32</th>\n",
       "      <td>1</td>\n",
       "      <td>25.0</td>\n",
       "      <td>0.6144</td>\n",
       "      <td>brauch, les, rassist, mitglied, koennt, teil, ...</td>\n",
       "      <td>[noafd, schreib, argument, lief, afd, waehl]</td>\n",
       "      <td>@bembelpix @AfD_Hessen NoAFD schreiben aber ke...</td>\n",
       "      <td>NoAFD  schreiben  aber  keine  Argumente  li...</td>\n",
       "      <td>702527680722419712</td>\n",
       "      <td>25.0</td>\n",
       "    </tr>\n",
       "    <tr>\n",
       "      <th>2018-08-02 00:00:32</th>\n",
       "      <td>2</td>\n",
       "      <td>63.0</td>\n",
       "      <td>0.7935</td>\n",
       "      <td>baeum, erfolgreich, sterb, unternehm, kauf, vo...</td>\n",
       "      <td>[kenn, reps, bad, wuerttemberg, trifft]</td>\n",
       "      <td>RT @Walnusskipferl: @AssetsKater72 @dr_ecksack...</td>\n",
       "      <td>Ich  kenne  nur  die  REPs  Baden  Wuer...</td>\n",
       "      <td>3438043463</td>\n",
       "      <td>63.0</td>\n",
       "    </tr>\n",
       "    <tr>\n",
       "      <th>2018-08-02 00:01:33</th>\n",
       "      <td>3</td>\n",
       "      <td>0.0</td>\n",
       "      <td>0.4405</td>\n",
       "      <td>sag, ide, schad, nam, normal, hilft, fan, hey,...</td>\n",
       "      <td>[dritt, kauf, nehm, ungleich, nehm, kauf, abst...</td>\n",
       "      <td>@NeotherealNeo @vonduessel @AfD @AndreasKalbit...</td>\n",
       "      <td>Drittens  in  kauf  nehmen  ist  ungleich ...</td>\n",
       "      <td>846319908254367744</td>\n",
       "      <td>0.0</td>\n",
       "    </tr>\n",
       "    <tr>\n",
       "      <th>2018-08-02 00:02:08</th>\n",
       "      <td>4</td>\n",
       "      <td>29.0</td>\n",
       "      <td>0.5657</td>\n",
       "      <td>fluechtling, gemeinsam, findet, antwort, nenn,...</td>\n",
       "      <td>[wert, afd, versteh, afdwirkt]</td>\n",
       "      <td>Damit wir die Werte #AfD besser verstehen. #Af...</td>\n",
       "      <td>Damit  wir  die  Werte   AfD  besser  verstehe...</td>\n",
       "      <td>165708897</td>\n",
       "      <td>29.0</td>\n",
       "    </tr>\n",
       "  </tbody>\n",
       "</table>\n",
       "</div>"
      ],
      "text/plain": [
       "                     Document_No  Dominant_Topic  Topic_Perc_Contrib  \\\n",
       "created_at                                                             \n",
       "2018-08-02 00:00:14            0            28.0              0.7995   \n",
       "2018-08-02 00:00:32            1            25.0              0.6144   \n",
       "2018-08-02 00:00:32            2            63.0              0.7935   \n",
       "2018-08-02 00:01:33            3             0.0              0.4405   \n",
       "2018-08-02 00:02:08            4            29.0              0.5657   \n",
       "\n",
       "                                                              Keywords  \\\n",
       "created_at                                                               \n",
       "2018-08-02 00:00:14  fdp, csu, cdu, spd, bild, gruen, waer, partei,...   \n",
       "2018-08-02 00:00:32  brauch, les, rassist, mitglied, koennt, teil, ...   \n",
       "2018-08-02 00:00:32  baeum, erfolgreich, sterb, unternehm, kauf, vo...   \n",
       "2018-08-02 00:01:33  sag, ide, schad, nam, normal, hilft, fan, hey,...   \n",
       "2018-08-02 00:02:08  fluechtling, gemeinsam, findet, antwort, nenn,...   \n",
       "\n",
       "                                                                  Text  \\\n",
       "created_at                                                               \n",
       "2018-08-02 00:00:14  [sami, migrant, fluechtling, weisst, demokrati...   \n",
       "2018-08-02 00:00:32       [noafd, schreib, argument, lief, afd, waehl]   \n",
       "2018-08-02 00:00:32            [kenn, reps, bad, wuerttemberg, trifft]   \n",
       "2018-08-02 00:01:33  [dritt, kauf, nehm, ungleich, nehm, kauf, abst...   \n",
       "2018-08-02 00:02:08                     [wert, afd, versteh, afdwirkt]   \n",
       "\n",
       "                                                             full_text  \\\n",
       "created_at                                                               \n",
       "2018-08-02 00:00:14  @BILD Für Sami A macht man Rundflüge. gute Mig...   \n",
       "2018-08-02 00:00:32  @bembelpix @AfD_Hessen NoAFD schreiben aber ke...   \n",
       "2018-08-02 00:00:32  RT @Walnusskipferl: @AssetsKater72 @dr_ecksack...   \n",
       "2018-08-02 00:01:33  @NeotherealNeo @vonduessel @AfD @AndreasKalbit...   \n",
       "2018-08-02 00:02:08  Damit wir die Werte #AfD besser verstehen. #Af...   \n",
       "\n",
       "                                                            clean_text  \\\n",
       "created_at                                                               \n",
       "2018-08-02 00:00:14   Fuer  Sami  A  macht  man  Rundfluege   gute ...   \n",
       "2018-08-02 00:00:32    NoAFD  schreiben  aber  keine  Argumente  li...   \n",
       "2018-08-02 00:00:32         Ich  kenne  nur  die  REPs  Baden  Wuer...   \n",
       "2018-08-02 00:01:33      Drittens  in  kauf  nehmen  ist  ungleich ...   \n",
       "2018-08-02 00:02:08  Damit  wir  die  Werte   AfD  besser  verstehe...   \n",
       "\n",
       "                                user_id  topic  \n",
       "created_at                                      \n",
       "2018-08-02 00:00:14  884513792062881794   28.0  \n",
       "2018-08-02 00:00:32  702527680722419712   25.0  \n",
       "2018-08-02 00:00:32          3438043463   63.0  \n",
       "2018-08-02 00:01:33  846319908254367744    0.0  \n",
       "2018-08-02 00:02:08           165708897   29.0  "
      ]
     },
     "execution_count": 265,
     "metadata": {},
     "output_type": "execute_result"
    }
   ],
   "source": [
    "full_df.head()"
   ]
  },
  {
   "cell_type": "code",
   "execution_count": 287,
   "metadata": {},
   "outputs": [],
   "source": [
    "user_tops = full_df.dropna(subset=['topic']).groupby('user_id')['topic'].apply(list)"
   ]
  },
  {
   "cell_type": "code",
   "execution_count": 288,
   "metadata": {},
   "outputs": [
    {
     "data": {
      "text/plain": [
       "user_id\n",
       "1000025423361830913                       [28.0, 82.0, 38.0, 42.0, 28.0]\n",
       "1000031402216259586                                         [70.0, 45.0]\n",
       "1000045111793934337                                               [28.0]\n",
       "1000059546482733056                                               [29.0]\n",
       "1000108511303434240                                         [35.0, 65.0]\n",
       "1000108800790159360                                               [72.0]\n",
       "1000253026039468034                                               [30.0]\n",
       "1000260634968231936                                               [28.0]\n",
       "1000266924624941056                                               [40.0]\n",
       "1000362624872321025    [24.0, 81.0, 77.0, 7.0, 24.0, 60.0, 24.0, 33.0...\n",
       "1000441685665632256                                               [67.0]\n",
       "1000481842443837440    [0.0, 24.0, 58.0, 22.0, 28.0, 57.0, 70.0, 31.0...\n",
       "1000510254503821318    [17.0, 31.0, 16.0, 21.0, 59.0, 49.0, 79.0, 16....\n",
       "1000648722152394752                                           [9.0, 7.0]\n",
       "1000679735209361408                                         [43.0, 52.0]\n",
       "1000700041282113536                                         [32.0, 65.0]\n",
       "1000717018713198592            [59.0, 24.0, 59.0, 77.0, 81.0, 61.0, 9.0]\n",
       "1000730239927046144                                               [27.0]\n",
       "1000744383774412800    [24.0, 74.0, 60.0, 66.0, 24.0, 64.0, 29.0, 61....\n",
       "1000778083920764929                                                [1.0]\n",
       "1000795955153731584                                               [66.0]\n",
       "1000811250874568705                                               [37.0]\n",
       "1000829362646724610    [24.0, 12.0, 44.0, 21.0, 8.0, 37.0, 45.0, 82.0...\n",
       "1000830145735876609                                               [24.0]\n",
       "1000845075721736193                                    [24.0, 0.0, 31.0]\n",
       "1001011191085522944                        [23.0, 73.0, 8.0, 33.0, 28.0]\n",
       "1001152228164538368    [10.0, 45.0, 57.0, 41.0, 28.0, 28.0, 60.0, 28....\n",
       "1001165321338851328                                         [10.0, 24.0]\n",
       "1001262842                                                        [28.0]\n",
       "1001368555252801536                                               [75.0]\n",
       "                                             ...                        \n",
       "998626158978756609                                                [19.0]\n",
       "998681610747891712                                          [75.0, 36.0]\n",
       "998845818454016000                                                [24.0]\n",
       "998879899304779776                                           [28.0, 7.0]\n",
       "998961194147999744                                          [33.0, 12.0]\n",
       "998972986043633665                                                [66.0]\n",
       "998996413429288960                                          [63.0, 69.0]\n",
       "999008167681028096                  [30.0, 17.0, 24.0, 25.0, 28.0, 28.0]\n",
       "999026935786364929     [51.0, 61.0, 68.0, 52.0, 23.0, 24.0, 24.0, 65....\n",
       "999043684074172418                                          [13.0, 10.0]\n",
       "999163624726908928                                                [31.0]\n",
       "999215750295556097                                                [16.0]\n",
       "999266198826217478                                                [74.0]\n",
       "999320119145885696                                                [28.0]\n",
       "999489776                                                   [28.0, 28.0]\n",
       "999556496789819392                                          [51.0, 65.0]\n",
       "999649471993663488                                                [34.0]\n",
       "999651039711318016                         [24.0, 17.0, 65.0, 4.0, 66.0]\n",
       "999659930201313281                                                [45.0]\n",
       "999682022393237504                   [69.0, 30.0, 31.0, 2.0, 28.0, 28.0]\n",
       "999808713530773506                                                [28.0]\n",
       "999868575702835201                                                 [9.0]\n",
       "999909727659151362                                                [28.0]\n",
       "999914651977633793                                                [60.0]\n",
       "999923430681067520                                     [28.0, 8.0, 24.0]\n",
       "999931794744070145                                          [24.0, 46.0]\n",
       "999951970868912128                        [61.0, 65.0, 24.0, 57.0, 28.0]\n",
       "999967665786703875                                                [16.0]\n",
       "99997144                                                     [8.0, 78.0]\n",
       "999998614045970433                                                [37.0]\n",
       "Name: topic, Length: 9471, dtype: object"
      ]
     },
     "execution_count": 288,
     "metadata": {},
     "output_type": "execute_result"
    }
   ],
   "source": [
    "user_tops"
   ]
  },
  {
   "cell_type": "code",
   "execution_count": 189,
   "metadata": {},
   "outputs": [
    {
     "ename": "NameError",
     "evalue": "name 'df_part' is not defined",
     "output_type": "error",
     "traceback": [
      "\u001b[0;31m------------------------------------------------------------------\u001b[0m",
      "\u001b[0;31mNameError\u001b[0m                        Traceback (most recent call last)",
      "\u001b[0;32m<ipython-input-189-c2535dc3fe2a>\u001b[0m in \u001b[0;36m<module>\u001b[0;34m()\u001b[0m\n\u001b[0;32m----> 1\u001b[0;31m \u001b[0muser_text\u001b[0m \u001b[0;34m=\u001b[0m \u001b[0mdf_part\u001b[0m\u001b[0;34m.\u001b[0m\u001b[0mloc\u001b[0m\u001b[0;34m[\u001b[0m\u001b[0;34m:\u001b[0m\u001b[0;34m,\u001b[0m \u001b[0;34m[\u001b[0m\u001b[0;34m'user_id'\u001b[0m\u001b[0;34m,\u001b[0m \u001b[0;34m'clean_text'\u001b[0m\u001b[0;34m]\u001b[0m\u001b[0;34m]\u001b[0m\u001b[0;34m\u001b[0m\u001b[0m\n\u001b[0m\u001b[1;32m      2\u001b[0m \u001b[0muser_text\u001b[0m\u001b[0;34m.\u001b[0m\u001b[0mreset_index\u001b[0m\u001b[0;34m(\u001b[0m\u001b[0;34m)\u001b[0m\u001b[0;34m\u001b[0m\u001b[0m\n\u001b[1;32m      3\u001b[0m \u001b[0muser_text\u001b[0m \u001b[0;34m=\u001b[0m \u001b[0mpd\u001b[0m\u001b[0;34m.\u001b[0m\u001b[0mDataFrame\u001b[0m\u001b[0;34m(\u001b[0m\u001b[0muser_text\u001b[0m\u001b[0;34m.\u001b[0m\u001b[0mgroupby\u001b[0m\u001b[0;34m(\u001b[0m\u001b[0muser_text\u001b[0m\u001b[0;34m[\u001b[0m\u001b[0;34m'user_id'\u001b[0m\u001b[0;34m]\u001b[0m\u001b[0;34m)\u001b[0m\u001b[0;34m[\u001b[0m\u001b[0;34m'clean_text'\u001b[0m\u001b[0;34m]\u001b[0m\u001b[0;34m.\u001b[0m\u001b[0mapply\u001b[0m\u001b[0;34m(\u001b[0m\u001b[0;32mlambda\u001b[0m \u001b[0mx\u001b[0m\u001b[0;34m:\u001b[0m \u001b[0;34m'. '\u001b[0m\u001b[0;34m.\u001b[0m\u001b[0mjoin\u001b[0m\u001b[0;34m(\u001b[0m\u001b[0mx\u001b[0m\u001b[0;34m.\u001b[0m\u001b[0mastype\u001b[0m\u001b[0;34m(\u001b[0m\u001b[0mstr\u001b[0m\u001b[0;34m)\u001b[0m\u001b[0;34m)\u001b[0m\u001b[0;34m)\u001b[0m\u001b[0;34m)\u001b[0m\u001b[0;34m\u001b[0m\u001b[0m\n\u001b[1;32m      4\u001b[0m \u001b[0;34m\u001b[0m\u001b[0m\n\u001b[1;32m      5\u001b[0m \u001b[0muser_tags\u001b[0m \u001b[0;34m=\u001b[0m \u001b[0mdf_part\u001b[0m\u001b[0;34m.\u001b[0m\u001b[0mloc\u001b[0m\u001b[0;34m[\u001b[0m\u001b[0;34m:\u001b[0m\u001b[0;34m,\u001b[0m \u001b[0;34m[\u001b[0m\u001b[0;34m'user_id'\u001b[0m\u001b[0;34m,\u001b[0m \u001b[0;34m'topics'\u001b[0m\u001b[0;34m]\u001b[0m\u001b[0;34m]\u001b[0m\u001b[0;34m\u001b[0m\u001b[0m\n",
      "\u001b[0;31mNameError\u001b[0m: name 'df_part' is not defined"
     ]
    }
   ],
   "source": [
    "user_text = df_part.loc[:, ['user_id', 'clean_text']]\n",
    "user_text.reset_index()\n",
    "user_text = pd.DataFrame(user_text.groupby(user_text['user_id'])['clean_text'].apply(lambda x: '. '.join(x.astype(str))))\n",
    "\n",
    "user_tags = df_part.loc[:, ['user_id', 'topics']]\n",
    "user_tags.reset_index()\n",
    "user_tags = pd.DataFrame(user_tags.groupby(user_tags['user_id'])['tags'].apply(lambda x: '. '.join(x.astype(str))))\n",
    "\n",
    "user_tweetcount = pd.DataFrame(df_part.loc[:, 'user_id'].groupby(df_part['user_id']).count())\n",
    "\n",
    "user_dflist = [user_text, user_tags, user_tweetcount]"
   ]
  },
  {
   "cell_type": "code",
   "execution_count": 35,
   "metadata": {},
   "outputs": [],
   "source": [
    "test_df = pd.read_pickle('../Data/all_data_lda.pickle')"
   ]
  },
  {
   "cell_type": "code",
   "execution_count": 36,
   "metadata": {},
   "outputs": [
    {
     "data": {
      "text/html": [
       "<div>\n",
       "<style>\n",
       "    .dataframe thead tr:only-child th {\n",
       "        text-align: right;\n",
       "    }\n",
       "\n",
       "    .dataframe thead th {\n",
       "        text-align: left;\n",
       "    }\n",
       "\n",
       "    .dataframe tbody tr th {\n",
       "        vertical-align: top;\n",
       "    }\n",
       "</style>\n",
       "<table border=\"1\" class=\"dataframe\">\n",
       "  <thead>\n",
       "    <tr style=\"text-align: right;\">\n",
       "      <th></th>\n",
       "      <th>created_at</th>\n",
       "      <th>full_text</th>\n",
       "      <th>tags</th>\n",
       "      <th>mentions</th>\n",
       "      <th>clean_text</th>\n",
       "      <th>parties</th>\n",
       "      <th>stemmed</th>\n",
       "      <th>user_id</th>\n",
       "    </tr>\n",
       "    <tr>\n",
       "      <th>created_at</th>\n",
       "      <th></th>\n",
       "      <th></th>\n",
       "      <th></th>\n",
       "      <th></th>\n",
       "      <th></th>\n",
       "      <th></th>\n",
       "      <th></th>\n",
       "      <th></th>\n",
       "    </tr>\n",
       "  </thead>\n",
       "  <tbody>\n",
       "    <tr>\n",
       "      <th>2018-08-02 00:00:14</th>\n",
       "      <td>2018-08-02 00:00:14</td>\n",
       "      <td>@BILD Für Sami A macht man Rundflüge. gute Mig...</td>\n",
       "      <td>[CSU, AfD, Bild, CSU, Bild, CSU, SPD, FDP, AFD...</td>\n",
       "      <td>[BILD]</td>\n",
       "      <td>Fuer  Sami  A  macht  man  Rundfluege   gute ...</td>\n",
       "      <td>[AfD, SPD, CSU, FDP]</td>\n",
       "      <td>fuer  sami  a  macht  man  rundflueg   gut  m...</td>\n",
       "      <td>884513792062881794</td>\n",
       "    </tr>\n",
       "    <tr>\n",
       "      <th>2018-08-02 00:00:32</th>\n",
       "      <td>2018-08-02 00:00:32</td>\n",
       "      <td>@bembelpix @AfD_Hessen NoAFD schreiben aber ke...</td>\n",
       "      <td>[]</td>\n",
       "      <td>[bembelpix, AfD_Hessen]</td>\n",
       "      <td>NoAFD  schreiben  aber  keine  Argumente  li...</td>\n",
       "      <td>[AfD]</td>\n",
       "      <td>noafd  schreib  aber  kein  argument  lief  ...</td>\n",
       "      <td>702527680722419712</td>\n",
       "    </tr>\n",
       "    <tr>\n",
       "      <th>2018-08-02 00:00:32</th>\n",
       "      <td>2018-08-02 00:00:32</td>\n",
       "      <td>RT @Walnusskipferl: @AssetsKater72 @dr_ecksack...</td>\n",
       "      <td>[]</td>\n",
       "      <td>[Walnusskipferl, AssetsKater72, dr_ecksack_, i...</td>\n",
       "      <td>Ich  kenne  nur  die  REPs  Baden  Wuer...</td>\n",
       "      <td>[]</td>\n",
       "      <td>ich  kenn  nur  die  reps  bad  wuertte...</td>\n",
       "      <td>3438043463</td>\n",
       "    </tr>\n",
       "    <tr>\n",
       "      <th>2018-08-02 00:01:33</th>\n",
       "      <td>2018-08-02 00:01:33</td>\n",
       "      <td>@NeotherealNeo @vonduessel @AfD @AndreasKalbit...</td>\n",
       "      <td>[]</td>\n",
       "      <td>[NeotherealNeo, vonduessel, AfD, AndreasKalbitz]</td>\n",
       "      <td>Drittens  in  kauf  nehmen  ist  ungleich ...</td>\n",
       "      <td>[AfD]</td>\n",
       "      <td>dritt  in  kauf  nehm  ist  ungleich  woll...</td>\n",
       "      <td>846319908254367744</td>\n",
       "    </tr>\n",
       "    <tr>\n",
       "      <th>2018-08-02 00:02:08</th>\n",
       "      <td>2018-08-02 00:02:08</td>\n",
       "      <td>Damit wir die Werte #AfD besser verstehen. #Af...</td>\n",
       "      <td>[AfD, AfDwirkt]</td>\n",
       "      <td>[]</td>\n",
       "      <td>Damit  wir  die  Werte   AfD  besser  verstehe...</td>\n",
       "      <td>[AfD]</td>\n",
       "      <td>damit  wir  die  wert   afd  bess  versteh    ...</td>\n",
       "      <td>165708897</td>\n",
       "    </tr>\n",
       "  </tbody>\n",
       "</table>\n",
       "</div>"
      ],
      "text/plain": [
       "                             created_at  \\\n",
       "created_at                                \n",
       "2018-08-02 00:00:14 2018-08-02 00:00:14   \n",
       "2018-08-02 00:00:32 2018-08-02 00:00:32   \n",
       "2018-08-02 00:00:32 2018-08-02 00:00:32   \n",
       "2018-08-02 00:01:33 2018-08-02 00:01:33   \n",
       "2018-08-02 00:02:08 2018-08-02 00:02:08   \n",
       "\n",
       "                                                             full_text  \\\n",
       "created_at                                                               \n",
       "2018-08-02 00:00:14  @BILD Für Sami A macht man Rundflüge. gute Mig...   \n",
       "2018-08-02 00:00:32  @bembelpix @AfD_Hessen NoAFD schreiben aber ke...   \n",
       "2018-08-02 00:00:32  RT @Walnusskipferl: @AssetsKater72 @dr_ecksack...   \n",
       "2018-08-02 00:01:33  @NeotherealNeo @vonduessel @AfD @AndreasKalbit...   \n",
       "2018-08-02 00:02:08  Damit wir die Werte #AfD besser verstehen. #Af...   \n",
       "\n",
       "                                                                  tags  \\\n",
       "created_at                                                               \n",
       "2018-08-02 00:00:14  [CSU, AfD, Bild, CSU, Bild, CSU, SPD, FDP, AFD...   \n",
       "2018-08-02 00:00:32                                                 []   \n",
       "2018-08-02 00:00:32                                                 []   \n",
       "2018-08-02 00:01:33                                                 []   \n",
       "2018-08-02 00:02:08                                    [AfD, AfDwirkt]   \n",
       "\n",
       "                                                              mentions  \\\n",
       "created_at                                                               \n",
       "2018-08-02 00:00:14                                             [BILD]   \n",
       "2018-08-02 00:00:32                            [bembelpix, AfD_Hessen]   \n",
       "2018-08-02 00:00:32  [Walnusskipferl, AssetsKater72, dr_ecksack_, i...   \n",
       "2018-08-02 00:01:33   [NeotherealNeo, vonduessel, AfD, AndreasKalbitz]   \n",
       "2018-08-02 00:02:08                                                 []   \n",
       "\n",
       "                                                            clean_text  \\\n",
       "created_at                                                               \n",
       "2018-08-02 00:00:14   Fuer  Sami  A  macht  man  Rundfluege   gute ...   \n",
       "2018-08-02 00:00:32    NoAFD  schreiben  aber  keine  Argumente  li...   \n",
       "2018-08-02 00:00:32         Ich  kenne  nur  die  REPs  Baden  Wuer...   \n",
       "2018-08-02 00:01:33      Drittens  in  kauf  nehmen  ist  ungleich ...   \n",
       "2018-08-02 00:02:08  Damit  wir  die  Werte   AfD  besser  verstehe...   \n",
       "\n",
       "                                  parties  \\\n",
       "created_at                                  \n",
       "2018-08-02 00:00:14  [AfD, SPD, CSU, FDP]   \n",
       "2018-08-02 00:00:32                 [AfD]   \n",
       "2018-08-02 00:00:32                    []   \n",
       "2018-08-02 00:01:33                 [AfD]   \n",
       "2018-08-02 00:02:08                 [AfD]   \n",
       "\n",
       "                                                               stemmed  \\\n",
       "created_at                                                               \n",
       "2018-08-02 00:00:14   fuer  sami  a  macht  man  rundflueg   gut  m...   \n",
       "2018-08-02 00:00:32    noafd  schreib  aber  kein  argument  lief  ...   \n",
       "2018-08-02 00:00:32         ich  kenn  nur  die  reps  bad  wuertte...   \n",
       "2018-08-02 00:01:33      dritt  in  kauf  nehm  ist  ungleich  woll...   \n",
       "2018-08-02 00:02:08  damit  wir  die  wert   afd  bess  versteh    ...   \n",
       "\n",
       "                                user_id  \n",
       "created_at                               \n",
       "2018-08-02 00:00:14  884513792062881794  \n",
       "2018-08-02 00:00:32  702527680722419712  \n",
       "2018-08-02 00:00:32          3438043463  \n",
       "2018-08-02 00:01:33  846319908254367744  \n",
       "2018-08-02 00:02:08           165708897  "
      ]
     },
     "execution_count": 36,
     "metadata": {},
     "output_type": "execute_result"
    }
   ],
   "source": [
    "test_df.head()"
   ]
  },
  {
   "cell_type": "code",
   "execution_count": null,
   "metadata": {
    "collapsed": true
   },
   "outputs": [],
   "source": []
  }
 ],
 "metadata": {
  "kernelspec": {
   "display_name": "Python 3",
   "language": "python",
   "name": "python3"
  },
  "language_info": {
   "codemirror_mode": {
    "name": "ipython",
    "version": 3
   },
   "file_extension": ".py",
   "mimetype": "text/x-python",
   "name": "python",
   "nbconvert_exporter": "python",
   "pygments_lexer": "ipython3",
   "version": "3.6.5"
  }
 },
 "nbformat": 4,
 "nbformat_minor": 2
}
