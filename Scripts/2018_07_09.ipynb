{
 "cells": [
  {
   "cell_type": "code",
   "execution_count": 33,
   "metadata": {},
   "outputs": [],
   "source": [
    "%matplotlib inline\n",
    "import pandas as pd\n",
    "import matplotlib.pyplot as plt\n",
    "import seaborn as sns\n",
    "import numpy as np\n",
    "import seaborn as sns\n",
    "sns.set(color_codes=True)\n",
    "import pprint\n",
    "\n",
    "from collections import Counter"
   ]
  },
  {
   "cell_type": "code",
   "execution_count": 2,
   "metadata": {},
   "outputs": [],
   "source": [
    "def read_twitter_data(file = 'json_file_location.json'):\n",
    "    data_frame = pd.read_json(file, \n",
    "                               orient='records', \n",
    "                               lines=True, \n",
    "                               convert_dates=True, \n",
    "                               keep_default_dates=True)\n",
    "    return data_frame"
   ]
  },
  {
   "cell_type": "code",
   "execution_count": 3,
   "metadata": {},
   "outputs": [],
   "source": [
    "CSU = read_twitter_data(file = 'CSU/CSU_2018-07-09.json')"
   ]
  },
  {
   "cell_type": "code",
   "execution_count": 4,
   "metadata": {},
   "outputs": [],
   "source": [
    "CSU.name = 'CSU'"
   ]
  },
  {
   "cell_type": "code",
   "execution_count": 5,
   "metadata": {},
   "outputs": [
    {
     "data": {
      "text/html": [
       "<div>\n",
       "<style>\n",
       "    .dataframe thead tr:only-child th {\n",
       "        text-align: right;\n",
       "    }\n",
       "\n",
       "    .dataframe thead th {\n",
       "        text-align: left;\n",
       "    }\n",
       "\n",
       "    .dataframe tbody tr th {\n",
       "        vertical-align: top;\n",
       "    }\n",
       "</style>\n",
       "<table border=\"1\" class=\"dataframe\">\n",
       "  <thead>\n",
       "    <tr style=\"text-align: right;\">\n",
       "      <th></th>\n",
       "      <th>contributors</th>\n",
       "      <th>coordinates</th>\n",
       "      <th>created_at</th>\n",
       "      <th>entities</th>\n",
       "      <th>extended_entities</th>\n",
       "      <th>favorite_count</th>\n",
       "      <th>favorited</th>\n",
       "      <th>geo</th>\n",
       "      <th>id</th>\n",
       "      <th>id_str</th>\n",
       "      <th>...</th>\n",
       "      <th>quoted_status</th>\n",
       "      <th>quoted_status_id</th>\n",
       "      <th>quoted_status_id_str</th>\n",
       "      <th>retweet_count</th>\n",
       "      <th>retweeted</th>\n",
       "      <th>retweeted_status</th>\n",
       "      <th>source</th>\n",
       "      <th>text</th>\n",
       "      <th>truncated</th>\n",
       "      <th>user</th>\n",
       "    </tr>\n",
       "  </thead>\n",
       "  <tbody>\n",
       "    <tr>\n",
       "      <th>0</th>\n",
       "      <td>NaN</td>\n",
       "      <td>None</td>\n",
       "      <td>2018-07-09 07:33:12</td>\n",
       "      <td>{'hashtags': [{'text': 'CSU', 'indices': [49, ...</td>\n",
       "      <td>NaN</td>\n",
       "      <td>0</td>\n",
       "      <td>False</td>\n",
       "      <td>None</td>\n",
       "      <td>1016223731495120896</td>\n",
       "      <td>1016223731495120896</td>\n",
       "      <td>...</td>\n",
       "      <td>NaN</td>\n",
       "      <td>NaN</td>\n",
       "      <td>NaN</td>\n",
       "      <td>3</td>\n",
       "      <td>False</td>\n",
       "      <td>{'created_at': 'Mon Jul 09 06:27:21 +0000 2018...</td>\n",
       "      <td>&lt;a href=\"http://twitter.com/download/android\" ...</td>\n",
       "      <td>RT @jim_cs_: @ZDFheute Ja genau, jetzt kommt d...</td>\n",
       "      <td>False</td>\n",
       "      <td>{'id': 776036423103287297, 'id_str': '77603642...</td>\n",
       "    </tr>\n",
       "    <tr>\n",
       "      <th>1</th>\n",
       "      <td>NaN</td>\n",
       "      <td>None</td>\n",
       "      <td>2018-07-09 07:33:00</td>\n",
       "      <td>{'hashtags': [], 'symbols': [], 'user_mentions...</td>\n",
       "      <td>NaN</td>\n",
       "      <td>0</td>\n",
       "      <td>False</td>\n",
       "      <td>None</td>\n",
       "      <td>1016223681276727296</td>\n",
       "      <td>1016223681276727296</td>\n",
       "      <td>...</td>\n",
       "      <td>NaN</td>\n",
       "      <td>NaN</td>\n",
       "      <td>NaN</td>\n",
       "      <td>43</td>\n",
       "      <td>False</td>\n",
       "      <td>{'created_at': 'Mon Jul 09 06:28:20 +0000 2018...</td>\n",
       "      <td>&lt;a href=\"https://mobile.twitter.com\" rel=\"nofo...</td>\n",
       "      <td>RT @Uwe_Junge_MdL: Sie tragen ihren Hass und i...</td>\n",
       "      <td>False</td>\n",
       "      <td>{'id': 750647177647628288, 'id_str': '75064717...</td>\n",
       "    </tr>\n",
       "    <tr>\n",
       "      <th>2</th>\n",
       "      <td>NaN</td>\n",
       "      <td>None</td>\n",
       "      <td>2018-07-09 07:32:49</td>\n",
       "      <td>{'hashtags': [], 'symbols': [], 'user_mentions...</td>\n",
       "      <td>NaN</td>\n",
       "      <td>0</td>\n",
       "      <td>False</td>\n",
       "      <td>None</td>\n",
       "      <td>1016223634023702529</td>\n",
       "      <td>1016223634023702528</td>\n",
       "      <td>...</td>\n",
       "      <td>NaN</td>\n",
       "      <td>NaN</td>\n",
       "      <td>NaN</td>\n",
       "      <td>1</td>\n",
       "      <td>False</td>\n",
       "      <td>{'created_at': 'Mon Jul 09 07:31:48 +0000 2018...</td>\n",
       "      <td>&lt;a href=\"https://about.twitter.com/products/tw...</td>\n",
       "      <td>RT @migrate89: Forsa-Umfrage zur Landtagswahl ...</td>\n",
       "      <td>False</td>\n",
       "      <td>{'id': 78276177, 'id_str': '78276177', 'name':...</td>\n",
       "    </tr>\n",
       "    <tr>\n",
       "      <th>3</th>\n",
       "      <td>NaN</td>\n",
       "      <td>None</td>\n",
       "      <td>2018-07-09 07:32:47</td>\n",
       "      <td>{'hashtags': [], 'symbols': [], 'user_mentions...</td>\n",
       "      <td>NaN</td>\n",
       "      <td>0</td>\n",
       "      <td>False</td>\n",
       "      <td>None</td>\n",
       "      <td>1016223624934588417</td>\n",
       "      <td>1016223624934588416</td>\n",
       "      <td>...</td>\n",
       "      <td>NaN</td>\n",
       "      <td>NaN</td>\n",
       "      <td>NaN</td>\n",
       "      <td>5</td>\n",
       "      <td>False</td>\n",
       "      <td>{'created_at': 'Mon Jul 09 06:49:43 +0000 2018...</td>\n",
       "      <td>&lt;a href=\"http://twitter.com/download/android\" ...</td>\n",
       "      <td>RT @MonikaHerrmann1: Vielleicht will die CSU j...</td>\n",
       "      <td>False</td>\n",
       "      <td>{'id': 859107610041221125, 'id_str': '85910761...</td>\n",
       "    </tr>\n",
       "    <tr>\n",
       "      <th>4</th>\n",
       "      <td>NaN</td>\n",
       "      <td>None</td>\n",
       "      <td>2018-07-09 07:32:38</td>\n",
       "      <td>{'hashtags': [{'text': 'Flüchtlingspolitik', '...</td>\n",
       "      <td>NaN</td>\n",
       "      <td>0</td>\n",
       "      <td>False</td>\n",
       "      <td>None</td>\n",
       "      <td>1016223589438287872</td>\n",
       "      <td>1016223589438287872</td>\n",
       "      <td>...</td>\n",
       "      <td>NaN</td>\n",
       "      <td>NaN</td>\n",
       "      <td>NaN</td>\n",
       "      <td>1</td>\n",
       "      <td>False</td>\n",
       "      <td>{'created_at': 'Mon Jul 09 06:55:38 +0000 2018...</td>\n",
       "      <td>&lt;a href=\"http://twitter.com/download/android\" ...</td>\n",
       "      <td>RT @Timecop66: Trendbarometer: Mit ihrer #Flüc...</td>\n",
       "      <td>False</td>\n",
       "      <td>{'id': 2729969164, 'id_str': '2729969164', 'na...</td>\n",
       "    </tr>\n",
       "  </tbody>\n",
       "</table>\n",
       "<p>5 rows × 30 columns</p>\n",
       "</div>"
      ],
      "text/plain": [
       "   contributors coordinates          created_at  \\\n",
       "0           NaN        None 2018-07-09 07:33:12   \n",
       "1           NaN        None 2018-07-09 07:33:00   \n",
       "2           NaN        None 2018-07-09 07:32:49   \n",
       "3           NaN        None 2018-07-09 07:32:47   \n",
       "4           NaN        None 2018-07-09 07:32:38   \n",
       "\n",
       "                                            entities extended_entities  \\\n",
       "0  {'hashtags': [{'text': 'CSU', 'indices': [49, ...               NaN   \n",
       "1  {'hashtags': [], 'symbols': [], 'user_mentions...               NaN   \n",
       "2  {'hashtags': [], 'symbols': [], 'user_mentions...               NaN   \n",
       "3  {'hashtags': [], 'symbols': [], 'user_mentions...               NaN   \n",
       "4  {'hashtags': [{'text': 'Flüchtlingspolitik', '...               NaN   \n",
       "\n",
       "   favorite_count  favorited   geo                   id               id_str  \\\n",
       "0               0      False  None  1016223731495120896  1016223731495120896   \n",
       "1               0      False  None  1016223681276727296  1016223681276727296   \n",
       "2               0      False  None  1016223634023702529  1016223634023702528   \n",
       "3               0      False  None  1016223624934588417  1016223624934588416   \n",
       "4               0      False  None  1016223589438287872  1016223589438287872   \n",
       "\n",
       "                         ...                         quoted_status  \\\n",
       "0                        ...                                   NaN   \n",
       "1                        ...                                   NaN   \n",
       "2                        ...                                   NaN   \n",
       "3                        ...                                   NaN   \n",
       "4                        ...                                   NaN   \n",
       "\n",
       "   quoted_status_id  quoted_status_id_str  retweet_count  retweeted  \\\n",
       "0               NaN                   NaN              3      False   \n",
       "1               NaN                   NaN             43      False   \n",
       "2               NaN                   NaN              1      False   \n",
       "3               NaN                   NaN              5      False   \n",
       "4               NaN                   NaN              1      False   \n",
       "\n",
       "                                    retweeted_status  \\\n",
       "0  {'created_at': 'Mon Jul 09 06:27:21 +0000 2018...   \n",
       "1  {'created_at': 'Mon Jul 09 06:28:20 +0000 2018...   \n",
       "2  {'created_at': 'Mon Jul 09 07:31:48 +0000 2018...   \n",
       "3  {'created_at': 'Mon Jul 09 06:49:43 +0000 2018...   \n",
       "4  {'created_at': 'Mon Jul 09 06:55:38 +0000 2018...   \n",
       "\n",
       "                                              source  \\\n",
       "0  <a href=\"http://twitter.com/download/android\" ...   \n",
       "1  <a href=\"https://mobile.twitter.com\" rel=\"nofo...   \n",
       "2  <a href=\"https://about.twitter.com/products/tw...   \n",
       "3  <a href=\"http://twitter.com/download/android\" ...   \n",
       "4  <a href=\"http://twitter.com/download/android\" ...   \n",
       "\n",
       "                                                text truncated  \\\n",
       "0  RT @jim_cs_: @ZDFheute Ja genau, jetzt kommt d...     False   \n",
       "1  RT @Uwe_Junge_MdL: Sie tragen ihren Hass und i...     False   \n",
       "2  RT @migrate89: Forsa-Umfrage zur Landtagswahl ...     False   \n",
       "3  RT @MonikaHerrmann1: Vielleicht will die CSU j...     False   \n",
       "4  RT @Timecop66: Trendbarometer: Mit ihrer #Flüc...     False   \n",
       "\n",
       "                                                user  \n",
       "0  {'id': 776036423103287297, 'id_str': '77603642...  \n",
       "1  {'id': 750647177647628288, 'id_str': '75064717...  \n",
       "2  {'id': 78276177, 'id_str': '78276177', 'name':...  \n",
       "3  {'id': 859107610041221125, 'id_str': '85910761...  \n",
       "4  {'id': 2729969164, 'id_str': '2729969164', 'na...  \n",
       "\n",
       "[5 rows x 30 columns]"
      ]
     },
     "execution_count": 5,
     "metadata": {},
     "output_type": "execute_result"
    }
   ],
   "source": [
    "CSU.head()"
   ]
  },
  {
   "cell_type": "code",
   "execution_count": 28,
   "metadata": {},
   "outputs": [
    {
     "data": {
      "text/plain": [
       "1321"
      ]
     },
     "execution_count": 28,
     "metadata": {},
     "output_type": "execute_result"
    }
   ],
   "source": [
    "tweetsCSU = CSU.loc[:, 'text']\n",
    "len(tweetsCSU)"
   ]
  },
  {
   "cell_type": "code",
   "execution_count": 37,
   "metadata": {},
   "outputs": [
    {
     "name": "stdout",
     "output_type": "stream",
     "text": [
      "851\n",
      "RT @MonikaHerrmann1: Vielleicht will die CSU ja auch eine starke AfD im Bund. Dann ginge eine Koa ohne SPD mit SchwarzSchwarzBlau, also in…\n"
     ]
    }
   ],
   "source": [
    "CSU_new = tweetsCSU.drop_duplicates(inplace=True)\n",
    "print(len(tweetsCSU))\n",
    "print(tweetsCSU[3])"
   ]
  },
  {
   "cell_type": "code",
   "execution_count": 22,
   "metadata": {},
   "outputs": [
    {
     "data": {
      "text/plain": [
       "1016155085045313536    1\n",
       "1016183267777794048    1\n",
       "1016200875897958400    1\n",
       "1016200893337923584    1\n",
       "1016200915135713280    1\n",
       "1016200916293373953    1\n",
       "1016218525411790848    1\n",
       "1016200970785710081    1\n",
       "1016162024219463682    1\n",
       "1016189692474200064    1\n",
       "1016183421067055105    1\n",
       "1016218597142794240    1\n",
       "1016173257945427978    1\n",
       "1016218635759599618    1\n",
       "1016218628780363776    1\n",
       "1016218642088939520    1\n",
       "1016218653740527616    1\n",
       "1016218667938299904    1\n",
       "1016218706731417601    1\n",
       "1016163578624331776    1\n",
       "1016218439814471681    1\n",
       "1016199756413067265    1\n",
       "1016150220667621376    1\n",
       "1016183037195890694    1\n",
       "1016218261577400321    1\n",
       "1016183089880616961    1\n",
       "1016165497178640384    1\n",
       "1016200687041105920    1\n",
       "1016218290052567040    1\n",
       "1016210272405590018    1\n",
       "                      ..\n",
       "1016206762318409728    1\n",
       "1016189182023172096    1\n",
       "1016217510709026817    1\n",
       "1016189240948948997    1\n",
       "1016206807906189315    1\n",
       "1016189226122178561    1\n",
       "1016206812616577024    1\n",
       "1016203255431348224    1\n",
       "1016154044375748609    1\n",
       "1016206653811822592    1\n",
       "1016206643519016960    1\n",
       "1016189053505540097    1\n",
       "1016216564994015232    1\n",
       "1016179128633053185    1\n",
       "1016206382851284992    1\n",
       "1016188812458844160    1\n",
       "1016204233874530305    1\n",
       "1016188836349730817    1\n",
       "1016206446940315648    1\n",
       "1016175828214992896    1\n",
       "1016171325801553922    1\n",
       "1016206643149918210    1\n",
       "1016216627065573376    1\n",
       "1016206514665684993    1\n",
       "1016162558338793472    1\n",
       "1016188971225763842    1\n",
       "1016206558701776896    1\n",
       "1016190320030224384    1\n",
       "1016206566448599041    1\n",
       "1016212632733351936    1\n",
       "Name: id, Length: 1321, dtype: int64"
      ]
     },
     "execution_count": 22,
     "metadata": {},
     "output_type": "execute_result"
    }
   ],
   "source": [
    "CSU.loc[:, 'id'].value_counts()"
   ]
  },
  {
   "cell_type": "code",
   "execution_count": 19,
   "metadata": {},
   "outputs": [],
   "source": [
    "AFD = read_twitter_data(file = 'AfD/AfD_2018-07-09.json')"
   ]
  },
  {
   "cell_type": "code",
   "execution_count": 20,
   "metadata": {},
   "outputs": [],
   "source": [
    "AFD.name = 'AFD'"
   ]
  },
  {
   "cell_type": "code",
   "execution_count": 21,
   "metadata": {},
   "outputs": [
    {
     "data": {
      "text/plain": [
       "1016230201796317184    1\n",
       "1016207389874368512    1\n",
       "1016207483038248960    1\n",
       "1016230624166842368    1\n",
       "1016207595852492800    1\n",
       "1016207624059187200    1\n",
       "1016237084192006144    1\n",
       "1016137325758304256    1\n",
       "1016137330925735936    1\n",
       "1016207710696730624    1\n",
       "1016207730506379264    1\n",
       "1016139467722280960    1\n",
       "1016209811111899136    1\n",
       "1016207821812232192    1\n",
       "1016207833522679808    1\n",
       "1016207861049896960    1\n",
       "1016207891840282624    1\n",
       "1016207894612717568    1\n",
       "1016129030498738176    1\n",
       "1016207942209728512    1\n",
       "1016207965039276032    1\n",
       "1016207997259968512    1\n",
       "1016207864480878592    1\n",
       "1016218207810703360    1\n",
       "1016191831695155200    1\n",
       "1016206762318409728    1\n",
       "1016207329853779968    1\n",
       "1016206798582362112    1\n",
       "1016206876009263104    1\n",
       "1016171706623328256    1\n",
       "                      ..\n",
       "1016191282253885440    1\n",
       "1016121011765415936    1\n",
       "1016191386394210304    1\n",
       "1016226641759043584    1\n",
       "1016219232206548992    1\n",
       "1016167180185014272    1\n",
       "1016120455562842112    1\n",
       "1016222047855357952    1\n",
       "1016190378624593920    1\n",
       "1016225299141361664    1\n",
       "1016155020373516288    1\n",
       "1016225421753384960    1\n",
       "1016190247300935680    1\n",
       "1016215719804063744    1\n",
       "1016221995694993408    1\n",
       "1016119960874242048    1\n",
       "1016190345762222080    1\n",
       "1016119994177015808    1\n",
       "1016190389588504576    1\n",
       "1016225939473170432    1\n",
       "1016225615077310464    1\n",
       "1016116538221314048    1\n",
       "1016225693758259200    1\n",
       "1016190522136948736    1\n",
       "1016209102953959424    1\n",
       "1016190600218112000    1\n",
       "1016120253691154432    1\n",
       "1016225823538413568    1\n",
       "1016225883521155072    1\n",
       "1016230271862140928    1\n",
       "Name: id_str, Length: 6311, dtype: int64"
      ]
     },
     "execution_count": 21,
     "metadata": {},
     "output_type": "execute_result"
    }
   ],
   "source": [
    "AFD.loc[:, 'id_str'].value_counts()"
   ]
  },
  {
   "cell_type": "code",
   "execution_count": 7,
   "metadata": {},
   "outputs": [],
   "source": [
    "CDU = read_twitter_data(file = 'CDU/CDU_2018-07-09.json')"
   ]
  },
  {
   "cell_type": "code",
   "execution_count": 8,
   "metadata": {},
   "outputs": [],
   "source": [
    "CDU.name = 'CDU'"
   ]
  },
  {
   "cell_type": "code",
   "execution_count": 9,
   "metadata": {},
   "outputs": [],
   "source": [
    "Gruene = read_twitter_data(file = 'Gruene/Gruene_2018-07-09.json')"
   ]
  },
  {
   "cell_type": "code",
   "execution_count": 10,
   "metadata": {},
   "outputs": [],
   "source": [
    "Gruene.name = 'Gruene'"
   ]
  },
  {
   "cell_type": "code",
   "execution_count": 11,
   "metadata": {},
   "outputs": [],
   "source": [
    "SPD = read_twitter_data(file = 'SPD/SPD_2018-07-09.json')"
   ]
  },
  {
   "cell_type": "code",
   "execution_count": 12,
   "metadata": {},
   "outputs": [],
   "source": [
    "SPD.name = 'SPD'"
   ]
  },
  {
   "cell_type": "code",
   "execution_count": 13,
   "metadata": {},
   "outputs": [],
   "source": [
    "SPDDE = read_twitter_data(file = 'spdde/spdde_2018-07-09.json')"
   ]
  },
  {
   "cell_type": "code",
   "execution_count": 14,
   "metadata": {},
   "outputs": [],
   "source": [
    "SPDDE.name = 'SPDDE'"
   ]
  },
  {
   "cell_type": "code",
   "execution_count": 15,
   "metadata": {},
   "outputs": [],
   "source": [
    "Linke = read_twitter_data(file = 'LINKE/LINKE_2018-07-09.json')"
   ]
  },
  {
   "cell_type": "code",
   "execution_count": 16,
   "metadata": {},
   "outputs": [],
   "source": [
    "Linke.name = 'LINKE'"
   ]
  },
  {
   "cell_type": "code",
   "execution_count": 20,
   "metadata": {},
   "outputs": [
    {
     "ename": "ValueError",
     "evalue": "Expected object or value",
     "output_type": "error",
     "traceback": [
      "\u001b[0;31m---------------------------------------------------------------------------\u001b[0m",
      "\u001b[0;31mValueError\u001b[0m                                Traceback (most recent call last)",
      "\u001b[0;32m<ipython-input-20-1dab178f5af9>\u001b[0m in \u001b[0;36m<module>\u001b[0;34m()\u001b[0m\n\u001b[0;32m----> 1\u001b[0;31m \u001b[0mFDP\u001b[0m \u001b[0;34m=\u001b[0m \u001b[0mread_twitter_data\u001b[0m\u001b[0;34m(\u001b[0m\u001b[0mfile\u001b[0m \u001b[0;34m=\u001b[0m \u001b[0;34m'FDP/FDP_2018-07-09.json'\u001b[0m\u001b[0;34m)\u001b[0m\u001b[0;34m\u001b[0m\u001b[0m\n\u001b[0m",
      "\u001b[0;32m<ipython-input-2-e1ef67a02f7a>\u001b[0m in \u001b[0;36mread_twitter_data\u001b[0;34m(file)\u001b[0m\n\u001b[1;32m      4\u001b[0m                                \u001b[0mlines\u001b[0m\u001b[0;34m=\u001b[0m\u001b[0;32mTrue\u001b[0m\u001b[0;34m,\u001b[0m\u001b[0;34m\u001b[0m\u001b[0m\n\u001b[1;32m      5\u001b[0m                                \u001b[0mconvert_dates\u001b[0m\u001b[0;34m=\u001b[0m\u001b[0;32mTrue\u001b[0m\u001b[0;34m,\u001b[0m\u001b[0;34m\u001b[0m\u001b[0m\n\u001b[0;32m----> 6\u001b[0;31m                                keep_default_dates=True)\n\u001b[0m\u001b[1;32m      7\u001b[0m     \u001b[0;32mreturn\u001b[0m \u001b[0mdata_frame\u001b[0m\u001b[0;34m\u001b[0m\u001b[0m\n",
      "\u001b[0;32m~/anacondadsr/lib/python3.6/site-packages/pandas/io/json/json.py\u001b[0m in \u001b[0;36mread_json\u001b[0;34m(path_or_buf, orient, typ, dtype, convert_axes, convert_dates, keep_default_dates, numpy, precise_float, date_unit, encoding, lines, chunksize, compression)\u001b[0m\n\u001b[1;32m    420\u001b[0m         \u001b[0;32mreturn\u001b[0m \u001b[0mjson_reader\u001b[0m\u001b[0;34m\u001b[0m\u001b[0m\n\u001b[1;32m    421\u001b[0m \u001b[0;34m\u001b[0m\u001b[0m\n\u001b[0;32m--> 422\u001b[0;31m     \u001b[0mresult\u001b[0m \u001b[0;34m=\u001b[0m \u001b[0mjson_reader\u001b[0m\u001b[0;34m.\u001b[0m\u001b[0mread\u001b[0m\u001b[0;34m(\u001b[0m\u001b[0;34m)\u001b[0m\u001b[0;34m\u001b[0m\u001b[0m\n\u001b[0m\u001b[1;32m    423\u001b[0m     \u001b[0;32mif\u001b[0m \u001b[0mshould_close\u001b[0m\u001b[0;34m:\u001b[0m\u001b[0;34m\u001b[0m\u001b[0m\n\u001b[1;32m    424\u001b[0m         \u001b[0;32mtry\u001b[0m\u001b[0;34m:\u001b[0m\u001b[0;34m\u001b[0m\u001b[0m\n",
      "\u001b[0;32m~/anacondadsr/lib/python3.6/site-packages/pandas/io/json/json.py\u001b[0m in \u001b[0;36mread\u001b[0;34m(self)\u001b[0m\n\u001b[1;32m    524\u001b[0m             \u001b[0mdata\u001b[0m \u001b[0;34m=\u001b[0m \u001b[0mto_str\u001b[0m\u001b[0;34m(\u001b[0m\u001b[0mself\u001b[0m\u001b[0;34m.\u001b[0m\u001b[0mdata\u001b[0m\u001b[0;34m)\u001b[0m\u001b[0;34m\u001b[0m\u001b[0m\n\u001b[1;32m    525\u001b[0m             obj = self._get_object_parser(\n\u001b[0;32m--> 526\u001b[0;31m                 \u001b[0mself\u001b[0m\u001b[0;34m.\u001b[0m\u001b[0m_combine_lines\u001b[0m\u001b[0;34m(\u001b[0m\u001b[0mdata\u001b[0m\u001b[0;34m.\u001b[0m\u001b[0msplit\u001b[0m\u001b[0;34m(\u001b[0m\u001b[0;34m'\\n'\u001b[0m\u001b[0;34m)\u001b[0m\u001b[0;34m)\u001b[0m\u001b[0;34m\u001b[0m\u001b[0m\n\u001b[0m\u001b[1;32m    527\u001b[0m             )\n\u001b[1;32m    528\u001b[0m         \u001b[0;32melse\u001b[0m\u001b[0;34m:\u001b[0m\u001b[0;34m\u001b[0m\u001b[0m\n",
      "\u001b[0;32m~/anacondadsr/lib/python3.6/site-packages/pandas/io/json/json.py\u001b[0m in \u001b[0;36m_get_object_parser\u001b[0;34m(self, json)\u001b[0m\n\u001b[1;32m    544\u001b[0m         \u001b[0mobj\u001b[0m \u001b[0;34m=\u001b[0m \u001b[0;32mNone\u001b[0m\u001b[0;34m\u001b[0m\u001b[0m\n\u001b[1;32m    545\u001b[0m         \u001b[0;32mif\u001b[0m \u001b[0mtyp\u001b[0m \u001b[0;34m==\u001b[0m \u001b[0;34m'frame'\u001b[0m\u001b[0;34m:\u001b[0m\u001b[0;34m\u001b[0m\u001b[0m\n\u001b[0;32m--> 546\u001b[0;31m             \u001b[0mobj\u001b[0m \u001b[0;34m=\u001b[0m \u001b[0mFrameParser\u001b[0m\u001b[0;34m(\u001b[0m\u001b[0mjson\u001b[0m\u001b[0;34m,\u001b[0m \u001b[0;34m**\u001b[0m\u001b[0mkwargs\u001b[0m\u001b[0;34m)\u001b[0m\u001b[0;34m.\u001b[0m\u001b[0mparse\u001b[0m\u001b[0;34m(\u001b[0m\u001b[0;34m)\u001b[0m\u001b[0;34m\u001b[0m\u001b[0m\n\u001b[0m\u001b[1;32m    547\u001b[0m \u001b[0;34m\u001b[0m\u001b[0m\n\u001b[1;32m    548\u001b[0m         \u001b[0;32mif\u001b[0m \u001b[0mtyp\u001b[0m \u001b[0;34m==\u001b[0m \u001b[0;34m'series'\u001b[0m \u001b[0;32mor\u001b[0m \u001b[0mobj\u001b[0m \u001b[0;32mis\u001b[0m \u001b[0;32mNone\u001b[0m\u001b[0;34m:\u001b[0m\u001b[0;34m\u001b[0m\u001b[0m\n",
      "\u001b[0;32m~/anacondadsr/lib/python3.6/site-packages/pandas/io/json/json.py\u001b[0m in \u001b[0;36mparse\u001b[0;34m(self)\u001b[0m\n\u001b[1;32m    636\u001b[0m \u001b[0;34m\u001b[0m\u001b[0m\n\u001b[1;32m    637\u001b[0m         \u001b[0;32melse\u001b[0m\u001b[0;34m:\u001b[0m\u001b[0;34m\u001b[0m\u001b[0m\n\u001b[0;32m--> 638\u001b[0;31m             \u001b[0mself\u001b[0m\u001b[0;34m.\u001b[0m\u001b[0m_parse_no_numpy\u001b[0m\u001b[0;34m(\u001b[0m\u001b[0;34m)\u001b[0m\u001b[0;34m\u001b[0m\u001b[0m\n\u001b[0m\u001b[1;32m    639\u001b[0m \u001b[0;34m\u001b[0m\u001b[0m\n\u001b[1;32m    640\u001b[0m         \u001b[0;32mif\u001b[0m \u001b[0mself\u001b[0m\u001b[0;34m.\u001b[0m\u001b[0mobj\u001b[0m \u001b[0;32mis\u001b[0m \u001b[0;32mNone\u001b[0m\u001b[0;34m:\u001b[0m\u001b[0;34m\u001b[0m\u001b[0m\n",
      "\u001b[0;32m~/anacondadsr/lib/python3.6/site-packages/pandas/io/json/json.py\u001b[0m in \u001b[0;36m_parse_no_numpy\u001b[0;34m(self)\u001b[0m\n\u001b[1;32m    865\u001b[0m         \u001b[0;32melse\u001b[0m\u001b[0;34m:\u001b[0m\u001b[0;34m\u001b[0m\u001b[0m\n\u001b[1;32m    866\u001b[0m             self.obj = DataFrame(\n\u001b[0;32m--> 867\u001b[0;31m                 loads(json, precise_float=self.precise_float), dtype=None)\n\u001b[0m\u001b[1;32m    868\u001b[0m \u001b[0;34m\u001b[0m\u001b[0m\n\u001b[1;32m    869\u001b[0m     \u001b[0;32mdef\u001b[0m \u001b[0m_process_converter\u001b[0m\u001b[0;34m(\u001b[0m\u001b[0mself\u001b[0m\u001b[0;34m,\u001b[0m \u001b[0mf\u001b[0m\u001b[0;34m,\u001b[0m \u001b[0mfilt\u001b[0m\u001b[0;34m=\u001b[0m\u001b[0;32mNone\u001b[0m\u001b[0;34m)\u001b[0m\u001b[0;34m:\u001b[0m\u001b[0;34m\u001b[0m\u001b[0m\n",
      "\u001b[0;31mValueError\u001b[0m: Expected object or value"
     ]
    }
   ],
   "source": [
    "FDP = read_twitter_data(file = 'FDP/FDP_2018-07-09.json')"
   ]
  },
  {
   "cell_type": "code",
   "execution_count": 18,
   "metadata": {},
   "outputs": [
    {
     "ename": "NameError",
     "evalue": "name 'FDP' is not defined",
     "output_type": "error",
     "traceback": [
      "\u001b[0;31m---------------------------------------------------------------------------\u001b[0m",
      "\u001b[0;31mNameError\u001b[0m                                 Traceback (most recent call last)",
      "\u001b[0;32m<ipython-input-18-7ec1bfa79154>\u001b[0m in \u001b[0;36m<module>\u001b[0;34m()\u001b[0m\n\u001b[0;32m----> 1\u001b[0;31m \u001b[0mFDP\u001b[0m\u001b[0;34m.\u001b[0m\u001b[0mname\u001b[0m \u001b[0;34m=\u001b[0m \u001b[0;34m'FDP'\u001b[0m\u001b[0;34m\u001b[0m\u001b[0m\n\u001b[0m",
      "\u001b[0;31mNameError\u001b[0m: name 'FDP' is not defined"
     ]
    }
   ],
   "source": [
    "FDP.name = 'FDP'"
   ]
  },
  {
   "cell_type": "code",
   "execution_count": 19,
   "metadata": {},
   "outputs": [],
   "source": [
    "# CSU['lang'].value_counts()"
   ]
  },
  {
   "cell_type": "code",
   "execution_count": 20,
   "metadata": {},
   "outputs": [],
   "source": [
    "list_dataframes = [CSU, AFD, CDU, Gruene, SPD, SPDDE, Linke]"
   ]
  },
  {
   "cell_type": "code",
   "execution_count": 21,
   "metadata": {},
   "outputs": [],
   "source": [
    "def index(dataframes_list):\n",
    "    for df in list_dataframes:\n",
    "        df.set_index(pd.DatetimeIndex(df['created_at']), inplace=True)"
   ]
  },
  {
   "cell_type": "code",
   "execution_count": 22,
   "metadata": {},
   "outputs": [],
   "source": [
    "index(list_dataframes)"
   ]
  },
  {
   "cell_type": "code",
   "execution_count": 23,
   "metadata": {},
   "outputs": [],
   "source": [
    "def extract_location(x):\n",
    "    \"\"\"\n",
    "    use with apply\n",
    "    \"\"\"\n",
    "    return x['location']"
   ]
  },
  {
   "cell_type": "code",
   "execution_count": 24,
   "metadata": {},
   "outputs": [],
   "source": [
    "def location_column(dataframe_list):\n",
    "    \"\"\"\n",
    "    create a new column: 'location'\n",
    "    \"\"\"\n",
    "    for df in dataframe_list:\n",
    "        df['location'] = df.user.map(extract_location)"
   ]
  },
  {
   "cell_type": "code",
   "execution_count": 25,
   "metadata": {},
   "outputs": [],
   "source": [
    "location_column(list_dataframes)"
   ]
  },
  {
   "cell_type": "code",
   "execution_count": 26,
   "metadata": {},
   "outputs": [],
   "source": [
    "frames = dict()\n",
    "def extract_languages(dataframes):\n",
    "    \"\"\"\n",
    "    iterates over the list of dataframes and extracts the language column from each frame.\n",
    "    value_counts outputs a key : value pair with language as key and value_counts per language as value\n",
    "    value_counts output is assigned to an empty dictionary\n",
    "    \"\"\"\n",
    "    \n",
    "    for df in dataframes:                                     \n",
    "         frames[str(df.name)] = (df.loc[:, 'lang'].value_counts(dropna = False))\n",
    "    return frames"
   ]
  },
  {
   "cell_type": "code",
   "execution_count": 21,
   "metadata": {},
   "outputs": [],
   "source": [
    "#extract_languages(list_dataframes)"
   ]
  },
  {
   "cell_type": "code",
   "execution_count": 145,
   "metadata": {},
   "outputs": [
    {
     "data": {
      "text/html": [
       "<div>\n",
       "<style scoped>\n",
       "    .dataframe tbody tr th:only-of-type {\n",
       "        vertical-align: middle;\n",
       "    }\n",
       "\n",
       "    .dataframe tbody tr th {\n",
       "        vertical-align: top;\n",
       "    }\n",
       "\n",
       "    .dataframe thead th {\n",
       "        text-align: right;\n",
       "    }\n",
       "</style>\n",
       "<table border=\"1\" class=\"dataframe\">\n",
       "  <thead>\n",
       "    <tr style=\"text-align: right;\">\n",
       "      <th></th>\n",
       "      <th>CSU</th>\n",
       "      <th>AFD</th>\n",
       "      <th>CDU</th>\n",
       "      <th>Gruene</th>\n",
       "      <th>SPD</th>\n",
       "      <th>SPDDE</th>\n",
       "      <th>LINKE</th>\n",
       "    </tr>\n",
       "  </thead>\n",
       "  <tbody>\n",
       "    <tr>\n",
       "      <th>ar</th>\n",
       "      <td>2.0</td>\n",
       "      <td>10.0</td>\n",
       "      <td>NaN</td>\n",
       "      <td>NaN</td>\n",
       "      <td>3.0</td>\n",
       "      <td>NaN</td>\n",
       "      <td>1.0</td>\n",
       "    </tr>\n",
       "    <tr>\n",
       "      <th>ca</th>\n",
       "      <td>NaN</td>\n",
       "      <td>1.0</td>\n",
       "      <td>10.0</td>\n",
       "      <td>NaN</td>\n",
       "      <td>NaN</td>\n",
       "      <td>NaN</td>\n",
       "      <td>46.0</td>\n",
       "    </tr>\n",
       "    <tr>\n",
       "      <th>cs</th>\n",
       "      <td>NaN</td>\n",
       "      <td>3.0</td>\n",
       "      <td>NaN</td>\n",
       "      <td>NaN</td>\n",
       "      <td>13.0</td>\n",
       "      <td>NaN</td>\n",
       "      <td>NaN</td>\n",
       "    </tr>\n",
       "    <tr>\n",
       "      <th>cy</th>\n",
       "      <td>NaN</td>\n",
       "      <td>1.0</td>\n",
       "      <td>NaN</td>\n",
       "      <td>NaN</td>\n",
       "      <td>NaN</td>\n",
       "      <td>NaN</td>\n",
       "      <td>NaN</td>\n",
       "    </tr>\n",
       "    <tr>\n",
       "      <th>da</th>\n",
       "      <td>2.0</td>\n",
       "      <td>21.0</td>\n",
       "      <td>2.0</td>\n",
       "      <td>NaN</td>\n",
       "      <td>2.0</td>\n",
       "      <td>1.0</td>\n",
       "      <td>2.0</td>\n",
       "    </tr>\n",
       "  </tbody>\n",
       "</table>\n",
       "</div>"
      ],
      "text/plain": [
       "    CSU   AFD   CDU  Gruene   SPD  SPDDE  LINKE\n",
       "ar  2.0  10.0   NaN     NaN   3.0    NaN    1.0\n",
       "ca  NaN   1.0  10.0     NaN   NaN    NaN   46.0\n",
       "cs  NaN   3.0   NaN     NaN  13.0    NaN    NaN\n",
       "cy  NaN   1.0   NaN     NaN   NaN    NaN    NaN\n",
       "da  2.0  21.0   2.0     NaN   2.0    1.0    2.0"
      ]
     },
     "execution_count": 145,
     "metadata": {},
     "output_type": "execute_result"
    }
   ],
   "source": [
    "languages = pd.DataFrame.from_dict(frames)\n",
    "languages.name = 'Languages'\n",
    "languages.head()"
   ]
  },
  {
   "cell_type": "code",
   "execution_count": 405,
   "metadata": {},
   "outputs": [
    {
     "data": {
      "text/plain": [
       "2707.0"
      ]
     },
     "execution_count": 405,
     "metadata": {},
     "output_type": "execute_result"
    }
   ],
   "source": [
    "summe = np.sum(languages.loc[:, 'CSU'])\n",
    "summe\n"
   ]
  },
  {
   "cell_type": "code",
   "execution_count": 411,
   "metadata": {},
   "outputs": [],
   "source": [
    "def relative_languages(x):\n",
    "    xs = np.sum(x)\n",
    "    y = x.values/xs\n",
    "    return y"
   ]
  },
  {
   "cell_type": "code",
   "execution_count": 420,
   "metadata": {},
   "outputs": [],
   "source": [
    "langs = languages.copy()"
   ]
  },
  {
   "cell_type": "code",
   "execution_count": 421,
   "metadata": {},
   "outputs": [],
   "source": [
    "def calculate_relative_languages(df):\n",
    "    for x in df:\n",
    "        langs = df.apply(relative_languages)\n",
    "        return langs\n",
    "        "
   ]
  },
  {
   "cell_type": "code",
   "execution_count": 422,
   "metadata": {},
   "outputs": [
    {
     "data": {
      "text/html": [
       "<div>\n",
       "<style scoped>\n",
       "    .dataframe tbody tr th:only-of-type {\n",
       "        vertical-align: middle;\n",
       "    }\n",
       "\n",
       "    .dataframe tbody tr th {\n",
       "        vertical-align: top;\n",
       "    }\n",
       "\n",
       "    .dataframe thead th {\n",
       "        text-align: right;\n",
       "    }\n",
       "</style>\n",
       "<table border=\"1\" class=\"dataframe\">\n",
       "  <thead>\n",
       "    <tr style=\"text-align: right;\">\n",
       "      <th></th>\n",
       "      <th>CSU</th>\n",
       "      <th>AFD</th>\n",
       "      <th>CDU</th>\n",
       "      <th>Gruene</th>\n",
       "      <th>SPD</th>\n",
       "      <th>SPDDE</th>\n",
       "      <th>LINKE</th>\n",
       "    </tr>\n",
       "  </thead>\n",
       "  <tbody>\n",
       "    <tr>\n",
       "      <th>ar</th>\n",
       "      <td>0.000739</td>\n",
       "      <td>0.000928</td>\n",
       "      <td>NaN</td>\n",
       "      <td>NaN</td>\n",
       "      <td>0.000593</td>\n",
       "      <td>NaN</td>\n",
       "      <td>0.000323</td>\n",
       "    </tr>\n",
       "    <tr>\n",
       "      <th>ca</th>\n",
       "      <td>NaN</td>\n",
       "      <td>0.000093</td>\n",
       "      <td>0.004866</td>\n",
       "      <td>NaN</td>\n",
       "      <td>NaN</td>\n",
       "      <td>NaN</td>\n",
       "      <td>0.014843</td>\n",
       "    </tr>\n",
       "    <tr>\n",
       "      <th>cs</th>\n",
       "      <td>NaN</td>\n",
       "      <td>0.000278</td>\n",
       "      <td>NaN</td>\n",
       "      <td>NaN</td>\n",
       "      <td>0.002572</td>\n",
       "      <td>NaN</td>\n",
       "      <td>NaN</td>\n",
       "    </tr>\n",
       "    <tr>\n",
       "      <th>cy</th>\n",
       "      <td>NaN</td>\n",
       "      <td>0.000093</td>\n",
       "      <td>NaN</td>\n",
       "      <td>NaN</td>\n",
       "      <td>NaN</td>\n",
       "      <td>NaN</td>\n",
       "      <td>NaN</td>\n",
       "    </tr>\n",
       "    <tr>\n",
       "      <th>da</th>\n",
       "      <td>0.000739</td>\n",
       "      <td>0.001949</td>\n",
       "      <td>0.000973</td>\n",
       "      <td>NaN</td>\n",
       "      <td>0.000396</td>\n",
       "      <td>0.002088</td>\n",
       "      <td>0.000645</td>\n",
       "    </tr>\n",
       "  </tbody>\n",
       "</table>\n",
       "</div>"
      ],
      "text/plain": [
       "         CSU       AFD       CDU  Gruene       SPD     SPDDE     LINKE\n",
       "ar  0.000739  0.000928       NaN     NaN  0.000593       NaN  0.000323\n",
       "ca       NaN  0.000093  0.004866     NaN       NaN       NaN  0.014843\n",
       "cs       NaN  0.000278       NaN     NaN  0.002572       NaN       NaN\n",
       "cy       NaN  0.000093       NaN     NaN       NaN       NaN       NaN\n",
       "da  0.000739  0.001949  0.000973     NaN  0.000396  0.002088  0.000645"
      ]
     },
     "execution_count": 422,
     "metadata": {},
     "output_type": "execute_result"
    }
   ],
   "source": [
    "rel_langs = calculate_relative_languages(languages)\n",
    "rel_langs.head()"
   ]
  },
  {
   "cell_type": "code",
   "execution_count": 603,
   "metadata": {},
   "outputs": [],
   "source": [
    "def sorting_plot(df):\n",
    "    for column in df:\n",
    "        # sort the columns by value - truncate to get the 5 most frequent languages\n",
    "        sorteddf = df.loc[:,column].sort_values(ascending=False).reset_index()\n",
    "        largest5 = sorteddf.truncate(after = 4)\n",
    "        largest5.set_index('index', inplace = True)\n",
    "        # calculate percentage of all other languages\n",
    "        largest5.loc['other', :] = 1 - np.sum(largest5)\n",
    "       # largest5 = largest5.pivot(columns=index)\n",
    "        print(largest5)\n",
    "        # plot\n",
    "        plt.pie(largest5)\n",
    "        plt.axis('equal')\n",
    "        plt.title(str(column))\n",
    "        plt.show()"
   ]
  },
  {
   "cell_type": "code",
   "execution_count": 604,
   "metadata": {},
   "outputs": [
    {
     "name": "stdout",
     "output_type": "stream",
     "text": [
      "            CSU\n",
      "index          \n",
      "de     0.694865\n",
      "en     0.110085\n",
      "tl     0.106391\n",
      "und    0.019209\n",
      "ja     0.018840\n",
      "other  0.050610\n"
     ]
    },
    {
     "data": {
      "image/png": "[encoded data removed]",
      "text/plain": [
       "<Figure size 432x288 with 1 Axes>"
      ]
     },
     "metadata": {},
     "output_type": "display_data"
    },
    {
     "name": "stdout",
     "output_type": "stream",
     "text": [
      "            AFD\n",
      "index          \n",
      "de     0.750534\n",
      "en     0.178283\n",
      "fr     0.017912\n",
      "nl     0.013643\n",
      "und    0.011694\n",
      "other  0.027935\n"
     ]
    },
    {
     "data": {
      "image/png": "[encoded data removed]",
      "text/plain": [
       "<Figure size 432x288 with 1 Axes>"
      ]
     },
     "metadata": {},
     "output_type": "display_data"
    },
    {
     "name": "stdout",
     "output_type": "stream",
     "text": [
      "            CDU\n",
      "index          \n",
      "de     0.863260\n",
      "en     0.065207\n",
      "ja     0.009732\n",
      "tl     0.009246\n",
      "fr     0.009246\n",
      "other  0.043309\n"
     ]
    },
    {
     "data": {
      "image/png": "[encoded data removed]",
      "text/plain": [
       "<Figure size 432x288 with 1 Axes>"
      ]
     },
     "metadata": {},
     "output_type": "display_data"
    },
    {
     "name": "stdout",
     "output_type": "stream",
     "text": [
      "         Gruene\n",
      "index          \n",
      "de     0.961873\n",
      "en     0.016054\n",
      "und    0.009365\n",
      "ja     0.006020\n",
      "es     0.002007\n",
      "other  0.004682\n"
     ]
    },
    {
     "data": {
      "image/png": "[encoded data removed]",
      "text/plain": [
       "<Figure size 432x288 with 1 Axes>"
      ]
     },
     "metadata": {},
     "output_type": "display_data"
    },
    {
     "name": "stdout",
     "output_type": "stream",
     "text": [
      "            SPD\n",
      "index          \n",
      "de     0.725223\n",
      "ja     0.087834\n",
      "en     0.085856\n",
      "pt     0.023541\n",
      "und    0.017211\n",
      "other  0.060336\n"
     ]
    },
    {
     "data": {
      "image/png": "[encoded data removed]",
      "text/plain": [
       "<Figure size 432x288 with 1 Axes>"
      ]
     },
     "metadata": {},
     "output_type": "display_data"
    },
    {
     "name": "stdout",
     "output_type": "stream",
     "text": [
      "          SPDDE\n",
      "index          \n",
      "de     0.949896\n",
      "und    0.027140\n",
      "pl     0.006263\n",
      "nl     0.004175\n",
      "en     0.004175\n",
      "other  0.008351\n"
     ]
    },
    {
     "data": {
      "image/png": "[encoded data removed]",
      "text/plain": [
       "<Figure size 432x288 with 1 Axes>"
      ]
     },
     "metadata": {},
     "output_type": "display_data"
    },
    {
     "name": "stdout",
     "output_type": "stream",
     "text": [
      "          LINKE\n",
      "index          \n",
      "de     0.668603\n",
      "es     0.222330\n",
      "tr     0.035173\n",
      "fr     0.021620\n",
      "en     0.015166\n",
      "other  0.037109\n"
     ]
    },
    {
     "data": {
      "image/png": "[encoded data removed]",
      "text/plain": [
       "<Figure size 432x288 with 1 Axes>"
      ]
     },
     "metadata": {},
     "output_type": "display_data"
    }
   ],
   "source": [
    "sorting_plot(rel_langs)"
   ]
  },
  {
   "cell_type": "code",
   "execution_count": 482,
   "metadata": {},
   "outputs": [],
   "source": [
    "def plots(dataframe):\n",
    "    for column in dataframe:\n",
    "        plt.pie(dataframe.loc[:, column].nlargest(5), )\n",
    "        plt.axis('equal')\n",
    "        plt.title(str(column))\n",
    "        plt.show()\n"
   ]
  },
  {
   "cell_type": "code",
   "execution_count": 472,
   "metadata": {},
   "outputs": [
    {
     "data": {
      "image/png": "[encoded data removed]",
      "text/plain": [
       "<Figure size 432x288 with 1 Axes>"
      ]
     },
     "metadata": {},
     "output_type": "display_data"
    },
    {
     "data": {
      "image/png": "[encoded data removed]",
      "text/plain": [
       "<Figure size 432x288 with 1 Axes>"
      ]
     },
     "metadata": {},
     "output_type": "display_data"
    },
    {
     "data": {
      "image/png": "[encoded data removed]",
      "text/plain": [
       "<Figure size 432x288 with 1 Axes>"
      ]
     },
     "metadata": {},
     "output_type": "display_data"
    },
    {
     "data": {
      "image/png": "[encoded data removed]",
      "text/plain": [
       "<Figure size 432x288 with 1 Axes>"
      ]
     },
     "metadata": {},
     "output_type": "display_data"
    },
    {
     "data": {
      "image/png": "[encoded data removed]",
      "text/plain": [
       "<Figure size 432x288 with 1 Axes>"
      ]
     },
     "metadata": {},
     "output_type": "display_data"
    },
    {
     "data": {
      "image/png": "[encoded data removed]",
      "text/plain": [
       "<Figure size 432x288 with 1 Axes>"
      ]
     },
     "metadata": {},
     "output_type": "display_data"
    },
    {
     "data": {
      "image/png": "[encoded data removed]",
      "text/plain": [
       "<Figure size 432x288 with 1 Axes>"
      ]
     },
     "metadata": {},
     "output_type": "display_data"
    }
   ],
   "source": [
    "plots(rel_langs)"
   ]
  },
  {
   "cell_type": "code",
   "execution_count": 457,
   "metadata": {},
   "outputs": [
    {
     "data": {
      "image/png": "[encoded data removed]",
      "text/plain": [
       "<Figure size 432x288 with 1 Axes>"
      ]
     },
     "metadata": {},
     "output_type": "display_data"
    }
   ],
   "source": [
    "CSU_lang = rel_langs.loc[:, 'CSU'].nlargest(5)\n",
    "CSU_lang.plot.pie(cmap = 'Spectral_r')\n",
    "plt.axis('equal')\n",
    "plt.show()"
   ]
  },
  {
   "cell_type": "code",
   "execution_count": 458,
   "metadata": {},
   "outputs": [
    {
     "data": {
      "image/png": "[encoded data removed]",
      "text/plain": [
       "<Figure size 432x288 with 1 Axes>"
      ]
     },
     "metadata": {},
     "output_type": "display_data"
    }
   ],
   "source": [
    "CDU_lang = rel_langs.loc[:, 'CDU'].nlargest(5)\n",
    "CDU_lang.plot.pie(cmap = 'Spectral_r')\n",
    "plt.axis('equal')\n",
    "plt.show()"
   ]
  },
  {
   "cell_type": "code",
   "execution_count": 25,
   "metadata": {},
   "outputs": [
    {
     "data": {
      "image/png": "[encoded data removed]",
      "text/plain": [
       "<Figure size 432x288 with 1 Axes>"
      ]
     },
     "metadata": {},
     "output_type": "display_data"
    }
   ],
   "source": [
    "relative_language_CSU.head(5).plot.pie(cmap = 'Spectral_r')\n",
    "plt.axis('equal')\n",
    "plt.show()"
   ]
  },
  {
   "cell_type": "code",
   "execution_count": null,
   "metadata": {},
   "outputs": [],
   "source": []
  },
  {
   "cell_type": "code",
   "execution_count": 39,
   "metadata": {},
   "outputs": [],
   "source": [
    "# languages = [] # empty list\n",
    "# language_proportion = [] # empty list that will contain dictionaries: {language: number of values}"
   ]
  },
  {
   "cell_type": "code",
   "execution_count": 43,
   "metadata": {},
   "outputs": [
    {
     "ename": "SyntaxError",
     "evalue": "can't assign to operator (<ipython-input-43-08d9d93f5100>, line 9)",
     "output_type": "error",
     "traceback": [
      "\u001b[0;36m  File \u001b[0;32m\"<ipython-input-43-08d9d93f5100>\"\u001b[0;36m, line \u001b[0;32m9\u001b[0m\n\u001b[0;31m    df.name + 'lang' = []\u001b[0m\n\u001b[0m    ^\u001b[0m\n\u001b[0;31mSyntaxError\u001b[0m\u001b[0;31m:\u001b[0m can't assign to operator\n"
     ]
    }
   ],
   "source": [
    "# def languages_per_df(dataframes):\n",
    "    \n",
    "#     \"\"\"\n",
    "#     returns a dictionary for every language:language_proportion pair in a dataframe \n",
    "#     -> list of dictionaries\n",
    "#     \"\"\"\n",
    "    \n",
    "#     for df in dataframes:\n",
    "#         df.name = []\n",
    "    "
   ]
  },
  {
   "cell_type": "code",
   "execution_count": 42,
   "metadata": {},
   "outputs": [],
   "source": [
    "# languages_per_df(list_dataframes)"
   ]
  },
  {
   "cell_type": "code",
   "execution_count": 36,
   "metadata": {},
   "outputs": [],
   "source": [
    "# def extract_languages(dataframes):\n",
    "#     for df in dataframes:        \n",
    "#         for language in df.loc[:, 'lang']:\n",
    "#             if language in languages:\n",
    "#                 languages[language] += 1\n",
    "#             else:\n",
    "#                 languages[language] = 1\n",
    "#     return languages"
   ]
  },
  {
   "cell_type": "code",
   "execution_count": 38,
   "metadata": {},
   "outputs": [
    {
     "ename": "TypeError",
     "evalue": "list indices must be integers or slices, not str",
     "output_type": "error",
     "traceback": [
      "\u001b[0;31m---------------------------------------------------------------------------\u001b[0m",
      "\u001b[0;31mTypeError\u001b[0m                                 Traceback (most recent call last)",
      "\u001b[0;32m<ipython-input-38-14f7d73f8541>\u001b[0m in \u001b[0;36m<module>\u001b[0;34m()\u001b[0m\n\u001b[0;32m----> 1\u001b[0;31m \u001b[0mextract_languages\u001b[0m\u001b[0;34m(\u001b[0m\u001b[0mlist_dataframes\u001b[0m\u001b[0;34m)\u001b[0m\u001b[0;34m\u001b[0m\u001b[0m\n\u001b[0m\u001b[1;32m      2\u001b[0m \u001b[0mprint\u001b[0m\u001b[0;34m(\u001b[0m\u001b[0mlanguages\u001b[0m\u001b[0;34m)\u001b[0m\u001b[0;34m\u001b[0m\u001b[0m\n",
      "\u001b[0;32m<ipython-input-36-dcf4d0fa472b>\u001b[0m in \u001b[0;36mextract_languages\u001b[0;34m(dataframes)\u001b[0m\n\u001b[1;32m      5\u001b[0m                 \u001b[0mlanguages\u001b[0m\u001b[0;34m[\u001b[0m\u001b[0mlanguage\u001b[0m\u001b[0;34m]\u001b[0m \u001b[0;34m+=\u001b[0m \u001b[0;36m1\u001b[0m\u001b[0;34m\u001b[0m\u001b[0m\n\u001b[1;32m      6\u001b[0m             \u001b[0;32melse\u001b[0m\u001b[0;34m:\u001b[0m\u001b[0;34m\u001b[0m\u001b[0m\n\u001b[0;32m----> 7\u001b[0;31m                 \u001b[0mlanguages\u001b[0m\u001b[0;34m[\u001b[0m\u001b[0mlanguage\u001b[0m\u001b[0;34m]\u001b[0m \u001b[0;34m=\u001b[0m \u001b[0;36m1\u001b[0m\u001b[0;34m\u001b[0m\u001b[0m\n\u001b[0m\u001b[1;32m      8\u001b[0m     \u001b[0;32mreturn\u001b[0m \u001b[0mlanguages\u001b[0m\u001b[0;34m\u001b[0m\u001b[0m\n",
      "\u001b[0;31mTypeError\u001b[0m: list indices must be integers or slices, not str"
     ]
    }
   ],
   "source": [
    "# extract_languages(list_dataframes)\n",
    "# print(languages)"
   ]
  },
  {
   "cell_type": "code",
   "execution_count": 38,
   "metadata": {},
   "outputs": [
    {
     "ename": "SyntaxError",
     "evalue": "invalid syntax (<ipython-input-38-60ca1b51a54c>, line 17)",
     "output_type": "error",
     "traceback": [
      "\u001b[0;36m  File \u001b[0;32m\"<ipython-input-38-60ca1b51a54c>\"\u001b[0;36m, line \u001b[0;32m17\u001b[0m\n\u001b[0;31m    language_proportion[df] = {language: }\u001b[0m\n\u001b[0m                                         ^\u001b[0m\n\u001b[0;31mSyntaxError\u001b[0m\u001b[0;31m:\u001b[0m invalid syntax\n"
     ]
    }
   ],
   "source": [
    "        \n",
    "            \n",
    "            \n",
    "#                 relative_language = languages.value_counts()/len(df.languages)\n",
    "#         language_proportion[language].append(relative_language)\n",
    "#     return language_proportion"
   ]
  },
  {
   "cell_type": "code",
   "execution_count": 36,
   "metadata": {},
   "outputs": [
    {
     "ename": "AttributeError",
     "evalue": "'list' object has no attribute 'value_counts'",
     "output_type": "error",
     "traceback": [
      "\u001b[0;31m---------------------------------------------------------------------------\u001b[0m",
      "\u001b[0;31mAttributeError\u001b[0m                            Traceback (most recent call last)",
      "\u001b[0;32m<ipython-input-36-7defc1c42233>\u001b[0m in \u001b[0;36m<module>\u001b[0;34m()\u001b[0m\n\u001b[0;32m----> 1\u001b[0;31m \u001b[0mlanguage\u001b[0m\u001b[0;34m(\u001b[0m\u001b[0mlist_dataframes\u001b[0m\u001b[0;34m)\u001b[0m\u001b[0;34m\u001b[0m\u001b[0m\n\u001b[0m",
      "\u001b[0;32m<ipython-input-35-fe217f6d5a1b>\u001b[0m in \u001b[0;36mlanguage\u001b[0;34m(dataframes)\u001b[0m\n\u001b[1;32m      4\u001b[0m     \u001b[0;32mfor\u001b[0m \u001b[0mdf\u001b[0m \u001b[0;32min\u001b[0m \u001b[0mdataframes\u001b[0m\u001b[0;34m:\u001b[0m\u001b[0;34m\u001b[0m\u001b[0m\n\u001b[1;32m      5\u001b[0m         \u001b[0mlanguages\u001b[0m\u001b[0;34m.\u001b[0m\u001b[0mappend\u001b[0m\u001b[0;34m(\u001b[0m\u001b[0mdf\u001b[0m\u001b[0;34m.\u001b[0m\u001b[0mloc\u001b[0m\u001b[0;34m[\u001b[0m\u001b[0;34m:\u001b[0m\u001b[0;34m,\u001b[0m \u001b[0;34m'lang'\u001b[0m\u001b[0;34m]\u001b[0m\u001b[0;34m)\u001b[0m\u001b[0;34m\u001b[0m\u001b[0m\n\u001b[0;32m----> 6\u001b[0;31m         \u001b[0mrelative_language\u001b[0m \u001b[0;34m=\u001b[0m \u001b[0mlanguages\u001b[0m\u001b[0;34m.\u001b[0m\u001b[0mvalue_counts\u001b[0m\u001b[0;34m(\u001b[0m\u001b[0;34m)\u001b[0m\u001b[0;34m/\u001b[0m\u001b[0mlen\u001b[0m\u001b[0;34m(\u001b[0m\u001b[0mdf\u001b[0m\u001b[0;34m.\u001b[0m\u001b[0mlanguages\u001b[0m\u001b[0;34m)\u001b[0m\u001b[0;34m\u001b[0m\u001b[0m\n\u001b[0m\u001b[1;32m      7\u001b[0m         \u001b[0mlanguage_proportion\u001b[0m\u001b[0;34m[\u001b[0m\u001b[0mlanguage\u001b[0m\u001b[0;34m]\u001b[0m\u001b[0;34m.\u001b[0m\u001b[0mappend\u001b[0m\u001b[0;34m(\u001b[0m\u001b[0mrelative_language\u001b[0m\u001b[0;34m)\u001b[0m\u001b[0;34m\u001b[0m\u001b[0m\n\u001b[1;32m      8\u001b[0m     \u001b[0;32mreturn\u001b[0m \u001b[0mlanguage_proportion\u001b[0m\u001b[0;34m\u001b[0m\u001b[0m\n",
      "\u001b[0;31mAttributeError\u001b[0m: 'list' object has no attribute 'value_counts'"
     ]
    }
   ],
   "source": [
    "# language(list_dataframes)"
   ]
  },
  {
   "cell_type": "code",
   "execution_count": null,
   "metadata": {},
   "outputs": [],
   "source": []
  }
 ],
 "metadata": {
  "kernelspec": {
   "display_name": "Python 3",
   "language": "python",
   "name": "python3"
  },
  "language_info": {
   "codemirror_mode": {
    "name": "ipython",
    "version": 3
   },
   "file_extension": ".py",
   "mimetype": "text/x-python",
   "name": "python",
   "nbconvert_exporter": "python",
   "pygments_lexer": "ipython3",
   "version": "3.6.3"
  }
 },
 "nbformat": 4,
 "nbformat_minor": 2
}
