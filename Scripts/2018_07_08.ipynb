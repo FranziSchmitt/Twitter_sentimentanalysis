{
 "cells": [
  {
   "cell_type": "code",
   "execution_count": 1,
   "metadata": {},
   "outputs": [],
   "source": [
    "%matplotlib inline\n",
    "import pandas as pd\n",
    "import matplotlib.pyplot as plt\n",
    "import seaborn as sns\n",
    "import numpy as np\n",
    "import seaborn as sns\n",
    "sns.set(color_codes=True)\n",
    "\n",
    "from collections import Counter"
   ]
  },
  {
   "cell_type": "code",
   "execution_count": 2,
   "metadata": {},
   "outputs": [],
   "source": [
    "def read_twitter_data(file = 'json_file_location.json'):\n",
    "    data_frame = pd.read_json(file, \n",
    "                               orient='records', \n",
    "                               lines=True, \n",
    "                               convert_dates=True, \n",
    "                               keep_default_dates=True)\n",
    "    return data_frame"
   ]
  },
  {
   "cell_type": "code",
   "execution_count": 3,
   "metadata": {},
   "outputs": [],
   "source": [
    "CSU = read_twitter_data(file = 'CSU/CSU_2018-07-08.json')"
   ]
  },
  {
   "cell_type": "code",
   "execution_count": 4,
   "metadata": {},
   "outputs": [],
   "source": [
    "CSU.name = 'CSU'"
   ]
  },
  {
   "cell_type": "code",
   "execution_count": 5,
   "metadata": {},
   "outputs": [],
   "source": [
    "AFD = read_twitter_data(file = 'AfD/AfD_2018-07-08.json')"
   ]
  },
  {
   "cell_type": "code",
   "execution_count": 6,
   "metadata": {},
   "outputs": [],
   "source": [
    "AFD.name = 'AFD'"
   ]
  },
  {
   "cell_type": "code",
   "execution_count": 7,
   "metadata": {},
   "outputs": [],
   "source": [
    "CDU = read_twitter_data(file = 'CDU/CDU_2018-07-08.json')"
   ]
  },
  {
   "cell_type": "code",
   "execution_count": 8,
   "metadata": {},
   "outputs": [],
   "source": [
    "CDU.name = 'CDU'"
   ]
  },
  {
   "cell_type": "code",
   "execution_count": 9,
   "metadata": {},
   "outputs": [],
   "source": [
    "Gruene = read_twitter_data(file = 'Gruene/Gruene_2018-07-08.json')"
   ]
  },
  {
   "cell_type": "code",
   "execution_count": 10,
   "metadata": {},
   "outputs": [],
   "source": [
    "Gruene.name = 'Gruene'"
   ]
  },
  {
   "cell_type": "code",
   "execution_count": 11,
   "metadata": {},
   "outputs": [],
   "source": [
    "SPD = read_twitter_data(file = 'SPD/SPD_2018-07-08.json')"
   ]
  },
  {
   "cell_type": "code",
   "execution_count": 12,
   "metadata": {},
   "outputs": [],
   "source": [
    "SPD.name = 'SPD'"
   ]
  },
  {
   "cell_type": "code",
   "execution_count": 13,
   "metadata": {},
   "outputs": [],
   "source": [
    "SPDDE = read_twitter_data(file = 'spdde/spdde_2018-07-08.json')"
   ]
  },
  {
   "cell_type": "code",
   "execution_count": 14,
   "metadata": {},
   "outputs": [],
   "source": [
    "SPDDE.name = 'SPDDE'"
   ]
  },
  {
   "cell_type": "code",
   "execution_count": 15,
   "metadata": {},
   "outputs": [],
   "source": [
    "Linke = read_twitter_data(file = 'LINKE/LINKE_2018-07-08.json')"
   ]
  },
  {
   "cell_type": "code",
   "execution_count": 16,
   "metadata": {},
   "outputs": [],
   "source": [
    "Linke.name = 'LINKE'"
   ]
  },
  {
   "cell_type": "code",
   "execution_count": 17,
   "metadata": {},
   "outputs": [],
   "source": [
    "FDP = read_twitter_data(file = 'FDP/FDP_2018-07-16.json')"
   ]
  },
  {
   "cell_type": "code",
   "execution_count": 18,
   "metadata": {},
   "outputs": [],
   "source": [
    "FDP.name = 'FDP'"
   ]
  },
  {
   "cell_type": "code",
   "execution_count": 19,
   "metadata": {},
   "outputs": [],
   "source": [
    "# CSU['lang'].value_counts()"
   ]
  },
  {
   "cell_type": "code",
   "execution_count": 20,
   "metadata": {},
   "outputs": [],
   "source": [
    "list_dataframes = [CSU, AFD, CDU, Gruene, SPD, SPDDE, Linke, FDP]"
   ]
  },
  {
   "cell_type": "code",
   "execution_count": 21,
   "metadata": {},
   "outputs": [],
   "source": [
    "def index(dataframes_list):\n",
    "    for df in list_dataframes:\n",
    "        df.set_index(pd.DatetimeIndex(df['created_at']), inplace=True)"
   ]
  },
  {
   "cell_type": "code",
   "execution_count": 22,
   "metadata": {},
   "outputs": [],
   "source": [
    "index(list_dataframes)"
   ]
  },
  {
   "cell_type": "code",
   "execution_count": 23,
   "metadata": {},
   "outputs": [],
   "source": [
    "def extract_location(x):\n",
    "    \"\"\"\n",
    "    use with apply\n",
    "    \"\"\"\n",
    "    return x['location']"
   ]
  },
  {
   "cell_type": "code",
   "execution_count": 24,
   "metadata": {},
   "outputs": [],
   "source": [
    "def location_column(dataframe_list):\n",
    "    \"\"\"\n",
    "    create a new column: 'location'\n",
    "    \"\"\"\n",
    "    for df in dataframe_list:\n",
    "        df['location'] = df.user.map(extract_location)"
   ]
  },
  {
   "cell_type": "code",
   "execution_count": 25,
   "metadata": {},
   "outputs": [],
   "source": [
    "location_column(list_dataframes)"
   ]
  },
  {
   "cell_type": "code",
   "execution_count": 26,
   "metadata": {},
   "outputs": [],
   "source": [
    "frames = dict()\n",
    "def extract_languages(dataframes):\n",
    "    \"\"\"\n",
    "    iterates over the list of dataframes and extracts the language column from each frame.\n",
    "    value_counts outputs a key : value pair with language as key and value_counts per language as value\n",
    "    value_counts output is assigned to an empty dictionary\n",
    "    \"\"\"\n",
    "    \n",
    "    for df in dataframes:                                     \n",
    "         frames[str(df.name)] = (df.loc[:, 'lang'].value_counts(dropna = False))\n",
    "    return frames"
   ]
  },
  {
   "cell_type": "code",
   "execution_count": 27,
   "metadata": {},
   "outputs": [
    {
     "data": {
      "text/plain": [
       "{'CSU': de     1881\n",
       " en      298\n",
       " tl      288\n",
       " und      52\n",
       " ja       51\n",
       " ko       39\n",
       " fr       24\n",
       " in       16\n",
       " nl       14\n",
       " ro       11\n",
       " fi       10\n",
       " es        5\n",
       " pt        4\n",
       " hu        3\n",
       " da        2\n",
       " ar        2\n",
       " et        2\n",
       " el        1\n",
       " lv        1\n",
       " pl        1\n",
       " no        1\n",
       " sv        1\n",
       " Name: lang, dtype: int64, 'AFD': de     8087\n",
       " en     1921\n",
       " fr      193\n",
       " nl      147\n",
       " und     126\n",
       " es       58\n",
       " ja       50\n",
       " pt       43\n",
       " fi       32\n",
       " da       21\n",
       " pl       20\n",
       " tr       14\n",
       " in       12\n",
       " ar       10\n",
       " ro        8\n",
       " it        7\n",
       " el        5\n",
       " cs        3\n",
       " sv        3\n",
       " vi        2\n",
       " no        2\n",
       " ur        2\n",
       " ko        2\n",
       " uk        2\n",
       " ca        1\n",
       " th        1\n",
       " cy        1\n",
       " et        1\n",
       " hu        1\n",
       " Name: lang, dtype: int64, 'CDU': de     1774\n",
       " en      134\n",
       " ja       20\n",
       " tl       19\n",
       " fr       19\n",
       " und      18\n",
       " es       13\n",
       " nl       12\n",
       " fi       10\n",
       " ro       10\n",
       " ca       10\n",
       " it        5\n",
       " pt        3\n",
       " ht        2\n",
       " pl        2\n",
       " da        2\n",
       " sv        1\n",
       " in        1\n",
       " Name: lang, dtype: int64, 'Gruene': de     1438\n",
       " en       24\n",
       " und      14\n",
       " ja        9\n",
       " es        3\n",
       " fr        2\n",
       " no        2\n",
       " vi        1\n",
       " it        1\n",
       " et        1\n",
       " Name: lang, dtype: int64, 'SPD': de     3666\n",
       " ja      444\n",
       " en      434\n",
       " pt      119\n",
       " und      87\n",
       " th       61\n",
       " ko       44\n",
       " in       39\n",
       " fr       37\n",
       " es       28\n",
       " nl       18\n",
       " tl       17\n",
       " cs       13\n",
       " fi       11\n",
       " pl        8\n",
       " sv        8\n",
       " it        7\n",
       " tr        6\n",
       " ar        3\n",
       " hi        2\n",
       " da        2\n",
       " ta        1\n",
       " Name: lang, dtype: int64, 'SPDDE': de     455\n",
       " und     13\n",
       " pl       3\n",
       " en       2\n",
       " nl       2\n",
       " sv       1\n",
       " da       1\n",
       " tl       1\n",
       " fr       1\n",
       " Name: lang, dtype: int64, 'LINKE': de     2072\n",
       " es      689\n",
       " tr      109\n",
       " fr       67\n",
       " en       47\n",
       " ca       46\n",
       " und      18\n",
       " ja       15\n",
       " fi       13\n",
       " nl        9\n",
       " pt        3\n",
       " no        2\n",
       " da        2\n",
       " tl        1\n",
       " vi        1\n",
       " in        1\n",
       " pl        1\n",
       " it        1\n",
       " ar        1\n",
       " hi        1\n",
       " Name: lang, dtype: int64, 'FDP': pt     3136\n",
       " fr     2921\n",
       " de      277\n",
       " und     104\n",
       " ca       22\n",
       " es       21\n",
       " in        6\n",
       " en        5\n",
       " tl        4\n",
       " nl        3\n",
       " ro        2\n",
       " sv        1\n",
       " cs        1\n",
       " pl        1\n",
       " fi        1\n",
       " Name: lang, dtype: int64}"
      ]
     },
     "execution_count": 27,
     "metadata": {},
     "output_type": "execute_result"
    }
   ],
   "source": [
    "extract_languages(list_dataframes)"
   ]
  },
  {
   "cell_type": "code",
   "execution_count": 28,
   "metadata": {},
   "outputs": [
    {
     "data": {
      "text/html": [
       "<div>\n",
       "<style scoped>\n",
       "    .dataframe tbody tr th:only-of-type {\n",
       "        vertical-align: middle;\n",
       "    }\n",
       "\n",
       "    .dataframe tbody tr th {\n",
       "        vertical-align: top;\n",
       "    }\n",
       "\n",
       "    .dataframe thead th {\n",
       "        text-align: right;\n",
       "    }\n",
       "</style>\n",
       "<table border=\"1\" class=\"dataframe\">\n",
       "  <thead>\n",
       "    <tr style=\"text-align: right;\">\n",
       "      <th></th>\n",
       "      <th>CSU</th>\n",
       "      <th>AFD</th>\n",
       "      <th>CDU</th>\n",
       "      <th>Gruene</th>\n",
       "      <th>SPD</th>\n",
       "      <th>SPDDE</th>\n",
       "      <th>LINKE</th>\n",
       "      <th>FDP</th>\n",
       "    </tr>\n",
       "  </thead>\n",
       "  <tbody>\n",
       "    <tr>\n",
       "      <th>ar</th>\n",
       "      <td>2.0</td>\n",
       "      <td>10.0</td>\n",
       "      <td>NaN</td>\n",
       "      <td>NaN</td>\n",
       "      <td>3.0</td>\n",
       "      <td>NaN</td>\n",
       "      <td>1.0</td>\n",
       "      <td>NaN</td>\n",
       "    </tr>\n",
       "    <tr>\n",
       "      <th>ca</th>\n",
       "      <td>NaN</td>\n",
       "      <td>1.0</td>\n",
       "      <td>10.0</td>\n",
       "      <td>NaN</td>\n",
       "      <td>NaN</td>\n",
       "      <td>NaN</td>\n",
       "      <td>46.0</td>\n",
       "      <td>22.0</td>\n",
       "    </tr>\n",
       "    <tr>\n",
       "      <th>cs</th>\n",
       "      <td>NaN</td>\n",
       "      <td>3.0</td>\n",
       "      <td>NaN</td>\n",
       "      <td>NaN</td>\n",
       "      <td>13.0</td>\n",
       "      <td>NaN</td>\n",
       "      <td>NaN</td>\n",
       "      <td>1.0</td>\n",
       "    </tr>\n",
       "    <tr>\n",
       "      <th>cy</th>\n",
       "      <td>NaN</td>\n",
       "      <td>1.0</td>\n",
       "      <td>NaN</td>\n",
       "      <td>NaN</td>\n",
       "      <td>NaN</td>\n",
       "      <td>NaN</td>\n",
       "      <td>NaN</td>\n",
       "      <td>NaN</td>\n",
       "    </tr>\n",
       "    <tr>\n",
       "      <th>da</th>\n",
       "      <td>2.0</td>\n",
       "      <td>21.0</td>\n",
       "      <td>2.0</td>\n",
       "      <td>NaN</td>\n",
       "      <td>2.0</td>\n",
       "      <td>1.0</td>\n",
       "      <td>2.0</td>\n",
       "      <td>NaN</td>\n",
       "    </tr>\n",
       "  </tbody>\n",
       "</table>\n",
       "</div>"
      ],
      "text/plain": [
       "    CSU   AFD   CDU  Gruene   SPD  SPDDE  LINKE   FDP\n",
       "ar  2.0  10.0   NaN     NaN   3.0    NaN    1.0   NaN\n",
       "ca  NaN   1.0  10.0     NaN   NaN    NaN   46.0  22.0\n",
       "cs  NaN   3.0   NaN     NaN  13.0    NaN    NaN   1.0\n",
       "cy  NaN   1.0   NaN     NaN   NaN    NaN    NaN   NaN\n",
       "da  2.0  21.0   2.0     NaN   2.0    1.0    2.0   NaN"
      ]
     },
     "execution_count": 28,
     "metadata": {},
     "output_type": "execute_result"
    }
   ],
   "source": [
    "languages = pd.DataFrame.from_dict(frames)\n",
    "languages.name = 'Languages'\n",
    "languages.head()"
   ]
  },
  {
   "cell_type": "code",
   "execution_count": 29,
   "metadata": {},
   "outputs": [
    {
     "data": {
      "text/plain": [
       "2707.0"
      ]
     },
     "execution_count": 29,
     "metadata": {},
     "output_type": "execute_result"
    }
   ],
   "source": [
    "summe = np.sum(languages.loc[:, 'CSU'])\n",
    "summe\n"
   ]
  },
  {
   "cell_type": "code",
   "execution_count": 30,
   "metadata": {},
   "outputs": [],
   "source": [
    "def relative_languages(x):\n",
    "    xs = np.sum(x)\n",
    "    y = x.values/xs\n",
    "    return y"
   ]
  },
  {
   "cell_type": "code",
   "execution_count": 31,
   "metadata": {},
   "outputs": [],
   "source": [
    "langs = languages.copy()"
   ]
  },
  {
   "cell_type": "code",
   "execution_count": 32,
   "metadata": {},
   "outputs": [],
   "source": [
    "def calculate_relative_languages(df):\n",
    "    for x in df:\n",
    "        langs = df.apply(relative_languages)\n",
    "        return langs\n",
    "        "
   ]
  },
  {
   "cell_type": "code",
   "execution_count": 33,
   "metadata": {},
   "outputs": [
    {
     "data": {
      "text/html": [
       "<div>\n",
       "<style scoped>\n",
       "    .dataframe tbody tr th:only-of-type {\n",
       "        vertical-align: middle;\n",
       "    }\n",
       "\n",
       "    .dataframe tbody tr th {\n",
       "        vertical-align: top;\n",
       "    }\n",
       "\n",
       "    .dataframe thead th {\n",
       "        text-align: right;\n",
       "    }\n",
       "</style>\n",
       "<table border=\"1\" class=\"dataframe\">\n",
       "  <thead>\n",
       "    <tr style=\"text-align: right;\">\n",
       "      <th></th>\n",
       "      <th>CSU</th>\n",
       "      <th>AFD</th>\n",
       "      <th>CDU</th>\n",
       "      <th>Gruene</th>\n",
       "      <th>SPD</th>\n",
       "      <th>SPDDE</th>\n",
       "      <th>LINKE</th>\n",
       "      <th>FDP</th>\n",
       "    </tr>\n",
       "  </thead>\n",
       "  <tbody>\n",
       "    <tr>\n",
       "      <th>ar</th>\n",
       "      <td>0.000739</td>\n",
       "      <td>0.000928</td>\n",
       "      <td>NaN</td>\n",
       "      <td>NaN</td>\n",
       "      <td>0.000593</td>\n",
       "      <td>NaN</td>\n",
       "      <td>0.000323</td>\n",
       "      <td>NaN</td>\n",
       "    </tr>\n",
       "    <tr>\n",
       "      <th>ca</th>\n",
       "      <td>NaN</td>\n",
       "      <td>0.000093</td>\n",
       "      <td>0.004866</td>\n",
       "      <td>NaN</td>\n",
       "      <td>NaN</td>\n",
       "      <td>NaN</td>\n",
       "      <td>0.014843</td>\n",
       "      <td>0.003382</td>\n",
       "    </tr>\n",
       "    <tr>\n",
       "      <th>cs</th>\n",
       "      <td>NaN</td>\n",
       "      <td>0.000278</td>\n",
       "      <td>NaN</td>\n",
       "      <td>NaN</td>\n",
       "      <td>0.002572</td>\n",
       "      <td>NaN</td>\n",
       "      <td>NaN</td>\n",
       "      <td>0.000154</td>\n",
       "    </tr>\n",
       "    <tr>\n",
       "      <th>cy</th>\n",
       "      <td>NaN</td>\n",
       "      <td>0.000093</td>\n",
       "      <td>NaN</td>\n",
       "      <td>NaN</td>\n",
       "      <td>NaN</td>\n",
       "      <td>NaN</td>\n",
       "      <td>NaN</td>\n",
       "      <td>NaN</td>\n",
       "    </tr>\n",
       "    <tr>\n",
       "      <th>da</th>\n",
       "      <td>0.000739</td>\n",
       "      <td>0.001949</td>\n",
       "      <td>0.000973</td>\n",
       "      <td>NaN</td>\n",
       "      <td>0.000396</td>\n",
       "      <td>0.002088</td>\n",
       "      <td>0.000645</td>\n",
       "      <td>NaN</td>\n",
       "    </tr>\n",
       "  </tbody>\n",
       "</table>\n",
       "</div>"
      ],
      "text/plain": [
       "         CSU       AFD       CDU  Gruene       SPD     SPDDE     LINKE  \\\n",
       "ar  0.000739  0.000928       NaN     NaN  0.000593       NaN  0.000323   \n",
       "ca       NaN  0.000093  0.004866     NaN       NaN       NaN  0.014843   \n",
       "cs       NaN  0.000278       NaN     NaN  0.002572       NaN       NaN   \n",
       "cy       NaN  0.000093       NaN     NaN       NaN       NaN       NaN   \n",
       "da  0.000739  0.001949  0.000973     NaN  0.000396  0.002088  0.000645   \n",
       "\n",
       "         FDP  \n",
       "ar       NaN  \n",
       "ca  0.003382  \n",
       "cs  0.000154  \n",
       "cy       NaN  \n",
       "da       NaN  "
      ]
     },
     "execution_count": 33,
     "metadata": {},
     "output_type": "execute_result"
    }
   ],
   "source": [
    "rel_langs = calculate_relative_languages(languages)\n",
    "rel_langs.head()"
   ]
  },
  {
   "cell_type": "code",
   "execution_count": 34,
   "metadata": {},
   "outputs": [],
   "source": [
    "def sorting_plot(df):\n",
    "    for column in df:\n",
    "        # sort the columns by value - truncate to get the 5 most frequent languages\n",
    "        sorteddf = df.loc[:,column].sort_values(ascending=False).reset_index()\n",
    "        largest5 = sorteddf.truncate(after = 4)\n",
    "        largest5.set_index('index', inplace = True)\n",
    "        # calculate percentage of all other languages\n",
    "        largest5.loc['other', :] = 1 - np.sum(largest5)\n",
    "#         large5 = dict(largest5)\n",
    "       # largest5 = largest5.pivot(columns=index)\n",
    "#         print(large5)\n",
    "        # plot\n",
    "        plt.pie(largest5)\n",
    "        plt.axis('equal')\n",
    "        plt.title(str(column))\n",
    "        plt.show()"
   ]
  },
  {
   "cell_type": "code",
   "execution_count": 35,
   "metadata": {},
   "outputs": [
    {
     "data": {
      "image/png": "[encoded data removed]",
      "text/plain": [
       "<Figure size 432x288 with 1 Axes>"
      ]
     },
     "metadata": {},
     "output_type": "display_data"
    },
    {
     "data": {
      "image/png": "[encoded data removed]",
      "text/plain": [
       "<Figure size 432x288 with 1 Axes>"
      ]
     },
     "metadata": {},
     "output_type": "display_data"
    },
    {
     "data": {
      "image/png": "[encoded data removed]",
      "text/plain": [
       "<Figure size 432x288 with 1 Axes>"
      ]
     },
     "metadata": {},
     "output_type": "display_data"
    },
    {
     "data": {
      "image/png": "[encoded data removed]",
      "text/plain": [
       "<Figure size 432x288 with 1 Axes>"
      ]
     },
     "metadata": {},
     "output_type": "display_data"
    },
    {
     "data": {
      "image/png": "[encoded data removed]",
      "text/plain": [
       "<Figure size 432x288 with 1 Axes>"
      ]
     },
     "metadata": {},
     "output_type": "display_data"
    },
    {
     "data": {
      "image/png": "[encoded data removed]",
      "text/plain": [
       "<Figure size 432x288 with 1 Axes>"
      ]
     },
     "metadata": {},
     "output_type": "display_data"
    },
    {
     "data": {
      "image/png": "[encoded data removed]",
      "text/plain": [
       "<Figure size 432x288 with 1 Axes>"
      ]
     },
     "metadata": {},
     "output_type": "display_data"
    },
    {
     "data": {
      "image/png": "[encoded data removed]",
      "text/plain": [
       "<Figure size 432x288 with 1 Axes>"
      ]
     },
     "metadata": {},
     "output_type": "display_data"
    }
   ],
   "source": [
    "sorting_plot(rel_langs)"
   ]
  },
  {
   "cell_type": "code",
   "execution_count": 36,
   "metadata": {},
   "outputs": [
    {
     "name": "stdout",
     "output_type": "stream",
     "text": [
      "Index(['contributors', 'coordinates', 'created_at', 'entities',\n",
      "       'extended_entities', 'favorite_count', 'favorited', 'geo', 'id',\n",
      "       'id_str', 'in_reply_to_screen_name', 'in_reply_to_status_id',\n",
      "       'in_reply_to_status_id_str', 'in_reply_to_user_id',\n",
      "       'in_reply_to_user_id_str', 'is_quote_status', 'lang', 'metadata',\n",
      "       'place', 'possibly_sensitive', 'quoted_status', 'quoted_status_id',\n",
      "       'quoted_status_id_str', 'retweet_count', 'retweeted',\n",
      "       'retweeted_status', 'source', 'text', 'truncated', 'user',\n",
      "       'withheld_in_countries', 'withheld_scope', 'location'],\n",
      "      dtype='object')\n"
     ]
    }
   ],
   "source": [
    "print(CSU.keys())"
   ]
  },
  {
   "cell_type": "code",
   "execution_count": 47,
   "metadata": {},
   "outputs": [
    {
     "name": "stdout",
     "output_type": "stream",
     "text": [
      "['' ' ' ' Germany 🇩🇪 Europe 🇪🇺' ' HAMBURG, Germany, ' ' USA' ' 🌍 '\n",
      " '#DasDorfundich' '#PlanetErde' '#proEuropa 🇪🇺  #noAfD 🛑'\n",
      " '#wirsindneuland ' '* Köln,📖F,🎓&♥️Darm stadt,tbc'\n",
      " '1 575 🌟 ; yerim ; altair' '100 ⭐' '216' '22 Acacia Avenue, 666 Avalon'\n",
      " '35396 Gießen' '37.031887, -8.933263' '3rd planet of sol system'\n",
      " '48.847095,2.311192' '51°N 7°E' '52.373625,9.986435'\n",
      " '52.64770897,7.09344154' '53.59667552,9.93917009' '54.312268, 10.114769'\n",
      " '600 Main St. Windsor, CO 80550' '614.' '66100 Saarbrücken'\n",
      " '91743 Unterschwaningen' '93 millions miles from the sun' ':D' '@mundus'\n",
      " 'ATLANTA ' 'AUC' 'Aachen' 'Aachen ' 'Aachen, Deutschland'\n",
      " 'Aachen, Nordrhein-Westfalen' 'Absurdistan' 'Ahlen, Nordrhein-Westfalen'\n",
      " 'Ahrweiler/Eifel' 'Alaska, USA' 'Alsace, France'\n",
      " \"Always by Oneechan's side\" 'Am Arsch' 'Am Meer' 'An der Leine '\n",
      " 'An der blauen Linie' 'Anywhere' 'Anywhere in the landscape.'\n",
      " 'Argentinien' 'Aspen, CO' 'Atlanta, GA' 'Atlanta, Georgia, USA'\n",
      " 'Aubervilliers, France' 'Auf hoher See' 'Augsburg' 'Augsburg, Bayern'\n",
      " 'Augsburg-Haunstetten' 'Austin, TX' 'Australia' 'Austria'\n",
      " 'Axel Xian Encabo Espana 💙' 'BILD Berlin Hauptstadtbüro' 'BW'\n",
      " 'Bad Füssing, Deutschland' 'Bad Hönningen' 'Bad Oeynhausen, Deutschland'\n",
      " 'Baden-Wuerttemberg.Germany.Europa.Earth.' 'Baden-Württemberg'\n",
      " 'Baden-Württemberg, Deutschland' 'Balingen, Deutschland'\n",
      " 'Bamberg, Deutschland' 'Banana Kingdom of Espanyistan' 'Bananenrepublik'\n",
      " 'Barcelona' 'Barra do Garças, Brasil' 'Bat Yam, Israel' 'Bavaria'\n",
      " 'Bavaria Germany Europe 🌍 💕' 'Bavaria, Germany' 'Bay Area' 'Bay Point, CA'\n",
      " 'Bayern' 'Bayern, Deutschland' 'Bayreuth' 'Bayreuth, Bayern'\n",
      " 'Beachwood, OH' 'Bei Tobi in der Reisschüssel' 'Benghazi , Libya.'\n",
      " 'Berlin' 'Berlin & Hong Kong' 'Berlin (West)' 'Berlin - New York'\n",
      " 'Berlin Marzahn' 'Berlin Mitte' 'Berlin und unterwegs'\n",
      " 'Berlin, Deutschland' 'Berlin, Deutschland Pankow Französisch Buchholz'\n",
      " 'Berlin, European Union' 'Berlin, Germany'\n",
      " 'Berlin, Germany in Europe united' 'Berlin, Germany | Russia'\n",
      " 'Berlin, Halle, Hamburg' 'Berlin, Hegelplatz 1'\n",
      " 'Berlin, wo sonst? Im Exil!' 'Berlin-Prenzlauer Berg' 'Berlin-Москва-Киiв'\n",
      " 'Berlin/ Brussels' 'Berlin/Paris' 'Berlin/Potsdam, Deutschland'\n",
      " 'Berlondon' 'Beutelhausen' 'Bielefeld' 'Bielefeld, Deutschland'\n",
      " 'Bin mir nicht sicher!' 'Bleckede' 'Bodegraven-Reeuwijk, Nederland' 'Bonn'\n",
      " 'Bonn, Deutschland' 'Bonn, Germany' 'Boulder, CO' 'Brandenburg'\n",
      " 'Brandenburg an der Havel, Deutschland' 'Braunschweig'\n",
      " 'Braunschweig, Deutschland' 'Bremen' 'Bremen und Berlin'\n",
      " 'Bremen, Deutschland' 'Bremen/Berlin/Mannheim' 'Bremerhaven'\n",
      " 'Bremerhaven, Deutschland' 'Bremerhaven, Germany' 'Brisbane, Queensland'\n",
      " 'Broomfield, CO' 'Bruck an der Leitha, Österreich'\n",
      " 'Bruxelles,Berlin, Düsseldorf' 'Budapest' 'Budapest, Ungarn'\n",
      " 'Burlington, CO' 'Butuan City, Caraga' 'Böblingen, Baden-Württemberg'\n",
      " 'Büttelborn, Deutschland' 'CET, ICE' 'CGN, LA , DHAKA' 'CHICAGO'\n",
      " 'CLEVELAND.' 'CSU' 'CSU - 11/13/17 - 04/02/18' 'CSU - 14OO'\n",
      " 'CSU ; AQUARIUS' 'CSU ; Chiefs Office' 'CSU, Bayern, 🇩🇪, 🇪🇺'\n",
      " 'California, USA' 'Canada' 'Catalunya' 'Celestial University'\n",
      " 'Chicago, IL' 'City Bayugan, Caraga' 'City of Angels, CA' 'City of London'\n",
      " 'Clearwater, FL' 'Cleveland, OH' 'Cologne' 'Cologne Area, Germany'\n",
      " 'Cologne, Germany' 'Colorado' 'Colorado State | ZTA' 'Colorado, USA'\n",
      " 'Columbus, OH' 'Concepción (Chile)' 'Copenhagen, Denmark, Europe' 'D'\n",
      " 'D - 00125 Elbing, Ostpreußen' 'DC Metro Area' 'DD' 'DE' 'Daheim'\n",
      " 'Dallas, TX' 'Dallas, Texas' 'Darmstadt' 'Das Land der Vollidioten'\n",
      " 'Das ist Fledermausland' 'Dauermüde' 'Den Haag' 'Denver, CO' 'Deutschland'\n",
      " 'Deutschland ' 'Deutschland - Trier' 'Deutschland LISTE=BLOCK!'\n",
      " 'Deutschland Mitte' 'Deutschland 💙🇩🇪💙' 'Deutschland, NRW'\n",
      " 'Diepholz, Deutschland' 'Dies-Seits 0.9' 'Dmv' 'Dortmund'\n",
      " 'Dortmund, Deutschland' 'Dreieich, Germany' 'Dresden' 'Dresden / Germany'\n",
      " 'Dresden, Central Europe' 'Dresden, Germany' 'Dresden, Sachsen'\n",
      " 'Duché de la Côte Chalonnaise et des Côteaux du Beaunois, Royaume de Bourgogne ❌ (Saône-et-Loirien toutefois !)'\n",
      " 'Dudweiler, Saarbrücken' 'Duisburg, Deutschland'\n",
      " 'Dumpster behind the grocery store' 'Dunkeldeutschland 🇩🇪' 'Dunkelsachsen'\n",
      " 'Düsseldorf, Ankara, Yozgat' 'Düsseldorf, Deutschland'\n",
      " 'Düsseldorf, Germany' 'Düsseldorf, Nordrhein-Westfalen'\n",
      " 'Düsseldorf/Berlin' 'Earth' 'East London' 'Elmshorn, Deutschland'\n",
      " 'En Cautiverio Comunista😫😱👎' 'Enger/ Bielefeld' 'England'\n",
      " 'England, United Kingdom' 'Erde' 'Erfurt, Deutschland'\n",
      " 'Erfurt, Eugen-Richter-Straße 44' 'Erkelenz, Deutschland'\n",
      " 'Eschenburg, Germany' 'Espoo' 'Essen, Nordrhein-Westfalen' 'Estland'\n",
      " 'Europa' 'Europa- am liebsten Valencia/ Spanien' 'Europe' 'Europe '\n",
      " 'Europe • Earth • MilkyWay ' 'Europe, Germany, Bavaria, Starnberg'\n",
      " 'European ancient family' 'Europäische Region Norddeutschland' 'F90.0'\n",
      " 'Ffm' 'Finland' 'Flensburg, Germany' 'Flensburg, Schleswig-Holstein'\n",
      " 'Florence, Tuscany' 'Fort Collins' 'Fort Collins, CO'\n",
      " 'Fort Collins, Colo.' 'Fort Collins, Colorado' 'France' 'France BRD Ελλάς'\n",
      " 'France éternelle' 'Franconia, Germany' 'Franken'\n",
      " 'Franken ♔ Deutschland ♔ Europa' 'Frankfurt' 'Frankfurt Bornheim'\n",
      " 'Frankfurt am Main' 'Frankfurt am Main (FRA)'\n",
      " 'Frankfurt am Main - Germany' 'Frankfurt am Main, Deutschland'\n",
      " 'Frankfurt am Main, EU' 'Frankfurt am Markt für Crack!'\n",
      " 'Frankfurt/Germany' 'Frankfurt/M.' 'Freising' 'Freising, Deutschland'\n",
      " 'Freising, München' 'Fribourg, CH' 'Fuerteventura'\n",
      " 'GERMANY - Neuwied am Rhein' 'GROLANDE' 'Gardelegen ; Sachsen-Anhalt '\n",
      " 'Gau-Odernheim' 'Geesthacht, Deutschland' 'Gefangen in der DDR 2.0'\n",
      " 'Gelnhausen ' 'Gelsenkirchen, Deutschland' 'Geneva'\n",
      " 'Genscher-Haus, Berlin' 'Germany' 'Germany / Bavaria'\n",
      " 'Germany and environs' 'Germany 🇩🇪 | EU 🇪🇺 '\n",
      " 'Germany, Bavarian, Nuremberg' 'Germany, Berlin' 'Germany, in your face'\n",
      " 'Germany/Berlin' 'Germany; Berlin' 'Gießen, Deutschland' 'Glendale, WI'\n",
      " 'Global' 'Globalisierungsfreund' 'Gorizia, Italy' 'Graz, Austria' 'Greece'\n",
      " 'Greeley, CO' 'Groß-Umstadt' 'Große Freiheit' 'Großhabersdorf'\n",
      " 'Gränichen, Schweiz' 'Grünland zwischen DO und MS' 'Göppingen '\n",
      " 'Göttingen, Deutschland' 'Hagen, Germany' 'Haiger, Hessen'\n",
      " 'Halle (Westfalen), Deutschland' 'Halle/Saale' 'Hamburg' 'Hamburg '\n",
      " \"Hamburg - Stadt der Ghetto's\" 'Hamburg / Germany' 'Hamburg und Berlin'\n",
      " 'Hamburg, Deutschland' 'Hamburg, Europa' 'Hamburg, Germany'\n",
      " 'Hamburg/Cape Town' 'Hamburgo' 'Hameln' 'Hanau' 'Hanau / Frankfurt'\n",
      " 'Hannover, Deutschland' 'Hannover, Germany' 'Hanover, Germany'\n",
      " 'Hanover, Lower Saxony' 'Harburg, Hamburg' 'Harlem, NY'\n",
      " 'Harringay, Haringey, Milky Way' 'Hayward, CA' 'Heide/Hamburg'\n",
      " 'Heidelberg' 'Heidelberg, Deutschland' 'Heidelberg/Mannheim 🇩🇪🇪🇺'\n",
      " 'Heilbronn, Deutschland' 'Helsinki, Finland, Europe'\n",
      " 'Herethereandeverywhere' 'Herzogtum Braunschweig' 'Hessen'\n",
      " 'Hiddenseer Straße 9 in 10437 Berlin' 'Hildesheim, Germany' 'Hinter dir 🔪'\n",
      " 'Holzminden' 'Hunsrück & Berlin' 'Hyattsville, MD' 'Hünxe \\\\ NRW' 'Hürth'\n",
      " 'IN MEINER WELT !!!' 'Ibiza, Spanien' 'Ich bin überall gerne Zuhause '\n",
      " 'Ile-de-France, France' 'Ilfeld und ganz Europa' 'Im AfD Sumpf'\n",
      " 'Im Bundesdorf ' 'Im Herzen der Welt' 'Imported from #313Detroit '\n",
      " 'In Flashpoint weg hier' 'In deinem Herz' 'In the middle of nowhere '\n",
      " 'Indonesia' 'Ingolstadt' 'Ingolstadt, Deutschland' 'International'\n",
      " 'Interzone' 'Into the wide green...' 'Israel.Ashdod' 'Issum, Deutschland'\n",
      " 'Istanbul' 'Japan' 'Jena' 'KET 041817 | BLM | ' 'Kaarst, Deutschland'\n",
      " 'Kallstadt, Deutschland' 'Kambodscha' 'Kanada' 'Karlsruhe'\n",
      " 'Karlsruhe, Baden-Württemberg' 'Kassel' 'Kassel, Deutschland'\n",
      " 'Kennesaw, GA' 'Kennt ihr Takkatukkaland?' 'Kerpen/Rheinland' 'Kiel'\n",
      " 'Kiel, Schleswig-Holstein' 'Klepp, Norge' 'Kloster Lehnin, Brandenburg'\n",
      " 'Knockturn Alley '\n",
      " 'Korrespondentin ARD-Hauptstadtstudio Themen: Digitales Ltg, Familie, Ernährung und Landwirtschaft, Inneres und Justiz'\n",
      " 'Krefeld, NRW, Germany' 'Kreis Böblingen' 'Kreuzberg - Berlin - Germany'\n",
      " 'Kreuzberg, Berlin' 'Kulmbach, Germany' 'KÖLN am Rhein ✌😁'\n",
      " 'Kärnten, Österreich ' 'Köln' 'Köln , Cologne Germany' 'Köln, Deutschland'\n",
      " 'Köln, Nordrhein-Westfalen' 'L, Germany' 'LDN' 'La FRANCE' 'Lambsheim'\n",
      " 'Landshut' 'Langen, Deutschland' 'Leipzig' 'Leipzig, Deutschland'\n",
      " 'Leipzig, Saxony, Germany' 'Leverkusen' 'Leverkusen, Deutschland' 'Libya '\n",
      " 'Liechtenstein' 'Lingen, Emsland' 'Links von der Mitte' 'Lisboa' 'Lohmar'\n",
      " 'London, England' 'Los Angeles, CA' 'Lost in space' 'Loveland, Co'\n",
      " 'Low Orbit Ion Cannon' 'Ludwigshafen' 'Lueneburg'\n",
      " 'Lungsod ng Butuan, Rehiyon ng' 'Luxemburg' 'Löhne' 'Lörrach'\n",
      " 'Lübeck, Schleswig-Holstein' 'MUC' 'Maastricht, Niederlande' 'Magdeburg'\n",
      " 'Magdeburg, Deutschland' 'Mainz' 'Mainz/Glasgow'\n",
      " 'Manila City, National Capital ' 'Mannheim, Baden-Württemberg'\n",
      " 'Mannheim, Deutschland' 'Mar del Plata, Argentina'\n",
      " 'Marbach am Neckar, Deutschland' 'Marbella, Spanien' 'Mauerspechtland'\n",
      " 'Mechelen Belgium' 'Meißen, Sachsen' 'Melbourne, Australia' 'Memmingen'\n",
      " 'Mering, Deutschland' 'Metropole Ruhrgebiet' 'Middle of Nowhere, Colorado'\n",
      " 'Milkyway' 'Milwaukee, WI' 'Misionárska...😉'\n",
      " 'Missouri••CoLoRaDo••Louisiana ' 'Mittelfranken' 'Monterey Bay'\n",
      " 'Muenchen, Bavaria' 'Muenster (Germany, NRW)' 'Munich' 'Munich - München'\n",
      " 'Munich, Bavaria' 'Munich, Germany' 'My Castle' 'Möderitz,Damm' 'Mölln'\n",
      " 'Mönchengladbach / Germany' 'Mückenhausen' 'Mülheim an der Ruhr'\n",
      " 'Mülheim an der Ruhr, Deutschland' 'München' 'München '\n",
      " 'München / Augsburg' 'München und Brüssel' 'München, Bayern'\n",
      " 'München, Germany' 'Münster ' 'Münster, Deutschland'\n",
      " \"N 51°27' 0'' / E 7°8' 0''\" 'NRW' 'NRW, Deutschland' 'NRW/Germany'\n",
      " 'NSA-Neubau' 'NY' 'NY, NY' 'Nacka, Sverige' 'Namibia'\n",
      " 'Naturpark Schönbuch' 'Nds' 'Neckar-Südhang' 'Nederland' 'Netherlands'\n",
      " 'Neu-Ulm, Deutschland' 'Neumarkt Germany' 'Neuss' 'Neuwied, Bielefeld'\n",
      " 'New Germany, South Africa' 'New York, USA' 'New York/Paris/Megéve/Berlin'\n",
      " 'Nicaragua' 'Nice - Tunis - Berlin' 'Nicey, France' 'Niederdorfelden'\n",
      " 'Niederlande' 'Niederoesterreich [Weinviertel] / Wien / Steiermark'\n",
      " 'Niederrheiner' 'Niedersachsen' 'Niedersachsen, Deutschland'\n",
      " 'Niederwambach, Deutschland' 'Nkamba' 'Nomidlats' 'Nordkurvenkreis FCN '\n",
      " 'Nordrhein-Westfalen' 'Nordrhein-Westfalen, Deutschla'\n",
      " 'Nordrhein-Westfalen, Deutschland' 'Norge' 'North Oakland'\n",
      " 'Northern Ireland' 'Notzingen, Deutschland Starnberg' 'Nürnberg'\n",
      " 'Nürnberg, Bayern' 'Nürnberg, Deutschland' 'Nürnberg, Germany'\n",
      " 'Oakland, CA' 'Oberhausen, Berlin' 'Oberhausen, NRW'\n",
      " 'Oberursel Deutschland Europa' 'OberösterreichDeutschlandberge'\n",
      " 'Ocean, Planet Earth' 'Oder-Spree' 'One step closer to the edge'\n",
      " 'Oslo, Norge' 'Osnabrück' 'Osnabrück, Germany' 'Ostende, Belgien'\n",
      " 'Ostholstein' 'Ostsee' 'Ottomon imperium 1298' 'Oulu, Suomi' 'Outback 😊'\n",
      " 'P H' 'Pale Blue Dot' 'Pamplona-Iruña' \"Parco Nazionale d'Abruzzo\"\n",
      " 'Paris, France' 'Parque 10, Manaus, AM, Brazeel' 'Pforzheim, Deutschland'\n",
      " 'Pittsburgh, PA' 'Planet Earth'\n",
      " 'Planet Earth, currently Linz or Mühlviertel' 'Planet Trump🌎👍'\n",
      " 'Portland, OR' 'Potsdam' 'Potsdam, Deutschland' 'Prenzlauer Berg, Berlin'\n",
      " 'Pune' 'Putre, Chile' 'Puy-de-Dôme, Auvergne'\n",
      " 'Quai Conti bientôt?  50 nuances de mauve ' 'Qualitätssiegel #211'\n",
      " 'Rasdorf, Hessen' 'Rastatt' 'Ravensburg, Germany' 'Regensburg'\n",
      " 'Regensburg, Europa, Internet' 'Regensburg, Germany'\n",
      " 'Region Hannover, Niedersachsen' 'Region Lüneburg' 'Rehden, Deutschland'\n",
      " 'Republic of California' 'Reutlingen, Baden-Württemberg'\n",
      " 'Rhein-Erft-Kreis, Nordrhein-We' 'Rhein-Main ' 'Rhein-Pfalz-Kreis'\n",
      " 'Rhein/Main' 'Rheinland NRW 🇩🇪 🇪🇺' 'Rheinland-Pfalz'\n",
      " 'Rheinland-Pfalz, Deutschland' 'Rheinmetropole, Südhessen'\n",
      " 'Rhode Island & Berlin' 'Rivendell/ Heidelberg, Germany' 'Riverdale, GA'\n",
      " 'Rodenbach, Hessen' 'Rome' 'Rostock' 'Rotterdam' 'Rotterdam, Nederland'\n",
      " 'Ruhrgebiet (wo sonst?)' 'Ruhrpott' 'Ruhrstadt-West'\n",
      " 'Rüsselsheim, Deutschland' 'Saarbrücken' 'Saarbrücken, Saarland' 'Sachsen'\n",
      " 'Sachsen, Deutschland' 'Sacramento, CA' 'Salzburg Oberbayern München'\n",
      " 'Salzgitter-Bad, Salzgitter' 'San Francisco Bay Area'\n",
      " 'San Francisco ✈ Germany' 'San Francisco, CA' 'San Sebastián, España'\n",
      " 'Sankt Augustin, Deutschland' 'Sankt Wendel/ Saarbrücken'\n",
      " 'Schleswig-Holstein' 'Schleswig-Holstein und Berlin'\n",
      " 'Schleswig-Holstein, Deutschlan' 'Schleswig-Holstein, Deutschland'\n",
      " 'Schweinebauernland' 'Schweinfurt, Germany' 'Schweiz'\n",
      " 'Schärding, Österreich' 'Searching places' 'Sehr gerne Europäer'\n",
      " 'Selm, Deutschland' 'Silent Hill' 'Sitzt im Baumhaus'\n",
      " \"Somebody's Courtroom\" 'Somewhere Over The Rainbow 🌈'\n",
      " 'Somewhere in Germany' 'Somewhere over the rainbow' 'South Carolina, USA'\n",
      " 'Sozialliberal, Humanist' 'Spain, Europe' 'St.Pauli bei Hamborg-Altno'\n",
      " 'Standort: Jigoku teikoku' 'Straubing, Erde' 'Stuttgart'\n",
      " 'Stuttgart, Baden-Württemberg' 'Stuttgart, Deutschland'\n",
      " 'Stuttgart, Germany' 'Suomi' 'Switzerland' 'Switzerland / Ukraine'\n",
      " 'Südwestpfalz, Rheinland-Pfalz' 'Tandag City, Philippines'\n",
      " 'Tauberbischofsheim' 'Tetuán, Madrit ' 'Texas, USA'\n",
      " 'The Cave Under the Swamp' 'The Netherlands' 'The World' 'Thessaloniki'\n",
      " 'Thousand Oaks, CA' 'Thuringia, Germany' 'Thüringen'\n",
      " 'Thüringen, Deutschland' 'Tief im Osten' 'Tiefenort/ Berlin' 'Tournai'\n",
      " 'Troisdorf, Deutschland' 'Tuguegarao City'\n",
      " 'UC grad program hell yeahhhhhh' 'USA' 'Ulm' 'Ulm / München / Eglharting'\n",
      " 'Ulm, Germany' 'Underverse' 'United Kingdom' 'United States' 'Universum'\n",
      " 'Unter deinem Bett?' 'Uplengen.da wo der Wind wohnt '\n",
      " 'Upper Palatinate, Bavaria' 'Utrecht, Nederland' 'Utting am Ammersee'\n",
      " 'Vancouver, Washington' 'Vereinigte Staaten EU' 'Vienna  Austria'\n",
      " 'Viennagadugu' 'Vigo, Spanien' 'Vladivostok, Russland'\n",
      " \"WAVYN3n'S WORLD ...!!!\" 'Wadgassen, Deutschland' 'Wahlheimat Nordhessen'\n",
      " 'Waiblingen' 'Washington, DC' 'Wasserstr. 5, 40213 Düsseldorf' 'Weinheim '\n",
      " 'Welt (Sauerland/NRW)' 'Welt, Eu, D, Hessen, Schotten' 'Weltall im Herbst'\n",
      " 'Weltmetropoldorf Wien. ' 'Weltweit' 'Westerwald & Berlin' 'Westfalen'\n",
      " 'Wha daur meddle wi´ me? #Satir' 'Wien' 'Wien - Berlin - Zütich'\n",
      " 'Wien - Vienna' 'Wien / Vienna ' 'Wien, Austria' 'Wien, Österreich'\n",
      " 'Wien, Österreicho. Ottagring' 'Wiesbaden' 'Wilberforce, ohio'\n",
      " 'Willich, Deutschland' 'Winterfell' 'Wo der Pfeffer wächst '\n",
      " 'Wolfsburg, Deutschland' 'Wolkenkuckucksheim in Hamburg' 'World '\n",
      " 'World, Europe, Germany' 'Wörrstadt, Germany' 'Würzburg' 'Zeig mal drauf!'\n",
      " 'Zootopia ' 'Zurich, Switzerland' 'Zweistromstadt mit Eck'\n",
      " 'Zürich/Lugano, Switzerland' '[O5O418] 1OO sтаrs' 'aargau'\n",
      " 'aloha , oregon .' 'amaru.♥️' 'andalusien/spanien' 'angekommen' 'anywhere'\n",
      " 'aquae granni/calaminia, terra' 'auf der walz' 'bayern' 'bei Berlin '\n",
      " 'berlin' 'berlin / leipzig'\n",
      " 'between Wörth am Rhein and Karlsruhe, Germany' 'bochum - germany'\n",
      " 'boulder, co' 'bus1' 'celestial university' 'cloud number nine' 'csu'\n",
      " 'csu - bed' 'csu - pjy 042218.' 'csu ; luna ; csu ; csu '\n",
      " 'da wo es schön ist' 'dahoam' 'deutschland' 'ergens,maaskantje'\n",
      " \"floatin' on the water\" 'for rp purposes only.' 'global'\n",
      " 'good old datschiburg' 'hamburch' 'hamburg' 'iPhone: 49.743916,8.624629'\n",
      " 'iPhone: 52.498531,13.345235' 'im Nordosten zugewandert'\n",
      " 'immer noch zu Hause' 'in the garden or the library' 'internet' 'jiyong '\n",
      " 'köln' 'lick the bbq off my titties' 'linksrheinisch' 'localhost'\n",
      " 'malhiermaldort' 'mare liberum' 'münche ' 'nasa puso nya daw' 'ohio'\n",
      " 'osw ∴' 'overath' 'roleplay — 1370🔅' 'rp acc' 'rp account'\n",
      " 'ruhrgebietessentiell' 'saarland' 'somewhere in Germany' 'ssa-sf & hau'\n",
      " 'stars: 900' 'sulli ; 1531' 'the whole world is my home, fck borders'\n",
      " 'uberwald' 'um die Ecke, an der Hecke' 'u²  [485⭐]' 'wanna one`rank 1'\n",
      " 'weltweit' 'westlich von Grönemeyer' 'whαt ís lσvє? // knma🍻' 'world'\n",
      " 'zwischen Genie u. Wahnsinn' 'zwischen Leben und Tod' 'Österreich'\n",
      " 'Österreich, München-D,' 'Überlingen' 'über den Wolken🇨🇭🇩🇪🇺🇸'\n",
      " \"ʜsʏ's • O5O218\" 'Αττική, Ελλάς' 'Κωνσταντινούπολη & Θεσσαλονίκη'\n",
      " 'Калининград, Россия' 'المملكة العربية السعودية'\n",
      " 'عرعر, المملكة العربية السعودية' 'ᴄᴇʟᴇꜱᴛɪᴀʟ ᴜɴɪᴠᴇʀꜱɪᴛʏ.' 'ᴶ' '…Camp David'\n",
      " \"ℓσ¢αℓнσѕт, ѕσмєσηє єℓѕє'ѕ ¢σмρυтєя\" '「ネット保守連合」に参加' 'じゃぱん' '九州' '八丁味噌県'\n",
      " '北九州市' '宇宙' '広島⇔大阪' '日本' '日本 東京' '東京' '東京1区' '東京都大田区' '首都'\n",
      " '시선이 닿는 모든 곳에 네가 있다.' '이런 어깨가 뭉치셨습니다' '제일 좋은 부분 ' '🇩🇪🇨🇭' '🌎']\n"
     ]
    }
   ],
   "source": [
    "locations = CSU.loc[:, 'location'].reset_index()\n",
    "print(np.unique(locations.loc[:, 'location']))\n",
    "# plt.hist(locations)"
   ]
  },
  {
   "cell_type": "code",
   "execution_count": 61,
   "metadata": {},
   "outputs": [],
   "source": [
    "def plots(dataframe, column):\n",
    "    for df in dataframe:\n",
    "        for column in df:\n",
    "            plt.hist(df.loc[:, column])\n",
    "            plt.title(str(df))\n",
    "            plt.show()\n"
   ]
  },
  {
   "cell_type": "code",
   "execution_count": 63,
   "metadata": {},
   "outputs": [
    {
     "ename": "ValueError",
     "evalue": "max must be larger than min in range parameter.",
     "output_type": "error",
     "traceback": [
      "\u001b[0;31m---------------------------------------------------------------------------\u001b[0m",
      "\u001b[0;31mValueError\u001b[0m                                Traceback (most recent call last)",
      "\u001b[0;32m<ipython-input-63-16fbded2753d>\u001b[0m in \u001b[0;36m<module>\u001b[0;34m()\u001b[0m\n\u001b[0;32m----> 1\u001b[0;31m \u001b[0mplots\u001b[0m\u001b[0;34m(\u001b[0m\u001b[0mlist_dataframes\u001b[0m\u001b[0;34m,\u001b[0m \u001b[0;34m'location'\u001b[0m\u001b[0;34m)\u001b[0m\u001b[0;34m\u001b[0m\u001b[0m\n\u001b[0m",
      "\u001b[0;32m<ipython-input-61-6590db0a1535>\u001b[0m in \u001b[0;36mplots\u001b[0;34m(dataframe, column)\u001b[0m\n\u001b[1;32m      2\u001b[0m     \u001b[0;32mfor\u001b[0m \u001b[0mdf\u001b[0m \u001b[0;32min\u001b[0m \u001b[0mdataframe\u001b[0m\u001b[0;34m:\u001b[0m\u001b[0;34m\u001b[0m\u001b[0m\n\u001b[1;32m      3\u001b[0m         \u001b[0;32mfor\u001b[0m \u001b[0mcolumn\u001b[0m \u001b[0;32min\u001b[0m \u001b[0mdf\u001b[0m\u001b[0;34m:\u001b[0m\u001b[0;34m\u001b[0m\u001b[0m\n\u001b[0;32m----> 4\u001b[0;31m             \u001b[0mplt\u001b[0m\u001b[0;34m.\u001b[0m\u001b[0mhist\u001b[0m\u001b[0;34m(\u001b[0m\u001b[0mdf\u001b[0m\u001b[0;34m.\u001b[0m\u001b[0mloc\u001b[0m\u001b[0;34m[\u001b[0m\u001b[0;34m:\u001b[0m\u001b[0;34m,\u001b[0m \u001b[0mcolumn\u001b[0m\u001b[0;34m]\u001b[0m\u001b[0;34m)\u001b[0m\u001b[0;34m\u001b[0m\u001b[0m\n\u001b[0m\u001b[1;32m      5\u001b[0m             \u001b[0mplt\u001b[0m\u001b[0;34m.\u001b[0m\u001b[0mtitle\u001b[0m\u001b[0;34m(\u001b[0m\u001b[0mstr\u001b[0m\u001b[0;34m(\u001b[0m\u001b[0mdf\u001b[0m\u001b[0;34m)\u001b[0m\u001b[0;34m)\u001b[0m\u001b[0;34m\u001b[0m\u001b[0m\n\u001b[1;32m      6\u001b[0m             \u001b[0mplt\u001b[0m\u001b[0;34m.\u001b[0m\u001b[0mshow\u001b[0m\u001b[0;34m(\u001b[0m\u001b[0;34m)\u001b[0m\u001b[0;34m\u001b[0m\u001b[0m\n",
      "\u001b[0;32m~/anacondadsr/lib/python3.6/site-packages/matplotlib/pyplot.py\u001b[0m in \u001b[0;36mhist\u001b[0;34m(x, bins, range, density, weights, cumulative, bottom, histtype, align, orientation, rwidth, log, color, label, stacked, normed, hold, data, **kwargs)\u001b[0m\n\u001b[1;32m   3130\u001b[0m                       \u001b[0mhisttype\u001b[0m\u001b[0;34m=\u001b[0m\u001b[0mhisttype\u001b[0m\u001b[0;34m,\u001b[0m \u001b[0malign\u001b[0m\u001b[0;34m=\u001b[0m\u001b[0malign\u001b[0m\u001b[0;34m,\u001b[0m \u001b[0morientation\u001b[0m\u001b[0;34m=\u001b[0m\u001b[0morientation\u001b[0m\u001b[0;34m,\u001b[0m\u001b[0;34m\u001b[0m\u001b[0m\n\u001b[1;32m   3131\u001b[0m                       \u001b[0mrwidth\u001b[0m\u001b[0;34m=\u001b[0m\u001b[0mrwidth\u001b[0m\u001b[0;34m,\u001b[0m \u001b[0mlog\u001b[0m\u001b[0;34m=\u001b[0m\u001b[0mlog\u001b[0m\u001b[0;34m,\u001b[0m \u001b[0mcolor\u001b[0m\u001b[0;34m=\u001b[0m\u001b[0mcolor\u001b[0m\u001b[0;34m,\u001b[0m \u001b[0mlabel\u001b[0m\u001b[0;34m=\u001b[0m\u001b[0mlabel\u001b[0m\u001b[0;34m,\u001b[0m\u001b[0;34m\u001b[0m\u001b[0m\n\u001b[0;32m-> 3132\u001b[0;31m                       stacked=stacked, normed=normed, data=data, **kwargs)\n\u001b[0m\u001b[1;32m   3133\u001b[0m     \u001b[0;32mfinally\u001b[0m\u001b[0;34m:\u001b[0m\u001b[0;34m\u001b[0m\u001b[0m\n\u001b[1;32m   3134\u001b[0m         \u001b[0max\u001b[0m\u001b[0;34m.\u001b[0m\u001b[0m_hold\u001b[0m \u001b[0;34m=\u001b[0m \u001b[0mwashold\u001b[0m\u001b[0;34m\u001b[0m\u001b[0m\n",
      "\u001b[0;32m~/anacondadsr/lib/python3.6/site-packages/matplotlib/__init__.py\u001b[0m in \u001b[0;36minner\u001b[0;34m(ax, *args, **kwargs)\u001b[0m\n\u001b[1;32m   1853\u001b[0m                         \u001b[0;34m\"the Matplotlib list!)\"\u001b[0m \u001b[0;34m%\u001b[0m \u001b[0;34m(\u001b[0m\u001b[0mlabel_namer\u001b[0m\u001b[0;34m,\u001b[0m \u001b[0mfunc\u001b[0m\u001b[0;34m.\u001b[0m\u001b[0m__name__\u001b[0m\u001b[0;34m)\u001b[0m\u001b[0;34m,\u001b[0m\u001b[0;34m\u001b[0m\u001b[0m\n\u001b[1;32m   1854\u001b[0m                         RuntimeWarning, stacklevel=2)\n\u001b[0;32m-> 1855\u001b[0;31m             \u001b[0;32mreturn\u001b[0m \u001b[0mfunc\u001b[0m\u001b[0;34m(\u001b[0m\u001b[0max\u001b[0m\u001b[0;34m,\u001b[0m \u001b[0;34m*\u001b[0m\u001b[0margs\u001b[0m\u001b[0;34m,\u001b[0m \u001b[0;34m**\u001b[0m\u001b[0mkwargs\u001b[0m\u001b[0;34m)\u001b[0m\u001b[0;34m\u001b[0m\u001b[0m\n\u001b[0m\u001b[1;32m   1856\u001b[0m \u001b[0;34m\u001b[0m\u001b[0m\n\u001b[1;32m   1857\u001b[0m         inner.__doc__ = _add_data_doc(inner.__doc__,\n",
      "\u001b[0;32m~/anacondadsr/lib/python3.6/site-packages/matplotlib/axes/_axes.py\u001b[0m in \u001b[0;36mhist\u001b[0;34m(***failed resolving arguments***)\u001b[0m\n\u001b[1;32m   6528\u001b[0m             \u001b[0;31m# this will automatically overwrite bins,\u001b[0m\u001b[0;34m\u001b[0m\u001b[0;34m\u001b[0m\u001b[0m\n\u001b[1;32m   6529\u001b[0m             \u001b[0;31m# so that each histogram uses the same bins\u001b[0m\u001b[0;34m\u001b[0m\u001b[0;34m\u001b[0m\u001b[0m\n\u001b[0;32m-> 6530\u001b[0;31m             \u001b[0mm\u001b[0m\u001b[0;34m,\u001b[0m \u001b[0mbins\u001b[0m \u001b[0;34m=\u001b[0m \u001b[0mnp\u001b[0m\u001b[0;34m.\u001b[0m\u001b[0mhistogram\u001b[0m\u001b[0;34m(\u001b[0m\u001b[0mx\u001b[0m\u001b[0;34m[\u001b[0m\u001b[0mi\u001b[0m\u001b[0;34m]\u001b[0m\u001b[0;34m,\u001b[0m \u001b[0mbins\u001b[0m\u001b[0;34m,\u001b[0m \u001b[0mweights\u001b[0m\u001b[0;34m=\u001b[0m\u001b[0mw\u001b[0m\u001b[0;34m[\u001b[0m\u001b[0mi\u001b[0m\u001b[0;34m]\u001b[0m\u001b[0;34m,\u001b[0m \u001b[0;34m**\u001b[0m\u001b[0mhist_kwargs\u001b[0m\u001b[0;34m)\u001b[0m\u001b[0;34m\u001b[0m\u001b[0m\n\u001b[0m\u001b[1;32m   6531\u001b[0m             \u001b[0mm\u001b[0m \u001b[0;34m=\u001b[0m \u001b[0mm\u001b[0m\u001b[0;34m.\u001b[0m\u001b[0mastype\u001b[0m\u001b[0;34m(\u001b[0m\u001b[0mfloat\u001b[0m\u001b[0;34m)\u001b[0m  \u001b[0;31m# causes problems later if it's an int\u001b[0m\u001b[0;34m\u001b[0m\u001b[0m\n\u001b[1;32m   6532\u001b[0m             \u001b[0;32mif\u001b[0m \u001b[0mmlast\u001b[0m \u001b[0;32mis\u001b[0m \u001b[0;32mNone\u001b[0m\u001b[0;34m:\u001b[0m\u001b[0;34m\u001b[0m\u001b[0m\n",
      "\u001b[0;32m~/anacondadsr/lib/python3.6/site-packages/numpy/lib/function_base.py\u001b[0m in \u001b[0;36mhistogram\u001b[0;34m(a, bins, range, normed, weights, density)\u001b[0m\n\u001b[1;32m    665\u001b[0m     \u001b[0;32mif\u001b[0m \u001b[0mmn\u001b[0m \u001b[0;34m>\u001b[0m \u001b[0mmx\u001b[0m\u001b[0;34m:\u001b[0m\u001b[0;34m\u001b[0m\u001b[0m\n\u001b[1;32m    666\u001b[0m         raise ValueError(\n\u001b[0;32m--> 667\u001b[0;31m             'max must be larger than min in range parameter.')\n\u001b[0m\u001b[1;32m    668\u001b[0m     \u001b[0;32mif\u001b[0m \u001b[0;32mnot\u001b[0m \u001b[0mnp\u001b[0m\u001b[0;34m.\u001b[0m\u001b[0mall\u001b[0m\u001b[0;34m(\u001b[0m\u001b[0mnp\u001b[0m\u001b[0;34m.\u001b[0m\u001b[0misfinite\u001b[0m\u001b[0;34m(\u001b[0m\u001b[0;34m[\u001b[0m\u001b[0mmn\u001b[0m\u001b[0;34m,\u001b[0m \u001b[0mmx\u001b[0m\u001b[0;34m]\u001b[0m\u001b[0;34m)\u001b[0m\u001b[0;34m)\u001b[0m\u001b[0;34m:\u001b[0m\u001b[0;34m\u001b[0m\u001b[0m\n\u001b[1;32m    669\u001b[0m         raise ValueError(\n",
      "\u001b[0;31mValueError\u001b[0m: max must be larger than min in range parameter."
     ]
    },
    {
     "data": {
      "image/png": "[encoded data removed]",
      "text/plain": [
       "<Figure size 432x288 with 1 Axes>"
      ]
     },
     "metadata": {},
     "output_type": "display_data"
    }
   ],
   "source": [
    "plots(list_dataframes, 'location')"
   ]
  },
  {
   "cell_type": "code",
   "execution_count": 38,
   "metadata": {},
   "outputs": [
    {
     "data": {
      "image/png": "[encoded data removed]",
      "text/plain": [
       "<Figure size 432x288 with 1 Axes>"
      ]
     },
     "metadata": {},
     "output_type": "display_data"
    }
   ],
   "source": [
    "CSU_lang = rel_langs.loc[:, 'CSU'].nlargest(5)\n",
    "CSU_lang.plot.pie(cmap = 'Spectral_r')\n",
    "plt.axis('equal')\n",
    "plt.show()"
   ]
  },
  {
   "cell_type": "code",
   "execution_count": 39,
   "metadata": {},
   "outputs": [
    {
     "data": {
      "image/png": "[encoded data removed]",
      "text/plain": [
       "<Figure size 432x288 with 1 Axes>"
      ]
     },
     "metadata": {},
     "output_type": "display_data"
    }
   ],
   "source": [
    "CDU_lang = rel_langs.loc[:, 'CDU'].nlargest(5)\n",
    "CDU_lang.plot.pie(cmap = 'Spectral_r')\n",
    "plt.axis('equal')\n",
    "plt.show()"
   ]
  },
  {
   "cell_type": "code",
   "execution_count": 40,
   "metadata": {},
   "outputs": [
    {
     "ename": "NameError",
     "evalue": "name 'relative_language_CSU' is not defined",
     "output_type": "error",
     "traceback": [
      "\u001b[0;31m---------------------------------------------------------------------------\u001b[0m",
      "\u001b[0;31mNameError\u001b[0m                                 Traceback (most recent call last)",
      "\u001b[0;32m<ipython-input-40-a3c4cef3b528>\u001b[0m in \u001b[0;36m<module>\u001b[0;34m()\u001b[0m\n\u001b[0;32m----> 1\u001b[0;31m \u001b[0mrelative_language_CSU\u001b[0m\u001b[0;34m.\u001b[0m\u001b[0mhead\u001b[0m\u001b[0;34m(\u001b[0m\u001b[0;36m5\u001b[0m\u001b[0;34m)\u001b[0m\u001b[0;34m.\u001b[0m\u001b[0mplot\u001b[0m\u001b[0;34m.\u001b[0m\u001b[0mpie\u001b[0m\u001b[0;34m(\u001b[0m\u001b[0mcmap\u001b[0m \u001b[0;34m=\u001b[0m \u001b[0;34m'Spectral_r'\u001b[0m\u001b[0;34m)\u001b[0m\u001b[0;34m\u001b[0m\u001b[0m\n\u001b[0m\u001b[1;32m      2\u001b[0m \u001b[0mplt\u001b[0m\u001b[0;34m.\u001b[0m\u001b[0maxis\u001b[0m\u001b[0;34m(\u001b[0m\u001b[0;34m'equal'\u001b[0m\u001b[0;34m)\u001b[0m\u001b[0;34m\u001b[0m\u001b[0m\n\u001b[1;32m      3\u001b[0m \u001b[0mplt\u001b[0m\u001b[0;34m.\u001b[0m\u001b[0mshow\u001b[0m\u001b[0;34m(\u001b[0m\u001b[0;34m)\u001b[0m\u001b[0;34m\u001b[0m\u001b[0m\n",
      "\u001b[0;31mNameError\u001b[0m: name 'relative_language_CSU' is not defined"
     ]
    }
   ],
   "source": [
    "relative_language_CSU.head(5).plot.pie(cmap = 'Spectral_r')\n",
    "plt.axis('equal')\n",
    "plt.show()"
   ]
  },
  {
   "cell_type": "code",
   "execution_count": null,
   "metadata": {},
   "outputs": [],
   "source": []
  },
  {
   "cell_type": "code",
   "execution_count": null,
   "metadata": {},
   "outputs": [],
   "source": [
    "# languages = [] # empty list\n",
    "# language_proportion = [] # empty list that will contain dictionaries: {language: number of values}"
   ]
  },
  {
   "cell_type": "code",
   "execution_count": null,
   "metadata": {},
   "outputs": [],
   "source": [
    "# def languages_per_df(dataframes):\n",
    "    \n",
    "#     \"\"\"\n",
    "#     returns a dictionary for every language:language_proportion pair in a dataframe \n",
    "#     -> list of dictionaries\n",
    "#     \"\"\"\n",
    "    \n",
    "#     for df in dataframes:\n",
    "#         df.name = []\n",
    "    "
   ]
  },
  {
   "cell_type": "code",
   "execution_count": null,
   "metadata": {},
   "outputs": [],
   "source": [
    "# languages_per_df(list_dataframes)"
   ]
  },
  {
   "cell_type": "code",
   "execution_count": null,
   "metadata": {},
   "outputs": [],
   "source": [
    "# def extract_languages(dataframes):\n",
    "#     for df in dataframes:        \n",
    "#         for language in df.loc[:, 'lang']:\n",
    "#             if language in languages:\n",
    "#                 languages[language] += 1\n",
    "#             else:\n",
    "#                 languages[language] = 1\n",
    "#     return languages"
   ]
  },
  {
   "cell_type": "code",
   "execution_count": null,
   "metadata": {},
   "outputs": [],
   "source": [
    "# extract_languages(list_dataframes)\n",
    "# print(languages)"
   ]
  },
  {
   "cell_type": "code",
   "execution_count": null,
   "metadata": {},
   "outputs": [],
   "source": [
    "        \n",
    "            \n",
    "            \n",
    "#                 relative_language = languages.value_counts()/len(df.languages)\n",
    "#         language_proportion[language].append(relative_language)\n",
    "#     return language_proportion"
   ]
  },
  {
   "cell_type": "code",
   "execution_count": null,
   "metadata": {},
   "outputs": [],
   "source": [
    "# language(list_dataframes)"
   ]
  },
  {
   "cell_type": "code",
   "execution_count": null,
   "metadata": {},
   "outputs": [],
   "source": []
  }
 ],
 "metadata": {
  "kernelspec": {
   "display_name": "Python 3",
   "language": "python",
   "name": "python3"
  },
  "language_info": {
   "codemirror_mode": {
    "name": "ipython",
    "version": 3
   },
   "file_extension": ".py",
   "mimetype": "text/x-python",
   "name": "python",
   "nbconvert_exporter": "python",
   "pygments_lexer": "ipython3",
   "version": "3.6.5"
  }
 },
 "nbformat": 4,
 "nbformat_minor": 2
}
